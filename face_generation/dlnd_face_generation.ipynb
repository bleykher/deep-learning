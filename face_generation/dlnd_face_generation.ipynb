{
 "cells": [
  {
   "cell_type": "markdown",
   "metadata": {
    "deletable": true,
    "editable": true
   },
   "source": [
    "# Face Generation\n",
    "In this project, you'll use generative adversarial networks to generate new images of faces.\n",
    "### Get the Data\n",
    "You'll be using two datasets in this project:\n",
    "- MNIST\n",
    "- CelebA\n",
    "\n",
    "Since the celebA dataset is complex and you're doing GANs in a project for the first time, we want you to test your neural network on MNIST before CelebA.  Running the GANs on MNIST will allow you to see how well your model trains sooner.\n",
    "\n",
    "If you're using [FloydHub](https://www.floydhub.com/), set `data_dir` to \"/input\" and use the [FloydHub data ID](http://docs.floydhub.com/home/using_datasets/) \"R5KrjnANiKVhLWAkpXhNBe\"."
   ]
  },
  {
   "cell_type": "code",
   "execution_count": 2,
   "metadata": {
    "collapsed": false,
    "deletable": true,
    "editable": true
   },
   "outputs": [
    {
     "name": "stderr",
     "output_type": "stream",
     "text": [
      "\rDownloading mnist: 0.00B [00:00, ?B/s]"
     ]
    },
    {
     "name": "stderr",
     "output_type": "stream",
     "text": [
      "\rDownloading mnist:   0%|          | 8.19K/9.91M [00:00<05:02, 32.8KB/s]"
     ]
    },
    {
     "name": "stderr",
     "output_type": "stream",
     "text": [
      "\rDownloading mnist:   0%|          | 41.0K/9.91M [00:00<03:43, 44.1KB/s]"
     ]
    },
    {
     "name": "stderr",
     "output_type": "stream",
     "text": [
      "\rDownloading mnist:   1%|▏         | 147K/9.91M [00:00<02:38, 61.7KB/s] "
     ]
    },
    {
     "name": "stderr",
     "output_type": "stream",
     "text": [
      "\rDownloading mnist:   3%|▎         | 262K/9.91M [00:00<01:52, 85.7KB/s]"
     ]
    },
    {
     "name": "stderr",
     "output_type": "stream",
     "text": [
      "\rDownloading mnist:   4%|▍         | 393K/9.91M [00:00<01:20, 118KB/s] "
     ]
    },
    {
     "name": "stderr",
     "output_type": "stream",
     "text": [
      "\rDownloading mnist:   5%|▌         | 532K/9.91M [00:00<00:58, 162KB/s]"
     ]
    },
    {
     "name": "stderr",
     "output_type": "stream",
     "text": [
      "\rDownloading mnist:   7%|▋         | 688K/9.91M [00:01<00:42, 219KB/s]"
     ]
    },
    {
     "name": "stderr",
     "output_type": "stream",
     "text": [
      "\rDownloading mnist:   9%|▊         | 852K/9.91M [00:01<00:31, 292KB/s]"
     ]
    },
    {
     "name": "stderr",
     "output_type": "stream",
     "text": [
      "\rDownloading mnist:  10%|█         | 1.03M/9.91M [00:01<00:23, 384KB/s]"
     ]
    },
    {
     "name": "stderr",
     "output_type": "stream",
     "text": [
      "\rDownloading mnist:  12%|█▏        | 1.22M/9.91M [00:01<00:17, 495KB/s]"
     ]
    },
    {
     "name": "stderr",
     "output_type": "stream",
     "text": [
      "\rDownloading mnist:  14%|█▍        | 1.43M/9.91M [00:01<00:13, 626KB/s]"
     ]
    },
    {
     "name": "stderr",
     "output_type": "stream",
     "text": [
      "\rDownloading mnist:  17%|█▋        | 1.65M/9.91M [00:01<00:10, 781KB/s]"
     ]
    },
    {
     "name": "stderr",
     "output_type": "stream",
     "text": [
      "\rDownloading mnist:  19%|█▉        | 1.87M/9.91M [00:01<00:08, 933KB/s]"
     ]
    },
    {
     "name": "stderr",
     "output_type": "stream",
     "text": [
      "\rDownloading mnist:  21%|██        | 2.05M/9.91M [00:01<00:07, 1.04MB/s]"
     ]
    },
    {
     "name": "stderr",
     "output_type": "stream",
     "text": [
      "\rDownloading mnist:  23%|██▎       | 2.24M/9.91M [00:02<00:06, 1.16MB/s]"
     ]
    },
    {
     "name": "stderr",
     "output_type": "stream",
     "text": [
      "\rDownloading mnist:  25%|██▍       | 2.43M/9.91M [00:02<00:05, 1.26MB/s]"
     ]
    },
    {
     "name": "stderr",
     "output_type": "stream",
     "text": [
      "\rDownloading mnist:  27%|██▋       | 2.64M/9.91M [00:02<00:05, 1.35MB/s]"
     ]
    },
    {
     "name": "stderr",
     "output_type": "stream",
     "text": [
      "\rDownloading mnist:  29%|██▊       | 2.83M/9.91M [00:02<00:04, 1.42MB/s]"
     ]
    },
    {
     "name": "stderr",
     "output_type": "stream",
     "text": [
      "\rDownloading mnist:  31%|███       | 3.05M/9.91M [00:02<00:04, 1.49MB/s]"
     ]
    },
    {
     "name": "stderr",
     "output_type": "stream",
     "text": [
      "\rDownloading mnist:  33%|███▎      | 3.25M/9.91M [00:02<00:04, 1.54MB/s]"
     ]
    },
    {
     "name": "stderr",
     "output_type": "stream",
     "text": [
      "\rDownloading mnist:  35%|███▍      | 3.47M/9.91M [00:02<00:04, 1.59MB/s]"
     ]
    },
    {
     "name": "stderr",
     "output_type": "stream",
     "text": [
      "\rDownloading mnist:  37%|███▋      | 3.69M/9.91M [00:02<00:03, 1.64MB/s]"
     ]
    },
    {
     "name": "stderr",
     "output_type": "stream",
     "text": [
      "\rDownloading mnist:  39%|███▉      | 3.91M/9.91M [00:02<00:03, 1.68MB/s]"
     ]
    },
    {
     "name": "stderr",
     "output_type": "stream",
     "text": [
      "\rDownloading mnist:  42%|████▏     | 4.13M/9.91M [00:03<00:03, 1.71MB/s]"
     ]
    },
    {
     "name": "stderr",
     "output_type": "stream",
     "text": [
      "\rDownloading mnist:  44%|████▍     | 4.36M/9.91M [00:03<00:03, 1.75MB/s]"
     ]
    },
    {
     "name": "stderr",
     "output_type": "stream",
     "text": [
      "\rDownloading mnist:  46%|████▋     | 4.59M/9.91M [00:03<00:03, 1.77MB/s]"
     ]
    },
    {
     "name": "stderr",
     "output_type": "stream",
     "text": [
      "\rDownloading mnist:  49%|████▊     | 4.82M/9.91M [00:03<00:02, 1.79MB/s]"
     ]
    },
    {
     "name": "stderr",
     "output_type": "stream",
     "text": [
      "\rDownloading mnist:  51%|█████     | 5.05M/9.91M [00:03<00:02, 1.83MB/s]"
     ]
    },
    {
     "name": "stderr",
     "output_type": "stream",
     "text": [
      "\rDownloading mnist:  53%|█████▎    | 5.29M/9.91M [00:03<00:02, 1.85MB/s]"
     ]
    },
    {
     "name": "stderr",
     "output_type": "stream",
     "text": [
      "\rDownloading mnist:  56%|█████▌    | 5.52M/9.91M [00:03<00:02, 1.85MB/s]"
     ]
    },
    {
     "name": "stderr",
     "output_type": "stream",
     "text": [
      "\rDownloading mnist:  58%|█████▊    | 5.76M/9.91M [00:03<00:02, 1.87MB/s]"
     ]
    },
    {
     "name": "stderr",
     "output_type": "stream",
     "text": [
      "\rDownloading mnist:  60%|██████    | 6.00M/9.91M [00:04<00:02, 1.88MB/s]"
     ]
    },
    {
     "name": "stderr",
     "output_type": "stream",
     "text": [
      "\rDownloading mnist:  63%|██████▎   | 6.23M/9.91M [00:04<00:01, 1.89MB/s]"
     ]
    },
    {
     "name": "stderr",
     "output_type": "stream",
     "text": [
      "\rDownloading mnist:  65%|██████▌   | 6.48M/9.91M [00:04<00:01, 1.92MB/s]"
     ]
    },
    {
     "name": "stderr",
     "output_type": "stream",
     "text": [
      "\rDownloading mnist:  68%|██████▊   | 6.72M/9.91M [00:04<00:01, 1.92MB/s]"
     ]
    },
    {
     "name": "stderr",
     "output_type": "stream",
     "text": [
      "\rDownloading mnist:  70%|███████   | 6.96M/9.91M [00:04<00:01, 1.93MB/s]"
     ]
    },
    {
     "name": "stderr",
     "output_type": "stream",
     "text": [
      "\rDownloading mnist:  73%|███████▎  | 7.21M/9.91M [00:04<00:01, 1.94MB/s]"
     ]
    },
    {
     "name": "stderr",
     "output_type": "stream",
     "text": [
      "\rDownloading mnist:  75%|███████▌  | 7.45M/9.91M [00:04<00:01, 1.95MB/s]"
     ]
    },
    {
     "name": "stderr",
     "output_type": "stream",
     "text": [
      "\rDownloading mnist:  78%|███████▊  | 7.70M/9.91M [00:04<00:01, 1.96MB/s]"
     ]
    },
    {
     "name": "stderr",
     "output_type": "stream",
     "text": [
      "\rDownloading mnist:  80%|████████  | 7.95M/9.91M [00:05<00:01, 1.96MB/s]"
     ]
    },
    {
     "name": "stderr",
     "output_type": "stream",
     "text": [
      "\rDownloading mnist:  83%|████████▎ | 8.19M/9.91M [00:05<00:00, 1.97MB/s]"
     ]
    },
    {
     "name": "stderr",
     "output_type": "stream",
     "text": [
      "\rDownloading mnist:  85%|████████▍ | 8.40M/9.91M [00:05<00:00, 1.92MB/s]"
     ]
    },
    {
     "name": "stderr",
     "output_type": "stream",
     "text": [
      "\rDownloading mnist:  88%|████████▊ | 8.68M/9.91M [00:05<00:00, 1.96MB/s]"
     ]
    },
    {
     "name": "stderr",
     "output_type": "stream",
     "text": [
      "\rDownloading mnist:  90%|████████▉ | 8.92M/9.91M [00:05<00:00, 1.96MB/s]"
     ]
    },
    {
     "name": "stderr",
     "output_type": "stream",
     "text": [
      "\rDownloading mnist:  92%|█████████▏| 9.17M/9.91M [00:05<00:00, 1.97MB/s]"
     ]
    },
    {
     "name": "stderr",
     "output_type": "stream",
     "text": [
      "\rDownloading mnist:  95%|█████████▍| 9.41M/9.91M [00:05<00:00, 1.97MB/s]"
     ]
    },
    {
     "name": "stderr",
     "output_type": "stream",
     "text": [
      "\rDownloading mnist:  97%|█████████▋| 9.66M/9.91M [00:05<00:00, 1.97MB/s]"
     ]
    },
    {
     "name": "stderr",
     "output_type": "stream",
     "text": [
      "\rDownloading mnist: 100%|█████████▉| 9.90M/9.91M [00:06<00:00, 1.97MB/s]"
     ]
    },
    {
     "name": "stderr",
     "output_type": "stream",
     "text": [
      "\rDownloading mnist: 9.92MB [00:06, 1.61MB/s]                            "
     ]
    },
    {
     "name": "stderr",
     "output_type": "stream",
     "text": [
      "\n"
     ]
    },
    {
     "name": "stderr",
     "output_type": "stream",
     "text": [
      "\rExtracting mnist:   0%|          | 0.00/60.0K [00:00<?, ?File/s]"
     ]
    },
    {
     "name": "stderr",
     "output_type": "stream",
     "text": [
      "\rExtracting mnist:   0%|          | 144/60.0K [00:00<00:41, 1.44KFile/s]"
     ]
    },
    {
     "name": "stderr",
     "output_type": "stream",
     "text": [
      "\rExtracting mnist:   0%|          | 250/60.0K [00:00<00:47, 1.26KFile/s]"
     ]
    },
    {
     "name": "stderr",
     "output_type": "stream",
     "text": [
      "\rExtracting mnist:   1%|          | 374/60.0K [00:00<00:47, 1.25KFile/s]"
     ]
    },
    {
     "name": "stderr",
     "output_type": "stream",
     "text": [
      "\rExtracting mnist:   1%|          | 538/60.0K [00:00<00:44, 1.34KFile/s]"
     ]
    },
    {
     "name": "stderr",
     "output_type": "stream",
     "text": [
      "\rExtracting mnist:   1%|          | 689/60.0K [00:00<00:42, 1.39KFile/s]"
     ]
    },
    {
     "name": "stderr",
     "output_type": "stream",
     "text": [
      "\rExtracting mnist:   1%|▏         | 859/60.0K [00:00<00:40, 1.46KFile/s]"
     ]
    },
    {
     "name": "stderr",
     "output_type": "stream",
     "text": [
      "\rExtracting mnist:   2%|▏         | 1.01K/60.0K [00:00<00:39, 1.48KFile/s]"
     ]
    },
    {
     "name": "stderr",
     "output_type": "stream",
     "text": [
      "\rExtracting mnist:   2%|▏         | 1.20K/60.0K [00:00<00:37, 1.58KFile/s]"
     ]
    },
    {
     "name": "stderr",
     "output_type": "stream",
     "text": [
      "\rExtracting mnist:   2%|▏         | 1.27K/60.0K [00:00<00:52, 1.12KFile/s]"
     ]
    },
    {
     "name": "stderr",
     "output_type": "stream",
     "text": [
      "\rExtracting mnist:   2%|▏         | 1.35K/60.0K [00:01<00:58, 997File/s]  "
     ]
    },
    {
     "name": "stderr",
     "output_type": "stream",
     "text": [
      "\rExtracting mnist:   2%|▏         | 1.47K/60.0K [00:01<00:56, 1.03KFile/s]"
     ]
    },
    {
     "name": "stderr",
     "output_type": "stream",
     "text": [
      "\rExtracting mnist:   3%|▎         | 1.55K/60.0K [00:01<01:01, 950File/s]  "
     ]
    },
    {
     "name": "stderr",
     "output_type": "stream",
     "text": [
      "\rExtracting mnist:   3%|▎         | 1.72K/60.0K [00:01<00:53, 1.10KFile/s]"
     ]
    },
    {
     "name": "stderr",
     "output_type": "stream",
     "text": [
      "\rExtracting mnist:   3%|▎         | 1.87K/60.0K [00:01<00:48, 1.19KFile/s]"
     ]
    },
    {
     "name": "stderr",
     "output_type": "stream",
     "text": [
      "\rExtracting mnist:   3%|▎         | 2.04K/60.0K [00:01<00:43, 1.32KFile/s]"
     ]
    },
    {
     "name": "stderr",
     "output_type": "stream",
     "text": [
      "\rExtracting mnist:   4%|▎         | 2.22K/60.0K [00:01<00:40, 1.43KFile/s]"
     ]
    },
    {
     "name": "stderr",
     "output_type": "stream",
     "text": [
      "\rExtracting mnist:   4%|▍         | 2.37K/60.0K [00:01<00:40, 1.44KFile/s]"
     ]
    },
    {
     "name": "stderr",
     "output_type": "stream",
     "text": [
      "\rExtracting mnist:   4%|▍         | 2.57K/60.0K [00:01<00:36, 1.57KFile/s]"
     ]
    },
    {
     "name": "stderr",
     "output_type": "stream",
     "text": [
      "\rExtracting mnist:   5%|▍         | 2.71K/60.0K [00:01<00:37, 1.52KFile/s]"
     ]
    },
    {
     "name": "stderr",
     "output_type": "stream",
     "text": [
      "\rExtracting mnist:   5%|▍         | 2.91K/60.0K [00:02<00:34, 1.64KFile/s]"
     ]
    },
    {
     "name": "stderr",
     "output_type": "stream",
     "text": [
      "\rExtracting mnist:   5%|▌         | 3.10K/60.0K [00:02<00:33, 1.72KFile/s]"
     ]
    },
    {
     "name": "stderr",
     "output_type": "stream",
     "text": [
      "\rExtracting mnist:   5%|▌         | 3.26K/60.0K [00:02<00:33, 1.68KFile/s]"
     ]
    },
    {
     "name": "stderr",
     "output_type": "stream",
     "text": [
      "\rExtracting mnist:   6%|▌         | 3.47K/60.0K [00:02<00:31, 1.77KFile/s]"
     ]
    },
    {
     "name": "stderr",
     "output_type": "stream",
     "text": [
      "\rExtracting mnist:   6%|▌         | 3.61K/60.0K [00:02<00:33, 1.66KFile/s]"
     ]
    },
    {
     "name": "stderr",
     "output_type": "stream",
     "text": [
      "\rExtracting mnist:   6%|▋         | 3.83K/60.0K [00:02<00:31, 1.78KFile/s]"
     ]
    },
    {
     "name": "stderr",
     "output_type": "stream",
     "text": [
      "\rExtracting mnist:   7%|▋         | 4.00K/60.0K [00:02<00:31, 1.75KFile/s]"
     ]
    },
    {
     "name": "stderr",
     "output_type": "stream",
     "text": [
      "\rExtracting mnist:   7%|▋         | 4.12K/60.0K [00:02<00:36, 1.54KFile/s]"
     ]
    },
    {
     "name": "stderr",
     "output_type": "stream",
     "text": [
      "\rExtracting mnist:   7%|▋         | 4.33K/60.0K [00:02<00:33, 1.68KFile/s]"
     ]
    },
    {
     "name": "stderr",
     "output_type": "stream",
     "text": [
      "\rExtracting mnist:   7%|▋         | 4.48K/60.0K [00:02<00:34, 1.61KFile/s]"
     ]
    },
    {
     "name": "stderr",
     "output_type": "stream",
     "text": [
      "\rExtracting mnist:   8%|▊         | 4.68K/60.0K [00:03<00:32, 1.72KFile/s]"
     ]
    },
    {
     "name": "stderr",
     "output_type": "stream",
     "text": [
      "\rExtracting mnist:   8%|▊         | 4.87K/60.0K [00:03<00:31, 1.76KFile/s]"
     ]
    },
    {
     "name": "stderr",
     "output_type": "stream",
     "text": [
      "\rExtracting mnist:   8%|▊         | 5.04K/60.0K [00:03<00:31, 1.74KFile/s]"
     ]
    },
    {
     "name": "stderr",
     "output_type": "stream",
     "text": [
      "\rExtracting mnist:   9%|▊         | 5.18K/60.0K [00:03<00:33, 1.64KFile/s]"
     ]
    },
    {
     "name": "stderr",
     "output_type": "stream",
     "text": [
      "\rExtracting mnist:   9%|▉         | 5.27K/60.0K [00:03<00:42, 1.28KFile/s]"
     ]
    },
    {
     "name": "stderr",
     "output_type": "stream",
     "text": [
      "\rExtracting mnist:   9%|▉         | 5.42K/60.0K [00:03<00:40, 1.34KFile/s]"
     ]
    },
    {
     "name": "stderr",
     "output_type": "stream",
     "text": [
      "\rExtracting mnist:   9%|▉         | 5.56K/60.0K [00:03<00:40, 1.36KFile/s]"
     ]
    },
    {
     "name": "stderr",
     "output_type": "stream",
     "text": [
      "\rExtracting mnist:   9%|▉         | 5.67K/60.0K [00:03<00:42, 1.28KFile/s]"
     ]
    },
    {
     "name": "stderr",
     "output_type": "stream",
     "text": [
      "\rExtracting mnist:  10%|▉         | 5.83K/60.0K [00:03<00:40, 1.35KFile/s]"
     ]
    },
    {
     "name": "stderr",
     "output_type": "stream",
     "text": [
      "\rExtracting mnist:  10%|▉         | 5.90K/60.0K [00:03<00:49, 1.10KFile/s]"
     ]
    },
    {
     "name": "stderr",
     "output_type": "stream",
     "text": [
      "\rExtracting mnist:  10%|█         | 6.03K/60.0K [00:04<00:47, 1.14KFile/s]"
     ]
    },
    {
     "name": "stderr",
     "output_type": "stream",
     "text": [
      "\rExtracting mnist:  10%|█         | 6.18K/60.0K [00:04<00:43, 1.23KFile/s]"
     ]
    },
    {
     "name": "stderr",
     "output_type": "stream",
     "text": [
      "\rExtracting mnist:  11%|█         | 6.32K/60.0K [00:04<00:41, 1.28KFile/s]"
     ]
    },
    {
     "name": "stderr",
     "output_type": "stream",
     "text": [
      "\rExtracting mnist:  11%|█         | 6.48K/60.0K [00:04<00:39, 1.36KFile/s]"
     ]
    },
    {
     "name": "stderr",
     "output_type": "stream",
     "text": [
      "\rExtracting mnist:  11%|█         | 6.58K/60.0K [00:04<00:43, 1.23KFile/s]"
     ]
    },
    {
     "name": "stderr",
     "output_type": "stream",
     "text": [
      "\rExtracting mnist:  11%|█▏        | 6.76K/60.0K [00:04<00:39, 1.35KFile/s]"
     ]
    },
    {
     "name": "stderr",
     "output_type": "stream",
     "text": [
      "\rExtracting mnist:  12%|█▏        | 6.93K/60.0K [00:04<00:36, 1.45KFile/s]"
     ]
    },
    {
     "name": "stderr",
     "output_type": "stream",
     "text": [
      "\rExtracting mnist:  12%|█▏        | 7.11K/60.0K [00:04<00:34, 1.53KFile/s]"
     ]
    },
    {
     "name": "stderr",
     "output_type": "stream",
     "text": [
      "\rExtracting mnist:  12%|█▏        | 7.32K/60.0K [00:04<00:31, 1.67KFile/s]"
     ]
    },
    {
     "name": "stderr",
     "output_type": "stream",
     "text": [
      "\rExtracting mnist:  12%|█▏        | 7.47K/60.0K [00:04<00:32, 1.60KFile/s]"
     ]
    },
    {
     "name": "stderr",
     "output_type": "stream",
     "text": [
      "\rExtracting mnist:  13%|█▎        | 7.68K/60.0K [00:05<00:30, 1.73KFile/s]"
     ]
    },
    {
     "name": "stderr",
     "output_type": "stream",
     "text": [
      "\rExtracting mnist:  13%|█▎        | 7.88K/60.0K [00:05<00:29, 1.78KFile/s]"
     ]
    },
    {
     "name": "stderr",
     "output_type": "stream",
     "text": [
      "\rExtracting mnist:  13%|█▎        | 8.01K/60.0K [00:05<00:31, 1.64KFile/s]"
     ]
    },
    {
     "name": "stderr",
     "output_type": "stream",
     "text": [
      "\rExtracting mnist:  14%|█▎        | 8.21K/60.0K [00:05<00:29, 1.73KFile/s]"
     ]
    },
    {
     "name": "stderr",
     "output_type": "stream",
     "text": [
      "\rExtracting mnist:  14%|█▍        | 8.36K/60.0K [00:05<00:31, 1.63KFile/s]"
     ]
    },
    {
     "name": "stderr",
     "output_type": "stream",
     "text": [
      "\rExtracting mnist:  14%|█▍        | 8.54K/60.0K [00:05<00:30, 1.69KFile/s]"
     ]
    },
    {
     "name": "stderr",
     "output_type": "stream",
     "text": [
      "\rExtracting mnist:  15%|█▍        | 8.72K/60.0K [00:05<00:29, 1.71KFile/s]"
     ]
    },
    {
     "name": "stderr",
     "output_type": "stream",
     "text": [
      "\rExtracting mnist:  15%|█▍        | 8.89K/60.0K [00:05<00:29, 1.70KFile/s]"
     ]
    },
    {
     "name": "stderr",
     "output_type": "stream",
     "text": [
      "\rExtracting mnist:  15%|█▌        | 9.10K/60.0K [00:05<00:28, 1.80KFile/s]"
     ]
    },
    {
     "name": "stderr",
     "output_type": "stream",
     "text": [
      "\rExtracting mnist:  15%|█▌        | 9.24K/60.0K [00:05<00:30, 1.65KFile/s]"
     ]
    },
    {
     "name": "stderr",
     "output_type": "stream",
     "text": [
      "\rExtracting mnist:  16%|█▌        | 9.44K/60.0K [00:06<00:28, 1.76KFile/s]"
     ]
    },
    {
     "name": "stderr",
     "output_type": "stream",
     "text": [
      "\rExtracting mnist:  16%|█▌        | 9.63K/60.0K [00:06<00:28, 1.78KFile/s]"
     ]
    },
    {
     "name": "stderr",
     "output_type": "stream",
     "text": [
      "\rExtracting mnist:  16%|█▋        | 9.80K/60.0K [00:06<00:28, 1.76KFile/s]"
     ]
    },
    {
     "name": "stderr",
     "output_type": "stream",
     "text": [
      "\rExtracting mnist:  17%|█▋        | 10.0K/60.0K [00:06<00:27, 1.83KFile/s]"
     ]
    },
    {
     "name": "stderr",
     "output_type": "stream",
     "text": [
      "\rExtracting mnist:  17%|█▋        | 10.1K/60.0K [00:06<00:29, 1.69KFile/s]"
     ]
    },
    {
     "name": "stderr",
     "output_type": "stream",
     "text": [
      "\rExtracting mnist:  17%|█▋        | 10.3K/60.0K [00:06<00:27, 1.77KFile/s]"
     ]
    },
    {
     "name": "stderr",
     "output_type": "stream",
     "text": [
      "\rExtracting mnist:  18%|█▊        | 10.5K/60.0K [00:06<00:27, 1.78KFile/s]"
     ]
    },
    {
     "name": "stderr",
     "output_type": "stream",
     "text": [
      "\rExtracting mnist:  18%|█▊        | 10.7K/60.0K [00:06<00:28, 1.72KFile/s]"
     ]
    },
    {
     "name": "stderr",
     "output_type": "stream",
     "text": [
      "\rExtracting mnist:  18%|█▊        | 10.9K/60.0K [00:06<00:27, 1.81KFile/s]"
     ]
    },
    {
     "name": "stderr",
     "output_type": "stream",
     "text": [
      "\rExtracting mnist:  18%|█▊        | 11.0K/60.0K [00:06<00:29, 1.66KFile/s]"
     ]
    },
    {
     "name": "stderr",
     "output_type": "stream",
     "text": [
      "\rExtracting mnist:  19%|█▊        | 11.2K/60.0K [00:07<00:27, 1.75KFile/s]"
     ]
    },
    {
     "name": "stderr",
     "output_type": "stream",
     "text": [
      "\rExtracting mnist:  19%|█▉        | 11.4K/60.0K [00:07<00:27, 1.75KFile/s]"
     ]
    },
    {
     "name": "stderr",
     "output_type": "stream",
     "text": [
      "\rExtracting mnist:  19%|█▉        | 11.6K/60.0K [00:07<00:27, 1.76KFile/s]"
     ]
    },
    {
     "name": "stderr",
     "output_type": "stream",
     "text": [
      "\rExtracting mnist:  20%|█▉        | 11.8K/60.0K [00:07<00:26, 1.84KFile/s]"
     ]
    },
    {
     "name": "stderr",
     "output_type": "stream",
     "text": [
      "\rExtracting mnist:  20%|█▉        | 11.9K/60.0K [00:07<00:28, 1.70KFile/s]"
     ]
    },
    {
     "name": "stderr",
     "output_type": "stream",
     "text": [
      "\rExtracting mnist:  20%|██        | 12.1K/60.0K [00:07<00:27, 1.77KFile/s]"
     ]
    },
    {
     "name": "stderr",
     "output_type": "stream",
     "text": [
      "\rExtracting mnist:  21%|██        | 12.3K/60.0K [00:07<00:27, 1.74KFile/s]"
     ]
    },
    {
     "name": "stderr",
     "output_type": "stream",
     "text": [
      "\rExtracting mnist:  21%|██        | 12.5K/60.0K [00:07<00:28, 1.69KFile/s]"
     ]
    },
    {
     "name": "stderr",
     "output_type": "stream",
     "text": [
      "\rExtracting mnist:  21%|██        | 12.7K/60.0K [00:07<00:26, 1.78KFile/s]"
     ]
    },
    {
     "name": "stderr",
     "output_type": "stream",
     "text": [
      "\rExtracting mnist:  21%|██▏       | 12.8K/60.0K [00:07<00:30, 1.57KFile/s]"
     ]
    },
    {
     "name": "stderr",
     "output_type": "stream",
     "text": [
      "\rExtracting mnist:  22%|██▏       | 13.0K/60.0K [00:08<00:28, 1.65KFile/s]"
     ]
    },
    {
     "name": "stderr",
     "output_type": "stream",
     "text": [
      "\rExtracting mnist:  22%|██▏       | 13.2K/60.0K [00:08<00:27, 1.70KFile/s]"
     ]
    },
    {
     "name": "stderr",
     "output_type": "stream",
     "text": [
      "\rExtracting mnist:  22%|██▏       | 13.3K/60.0K [00:08<00:29, 1.60KFile/s]"
     ]
    },
    {
     "name": "stderr",
     "output_type": "stream",
     "text": [
      "\rExtracting mnist:  22%|██▏       | 13.5K/60.0K [00:08<00:29, 1.60KFile/s]"
     ]
    },
    {
     "name": "stderr",
     "output_type": "stream",
     "text": [
      "\rExtracting mnist:  23%|██▎       | 13.6K/60.0K [00:08<00:31, 1.47KFile/s]"
     ]
    },
    {
     "name": "stderr",
     "output_type": "stream",
     "text": [
      "\rExtracting mnist:  23%|██▎       | 13.8K/60.0K [00:08<00:30, 1.51KFile/s]"
     ]
    },
    {
     "name": "stderr",
     "output_type": "stream",
     "text": [
      "\rExtracting mnist:  23%|██▎       | 13.9K/60.0K [00:08<00:30, 1.50KFile/s]"
     ]
    },
    {
     "name": "stderr",
     "output_type": "stream",
     "text": [
      "\rExtracting mnist:  23%|██▎       | 14.0K/60.0K [00:08<00:31, 1.44KFile/s]"
     ]
    },
    {
     "name": "stderr",
     "output_type": "stream",
     "text": [
      "\rExtracting mnist:  24%|██▎       | 14.2K/60.0K [00:08<00:30, 1.49KFile/s]"
     ]
    },
    {
     "name": "stderr",
     "output_type": "stream",
     "text": [
      "\rExtracting mnist:  24%|██▍       | 14.3K/60.0K [00:08<00:32, 1.41KFile/s]"
     ]
    },
    {
     "name": "stderr",
     "output_type": "stream",
     "text": [
      "\rExtracting mnist:  24%|██▍       | 14.5K/60.0K [00:09<00:31, 1.46KFile/s]"
     ]
    },
    {
     "name": "stderr",
     "output_type": "stream",
     "text": [
      "\rExtracting mnist:  24%|██▍       | 14.6K/60.0K [00:09<00:31, 1.46KFile/s]"
     ]
    },
    {
     "name": "stderr",
     "output_type": "stream",
     "text": [
      "\rExtracting mnist:  25%|██▍       | 14.8K/60.0K [00:09<00:32, 1.41KFile/s]"
     ]
    },
    {
     "name": "stderr",
     "output_type": "stream",
     "text": [
      "\rExtracting mnist:  25%|██▍       | 14.9K/60.0K [00:09<00:30, 1.47KFile/s]"
     ]
    },
    {
     "name": "stderr",
     "output_type": "stream",
     "text": [
      "\rExtracting mnist:  25%|██▌       | 15.0K/60.0K [00:09<00:32, 1.38KFile/s]"
     ]
    },
    {
     "name": "stderr",
     "output_type": "stream",
     "text": [
      "\rExtracting mnist:  25%|██▌       | 15.1K/60.0K [00:09<00:36, 1.23KFile/s]"
     ]
    },
    {
     "name": "stderr",
     "output_type": "stream",
     "text": [
      "\rExtracting mnist:  25%|██▌       | 15.3K/60.0K [00:09<00:35, 1.26KFile/s]"
     ]
    },
    {
     "name": "stderr",
     "output_type": "stream",
     "text": [
      "\rExtracting mnist:  26%|██▌       | 15.4K/60.0K [00:09<00:34, 1.29KFile/s]"
     ]
    },
    {
     "name": "stderr",
     "output_type": "stream",
     "text": [
      "\rExtracting mnist:  26%|██▌       | 15.6K/60.0K [00:09<00:32, 1.38KFile/s]"
     ]
    },
    {
     "name": "stderr",
     "output_type": "stream",
     "text": [
      "\rExtracting mnist:  26%|██▌       | 15.7K/60.0K [00:09<00:33, 1.33KFile/s]"
     ]
    },
    {
     "name": "stderr",
     "output_type": "stream",
     "text": [
      "\rExtracting mnist:  26%|██▋       | 15.9K/60.0K [00:10<00:31, 1.40KFile/s]"
     ]
    },
    {
     "name": "stderr",
     "output_type": "stream",
     "text": [
      "\rExtracting mnist:  27%|██▋       | 16.0K/60.0K [00:10<00:31, 1.42KFile/s]"
     ]
    },
    {
     "name": "stderr",
     "output_type": "stream",
     "text": [
      "\rExtracting mnist:  27%|██▋       | 16.1K/60.0K [00:10<00:31, 1.40KFile/s]"
     ]
    },
    {
     "name": "stderr",
     "output_type": "stream",
     "text": [
      "\rExtracting mnist:  27%|██▋       | 16.3K/60.0K [00:10<00:29, 1.46KFile/s]"
     ]
    },
    {
     "name": "stderr",
     "output_type": "stream",
     "text": [
      "\rExtracting mnist:  27%|██▋       | 16.4K/60.0K [00:10<00:34, 1.27KFile/s]"
     ]
    },
    {
     "name": "stderr",
     "output_type": "stream",
     "text": [
      "\rExtracting mnist:  28%|██▊       | 16.5K/60.0K [00:10<00:33, 1.30KFile/s]"
     ]
    },
    {
     "name": "stderr",
     "output_type": "stream",
     "text": [
      "\rExtracting mnist:  28%|██▊       | 16.7K/60.0K [00:10<00:32, 1.33KFile/s]"
     ]
    },
    {
     "name": "stderr",
     "output_type": "stream",
     "text": [
      "\rExtracting mnist:  28%|██▊       | 16.8K/60.0K [00:10<00:31, 1.35KFile/s]"
     ]
    },
    {
     "name": "stderr",
     "output_type": "stream",
     "text": [
      "\rExtracting mnist:  28%|██▊       | 17.0K/60.0K [00:10<00:30, 1.41KFile/s]"
     ]
    },
    {
     "name": "stderr",
     "output_type": "stream",
     "text": [
      "\rExtracting mnist:  29%|██▊       | 17.1K/60.0K [00:10<00:30, 1.39KFile/s]"
     ]
    },
    {
     "name": "stderr",
     "output_type": "stream",
     "text": [
      "\rExtracting mnist:  29%|██▉       | 17.3K/60.0K [00:11<00:29, 1.47KFile/s]"
     ]
    },
    {
     "name": "stderr",
     "output_type": "stream",
     "text": [
      "\rExtracting mnist:  29%|██▉       | 17.4K/60.0K [00:11<00:28, 1.49KFile/s]"
     ]
    },
    {
     "name": "stderr",
     "output_type": "stream",
     "text": [
      "\rExtracting mnist:  29%|██▉       | 17.6K/60.0K [00:11<00:28, 1.50KFile/s]"
     ]
    },
    {
     "name": "stderr",
     "output_type": "stream",
     "text": [
      "\rExtracting mnist:  30%|██▉       | 17.8K/60.0K [00:11<00:27, 1.55KFile/s]"
     ]
    },
    {
     "name": "stderr",
     "output_type": "stream",
     "text": [
      "\rExtracting mnist:  30%|██▉       | 17.9K/60.0K [00:11<00:28, 1.46KFile/s]"
     ]
    },
    {
     "name": "stderr",
     "output_type": "stream",
     "text": [
      "\rExtracting mnist:  30%|███       | 18.1K/60.0K [00:11<00:27, 1.54KFile/s]"
     ]
    },
    {
     "name": "stderr",
     "output_type": "stream",
     "text": [
      "\rExtracting mnist:  30%|███       | 18.2K/60.0K [00:11<00:27, 1.52KFile/s]"
     ]
    },
    {
     "name": "stderr",
     "output_type": "stream",
     "text": [
      "\rExtracting mnist:  31%|███       | 18.4K/60.0K [00:11<00:28, 1.47KFile/s]"
     ]
    },
    {
     "name": "stderr",
     "output_type": "stream",
     "text": [
      "\rExtracting mnist:  31%|███       | 18.4K/60.0K [00:11<01:06, 630File/s]  "
     ]
    },
    {
     "name": "stderr",
     "output_type": "stream",
     "text": [
      "\rExtracting mnist:  31%|███       | 18.4K/60.0K [00:11<01:08, 607File/s]"
     ]
    },
    {
     "name": "stderr",
     "output_type": "stream",
     "text": [
      "\rExtracting mnist:  31%|███       | 18.6K/60.0K [00:12<00:54, 761File/s]"
     ]
    },
    {
     "name": "stderr",
     "output_type": "stream",
     "text": [
      "\rExtracting mnist:  31%|███▏      | 18.8K/60.0K [00:12<00:45, 901File/s]"
     ]
    },
    {
     "name": "stderr",
     "output_type": "stream",
     "text": [
      "\rExtracting mnist:  32%|███▏      | 18.9K/60.0K [00:12<00:39, 1.03KFile/s]"
     ]
    },
    {
     "name": "stderr",
     "output_type": "stream",
     "text": [
      "\rExtracting mnist:  32%|███▏      | 19.1K/60.0K [00:12<00:35, 1.17KFile/s]"
     ]
    },
    {
     "name": "stderr",
     "output_type": "stream",
     "text": [
      "\rExtracting mnist:  32%|███▏      | 19.2K/60.0K [00:12<00:33, 1.20KFile/s]"
     ]
    },
    {
     "name": "stderr",
     "output_type": "stream",
     "text": [
      "\rExtracting mnist:  32%|███▏      | 19.4K/60.0K [00:12<00:30, 1.32KFile/s]"
     ]
    },
    {
     "name": "stderr",
     "output_type": "stream",
     "text": [
      "\rExtracting mnist:  33%|███▎      | 19.6K/60.0K [00:12<00:29, 1.38KFile/s]"
     ]
    },
    {
     "name": "stderr",
     "output_type": "stream",
     "text": [
      "\rExtracting mnist:  33%|███▎      | 19.7K/60.0K [00:12<00:28, 1.41KFile/s]"
     ]
    },
    {
     "name": "stderr",
     "output_type": "stream",
     "text": [
      "\rExtracting mnist:  33%|███▎      | 19.9K/60.0K [00:12<00:26, 1.50KFile/s]"
     ]
    },
    {
     "name": "stderr",
     "output_type": "stream",
     "text": [
      "\rExtracting mnist:  33%|███▎      | 20.0K/60.0K [00:12<00:31, 1.28KFile/s]"
     ]
    },
    {
     "name": "stderr",
     "output_type": "stream",
     "text": [
      "\rExtracting mnist:  34%|███▎      | 20.1K/60.0K [00:13<00:30, 1.29KFile/s]"
     ]
    },
    {
     "name": "stderr",
     "output_type": "stream",
     "text": [
      "\rExtracting mnist:  34%|███▍      | 20.3K/60.0K [00:13<00:29, 1.36KFile/s]"
     ]
    },
    {
     "name": "stderr",
     "output_type": "stream",
     "text": [
      "\rExtracting mnist:  34%|███▍      | 20.4K/60.0K [00:13<00:28, 1.40KFile/s]"
     ]
    },
    {
     "name": "stderr",
     "output_type": "stream",
     "text": [
      "\rExtracting mnist:  34%|███▍      | 20.6K/60.0K [00:13<00:29, 1.34KFile/s]"
     ]
    },
    {
     "name": "stderr",
     "output_type": "stream",
     "text": [
      "\rExtracting mnist:  34%|███▍      | 20.6K/60.0K [00:13<00:37, 1.04KFile/s]"
     ]
    },
    {
     "name": "stderr",
     "output_type": "stream",
     "text": [
      "\rExtracting mnist:  35%|███▍      | 20.8K/60.0K [00:13<00:34, 1.12KFile/s]"
     ]
    },
    {
     "name": "stderr",
     "output_type": "stream",
     "text": [
      "\rExtracting mnist:  35%|███▍      | 20.9K/60.0K [00:13<00:34, 1.12KFile/s]"
     ]
    },
    {
     "name": "stderr",
     "output_type": "stream",
     "text": [
      "\rExtracting mnist:  35%|███▍      | 21.0K/60.0K [00:13<00:34, 1.13KFile/s]"
     ]
    },
    {
     "name": "stderr",
     "output_type": "stream",
     "text": [
      "\rExtracting mnist:  35%|███▌      | 21.1K/60.0K [00:13<00:32, 1.21KFile/s]"
     ]
    },
    {
     "name": "stderr",
     "output_type": "stream",
     "text": [
      "\rExtracting mnist:  35%|███▌      | 21.2K/60.0K [00:13<00:38, 1.02KFile/s]"
     ]
    },
    {
     "name": "stderr",
     "output_type": "stream",
     "text": [
      "\rExtracting mnist:  36%|███▌      | 21.3K/60.0K [00:14<00:36, 1.05KFile/s]"
     ]
    },
    {
     "name": "stderr",
     "output_type": "stream",
     "text": [
      "\rExtracting mnist:  36%|███▌      | 21.5K/60.0K [00:14<00:34, 1.10KFile/s]"
     ]
    },
    {
     "name": "stderr",
     "output_type": "stream",
     "text": [
      "\rExtracting mnist:  36%|███▌      | 21.6K/60.0K [00:14<00:31, 1.20KFile/s]"
     ]
    },
    {
     "name": "stderr",
     "output_type": "stream",
     "text": [
      "\rExtracting mnist:  36%|███▋      | 21.8K/60.0K [00:14<00:29, 1.31KFile/s]"
     ]
    },
    {
     "name": "stderr",
     "output_type": "stream",
     "text": [
      "\rExtracting mnist:  36%|███▋      | 21.9K/60.0K [00:14<00:34, 1.09KFile/s]"
     ]
    },
    {
     "name": "stderr",
     "output_type": "stream",
     "text": [
      "\rExtracting mnist:  37%|███▋      | 22.0K/60.0K [00:14<00:31, 1.20KFile/s]"
     ]
    },
    {
     "name": "stderr",
     "output_type": "stream",
     "text": [
      "\rExtracting mnist:  37%|███▋      | 22.2K/60.0K [00:14<00:29, 1.27KFile/s]"
     ]
    },
    {
     "name": "stderr",
     "output_type": "stream",
     "text": [
      "\rExtracting mnist:  37%|███▋      | 22.3K/60.0K [00:14<00:27, 1.35KFile/s]"
     ]
    },
    {
     "name": "stderr",
     "output_type": "stream",
     "text": [
      "\rExtracting mnist:  37%|███▋      | 22.5K/60.0K [00:14<00:25, 1.45KFile/s]"
     ]
    },
    {
     "name": "stderr",
     "output_type": "stream",
     "text": [
      "\rExtracting mnist:  38%|███▊      | 22.6K/60.0K [00:14<00:26, 1.40KFile/s]"
     ]
    },
    {
     "name": "stderr",
     "output_type": "stream",
     "text": [
      "\rExtracting mnist:  38%|███▊      | 22.8K/60.0K [00:15<00:25, 1.49KFile/s]"
     ]
    },
    {
     "name": "stderr",
     "output_type": "stream",
     "text": [
      "\rExtracting mnist:  38%|███▊      | 22.9K/60.0K [00:15<00:24, 1.50KFile/s]"
     ]
    },
    {
     "name": "stderr",
     "output_type": "stream",
     "text": [
      "\rExtracting mnist:  38%|███▊      | 23.1K/60.0K [00:15<00:24, 1.48KFile/s]"
     ]
    },
    {
     "name": "stderr",
     "output_type": "stream",
     "text": [
      "\rExtracting mnist:  39%|███▉      | 23.3K/60.0K [00:15<00:24, 1.51KFile/s]"
     ]
    },
    {
     "name": "stderr",
     "output_type": "stream",
     "text": [
      "\rExtracting mnist:  39%|███▉      | 23.4K/60.0K [00:15<00:26, 1.39KFile/s]"
     ]
    },
    {
     "name": "stderr",
     "output_type": "stream",
     "text": [
      "\rExtracting mnist:  39%|███▉      | 23.5K/60.0K [00:15<00:28, 1.28KFile/s]"
     ]
    },
    {
     "name": "stderr",
     "output_type": "stream",
     "text": [
      "\rExtracting mnist:  39%|███▉      | 23.6K/60.0K [00:15<00:28, 1.29KFile/s]"
     ]
    },
    {
     "name": "stderr",
     "output_type": "stream",
     "text": [
      "\rExtracting mnist:  40%|███▉      | 23.8K/60.0K [00:15<00:27, 1.33KFile/s]"
     ]
    },
    {
     "name": "stderr",
     "output_type": "stream",
     "text": [
      "\rExtracting mnist:  40%|███▉      | 23.9K/60.0K [00:15<00:25, 1.39KFile/s]"
     ]
    },
    {
     "name": "stderr",
     "output_type": "stream",
     "text": [
      "\rExtracting mnist:  40%|████      | 24.0K/60.0K [00:15<00:27, 1.31KFile/s]"
     ]
    },
    {
     "name": "stderr",
     "output_type": "stream",
     "text": [
      "\rExtracting mnist:  40%|████      | 24.2K/60.0K [00:16<00:27, 1.29KFile/s]"
     ]
    },
    {
     "name": "stderr",
     "output_type": "stream",
     "text": [
      "\rExtracting mnist:  40%|████      | 24.3K/60.0K [00:16<00:27, 1.32KFile/s]"
     ]
    },
    {
     "name": "stderr",
     "output_type": "stream",
     "text": [
      "\rExtracting mnist:  41%|████      | 24.4K/60.0K [00:16<00:26, 1.36KFile/s]"
     ]
    },
    {
     "name": "stderr",
     "output_type": "stream",
     "text": [
      "\rExtracting mnist:  41%|████      | 24.6K/60.0K [00:16<00:24, 1.45KFile/s]"
     ]
    },
    {
     "name": "stderr",
     "output_type": "stream",
     "text": [
      "\rExtracting mnist:  41%|████      | 24.7K/60.0K [00:16<00:25, 1.39KFile/s]"
     ]
    },
    {
     "name": "stderr",
     "output_type": "stream",
     "text": [
      "\rExtracting mnist:  41%|████▏     | 24.9K/60.0K [00:16<00:24, 1.45KFile/s]"
     ]
    },
    {
     "name": "stderr",
     "output_type": "stream",
     "text": [
      "\rExtracting mnist:  42%|████▏     | 25.1K/60.0K [00:16<00:23, 1.48KFile/s]"
     ]
    },
    {
     "name": "stderr",
     "output_type": "stream",
     "text": [
      "\rExtracting mnist:  42%|████▏     | 25.2K/60.0K [00:16<00:22, 1.54KFile/s]"
     ]
    },
    {
     "name": "stderr",
     "output_type": "stream",
     "text": [
      "\rExtracting mnist:  42%|████▏     | 25.4K/60.0K [00:16<00:21, 1.60KFile/s]"
     ]
    },
    {
     "name": "stderr",
     "output_type": "stream",
     "text": [
      "\rExtracting mnist:  43%|████▎     | 25.5K/60.0K [00:16<00:24, 1.42KFile/s]"
     ]
    },
    {
     "name": "stderr",
     "output_type": "stream",
     "text": [
      "\rExtracting mnist:  43%|████▎     | 25.7K/60.0K [00:17<00:23, 1.48KFile/s]"
     ]
    },
    {
     "name": "stderr",
     "output_type": "stream",
     "text": [
      "\rExtracting mnist:  43%|████▎     | 25.8K/60.0K [00:17<00:24, 1.41KFile/s]"
     ]
    },
    {
     "name": "stderr",
     "output_type": "stream",
     "text": [
      "\rExtracting mnist:  43%|████▎     | 26.0K/60.0K [00:17<00:23, 1.42KFile/s]"
     ]
    },
    {
     "name": "stderr",
     "output_type": "stream",
     "text": [
      "\rExtracting mnist:  44%|████▎     | 26.1K/60.0K [00:17<00:23, 1.46KFile/s]"
     ]
    },
    {
     "name": "stderr",
     "output_type": "stream",
     "text": [
      "\rExtracting mnist:  44%|████▍     | 26.3K/60.0K [00:17<00:23, 1.45KFile/s]"
     ]
    },
    {
     "name": "stderr",
     "output_type": "stream",
     "text": [
      "\rExtracting mnist:  44%|████▍     | 26.4K/60.0K [00:17<00:22, 1.52KFile/s]"
     ]
    },
    {
     "name": "stderr",
     "output_type": "stream",
     "text": [
      "\rExtracting mnist:  44%|████▍     | 26.6K/60.0K [00:17<00:22, 1.50KFile/s]"
     ]
    },
    {
     "name": "stderr",
     "output_type": "stream",
     "text": [
      "\rExtracting mnist:  45%|████▍     | 26.7K/60.0K [00:17<00:21, 1.52KFile/s]"
     ]
    },
    {
     "name": "stderr",
     "output_type": "stream",
     "text": [
      "\rExtracting mnist:  45%|████▍     | 26.9K/60.0K [00:17<00:21, 1.55KFile/s]"
     ]
    },
    {
     "name": "stderr",
     "output_type": "stream",
     "text": [
      "\rExtracting mnist:  45%|████▌     | 27.0K/60.0K [00:17<00:21, 1.52KFile/s]"
     ]
    },
    {
     "name": "stderr",
     "output_type": "stream",
     "text": [
      "\rExtracting mnist:  45%|████▌     | 27.2K/60.0K [00:18<00:21, 1.54KFile/s]"
     ]
    },
    {
     "name": "stderr",
     "output_type": "stream",
     "text": [
      "\rExtracting mnist:  46%|████▌     | 27.3K/60.0K [00:18<00:22, 1.48KFile/s]"
     ]
    },
    {
     "name": "stderr",
     "output_type": "stream",
     "text": [
      "\rExtracting mnist:  46%|████▌     | 27.5K/60.0K [00:18<00:22, 1.45KFile/s]"
     ]
    },
    {
     "name": "stderr",
     "output_type": "stream",
     "text": [
      "\rExtracting mnist:  46%|████▌     | 27.6K/60.0K [00:18<00:21, 1.50KFile/s]"
     ]
    },
    {
     "name": "stderr",
     "output_type": "stream",
     "text": [
      "\rExtracting mnist:  46%|████▋     | 27.8K/60.0K [00:18<00:22, 1.41KFile/s]"
     ]
    },
    {
     "name": "stderr",
     "output_type": "stream",
     "text": [
      "\rExtracting mnist:  47%|████▋     | 27.9K/60.0K [00:18<00:22, 1.46KFile/s]"
     ]
    },
    {
     "name": "stderr",
     "output_type": "stream",
     "text": [
      "\rExtracting mnist:  47%|████▋     | 28.1K/60.0K [00:18<00:22, 1.40KFile/s]"
     ]
    },
    {
     "name": "stderr",
     "output_type": "stream",
     "text": [
      "\rExtracting mnist:  47%|████▋     | 28.2K/60.0K [00:18<00:22, 1.43KFile/s]"
     ]
    },
    {
     "name": "stderr",
     "output_type": "stream",
     "text": [
      "\rExtracting mnist:  47%|████▋     | 28.4K/60.0K [00:18<00:21, 1.48KFile/s]"
     ]
    },
    {
     "name": "stderr",
     "output_type": "stream",
     "text": [
      "\rExtracting mnist:  47%|████▋     | 28.5K/60.0K [00:18<00:22, 1.39KFile/s]"
     ]
    },
    {
     "name": "stderr",
     "output_type": "stream",
     "text": [
      "\rExtracting mnist:  48%|████▊     | 28.7K/60.0K [00:19<00:21, 1.46KFile/s]"
     ]
    },
    {
     "name": "stderr",
     "output_type": "stream",
     "text": [
      "\rExtracting mnist:  48%|████▊     | 28.8K/60.0K [00:19<00:21, 1.43KFile/s]"
     ]
    },
    {
     "name": "stderr",
     "output_type": "stream",
     "text": [
      "\rExtracting mnist:  48%|████▊     | 28.9K/60.0K [00:19<00:21, 1.44KFile/s]"
     ]
    },
    {
     "name": "stderr",
     "output_type": "stream",
     "text": [
      "\rExtracting mnist:  48%|████▊     | 29.1K/60.0K [00:19<00:20, 1.48KFile/s]"
     ]
    },
    {
     "name": "stderr",
     "output_type": "stream",
     "text": [
      "\rExtracting mnist:  49%|████▊     | 29.2K/60.0K [00:19<00:22, 1.34KFile/s]"
     ]
    },
    {
     "name": "stderr",
     "output_type": "stream",
     "text": [
      "\rExtracting mnist:  49%|████▉     | 29.4K/60.0K [00:19<00:21, 1.40KFile/s]"
     ]
    },
    {
     "name": "stderr",
     "output_type": "stream",
     "text": [
      "\rExtracting mnist:  49%|████▉     | 29.5K/60.0K [00:19<00:24, 1.23KFile/s]"
     ]
    },
    {
     "name": "stderr",
     "output_type": "stream",
     "text": [
      "\rExtracting mnist:  49%|████▉     | 29.6K/60.0K [00:19<00:23, 1.31KFile/s]"
     ]
    },
    {
     "name": "stderr",
     "output_type": "stream",
     "text": [
      "\rExtracting mnist:  50%|████▉     | 29.8K/60.0K [00:19<00:21, 1.40KFile/s]"
     ]
    },
    {
     "name": "stderr",
     "output_type": "stream",
     "text": [
      "\rExtracting mnist:  50%|████▉     | 29.9K/60.0K [00:19<00:21, 1.37KFile/s]"
     ]
    },
    {
     "name": "stderr",
     "output_type": "stream",
     "text": [
      "\rExtracting mnist:  50%|█████     | 30.1K/60.0K [00:20<00:20, 1.44KFile/s]"
     ]
    },
    {
     "name": "stderr",
     "output_type": "stream",
     "text": [
      "\rExtracting mnist:  50%|█████     | 30.2K/60.0K [00:20<00:21, 1.38KFile/s]"
     ]
    },
    {
     "name": "stderr",
     "output_type": "stream",
     "text": [
      "\rExtracting mnist:  51%|█████     | 30.3K/60.0K [00:20<00:21, 1.39KFile/s]"
     ]
    },
    {
     "name": "stderr",
     "output_type": "stream",
     "text": [
      "\rExtracting mnist:  51%|█████     | 30.5K/60.0K [00:20<00:22, 1.34KFile/s]"
     ]
    },
    {
     "name": "stderr",
     "output_type": "stream",
     "text": [
      "\rExtracting mnist:  51%|█████     | 30.6K/60.0K [00:20<00:22, 1.28KFile/s]"
     ]
    },
    {
     "name": "stderr",
     "output_type": "stream",
     "text": [
      "\rExtracting mnist:  51%|█████     | 30.7K/60.0K [00:20<00:21, 1.34KFile/s]"
     ]
    },
    {
     "name": "stderr",
     "output_type": "stream",
     "text": [
      "\rExtracting mnist:  51%|█████▏    | 30.9K/60.0K [00:20<00:22, 1.30KFile/s]"
     ]
    },
    {
     "name": "stderr",
     "output_type": "stream",
     "text": [
      "\rExtracting mnist:  52%|█████▏    | 31.0K/60.0K [00:20<00:21, 1.32KFile/s]"
     ]
    },
    {
     "name": "stderr",
     "output_type": "stream",
     "text": [
      "\rExtracting mnist:  52%|█████▏    | 31.0K/60.0K [00:20<00:32, 883File/s]  "
     ]
    },
    {
     "name": "stderr",
     "output_type": "stream",
     "text": [
      "\rExtracting mnist:  52%|█████▏    | 31.1K/60.0K [00:21<00:35, 814File/s]"
     ]
    },
    {
     "name": "stderr",
     "output_type": "stream",
     "text": [
      "\rExtracting mnist:  52%|█████▏    | 31.3K/60.0K [00:21<00:29, 962File/s]"
     ]
    },
    {
     "name": "stderr",
     "output_type": "stream",
     "text": [
      "\rExtracting mnist:  52%|█████▏    | 31.4K/60.0K [00:21<00:26, 1.08KFile/s]"
     ]
    },
    {
     "name": "stderr",
     "output_type": "stream",
     "text": [
      "\rExtracting mnist:  53%|█████▎    | 31.6K/60.0K [00:21<00:23, 1.19KFile/s]"
     ]
    },
    {
     "name": "stderr",
     "output_type": "stream",
     "text": [
      "\rExtracting mnist:  53%|█████▎    | 31.7K/60.0K [00:21<00:22, 1.28KFile/s]"
     ]
    },
    {
     "name": "stderr",
     "output_type": "stream",
     "text": [
      "\rExtracting mnist:  53%|█████▎    | 31.9K/60.0K [00:21<00:22, 1.25KFile/s]"
     ]
    },
    {
     "name": "stderr",
     "output_type": "stream",
     "text": [
      "\rExtracting mnist:  53%|█████▎    | 32.0K/60.0K [00:21<00:21, 1.30KFile/s]"
     ]
    },
    {
     "name": "stderr",
     "output_type": "stream",
     "text": [
      "\rExtracting mnist:  54%|█████▎    | 32.1K/60.0K [00:21<00:22, 1.25KFile/s]"
     ]
    },
    {
     "name": "stderr",
     "output_type": "stream",
     "text": [
      "\rExtracting mnist:  54%|█████▎    | 32.2K/60.0K [00:21<00:23, 1.16KFile/s]"
     ]
    },
    {
     "name": "stderr",
     "output_type": "stream",
     "text": [
      "\rExtracting mnist:  54%|█████▍    | 32.3K/60.0K [00:21<00:28, 956File/s]  "
     ]
    },
    {
     "name": "stderr",
     "output_type": "stream",
     "text": [
      "\rExtracting mnist:  54%|█████▍    | 32.3K/60.0K [00:22<00:49, 564File/s]"
     ]
    },
    {
     "name": "stderr",
     "output_type": "stream",
     "text": [
      "\rExtracting mnist:  54%|█████▍    | 32.4K/60.0K [00:22<00:46, 590File/s]"
     ]
    },
    {
     "name": "stderr",
     "output_type": "stream",
     "text": [
      "\rExtracting mnist:  54%|█████▍    | 32.5K/60.0K [00:22<00:38, 715File/s]"
     ]
    },
    {
     "name": "stderr",
     "output_type": "stream",
     "text": [
      "\rExtracting mnist:  54%|█████▍    | 32.7K/60.0K [00:22<00:32, 846File/s]"
     ]
    },
    {
     "name": "stderr",
     "output_type": "stream",
     "text": [
      "\rExtracting mnist:  55%|█████▍    | 32.8K/60.0K [00:22<00:28, 950File/s]"
     ]
    },
    {
     "name": "stderr",
     "output_type": "stream",
     "text": [
      "\rExtracting mnist:  55%|█████▍    | 32.9K/60.0K [00:22<00:28, 958File/s]"
     ]
    },
    {
     "name": "stderr",
     "output_type": "stream",
     "text": [
      "\rExtracting mnist:  55%|█████▌    | 33.1K/60.0K [00:22<00:25, 1.06KFile/s]"
     ]
    },
    {
     "name": "stderr",
     "output_type": "stream",
     "text": [
      "\rExtracting mnist:  55%|█████▌    | 33.1K/60.0K [00:22<00:37, 717File/s]  "
     ]
    },
    {
     "name": "stderr",
     "output_type": "stream",
     "text": [
      "\rExtracting mnist:  55%|█████▌    | 33.2K/60.0K [00:22<00:32, 835File/s]"
     ]
    },
    {
     "name": "stderr",
     "output_type": "stream",
     "text": [
      "\rExtracting mnist:  56%|█████▌    | 33.3K/60.0K [00:22<00:30, 882File/s]"
     ]
    },
    {
     "name": "stderr",
     "output_type": "stream",
     "text": [
      "\rExtracting mnist:  56%|█████▌    | 33.4K/60.0K [00:23<00:32, 828File/s]"
     ]
    },
    {
     "name": "stderr",
     "output_type": "stream",
     "text": [
      "\rExtracting mnist:  56%|█████▌    | 33.6K/60.0K [00:23<00:27, 950File/s]"
     ]
    },
    {
     "name": "stderr",
     "output_type": "stream",
     "text": [
      "\rExtracting mnist:  56%|█████▌    | 33.7K/60.0K [00:23<00:26, 1.01KFile/s]"
     ]
    },
    {
     "name": "stderr",
     "output_type": "stream",
     "text": [
      "\rExtracting mnist:  56%|█████▌    | 33.7K/60.0K [00:23<00:35, 731File/s]  "
     ]
    },
    {
     "name": "stderr",
     "output_type": "stream",
     "text": [
      "\rExtracting mnist:  56%|█████▌    | 33.7K/60.0K [00:23<01:14, 353File/s]"
     ]
    },
    {
     "name": "stderr",
     "output_type": "stream",
     "text": [
      "\rExtracting mnist:  56%|█████▋    | 33.8K/60.0K [00:23<01:06, 394File/s]"
     ]
    },
    {
     "name": "stderr",
     "output_type": "stream",
     "text": [
      "\rExtracting mnist:  57%|█████▋    | 33.9K/60.0K [00:23<00:52, 492File/s]"
     ]
    },
    {
     "name": "stderr",
     "output_type": "stream",
     "text": [
      "\rExtracting mnist:  57%|█████▋    | 34.0K/60.0K [00:23<00:47, 552File/s]"
     ]
    },
    {
     "name": "stderr",
     "output_type": "stream",
     "text": [
      "\rExtracting mnist:  57%|█████▋    | 34.0K/60.0K [00:23<00:45, 566File/s]"
     ]
    },
    {
     "name": "stderr",
     "output_type": "stream",
     "text": [
      "\rExtracting mnist:  57%|█████▋    | 34.2K/60.0K [00:23<00:39, 651File/s]"
     ]
    },
    {
     "name": "stderr",
     "output_type": "stream",
     "text": [
      "\rExtracting mnist:  57%|█████▋    | 34.2K/60.0K [00:24<02:09, 199File/s]"
     ]
    },
    {
     "name": "stderr",
     "output_type": "stream",
     "text": [
      "\rExtracting mnist:  57%|█████▋    | 34.2K/60.0K [00:24<01:39, 258File/s]"
     ]
    },
    {
     "name": "stderr",
     "output_type": "stream",
     "text": [
      "\rExtracting mnist:  57%|█████▋    | 34.3K/60.0K [00:24<01:21, 315File/s]"
     ]
    },
    {
     "name": "stderr",
     "output_type": "stream",
     "text": [
      "\rExtracting mnist:  57%|█████▋    | 34.4K/60.0K [00:24<01:03, 402File/s]"
     ]
    },
    {
     "name": "stderr",
     "output_type": "stream",
     "text": [
      "\rExtracting mnist:  58%|█████▊    | 34.5K/60.0K [00:24<00:52, 489File/s]"
     ]
    },
    {
     "name": "stderr",
     "output_type": "stream",
     "text": [
      "\rExtracting mnist:  58%|█████▊    | 34.6K/60.0K [00:24<00:44, 569File/s]"
     ]
    },
    {
     "name": "stderr",
     "output_type": "stream",
     "text": [
      "\rExtracting mnist:  58%|█████▊    | 34.7K/60.0K [00:24<00:44, 571File/s]"
     ]
    },
    {
     "name": "stderr",
     "output_type": "stream",
     "text": [
      "\rExtracting mnist:  58%|█████▊    | 34.7K/60.0K [00:24<01:06, 382File/s]"
     ]
    },
    {
     "name": "stderr",
     "output_type": "stream",
     "text": [
      "\rExtracting mnist:  58%|█████▊    | 34.8K/60.0K [00:24<00:58, 432File/s]"
     ]
    },
    {
     "name": "stderr",
     "output_type": "stream",
     "text": [
      "\rExtracting mnist:  58%|█████▊    | 34.8K/60.0K [00:24<00:53, 472File/s]"
     ]
    },
    {
     "name": "stderr",
     "output_type": "stream",
     "text": [
      "\rExtracting mnist:  58%|█████▊    | 34.9K/60.0K [00:25<00:43, 576File/s]"
     ]
    },
    {
     "name": "stderr",
     "output_type": "stream",
     "text": [
      "\rExtracting mnist:  58%|█████▊    | 35.1K/60.0K [00:25<00:35, 709File/s]"
     ]
    },
    {
     "name": "stderr",
     "output_type": "stream",
     "text": [
      "\rExtracting mnist:  59%|█████▊    | 35.2K/60.0K [00:25<00:33, 734File/s]"
     ]
    },
    {
     "name": "stderr",
     "output_type": "stream",
     "text": [
      "\rExtracting mnist:  59%|█████▊    | 35.2K/60.0K [00:25<00:36, 680File/s]"
     ]
    },
    {
     "name": "stderr",
     "output_type": "stream",
     "text": [
      "\rExtracting mnist:  59%|█████▉    | 35.3K/60.0K [00:25<00:41, 594File/s]"
     ]
    },
    {
     "name": "stderr",
     "output_type": "stream",
     "text": [
      "\rExtracting mnist:  59%|█████▉    | 35.3K/60.0K [00:25<00:40, 609File/s]"
     ]
    },
    {
     "name": "stderr",
     "output_type": "stream",
     "text": [
      "\rExtracting mnist:  59%|█████▉    | 35.4K/60.0K [00:25<00:37, 654File/s]"
     ]
    },
    {
     "name": "stderr",
     "output_type": "stream",
     "text": [
      "\rExtracting mnist:  59%|█████▉    | 35.5K/60.0K [00:25<00:42, 577File/s]"
     ]
    },
    {
     "name": "stderr",
     "output_type": "stream",
     "text": [
      "\rExtracting mnist:  59%|█████▉    | 35.5K/60.0K [00:25<00:40, 602File/s]"
     ]
    },
    {
     "name": "stderr",
     "output_type": "stream",
     "text": [
      "\rExtracting mnist:  59%|█████▉    | 35.6K/60.0K [00:25<00:38, 626File/s]"
     ]
    },
    {
     "name": "stderr",
     "output_type": "stream",
     "text": [
      "\rExtracting mnist:  59%|█████▉    | 35.7K/60.0K [00:26<00:37, 647File/s]"
     ]
    },
    {
     "name": "stderr",
     "output_type": "stream",
     "text": [
      "\rExtracting mnist:  60%|█████▉    | 35.8K/60.0K [00:26<00:35, 677File/s]"
     ]
    },
    {
     "name": "stderr",
     "output_type": "stream",
     "text": [
      "\rExtracting mnist:  60%|█████▉    | 35.8K/60.0K [00:26<00:32, 739File/s]"
     ]
    },
    {
     "name": "stderr",
     "output_type": "stream",
     "text": [
      "\rExtracting mnist:  60%|█████▉    | 36.0K/60.0K [00:26<00:28, 852File/s]"
     ]
    },
    {
     "name": "stderr",
     "output_type": "stream",
     "text": [
      "\rExtracting mnist:  60%|██████    | 36.0K/60.0K [00:26<00:40, 597File/s]"
     ]
    },
    {
     "name": "stderr",
     "output_type": "stream",
     "text": [
      "\rExtracting mnist:  60%|██████    | 36.1K/60.0K [00:26<00:39, 609File/s]"
     ]
    },
    {
     "name": "stderr",
     "output_type": "stream",
     "text": [
      "\rExtracting mnist:  60%|██████    | 36.2K/60.0K [00:26<00:36, 658File/s]"
     ]
    },
    {
     "name": "stderr",
     "output_type": "stream",
     "text": [
      "\rExtracting mnist:  60%|██████    | 36.3K/60.0K [00:26<00:31, 758File/s]"
     ]
    },
    {
     "name": "stderr",
     "output_type": "stream",
     "text": [
      "\rExtracting mnist:  61%|██████    | 36.4K/60.0K [00:26<00:26, 887File/s]"
     ]
    },
    {
     "name": "stderr",
     "output_type": "stream",
     "text": [
      "\rExtracting mnist:  61%|██████    | 36.5K/60.0K [00:26<00:24, 960File/s]"
     ]
    },
    {
     "name": "stderr",
     "output_type": "stream",
     "text": [
      "\rExtracting mnist:  61%|██████    | 36.7K/60.0K [00:27<00:21, 1.08KFile/s]"
     ]
    },
    {
     "name": "stderr",
     "output_type": "stream",
     "text": [
      "\rExtracting mnist:  61%|██████▏   | 36.8K/60.0K [00:27<00:20, 1.13KFile/s]"
     ]
    },
    {
     "name": "stderr",
     "output_type": "stream",
     "text": [
      "\rExtracting mnist:  62%|██████▏   | 36.9K/60.0K [00:27<00:23, 965File/s]  "
     ]
    },
    {
     "name": "stderr",
     "output_type": "stream",
     "text": [
      "\rExtracting mnist:  62%|██████▏   | 37.1K/60.0K [00:27<00:20, 1.10KFile/s]"
     ]
    },
    {
     "name": "stderr",
     "output_type": "stream",
     "text": [
      "\rExtracting mnist:  62%|██████▏   | 37.2K/60.0K [00:27<00:18, 1.20KFile/s]"
     ]
    },
    {
     "name": "stderr",
     "output_type": "stream",
     "text": [
      "\rExtracting mnist:  62%|██████▏   | 37.4K/60.0K [00:27<00:17, 1.31KFile/s]"
     ]
    },
    {
     "name": "stderr",
     "output_type": "stream",
     "text": [
      "\rExtracting mnist:  63%|██████▎   | 37.6K/60.0K [00:27<00:16, 1.40KFile/s]"
     ]
    },
    {
     "name": "stderr",
     "output_type": "stream",
     "text": [
      "\rExtracting mnist:  63%|██████▎   | 37.6K/60.0K [00:27<00:22, 1.01KFile/s]"
     ]
    },
    {
     "name": "stderr",
     "output_type": "stream",
     "text": [
      "\rExtracting mnist:  63%|██████▎   | 37.7K/60.0K [00:27<00:24, 917File/s]  "
     ]
    },
    {
     "name": "stderr",
     "output_type": "stream",
     "text": [
      "\rExtracting mnist:  63%|██████▎   | 37.8K/60.0K [00:27<00:23, 936File/s]"
     ]
    },
    {
     "name": "stderr",
     "output_type": "stream",
     "text": [
      "\rExtracting mnist:  63%|██████▎   | 38.0K/60.0K [00:28<00:20, 1.07KFile/s]"
     ]
    },
    {
     "name": "stderr",
     "output_type": "stream",
     "text": [
      "\rExtracting mnist:  64%|██████▎   | 38.1K/60.0K [00:28<00:18, 1.18KFile/s]"
     ]
    },
    {
     "name": "stderr",
     "output_type": "stream",
     "text": [
      "\rExtracting mnist:  64%|██████▎   | 38.2K/60.0K [00:28<00:18, 1.15KFile/s]"
     ]
    },
    {
     "name": "stderr",
     "output_type": "stream",
     "text": [
      "\rExtracting mnist:  64%|██████▍   | 38.4K/60.0K [00:28<00:17, 1.26KFile/s]"
     ]
    },
    {
     "name": "stderr",
     "output_type": "stream",
     "text": [
      "\rExtracting mnist:  64%|██████▍   | 38.5K/60.0K [00:28<00:17, 1.23KFile/s]"
     ]
    },
    {
     "name": "stderr",
     "output_type": "stream",
     "text": [
      "\rExtracting mnist:  64%|██████▍   | 38.7K/60.0K [00:28<00:16, 1.32KFile/s]"
     ]
    },
    {
     "name": "stderr",
     "output_type": "stream",
     "text": [
      "\rExtracting mnist:  65%|██████▍   | 38.8K/60.0K [00:28<00:15, 1.40KFile/s]"
     ]
    },
    {
     "name": "stderr",
     "output_type": "stream",
     "text": [
      "\rExtracting mnist:  65%|██████▍   | 39.0K/60.0K [00:28<00:14, 1.43KFile/s]"
     ]
    },
    {
     "name": "stderr",
     "output_type": "stream",
     "text": [
      "\rExtracting mnist:  65%|██████▌   | 39.1K/60.0K [00:28<00:13, 1.52KFile/s]"
     ]
    },
    {
     "name": "stderr",
     "output_type": "stream",
     "text": [
      "\rExtracting mnist:  65%|██████▌   | 39.3K/60.0K [00:28<00:14, 1.45KFile/s]"
     ]
    },
    {
     "name": "stderr",
     "output_type": "stream",
     "text": [
      "\rExtracting mnist:  66%|██████▌   | 39.4K/60.0K [00:29<00:13, 1.50KFile/s]"
     ]
    },
    {
     "name": "stderr",
     "output_type": "stream",
     "text": [
      "\rExtracting mnist:  66%|██████▌   | 39.6K/60.0K [00:29<00:13, 1.52KFile/s]"
     ]
    },
    {
     "name": "stderr",
     "output_type": "stream",
     "text": [
      "\rExtracting mnist:  66%|██████▌   | 39.7K/60.0K [00:29<00:14, 1.42KFile/s]"
     ]
    },
    {
     "name": "stderr",
     "output_type": "stream",
     "text": [
      "\rExtracting mnist:  66%|██████▋   | 39.9K/60.0K [00:29<00:13, 1.49KFile/s]"
     ]
    },
    {
     "name": "stderr",
     "output_type": "stream",
     "text": [
      "\rExtracting mnist:  67%|██████▋   | 40.0K/60.0K [00:29<00:13, 1.44KFile/s]"
     ]
    },
    {
     "name": "stderr",
     "output_type": "stream",
     "text": [
      "\rExtracting mnist:  67%|██████▋   | 40.2K/60.0K [00:29<00:12, 1.53KFile/s]"
     ]
    },
    {
     "name": "stderr",
     "output_type": "stream",
     "text": [
      "\rExtracting mnist:  67%|██████▋   | 40.4K/60.0K [00:29<00:11, 1.64KFile/s]"
     ]
    },
    {
     "name": "stderr",
     "output_type": "stream",
     "text": [
      "\rExtracting mnist:  68%|██████▊   | 40.6K/60.0K [00:29<00:11, 1.65KFile/s]"
     ]
    },
    {
     "name": "stderr",
     "output_type": "stream",
     "text": [
      "\rExtracting mnist:  68%|██████▊   | 40.8K/60.0K [00:29<00:11, 1.72KFile/s]"
     ]
    },
    {
     "name": "stderr",
     "output_type": "stream",
     "text": [
      "\rExtracting mnist:  68%|██████▊   | 40.9K/60.0K [00:29<00:12, 1.58KFile/s]"
     ]
    },
    {
     "name": "stderr",
     "output_type": "stream",
     "text": [
      "\rExtracting mnist:  68%|██████▊   | 41.1K/60.0K [00:30<00:11, 1.65KFile/s]"
     ]
    },
    {
     "name": "stderr",
     "output_type": "stream",
     "text": [
      "\rExtracting mnist:  69%|██████▉   | 41.3K/60.0K [00:30<00:11, 1.67KFile/s]"
     ]
    },
    {
     "name": "stderr",
     "output_type": "stream",
     "text": [
      "\rExtracting mnist:  69%|██████▉   | 41.3K/60.0K [00:30<00:15, 1.24KFile/s]"
     ]
    },
    {
     "name": "stderr",
     "output_type": "stream",
     "text": [
      "\rExtracting mnist:  69%|██████▉   | 41.5K/60.0K [00:30<00:13, 1.38KFile/s]"
     ]
    },
    {
     "name": "stderr",
     "output_type": "stream",
     "text": [
      "\rExtracting mnist:  69%|██████▉   | 41.7K/60.0K [00:30<00:13, 1.37KFile/s]"
     ]
    },
    {
     "name": "stderr",
     "output_type": "stream",
     "text": [
      "\rExtracting mnist:  70%|██████▉   | 41.8K/60.0K [00:30<00:12, 1.49KFile/s]"
     ]
    },
    {
     "name": "stderr",
     "output_type": "stream",
     "text": [
      "\rExtracting mnist:  70%|███████   | 42.0K/60.0K [00:30<00:11, 1.54KFile/s]"
     ]
    },
    {
     "name": "stderr",
     "output_type": "stream",
     "text": [
      "\rExtracting mnist:  70%|███████   | 42.2K/60.0K [00:30<00:11, 1.55KFile/s]"
     ]
    },
    {
     "name": "stderr",
     "output_type": "stream",
     "text": [
      "\rExtracting mnist:  71%|███████   | 42.4K/60.0K [00:30<00:10, 1.62KFile/s]"
     ]
    },
    {
     "name": "stderr",
     "output_type": "stream",
     "text": [
      "\rExtracting mnist:  71%|███████   | 42.5K/60.0K [00:30<00:11, 1.59KFile/s]"
     ]
    },
    {
     "name": "stderr",
     "output_type": "stream",
     "text": [
      "\rExtracting mnist:  71%|███████   | 42.7K/60.0K [00:31<00:10, 1.63KFile/s]"
     ]
    },
    {
     "name": "stderr",
     "output_type": "stream",
     "text": [
      "\rExtracting mnist:  71%|███████▏  | 42.9K/60.0K [00:31<00:10, 1.66KFile/s]"
     ]
    },
    {
     "name": "stderr",
     "output_type": "stream",
     "text": [
      "\rExtracting mnist:  72%|███████▏  | 43.0K/60.0K [00:31<00:10, 1.64KFile/s]"
     ]
    },
    {
     "name": "stderr",
     "output_type": "stream",
     "text": [
      "\rExtracting mnist:  72%|███████▏  | 43.2K/60.0K [00:31<00:09, 1.70KFile/s]"
     ]
    },
    {
     "name": "stderr",
     "output_type": "stream",
     "text": [
      "\rExtracting mnist:  72%|███████▏  | 43.4K/60.0K [00:31<00:09, 1.67KFile/s]"
     ]
    },
    {
     "name": "stderr",
     "output_type": "stream",
     "text": [
      "\rExtracting mnist:  73%|███████▎  | 43.5K/60.0K [00:31<00:09, 1.71KFile/s]"
     ]
    },
    {
     "name": "stderr",
     "output_type": "stream",
     "text": [
      "\rExtracting mnist:  73%|███████▎  | 43.7K/60.0K [00:31<00:09, 1.71KFile/s]"
     ]
    },
    {
     "name": "stderr",
     "output_type": "stream",
     "text": [
      "\rExtracting mnist:  73%|███████▎  | 43.9K/60.0K [00:31<00:09, 1.65KFile/s]"
     ]
    },
    {
     "name": "stderr",
     "output_type": "stream",
     "text": [
      "\rExtracting mnist:  73%|███████▎  | 44.0K/60.0K [00:31<00:09, 1.69KFile/s]"
     ]
    },
    {
     "name": "stderr",
     "output_type": "stream",
     "text": [
      "\rExtracting mnist:  74%|███████▎  | 44.2K/60.0K [00:31<00:09, 1.68KFile/s]"
     ]
    },
    {
     "name": "stderr",
     "output_type": "stream",
     "text": [
      "\rExtracting mnist:  74%|███████▍  | 44.4K/60.0K [00:32<00:09, 1.72KFile/s]"
     ]
    },
    {
     "name": "stderr",
     "output_type": "stream",
     "text": [
      "\rExtracting mnist:  74%|███████▍  | 44.6K/60.0K [00:32<00:08, 1.74KFile/s]"
     ]
    },
    {
     "name": "stderr",
     "output_type": "stream",
     "text": [
      "\rExtracting mnist:  75%|███████▍  | 44.7K/60.0K [00:32<00:09, 1.67KFile/s]"
     ]
    },
    {
     "name": "stderr",
     "output_type": "stream",
     "text": [
      "\rExtracting mnist:  75%|███████▍  | 44.9K/60.0K [00:32<00:08, 1.70KFile/s]"
     ]
    },
    {
     "name": "stderr",
     "output_type": "stream",
     "text": [
      "\rExtracting mnist:  75%|███████▌  | 45.0K/60.0K [00:32<00:09, 1.61KFile/s]"
     ]
    },
    {
     "name": "stderr",
     "output_type": "stream",
     "text": [
      "\rExtracting mnist:  75%|███████▌  | 45.2K/60.0K [00:32<00:09, 1.57KFile/s]"
     ]
    },
    {
     "name": "stderr",
     "output_type": "stream",
     "text": [
      "\rExtracting mnist:  76%|███████▌  | 45.4K/60.0K [00:32<00:09, 1.56KFile/s]"
     ]
    },
    {
     "name": "stderr",
     "output_type": "stream",
     "text": [
      "\rExtracting mnist:  76%|███████▌  | 45.5K/60.0K [00:32<00:09, 1.52KFile/s]"
     ]
    },
    {
     "name": "stderr",
     "output_type": "stream",
     "text": [
      "\rExtracting mnist:  76%|███████▌  | 45.7K/60.0K [00:32<00:09, 1.56KFile/s]"
     ]
    },
    {
     "name": "stderr",
     "output_type": "stream",
     "text": [
      "\rExtracting mnist:  76%|███████▋  | 45.8K/60.0K [00:32<00:09, 1.46KFile/s]"
     ]
    },
    {
     "name": "stderr",
     "output_type": "stream",
     "text": [
      "\rExtracting mnist:  77%|███████▋  | 46.0K/60.0K [00:33<00:09, 1.53KFile/s]"
     ]
    },
    {
     "name": "stderr",
     "output_type": "stream",
     "text": [
      "\rExtracting mnist:  77%|███████▋  | 46.1K/60.0K [00:33<00:09, 1.52KFile/s]"
     ]
    },
    {
     "name": "stderr",
     "output_type": "stream",
     "text": [
      "\rExtracting mnist:  77%|███████▋  | 46.2K/60.0K [00:33<00:09, 1.42KFile/s]"
     ]
    },
    {
     "name": "stderr",
     "output_type": "stream",
     "text": [
      "\rExtracting mnist:  77%|███████▋  | 46.4K/60.0K [00:33<00:09, 1.48KFile/s]"
     ]
    },
    {
     "name": "stderr",
     "output_type": "stream",
     "text": [
      "\rExtracting mnist:  78%|███████▊  | 46.5K/60.0K [00:33<00:10, 1.35KFile/s]"
     ]
    },
    {
     "name": "stderr",
     "output_type": "stream",
     "text": [
      "\rExtracting mnist:  78%|███████▊  | 46.6K/60.0K [00:33<00:10, 1.24KFile/s]"
     ]
    },
    {
     "name": "stderr",
     "output_type": "stream",
     "text": [
      "\rExtracting mnist:  78%|███████▊  | 46.8K/60.0K [00:33<00:10, 1.26KFile/s]"
     ]
    },
    {
     "name": "stderr",
     "output_type": "stream",
     "text": [
      "\rExtracting mnist:  78%|███████▊  | 46.9K/60.0K [00:33<00:10, 1.20KFile/s]"
     ]
    },
    {
     "name": "stderr",
     "output_type": "stream",
     "text": [
      "\rExtracting mnist:  78%|███████▊  | 47.0K/60.0K [00:33<00:10, 1.26KFile/s]"
     ]
    },
    {
     "name": "stderr",
     "output_type": "stream",
     "text": [
      "\rExtracting mnist:  78%|███████▊  | 47.1K/60.0K [00:34<00:13, 956File/s]  "
     ]
    },
    {
     "name": "stderr",
     "output_type": "stream",
     "text": [
      "\rExtracting mnist:  79%|███████▊  | 47.2K/60.0K [00:34<00:12, 1.05KFile/s]"
     ]
    },
    {
     "name": "stderr",
     "output_type": "stream",
     "text": [
      "\rExtracting mnist:  79%|███████▉  | 47.3K/60.0K [00:34<00:12, 1.04KFile/s]"
     ]
    },
    {
     "name": "stderr",
     "output_type": "stream",
     "text": [
      "\rExtracting mnist:  79%|███████▉  | 47.4K/60.0K [00:34<00:16, 754File/s]  "
     ]
    },
    {
     "name": "stderr",
     "output_type": "stream",
     "text": [
      "\rExtracting mnist:  79%|███████▉  | 47.4K/60.0K [00:34<00:17, 739File/s]"
     ]
    },
    {
     "name": "stderr",
     "output_type": "stream",
     "text": [
      "\rExtracting mnist:  79%|███████▉  | 47.5K/60.0K [00:34<00:27, 453File/s]"
     ]
    },
    {
     "name": "stderr",
     "output_type": "stream",
     "text": [
      "\rExtracting mnist:  79%|███████▉  | 47.6K/60.0K [00:34<00:24, 505File/s]"
     ]
    },
    {
     "name": "stderr",
     "output_type": "stream",
     "text": [
      "\rExtracting mnist:  79%|███████▉  | 47.6K/60.0K [00:34<00:29, 414File/s]"
     ]
    },
    {
     "name": "stderr",
     "output_type": "stream",
     "text": [
      "\rExtracting mnist:  80%|███████▉  | 47.7K/60.0K [00:34<00:23, 514File/s]"
     ]
    },
    {
     "name": "stderr",
     "output_type": "stream",
     "text": [
      "\rExtracting mnist:  80%|███████▉  | 47.8K/60.0K [00:34<00:24, 505File/s]"
     ]
    },
    {
     "name": "stderr",
     "output_type": "stream",
     "text": [
      "\rExtracting mnist:  80%|███████▉  | 47.8K/60.0K [00:35<00:22, 534File/s]"
     ]
    },
    {
     "name": "stderr",
     "output_type": "stream",
     "text": [
      "\rExtracting mnist:  80%|███████▉  | 47.9K/60.0K [00:35<00:20, 590File/s]"
     ]
    },
    {
     "name": "stderr",
     "output_type": "stream",
     "text": [
      "\rExtracting mnist:  80%|███████▉  | 48.0K/60.0K [00:35<00:20, 590File/s]"
     ]
    },
    {
     "name": "stderr",
     "output_type": "stream",
     "text": [
      "\rExtracting mnist:  80%|████████  | 48.1K/60.0K [00:35<00:16, 702File/s]"
     ]
    },
    {
     "name": "stderr",
     "output_type": "stream",
     "text": [
      "\rExtracting mnist:  80%|████████  | 48.1K/60.0K [00:35<01:05, 182File/s]"
     ]
    },
    {
     "name": "stderr",
     "output_type": "stream",
     "text": [
      "\rExtracting mnist:  80%|████████  | 48.2K/60.0K [00:35<00:48, 245File/s]"
     ]
    },
    {
     "name": "stderr",
     "output_type": "stream",
     "text": [
      "\rExtracting mnist:  81%|████████  | 48.3K/60.0K [00:35<00:37, 309File/s]"
     ]
    },
    {
     "name": "stderr",
     "output_type": "stream",
     "text": [
      "\rExtracting mnist:  81%|████████  | 48.4K/60.0K [00:35<00:30, 381File/s]"
     ]
    },
    {
     "name": "stderr",
     "output_type": "stream",
     "text": [
      "\rExtracting mnist:  81%|████████  | 48.5K/60.0K [00:35<00:24, 465File/s]"
     ]
    },
    {
     "name": "stderr",
     "output_type": "stream",
     "text": [
      "\rExtracting mnist:  81%|████████  | 48.6K/60.0K [00:36<00:20, 549File/s]"
     ]
    },
    {
     "name": "stderr",
     "output_type": "stream",
     "text": [
      "\rExtracting mnist:  81%|████████  | 48.7K/60.0K [00:36<00:17, 661File/s]"
     ]
    },
    {
     "name": "stderr",
     "output_type": "stream",
     "text": [
      "\rExtracting mnist:  81%|████████▏ | 48.8K/60.0K [00:36<00:15, 729File/s]"
     ]
    },
    {
     "name": "stderr",
     "output_type": "stream",
     "text": [
      "\rExtracting mnist:  82%|████████▏ | 49.0K/60.0K [00:36<00:13, 843File/s]"
     ]
    },
    {
     "name": "stderr",
     "output_type": "stream",
     "text": [
      "\rExtracting mnist:  82%|████████▏ | 49.1K/60.0K [00:36<00:11, 974File/s]"
     ]
    },
    {
     "name": "stderr",
     "output_type": "stream",
     "text": [
      "\rExtracting mnist:  82%|████████▏ | 49.3K/60.0K [00:36<00:10, 1.07KFile/s]"
     ]
    },
    {
     "name": "stderr",
     "output_type": "stream",
     "text": [
      "\rExtracting mnist:  82%|████████▏ | 49.4K/60.0K [00:36<00:08, 1.20KFile/s]"
     ]
    },
    {
     "name": "stderr",
     "output_type": "stream",
     "text": [
      "\rExtracting mnist:  83%|████████▎ | 49.6K/60.0K [00:36<00:08, 1.22KFile/s]"
     ]
    },
    {
     "name": "stderr",
     "output_type": "stream",
     "text": [
      "\rExtracting mnist:  83%|████████▎ | 49.7K/60.0K [00:36<00:07, 1.31KFile/s]"
     ]
    },
    {
     "name": "stderr",
     "output_type": "stream",
     "text": [
      "\rExtracting mnist:  83%|████████▎ | 49.9K/60.0K [00:36<00:07, 1.39KFile/s]"
     ]
    },
    {
     "name": "stderr",
     "output_type": "stream",
     "text": [
      "\rExtracting mnist:  83%|████████▎ | 50.0K/60.0K [00:37<00:07, 1.32KFile/s]"
     ]
    },
    {
     "name": "stderr",
     "output_type": "stream",
     "text": [
      "\rExtracting mnist:  84%|████████▎ | 50.2K/60.0K [00:37<00:07, 1.40KFile/s]"
     ]
    },
    {
     "name": "stderr",
     "output_type": "stream",
     "text": [
      "\rExtracting mnist:  84%|████████▍ | 50.2K/60.0K [00:37<00:08, 1.20KFile/s]"
     ]
    },
    {
     "name": "stderr",
     "output_type": "stream",
     "text": [
      "\rExtracting mnist:  84%|████████▍ | 50.4K/60.0K [00:37<00:07, 1.24KFile/s]"
     ]
    },
    {
     "name": "stderr",
     "output_type": "stream",
     "text": [
      "\rExtracting mnist:  84%|████████▍ | 50.5K/60.0K [00:37<00:07, 1.32KFile/s]"
     ]
    },
    {
     "name": "stderr",
     "output_type": "stream",
     "text": [
      "\rExtracting mnist:  84%|████████▍ | 50.6K/60.0K [00:37<00:07, 1.21KFile/s]"
     ]
    },
    {
     "name": "stderr",
     "output_type": "stream",
     "text": [
      "\rExtracting mnist:  85%|████████▍ | 50.7K/60.0K [00:37<00:09, 955File/s]  "
     ]
    },
    {
     "name": "stderr",
     "output_type": "stream",
     "text": [
      "\rExtracting mnist:  85%|████████▍ | 50.9K/60.0K [00:37<00:08, 1.05KFile/s]"
     ]
    },
    {
     "name": "stderr",
     "output_type": "stream",
     "text": [
      "\rExtracting mnist:  85%|████████▌ | 51.0K/60.0K [00:37<00:07, 1.16KFile/s]"
     ]
    },
    {
     "name": "stderr",
     "output_type": "stream",
     "text": [
      "\rExtracting mnist:  85%|████████▌ | 51.1K/60.0K [00:37<00:07, 1.15KFile/s]"
     ]
    },
    {
     "name": "stderr",
     "output_type": "stream",
     "text": [
      "\rExtracting mnist:  85%|████████▌ | 51.2K/60.0K [00:38<00:10, 844File/s]  "
     ]
    },
    {
     "name": "stderr",
     "output_type": "stream",
     "text": [
      "\rExtracting mnist:  85%|████████▌ | 51.3K/60.0K [00:38<00:10, 873File/s]"
     ]
    },
    {
     "name": "stderr",
     "output_type": "stream",
     "text": [
      "\rExtracting mnist:  86%|████████▌ | 51.3K/60.0K [00:38<00:12, 707File/s]"
     ]
    },
    {
     "name": "stderr",
     "output_type": "stream",
     "text": [
      "\rExtracting mnist:  86%|████████▌ | 51.5K/60.0K [00:38<00:10, 830File/s]"
     ]
    },
    {
     "name": "stderr",
     "output_type": "stream",
     "text": [
      "\rExtracting mnist:  86%|████████▌ | 51.6K/60.0K [00:38<00:09, 904File/s]"
     ]
    },
    {
     "name": "stderr",
     "output_type": "stream",
     "text": [
      "\rExtracting mnist:  86%|████████▌ | 51.7K/60.0K [00:38<00:09, 877File/s]"
     ]
    },
    {
     "name": "stderr",
     "output_type": "stream",
     "text": [
      "\rExtracting mnist:  86%|████████▌ | 51.7K/60.0K [00:38<00:12, 682File/s]"
     ]
    },
    {
     "name": "stderr",
     "output_type": "stream",
     "text": [
      "\rExtracting mnist:  86%|████████▋ | 51.8K/60.0K [00:38<00:11, 715File/s]"
     ]
    },
    {
     "name": "stderr",
     "output_type": "stream",
     "text": [
      "\rExtracting mnist:  86%|████████▋ | 51.9K/60.0K [00:38<00:11, 708File/s]"
     ]
    },
    {
     "name": "stderr",
     "output_type": "stream",
     "text": [
      "\rExtracting mnist:  86%|████████▋ | 51.9K/60.0K [00:38<00:17, 452File/s]"
     ]
    },
    {
     "name": "stderr",
     "output_type": "stream",
     "text": [
      "\rExtracting mnist:  86%|████████▋ | 51.9K/60.0K [00:39<04:33, 29.7File/s]"
     ]
    },
    {
     "name": "stderr",
     "output_type": "stream",
     "text": [
      "\rExtracting mnist:  87%|████████▋ | 51.9K/60.0K [00:39<03:17, 41.0File/s]"
     ]
    },
    {
     "name": "stderr",
     "output_type": "stream",
     "text": [
      "\rExtracting mnist:  87%|████████▋ | 51.9K/60.0K [00:39<02:28, 54.2File/s]"
     ]
    },
    {
     "name": "stderr",
     "output_type": "stream",
     "text": [
      "\rExtracting mnist:  87%|████████▋ | 52.0K/60.0K [00:39<01:53, 70.7File/s]"
     ]
    },
    {
     "name": "stderr",
     "output_type": "stream",
     "text": [
      "\rExtracting mnist:  87%|████████▋ | 52.0K/60.0K [00:39<01:22, 96.1File/s]"
     ]
    },
    {
     "name": "stderr",
     "output_type": "stream",
     "text": [
      "\rExtracting mnist:  87%|████████▋ | 52.1K/60.0K [00:39<01:03, 124File/s] "
     ]
    },
    {
     "name": "stderr",
     "output_type": "stream",
     "text": [
      "\rExtracting mnist:  87%|████████▋ | 52.1K/60.0K [00:39<00:51, 155File/s]"
     ]
    },
    {
     "name": "stderr",
     "output_type": "stream",
     "text": [
      "\rExtracting mnist:  87%|████████▋ | 52.2K/60.0K [00:39<00:40, 192File/s]"
     ]
    },
    {
     "name": "stderr",
     "output_type": "stream",
     "text": [
      "\rExtracting mnist:  87%|████████▋ | 52.2K/60.0K [00:39<00:35, 222File/s]"
     ]
    },
    {
     "name": "stderr",
     "output_type": "stream",
     "text": [
      "\rExtracting mnist:  87%|████████▋ | 52.2K/60.0K [00:40<00:31, 249File/s]"
     ]
    },
    {
     "name": "stderr",
     "output_type": "stream",
     "text": [
      "\rExtracting mnist:  87%|████████▋ | 52.3K/60.0K [00:40<00:32, 242File/s]"
     ]
    },
    {
     "name": "stderr",
     "output_type": "stream",
     "text": [
      "\rExtracting mnist:  87%|████████▋ | 52.3K/60.0K [00:40<00:26, 286File/s]"
     ]
    },
    {
     "name": "stderr",
     "output_type": "stream",
     "text": [
      "\rExtracting mnist:  87%|████████▋ | 52.4K/60.0K [00:40<00:22, 336File/s]"
     ]
    },
    {
     "name": "stderr",
     "output_type": "stream",
     "text": [
      "\rExtracting mnist:  87%|████████▋ | 52.4K/60.0K [00:40<00:23, 317File/s]"
     ]
    },
    {
     "name": "stderr",
     "output_type": "stream",
     "text": [
      "\rExtracting mnist:  87%|████████▋ | 52.5K/60.0K [00:40<00:20, 373File/s]"
     ]
    },
    {
     "name": "stderr",
     "output_type": "stream",
     "text": [
      "\rExtracting mnist:  88%|████████▊ | 52.5K/60.0K [00:40<00:16, 447File/s]"
     ]
    },
    {
     "name": "stderr",
     "output_type": "stream",
     "text": [
      "\rExtracting mnist:  88%|████████▊ | 52.6K/60.0K [00:40<00:14, 512File/s]"
     ]
    },
    {
     "name": "stderr",
     "output_type": "stream",
     "text": [
      "\rExtracting mnist:  88%|████████▊ | 52.7K/60.0K [00:40<00:11, 614File/s]"
     ]
    },
    {
     "name": "stderr",
     "output_type": "stream",
     "text": [
      "\rExtracting mnist:  88%|████████▊ | 52.8K/60.0K [00:41<00:16, 437File/s]"
     ]
    },
    {
     "name": "stderr",
     "output_type": "stream",
     "text": [
      "\rExtracting mnist:  88%|████████▊ | 52.9K/60.0K [00:41<00:13, 542File/s]"
     ]
    },
    {
     "name": "stderr",
     "output_type": "stream",
     "text": [
      "\rExtracting mnist:  88%|████████▊ | 53.0K/60.0K [00:41<00:11, 592File/s]"
     ]
    },
    {
     "name": "stderr",
     "output_type": "stream",
     "text": [
      "\rExtracting mnist:  88%|████████▊ | 53.0K/60.0K [00:41<00:15, 463File/s]"
     ]
    },
    {
     "name": "stderr",
     "output_type": "stream",
     "text": [
      "\rExtracting mnist:  89%|████████▊ | 53.1K/60.0K [00:41<00:12, 561File/s]"
     ]
    },
    {
     "name": "stderr",
     "output_type": "stream",
     "text": [
      "\rExtracting mnist:  89%|████████▉ | 53.3K/60.0K [00:41<00:10, 646File/s]"
     ]
    },
    {
     "name": "stderr",
     "output_type": "stream",
     "text": [
      "\rExtracting mnist:  89%|████████▉ | 53.3K/60.0K [00:41<00:14, 471File/s]"
     ]
    },
    {
     "name": "stderr",
     "output_type": "stream",
     "text": [
      "\rExtracting mnist:  89%|████████▉ | 53.3K/60.0K [00:41<00:15, 420File/s]"
     ]
    },
    {
     "name": "stderr",
     "output_type": "stream",
     "text": [
      "\rExtracting mnist:  89%|████████▉ | 53.4K/60.0K [00:41<00:15, 441File/s]"
     ]
    },
    {
     "name": "stderr",
     "output_type": "stream",
     "text": [
      "\rExtracting mnist:  89%|████████▉ | 53.4K/60.0K [00:41<00:13, 501File/s]"
     ]
    },
    {
     "name": "stderr",
     "output_type": "stream",
     "text": [
      "\rExtracting mnist:  89%|████████▉ | 53.6K/60.0K [00:42<00:10, 616File/s]"
     ]
    },
    {
     "name": "stderr",
     "output_type": "stream",
     "text": [
      "\rExtracting mnist:  90%|████████▉ | 53.7K/60.0K [00:42<00:08, 737File/s]"
     ]
    },
    {
     "name": "stderr",
     "output_type": "stream",
     "text": [
      "\rExtracting mnist:  90%|████████▉ | 53.7K/60.0K [00:42<00:11, 545File/s]"
     ]
    },
    {
     "name": "stderr",
     "output_type": "stream",
     "text": [
      "\rExtracting mnist:  90%|████████▉ | 53.9K/60.0K [00:42<00:09, 651File/s]"
     ]
    },
    {
     "name": "stderr",
     "output_type": "stream",
     "text": [
      "\rExtracting mnist:  90%|████████▉ | 53.9K/60.0K [00:42<00:09, 625File/s]"
     ]
    },
    {
     "name": "stderr",
     "output_type": "stream",
     "text": [
      "\rExtracting mnist:  90%|█████████ | 54.0K/60.0K [00:42<00:08, 734File/s]"
     ]
    },
    {
     "name": "stderr",
     "output_type": "stream",
     "text": [
      "\rExtracting mnist:  90%|█████████ | 54.2K/60.0K [00:42<00:06, 845File/s]"
     ]
    },
    {
     "name": "stderr",
     "output_type": "stream",
     "text": [
      "\rExtracting mnist:  90%|█████████ | 54.2K/60.0K [00:42<00:07, 775File/s]"
     ]
    },
    {
     "name": "stderr",
     "output_type": "stream",
     "text": [
      "\rExtracting mnist:  91%|█████████ | 54.4K/60.0K [00:42<00:06, 885File/s]"
     ]
    },
    {
     "name": "stderr",
     "output_type": "stream",
     "text": [
      "\rExtracting mnist:  91%|█████████ | 54.4K/60.0K [00:43<00:07, 742File/s]"
     ]
    },
    {
     "name": "stderr",
     "output_type": "stream",
     "text": [
      "\rExtracting mnist:  91%|█████████ | 54.6K/60.0K [00:43<00:06, 868File/s]"
     ]
    },
    {
     "name": "stderr",
     "output_type": "stream",
     "text": [
      "\rExtracting mnist:  91%|█████████ | 54.7K/60.0K [00:43<00:05, 965File/s]"
     ]
    },
    {
     "name": "stderr",
     "output_type": "stream",
     "text": [
      "\rExtracting mnist:  91%|█████████▏| 54.8K/60.0K [00:43<00:06, 799File/s]"
     ]
    },
    {
     "name": "stderr",
     "output_type": "stream",
     "text": [
      "\rExtracting mnist:  91%|█████████▏| 54.9K/60.0K [00:43<00:05, 892File/s]"
     ]
    },
    {
     "name": "stderr",
     "output_type": "stream",
     "text": [
      "\rExtracting mnist:  92%|█████████▏| 55.0K/60.0K [00:43<00:05, 913File/s]"
     ]
    },
    {
     "name": "stderr",
     "output_type": "stream",
     "text": [
      "\rExtracting mnist:  92%|█████████▏| 55.1K/60.0K [00:43<00:05, 942File/s]"
     ]
    },
    {
     "name": "stderr",
     "output_type": "stream",
     "text": [
      "\rExtracting mnist:  92%|█████████▏| 55.2K/60.0K [00:43<00:05, 837File/s]"
     ]
    },
    {
     "name": "stderr",
     "output_type": "stream",
     "text": [
      "\rExtracting mnist:  92%|█████████▏| 55.2K/60.0K [00:43<00:06, 766File/s]"
     ]
    },
    {
     "name": "stderr",
     "output_type": "stream",
     "text": [
      "\rExtracting mnist:  92%|█████████▏| 55.3K/60.0K [00:43<00:06, 770File/s]"
     ]
    },
    {
     "name": "stderr",
     "output_type": "stream",
     "text": [
      "\rExtracting mnist:  92%|█████████▏| 55.4K/60.0K [00:44<00:07, 608File/s]"
     ]
    },
    {
     "name": "stderr",
     "output_type": "stream",
     "text": [
      "\rExtracting mnist:  92%|█████████▏| 55.5K/60.0K [00:44<00:06, 727File/s]"
     ]
    },
    {
     "name": "stderr",
     "output_type": "stream",
     "text": [
      "\rExtracting mnist:  93%|█████████▎| 55.6K/60.0K [00:44<00:05, 789File/s]"
     ]
    },
    {
     "name": "stderr",
     "output_type": "stream",
     "text": [
      "\rExtracting mnist:  93%|█████████▎| 55.6K/60.0K [00:44<00:07, 596File/s]"
     ]
    },
    {
     "name": "stderr",
     "output_type": "stream",
     "text": [
      "\rExtracting mnist:  93%|█████████▎| 55.7K/60.0K [00:44<00:07, 587File/s]"
     ]
    },
    {
     "name": "stderr",
     "output_type": "stream",
     "text": [
      "\rExtracting mnist:  93%|█████████▎| 55.7K/60.0K [00:44<00:07, 572File/s]"
     ]
    },
    {
     "name": "stderr",
     "output_type": "stream",
     "text": [
      "\rExtracting mnist:  93%|█████████▎| 55.9K/60.0K [00:44<00:06, 672File/s]"
     ]
    },
    {
     "name": "stderr",
     "output_type": "stream",
     "text": [
      "\rExtracting mnist:  93%|█████████▎| 55.9K/60.0K [00:44<00:06, 589File/s]"
     ]
    },
    {
     "name": "stderr",
     "output_type": "stream",
     "text": [
      "\rExtracting mnist:  93%|█████████▎| 56.1K/60.0K [00:44<00:05, 721File/s]"
     ]
    },
    {
     "name": "stderr",
     "output_type": "stream",
     "text": [
      "\rExtracting mnist:  94%|█████████▎| 56.2K/60.0K [00:44<00:04, 780File/s]"
     ]
    },
    {
     "name": "stderr",
     "output_type": "stream",
     "text": [
      "\rExtracting mnist:  94%|█████████▍| 56.3K/60.0K [00:45<00:04, 827File/s]"
     ]
    },
    {
     "name": "stderr",
     "output_type": "stream",
     "text": [
      "\rExtracting mnist:  94%|█████████▍| 56.4K/60.0K [00:45<00:03, 919File/s]"
     ]
    },
    {
     "name": "stderr",
     "output_type": "stream",
     "text": [
      "\rExtracting mnist:  94%|█████████▍| 56.4K/60.0K [00:45<00:05, 642File/s]"
     ]
    },
    {
     "name": "stderr",
     "output_type": "stream",
     "text": [
      "\rExtracting mnist:  94%|█████████▍| 56.5K/60.0K [00:45<00:05, 631File/s]"
     ]
    },
    {
     "name": "stderr",
     "output_type": "stream",
     "text": [
      "\rExtracting mnist:  94%|█████████▍| 56.6K/60.0K [00:45<00:05, 674File/s]"
     ]
    },
    {
     "name": "stderr",
     "output_type": "stream",
     "text": [
      "\rExtracting mnist:  95%|█████████▍| 56.7K/60.0K [00:45<00:04, 776File/s]"
     ]
    },
    {
     "name": "stderr",
     "output_type": "stream",
     "text": [
      "\rExtracting mnist:  95%|█████████▍| 56.8K/60.0K [00:45<00:03, 874File/s]"
     ]
    },
    {
     "name": "stderr",
     "output_type": "stream",
     "text": [
      "\rExtracting mnist:  95%|█████████▍| 56.9K/60.0K [00:45<00:03, 836File/s]"
     ]
    },
    {
     "name": "stderr",
     "output_type": "stream",
     "text": [
      "\rExtracting mnist:  95%|█████████▍| 57.0K/60.0K [00:45<00:03, 861File/s]"
     ]
    },
    {
     "name": "stderr",
     "output_type": "stream",
     "text": [
      "\rExtracting mnist:  95%|█████████▍| 57.0K/60.0K [00:46<01:37, 30.9File/s]"
     ]
    },
    {
     "name": "stderr",
     "output_type": "stream",
     "text": [
      "\rExtracting mnist:  95%|█████████▌| 57.0K/60.0K [00:46<01:09, 42.6File/s]"
     ]
    },
    {
     "name": "stderr",
     "output_type": "stream",
     "text": [
      "\rExtracting mnist:  95%|█████████▌| 57.1K/60.0K [00:46<00:48, 59.4File/s]"
     ]
    },
    {
     "name": "stderr",
     "output_type": "stream",
     "text": [
      "\rExtracting mnist:  95%|█████████▌| 57.2K/60.0K [00:46<00:33, 82.8File/s]"
     ]
    },
    {
     "name": "stderr",
     "output_type": "stream",
     "text": [
      "\rExtracting mnist:  95%|█████████▌| 57.3K/60.0K [00:46<00:25, 109File/s] "
     ]
    },
    {
     "name": "stderr",
     "output_type": "stream",
     "text": [
      "\rExtracting mnist:  96%|█████████▌| 57.3K/60.0K [00:46<00:18, 144File/s]"
     ]
    },
    {
     "name": "stderr",
     "output_type": "stream",
     "text": [
      "\rExtracting mnist:  96%|█████████▌| 57.4K/60.0K [00:46<00:13, 194File/s]"
     ]
    },
    {
     "name": "stderr",
     "output_type": "stream",
     "text": [
      "\rExtracting mnist:  96%|█████████▌| 57.5K/60.0K [00:46<00:10, 243File/s]"
     ]
    },
    {
     "name": "stderr",
     "output_type": "stream",
     "text": [
      "\rExtracting mnist:  96%|█████████▌| 57.5K/60.0K [00:46<00:08, 289File/s]"
     ]
    },
    {
     "name": "stderr",
     "output_type": "stream",
     "text": [
      "\rExtracting mnist:  96%|█████████▌| 57.7K/60.0K [00:46<00:06, 375File/s]"
     ]
    },
    {
     "name": "stderr",
     "output_type": "stream",
     "text": [
      "\rExtracting mnist:  96%|█████████▌| 57.7K/60.0K [00:47<00:14, 165File/s]"
     ]
    },
    {
     "name": "stderr",
     "output_type": "stream",
     "text": [
      "\rExtracting mnist:  96%|█████████▌| 57.7K/60.0K [00:47<01:38, 23.5File/s]"
     ]
    },
    {
     "name": "stderr",
     "output_type": "stream",
     "text": [
      "\rExtracting mnist:  96%|█████████▌| 57.7K/60.0K [00:47<01:10, 32.5File/s]"
     ]
    },
    {
     "name": "stderr",
     "output_type": "stream",
     "text": [
      "\rExtracting mnist:  96%|█████████▌| 57.7K/60.0K [00:47<00:51, 43.7File/s]"
     ]
    },
    {
     "name": "stderr",
     "output_type": "stream",
     "text": [
      "\rExtracting mnist:  96%|█████████▋| 57.8K/60.0K [00:47<00:40, 55.1File/s]"
     ]
    },
    {
     "name": "stderr",
     "output_type": "stream",
     "text": [
      "\rExtracting mnist:  96%|█████████▋| 57.8K/60.0K [00:47<00:29, 75.0File/s]"
     ]
    },
    {
     "name": "stderr",
     "output_type": "stream",
     "text": [
      "\rExtracting mnist:  96%|█████████▋| 57.8K/60.0K [00:47<00:23, 90.9File/s]"
     ]
    },
    {
     "name": "stderr",
     "output_type": "stream",
     "text": [
      "\rExtracting mnist:  96%|█████████▋| 57.8K/60.0K [00:47<00:23, 92.8File/s]"
     ]
    },
    {
     "name": "stderr",
     "output_type": "stream",
     "text": [
      "\rExtracting mnist:  97%|█████████▋| 57.9K/60.0K [00:48<00:16, 126File/s] "
     ]
    },
    {
     "name": "stderr",
     "output_type": "stream",
     "text": [
      "\rExtracting mnist:  97%|█████████▋| 58.0K/60.0K [00:48<00:12, 160File/s]"
     ]
    },
    {
     "name": "stderr",
     "output_type": "stream",
     "text": [
      "\rExtracting mnist:  97%|█████████▋| 58.0K/60.0K [00:48<00:10, 194File/s]"
     ]
    },
    {
     "name": "stderr",
     "output_type": "stream",
     "text": [
      "\rExtracting mnist:  97%|█████████▋| 58.0K/60.0K [00:48<00:09, 215File/s]"
     ]
    },
    {
     "name": "stderr",
     "output_type": "stream",
     "text": [
      "\rExtracting mnist:  97%|█████████▋| 58.1K/60.0K [00:48<00:10, 178File/s]"
     ]
    },
    {
     "name": "stderr",
     "output_type": "stream",
     "text": [
      "\rExtracting mnist:  97%|█████████▋| 58.1K/60.0K [00:48<00:08, 227File/s]"
     ]
    },
    {
     "name": "stderr",
     "output_type": "stream",
     "text": [
      "\rExtracting mnist:  97%|█████████▋| 58.1K/60.0K [00:48<00:09, 195File/s]"
     ]
    },
    {
     "name": "stderr",
     "output_type": "stream",
     "text": [
      "\rExtracting mnist:  97%|█████████▋| 58.1K/60.0K [00:48<00:14, 127File/s]"
     ]
    },
    {
     "name": "stderr",
     "output_type": "stream",
     "text": [
      "\rExtracting mnist:  97%|█████████▋| 58.2K/60.0K [00:48<00:11, 161File/s]"
     ]
    },
    {
     "name": "stderr",
     "output_type": "stream",
     "text": [
      "\rExtracting mnist:  97%|█████████▋| 58.2K/60.0K [00:48<00:10, 172File/s]"
     ]
    },
    {
     "name": "stderr",
     "output_type": "stream",
     "text": [
      "\rExtracting mnist:  97%|█████████▋| 58.2K/60.0K [00:49<00:09, 193File/s]"
     ]
    },
    {
     "name": "stderr",
     "output_type": "stream",
     "text": [
      "\rExtracting mnist:  97%|█████████▋| 58.3K/60.0K [00:49<00:07, 229File/s]"
     ]
    },
    {
     "name": "stderr",
     "output_type": "stream",
     "text": [
      "\rExtracting mnist:  97%|█████████▋| 58.3K/60.0K [00:49<00:06, 241File/s]"
     ]
    },
    {
     "name": "stderr",
     "output_type": "stream",
     "text": [
      "\rExtracting mnist:  97%|█████████▋| 58.4K/60.0K [00:49<00:06, 239File/s]"
     ]
    },
    {
     "name": "stderr",
     "output_type": "stream",
     "text": [
      "\rExtracting mnist:  97%|█████████▋| 58.4K/60.0K [00:49<00:05, 297File/s]"
     ]
    },
    {
     "name": "stderr",
     "output_type": "stream",
     "text": [
      "\rExtracting mnist:  97%|█████████▋| 58.5K/60.0K [00:49<00:04, 310File/s]"
     ]
    },
    {
     "name": "stderr",
     "output_type": "stream",
     "text": [
      "\rExtracting mnist:  98%|█████████▊| 58.5K/60.0K [00:49<00:04, 357File/s]"
     ]
    },
    {
     "name": "stderr",
     "output_type": "stream",
     "text": [
      "\rExtracting mnist:  98%|█████████▊| 58.6K/60.0K [00:49<00:04, 351File/s]"
     ]
    },
    {
     "name": "stderr",
     "output_type": "stream",
     "text": [
      "\rExtracting mnist:  98%|█████████▊| 58.6K/60.0K [00:50<00:06, 211File/s]"
     ]
    },
    {
     "name": "stderr",
     "output_type": "stream",
     "text": [
      "\rExtracting mnist:  98%|█████████▊| 58.6K/60.0K [00:50<00:05, 254File/s]"
     ]
    },
    {
     "name": "stderr",
     "output_type": "stream",
     "text": [
      "\rExtracting mnist:  98%|█████████▊| 58.6K/60.0K [00:50<00:06, 221File/s]"
     ]
    },
    {
     "name": "stderr",
     "output_type": "stream",
     "text": [
      "\rExtracting mnist:  98%|█████████▊| 58.7K/60.0K [00:50<00:05, 256File/s]"
     ]
    },
    {
     "name": "stderr",
     "output_type": "stream",
     "text": [
      "\rExtracting mnist:  98%|█████████▊| 58.7K/60.0K [00:50<00:05, 244File/s]"
     ]
    },
    {
     "name": "stderr",
     "output_type": "stream",
     "text": [
      "\rExtracting mnist:  98%|█████████▊| 58.8K/60.0K [00:50<00:04, 278File/s]"
     ]
    },
    {
     "name": "stderr",
     "output_type": "stream",
     "text": [
      "\rExtracting mnist:  98%|█████████▊| 58.8K/60.0K [00:50<00:04, 261File/s]"
     ]
    },
    {
     "name": "stderr",
     "output_type": "stream",
     "text": [
      "\rExtracting mnist:  98%|█████████▊| 58.8K/60.0K [00:50<00:04, 248File/s]"
     ]
    },
    {
     "name": "stderr",
     "output_type": "stream",
     "text": [
      "\rExtracting mnist:  98%|█████████▊| 58.9K/60.0K [00:50<00:04, 278File/s]"
     ]
    },
    {
     "name": "stderr",
     "output_type": "stream",
     "text": [
      "\rExtracting mnist:  98%|█████████▊| 58.9K/60.0K [00:51<00:03, 316File/s]"
     ]
    },
    {
     "name": "stderr",
     "output_type": "stream",
     "text": [
      "\rExtracting mnist:  98%|█████████▊| 58.9K/60.0K [00:51<00:05, 201File/s]"
     ]
    },
    {
     "name": "stderr",
     "output_type": "stream",
     "text": [
      "\rExtracting mnist:  98%|█████████▊| 58.9K/60.0K [00:51<00:05, 206File/s]"
     ]
    },
    {
     "name": "stderr",
     "output_type": "stream",
     "text": [
      "\rExtracting mnist:  98%|█████████▊| 59.0K/60.0K [00:51<00:03, 251File/s]"
     ]
    },
    {
     "name": "stderr",
     "output_type": "stream",
     "text": [
      "\rExtracting mnist:  98%|█████████▊| 59.0K/60.0K [00:51<00:03, 268File/s]"
     ]
    },
    {
     "name": "stderr",
     "output_type": "stream",
     "text": [
      "\rExtracting mnist:  98%|█████████▊| 59.0K/60.0K [00:51<00:04, 227File/s]"
     ]
    },
    {
     "name": "stderr",
     "output_type": "stream",
     "text": [
      "\rExtracting mnist:  98%|█████████▊| 59.1K/60.0K [00:51<00:04, 214File/s]"
     ]
    },
    {
     "name": "stderr",
     "output_type": "stream",
     "text": [
      "\rExtracting mnist:  98%|█████████▊| 59.1K/60.0K [00:51<00:04, 196File/s]"
     ]
    },
    {
     "name": "stderr",
     "output_type": "stream",
     "text": [
      "\rExtracting mnist:  99%|█████████▊| 59.1K/60.0K [00:51<00:04, 214File/s]"
     ]
    },
    {
     "name": "stderr",
     "output_type": "stream",
     "text": [
      "\rExtracting mnist:  99%|█████████▊| 59.2K/60.0K [00:52<00:03, 239File/s]"
     ]
    },
    {
     "name": "stderr",
     "output_type": "stream",
     "text": [
      "\rExtracting mnist:  99%|█████████▊| 59.2K/60.0K [00:52<00:02, 263File/s]"
     ]
    },
    {
     "name": "stderr",
     "output_type": "stream",
     "text": [
      "\rExtracting mnist:  99%|█████████▉| 59.3K/60.0K [00:52<00:02, 295File/s]"
     ]
    },
    {
     "name": "stderr",
     "output_type": "stream",
     "text": [
      "\rExtracting mnist:  99%|█████████▉| 59.3K/60.0K [00:52<00:02, 322File/s]"
     ]
    },
    {
     "name": "stderr",
     "output_type": "stream",
     "text": [
      "\rExtracting mnist:  99%|█████████▉| 59.4K/60.0K [00:52<00:03, 194File/s]"
     ]
    },
    {
     "name": "stderr",
     "output_type": "stream",
     "text": [
      "\rExtracting mnist:  99%|█████████▉| 59.4K/60.0K [00:52<00:02, 207File/s]"
     ]
    },
    {
     "name": "stderr",
     "output_type": "stream",
     "text": [
      "\rExtracting mnist:  99%|█████████▉| 59.4K/60.0K [00:52<00:02, 239File/s]"
     ]
    },
    {
     "name": "stderr",
     "output_type": "stream",
     "text": [
      "\rExtracting mnist:  99%|█████████▉| 59.5K/60.0K [00:53<00:02, 228File/s]"
     ]
    },
    {
     "name": "stderr",
     "output_type": "stream",
     "text": [
      "\rExtracting mnist:  99%|█████████▉| 59.5K/60.0K [00:53<00:02, 182File/s]"
     ]
    },
    {
     "name": "stderr",
     "output_type": "stream",
     "text": [
      "\rExtracting mnist:  99%|█████████▉| 59.5K/60.0K [00:53<00:02, 210File/s]"
     ]
    },
    {
     "name": "stderr",
     "output_type": "stream",
     "text": [
      "\rExtracting mnist:  99%|█████████▉| 59.5K/60.0K [00:53<00:02, 201File/s]"
     ]
    },
    {
     "name": "stderr",
     "output_type": "stream",
     "text": [
      "\rExtracting mnist:  99%|█████████▉| 59.6K/60.0K [00:53<00:01, 220File/s]"
     ]
    },
    {
     "name": "stderr",
     "output_type": "stream",
     "text": [
      "\rExtracting mnist:  99%|█████████▉| 59.6K/60.0K [00:53<00:01, 238File/s]"
     ]
    },
    {
     "name": "stderr",
     "output_type": "stream",
     "text": [
      "\rExtracting mnist:  99%|█████████▉| 59.7K/60.0K [00:53<00:01, 296File/s]"
     ]
    },
    {
     "name": "stderr",
     "output_type": "stream",
     "text": [
      "\rExtracting mnist: 100%|█████████▉| 59.7K/60.0K [00:53<00:01, 258File/s]"
     ]
    },
    {
     "name": "stderr",
     "output_type": "stream",
     "text": [
      "\rExtracting mnist: 100%|█████████▉| 59.7K/60.0K [00:53<00:01, 229File/s]"
     ]
    },
    {
     "name": "stderr",
     "output_type": "stream",
     "text": [
      "\rExtracting mnist: 100%|█████████▉| 59.8K/60.0K [00:54<00:00, 256File/s]"
     ]
    },
    {
     "name": "stderr",
     "output_type": "stream",
     "text": [
      "\rExtracting mnist: 100%|█████████▉| 59.9K/60.0K [00:54<00:00, 325File/s]"
     ]
    },
    {
     "name": "stderr",
     "output_type": "stream",
     "text": [
      "\rExtracting mnist: 100%|█████████▉| 59.9K/60.0K [00:54<00:00, 336File/s]"
     ]
    },
    {
     "name": "stderr",
     "output_type": "stream",
     "text": [
      "\rExtracting mnist: 100%|█████████▉| 59.9K/60.0K [00:54<00:00, 242File/s]"
     ]
    },
    {
     "name": "stderr",
     "output_type": "stream",
     "text": [
      "\rExtracting mnist: 100%|█████████▉| 60.0K/60.0K [00:54<00:00, 298File/s]"
     ]
    },
    {
     "name": "stderr",
     "output_type": "stream",
     "text": [
      "\rExtracting mnist: 100%|██████████| 60.0K/60.0K [00:54<00:00, 1.10KFile/s]"
     ]
    },
    {
     "name": "stderr",
     "output_type": "stream",
     "text": [
      "\n\rDownloading celeba: 0.00B [00:00, ?B/s]"
     ]
    },
    {
     "name": "stderr",
     "output_type": "stream",
     "text": [
      "\rDownloading celeba:   0%|          | 8.19K/1.44G [00:00<19:00:39, 21.1KB/s]"
     ]
    },
    {
     "name": "stderr",
     "output_type": "stream",
     "text": [
      "\rDownloading celeba:   0%|          | 213K/1.44G [00:00<13:21:56, 30.0KB/s] "
     ]
    },
    {
     "name": "stderr",
     "output_type": "stream",
     "text": [
      "\rDownloading celeba:   0%|          | 1.05M/1.44G [00:00<9:21:53, 42.8KB/s]"
     ]
    },
    {
     "name": "stderr",
     "output_type": "stream",
     "text": [
      "\rDownloading celeba:   0%|          | 1.76M/1.44G [00:00<6:34:08, 61.0KB/s]"
     ]
    },
    {
     "name": "stderr",
     "output_type": "stream",
     "text": [
      "\rDownloading celeba:   0%|          | 2.73M/1.44G [00:00<4:36:27, 86.9KB/s]"
     ]
    },
    {
     "name": "stderr",
     "output_type": "stream",
     "text": [
      "\rDownloading celeba:   0%|          | 3.64M/1.44G [00:00<3:14:12, 124KB/s] "
     ]
    },
    {
     "name": "stderr",
     "output_type": "stream",
     "text": [
      "\rDownloading celeba:   0%|          | 4.53M/1.44G [00:00<2:16:40, 175KB/s]"
     ]
    },
    {
     "name": "stderr",
     "output_type": "stream",
     "text": [
      "\rDownloading celeba:   0%|          | 5.38M/1.44G [00:01<1:36:31, 248KB/s]"
     ]
    },
    {
     "name": "stderr",
     "output_type": "stream",
     "text": [
      "\rDownloading celeba:   0%|          | 5.55M/1.44G [00:01<1:11:44, 334KB/s]"
     ]
    },
    {
     "name": "stderr",
     "output_type": "stream",
     "text": [
      "\rDownloading celeba:   0%|          | 6.62M/1.44G [00:01<50:52, 471KB/s]  "
     ]
    },
    {
     "name": "stderr",
     "output_type": "stream",
     "text": [
      "\rDownloading celeba:   1%|          | 7.41M/1.44G [00:01<36:31, 655KB/s]"
     ]
    },
    {
     "name": "stderr",
     "output_type": "stream",
     "text": [
      "\rDownloading celeba:   1%|          | 7.91M/1.44G [00:01<27:00, 886KB/s]"
     ]
    },
    {
     "name": "stderr",
     "output_type": "stream",
     "text": [
      "\rDownloading celeba:   1%|          | 8.40M/1.44G [00:01<20:43, 1.15MB/s]"
     ]
    },
    {
     "name": "stderr",
     "output_type": "stream",
     "text": [
      "\rDownloading celeba:   1%|          | 9.09M/1.44G [00:01<15:33, 1.54MB/s]"
     ]
    },
    {
     "name": "stderr",
     "output_type": "stream",
     "text": [
      "\rDownloading celeba:   1%|          | 9.54M/1.44G [00:01<12:32, 1.91MB/s]"
     ]
    },
    {
     "name": "stderr",
     "output_type": "stream",
     "text": [
      "\rDownloading celeba:   1%|          | 9.99M/1.44G [00:01<10:24, 2.29MB/s]"
     ]
    },
    {
     "name": "stderr",
     "output_type": "stream",
     "text": [
      "\rDownloading celeba:   1%|          | 10.6M/1.44G [00:02<08:34, 2.78MB/s]"
     ]
    },
    {
     "name": "stderr",
     "output_type": "stream",
     "text": [
      "\rDownloading celeba:   1%|          | 11.1M/1.44G [00:02<07:15, 3.29MB/s]"
     ]
    },
    {
     "name": "stderr",
     "output_type": "stream",
     "text": [
      "\rDownloading celeba:   1%|          | 11.7M/1.44G [00:02<06:18, 3.78MB/s]"
     ]
    },
    {
     "name": "stderr",
     "output_type": "stream",
     "text": [
      "\rDownloading celeba:   1%|          | 12.3M/1.44G [00:02<05:36, 4.25MB/s]"
     ]
    },
    {
     "name": "stderr",
     "output_type": "stream",
     "text": [
      "\rDownloading celeba:   1%|          | 12.9M/1.44G [00:02<05:15, 4.53MB/s]"
     ]
    },
    {
     "name": "stderr",
     "output_type": "stream",
     "text": [
      "\rDownloading celeba:   1%|          | 13.4M/1.44G [00:02<04:57, 4.81MB/s]"
     ]
    },
    {
     "name": "stderr",
     "output_type": "stream",
     "text": [
      "\rDownloading celeba:   1%|          | 14.1M/1.44G [00:02<04:37, 5.15MB/s]"
     ]
    },
    {
     "name": "stderr",
     "output_type": "stream",
     "text": [
      "\rDownloading celeba:   1%|          | 14.7M/1.44G [00:02<04:24, 5.40MB/s]"
     ]
    },
    {
     "name": "stderr",
     "output_type": "stream",
     "text": [
      "\rDownloading celeba:   1%|          | 15.3M/1.44G [00:02<04:14, 5.62MB/s]"
     ]
    },
    {
     "name": "stderr",
     "output_type": "stream",
     "text": [
      "\rDownloading celeba:   1%|          | 15.9M/1.44G [00:02<04:07, 5.76MB/s]"
     ]
    },
    {
     "name": "stderr",
     "output_type": "stream",
     "text": [
      "\rDownloading celeba:   1%|          | 16.5M/1.44G [00:03<04:05, 5.82MB/s]"
     ]
    },
    {
     "name": "stderr",
     "output_type": "stream",
     "text": [
      "\rDownloading celeba:   1%|          | 17.2M/1.44G [00:03<03:57, 6.01MB/s]"
     ]
    },
    {
     "name": "stderr",
     "output_type": "stream",
     "text": [
      "\rDownloading celeba:   1%|          | 17.9M/1.44G [00:03<03:52, 6.12MB/s]"
     ]
    },
    {
     "name": "stderr",
     "output_type": "stream",
     "text": [
      "\rDownloading celeba:   1%|▏         | 18.5M/1.44G [00:03<03:47, 6.28MB/s]"
     ]
    },
    {
     "name": "stderr",
     "output_type": "stream",
     "text": [
      "\rDownloading celeba:   1%|▏         | 19.2M/1.44G [00:03<03:39, 6.50MB/s]"
     ]
    },
    {
     "name": "stderr",
     "output_type": "stream",
     "text": [
      "\rDownloading celeba:   1%|▏         | 20.2M/1.44G [00:03<03:20, 7.12MB/s]"
     ]
    },
    {
     "name": "stderr",
     "output_type": "stream",
     "text": [
      "\rDownloading celeba:   1%|▏         | 21.3M/1.44G [00:03<02:57, 8.01MB/s]"
     ]
    },
    {
     "name": "stderr",
     "output_type": "stream",
     "text": [
      "\rDownloading celeba:   2%|▏         | 22.5M/1.44G [00:03<02:40, 8.87MB/s]"
     ]
    },
    {
     "name": "stderr",
     "output_type": "stream",
     "text": [
      "\rDownloading celeba:   2%|▏         | 23.7M/1.44G [00:03<02:28, 9.57MB/s]"
     ]
    },
    {
     "name": "stderr",
     "output_type": "stream",
     "text": [
      "\rDownloading celeba:   2%|▏         | 24.4M/1.44G [00:03<02:45, 8.60MB/s]"
     ]
    },
    {
     "name": "stderr",
     "output_type": "stream",
     "text": [
      "\rDownloading celeba:   2%|▏         | 25.8M/1.44G [00:04<02:24, 9.80MB/s]"
     ]
    },
    {
     "name": "stderr",
     "output_type": "stream",
     "text": [
      "\rDownloading celeba:   2%|▏         | 26.8M/1.44G [00:04<02:23, 9.85MB/s]"
     ]
    },
    {
     "name": "stderr",
     "output_type": "stream",
     "text": [
      "\rDownloading celeba:   2%|▏         | 27.8M/1.44G [00:04<02:26, 9.66MB/s]"
     ]
    },
    {
     "name": "stderr",
     "output_type": "stream",
     "text": [
      "\rDownloading celeba:   2%|▏         | 28.7M/1.44G [00:04<02:29, 9.44MB/s]"
     ]
    },
    {
     "name": "stderr",
     "output_type": "stream",
     "text": [
      "\rDownloading celeba:   2%|▏         | 29.6M/1.44G [00:04<02:32, 9.30MB/s]"
     ]
    },
    {
     "name": "stderr",
     "output_type": "stream",
     "text": [
      "\rDownloading celeba:   2%|▏         | 30.4M/1.44G [00:04<02:36, 9.00MB/s]"
     ]
    },
    {
     "name": "stderr",
     "output_type": "stream",
     "text": [
      "\rDownloading celeba:   2%|▏         | 31.3M/1.44G [00:04<02:40, 8.79MB/s]"
     ]
    },
    {
     "name": "stderr",
     "output_type": "stream",
     "text": [
      "\rDownloading celeba:   2%|▏         | 32.0M/1.44G [00:04<02:49, 8.33MB/s]"
     ]
    },
    {
     "name": "stderr",
     "output_type": "stream",
     "text": [
      "\rDownloading celeba:   2%|▏         | 32.8M/1.44G [00:04<02:52, 8.17MB/s]"
     ]
    },
    {
     "name": "stderr",
     "output_type": "stream",
     "text": [
      "\rDownloading celeba:   2%|▏         | 33.6M/1.44G [00:04<02:54, 8.10MB/s]"
     ]
    },
    {
     "name": "stderr",
     "output_type": "stream",
     "text": [
      "\rDownloading celeba:   2%|▏         | 34.4M/1.44G [00:05<02:54, 8.07MB/s]"
     ]
    },
    {
     "name": "stderr",
     "output_type": "stream",
     "text": [
      "\rDownloading celeba:   2%|▏         | 35.2M/1.44G [00:05<02:57, 7.94MB/s]"
     ]
    },
    {
     "name": "stderr",
     "output_type": "stream",
     "text": [
      "\rDownloading celeba:   2%|▏         | 36.1M/1.44G [00:05<02:56, 7.98MB/s]"
     ]
    },
    {
     "name": "stderr",
     "output_type": "stream",
     "text": [
      "\rDownloading celeba:   3%|▎         | 36.9M/1.44G [00:05<02:56, 7.99MB/s]"
     ]
    },
    {
     "name": "stderr",
     "output_type": "stream",
     "text": [
      "\rDownloading celeba:   3%|▎         | 37.7M/1.44G [00:05<02:56, 7.99MB/s]"
     ]
    },
    {
     "name": "stderr",
     "output_type": "stream",
     "text": [
      "\rDownloading celeba:   3%|▎         | 38.5M/1.44G [00:05<02:54, 8.04MB/s]"
     ]
    },
    {
     "name": "stderr",
     "output_type": "stream",
     "text": [
      "\rDownloading celeba:   3%|▎         | 39.3M/1.44G [00:05<02:53, 8.11MB/s]"
     ]
    },
    {
     "name": "stderr",
     "output_type": "stream",
     "text": [
      "\rDownloading celeba:   3%|▎         | 40.1M/1.44G [00:05<02:56, 7.94MB/s]"
     ]
    },
    {
     "name": "stderr",
     "output_type": "stream",
     "text": [
      "\rDownloading celeba:   3%|▎         | 40.9M/1.44G [00:05<02:56, 7.97MB/s]"
     ]
    },
    {
     "name": "stderr",
     "output_type": "stream",
     "text": [
      "\rDownloading celeba:   3%|▎         | 41.7M/1.44G [00:05<02:57, 7.91MB/s]"
     ]
    },
    {
     "name": "stderr",
     "output_type": "stream",
     "text": [
      "\rDownloading celeba:   3%|▎         | 42.4M/1.44G [00:06<02:58, 7.84MB/s]"
     ]
    },
    {
     "name": "stderr",
     "output_type": "stream",
     "text": [
      "\rDownloading celeba:   3%|▎         | 43.2M/1.44G [00:06<02:57, 7.88MB/s]"
     ]
    },
    {
     "name": "stderr",
     "output_type": "stream",
     "text": [
      "\rDownloading celeba:   3%|▎         | 44.0M/1.44G [00:06<03:01, 7.70MB/s]"
     ]
    },
    {
     "name": "stderr",
     "output_type": "stream",
     "text": [
      "\rDownloading celeba:   3%|▎         | 44.9M/1.44G [00:06<02:55, 7.97MB/s]"
     ]
    },
    {
     "name": "stderr",
     "output_type": "stream",
     "text": [
      "\rDownloading celeba:   3%|▎         | 45.7M/1.44G [00:06<02:54, 8.02MB/s]"
     ]
    },
    {
     "name": "stderr",
     "output_type": "stream",
     "text": [
      "\rDownloading celeba:   3%|▎         | 46.5M/1.44G [00:06<02:54, 8.01MB/s]"
     ]
    },
    {
     "name": "stderr",
     "output_type": "stream",
     "text": [
      "\rDownloading celeba:   3%|▎         | 47.4M/1.44G [00:06<02:53, 8.03MB/s]"
     ]
    },
    {
     "name": "stderr",
     "output_type": "stream",
     "text": [
      "\rDownloading celeba:   3%|▎         | 48.2M/1.44G [00:06<02:52, 8.11MB/s]"
     ]
    },
    {
     "name": "stderr",
     "output_type": "stream",
     "text": [
      "\rDownloading celeba:   3%|▎         | 48.9M/1.44G [00:06<03:08, 7.41MB/s]"
     ]
    },
    {
     "name": "stderr",
     "output_type": "stream",
     "text": [
      "\rDownloading celeba:   3%|▎         | 49.9M/1.44G [00:07<02:55, 7.96MB/s]"
     ]
    },
    {
     "name": "stderr",
     "output_type": "stream",
     "text": [
      "\rDownloading celeba:   4%|▎         | 50.7M/1.44G [00:07<02:55, 7.92MB/s]"
     ]
    },
    {
     "name": "stderr",
     "output_type": "stream",
     "text": [
      "\rDownloading celeba:   4%|▎         | 51.4M/1.44G [00:07<03:04, 7.56MB/s]"
     ]
    },
    {
     "name": "stderr",
     "output_type": "stream",
     "text": [
      "\rDownloading celeba:   4%|▎         | 52.0M/1.44G [00:07<03:15, 7.12MB/s]"
     ]
    },
    {
     "name": "stderr",
     "output_type": "stream",
     "text": [
      "\rDownloading celeba:   4%|▎         | 52.6M/1.44G [00:07<03:24, 6.80MB/s]"
     ]
    },
    {
     "name": "stderr",
     "output_type": "stream",
     "text": [
      "\rDownloading celeba:   4%|▎         | 53.3M/1.44G [00:07<03:25, 6.76MB/s]"
     ]
    },
    {
     "name": "stderr",
     "output_type": "stream",
     "text": [
      "\rDownloading celeba:   4%|▎         | 54.0M/1.44G [00:07<03:26, 6.72MB/s]"
     ]
    },
    {
     "name": "stderr",
     "output_type": "stream",
     "text": [
      "\rDownloading celeba:   4%|▍         | 54.5M/1.44G [00:07<03:40, 6.30MB/s]"
     ]
    },
    {
     "name": "stderr",
     "output_type": "stream",
     "text": [
      "\rDownloading celeba:   4%|▍         | 55.1M/1.44G [00:07<03:46, 6.12MB/s]"
     ]
    },
    {
     "name": "stderr",
     "output_type": "stream",
     "text": [
      "\rDownloading celeba:   4%|▍         | 55.7M/1.44G [00:07<03:50, 6.02MB/s]"
     ]
    },
    {
     "name": "stderr",
     "output_type": "stream",
     "text": [
      "\rDownloading celeba:   4%|▍         | 56.2M/1.44G [00:08<03:59, 5.80MB/s]"
     ]
    },
    {
     "name": "stderr",
     "output_type": "stream",
     "text": [
      "\rDownloading celeba:   4%|▍         | 56.8M/1.44G [00:08<03:57, 5.83MB/s]"
     ]
    },
    {
     "name": "stderr",
     "output_type": "stream",
     "text": [
      "\rDownloading celeba:   4%|▍         | 57.5M/1.44G [00:08<03:55, 5.88MB/s]"
     ]
    },
    {
     "name": "stderr",
     "output_type": "stream",
     "text": [
      "\rDownloading celeba:   4%|▍         | 58.0M/1.44G [00:08<03:58, 5.81MB/s]"
     ]
    },
    {
     "name": "stderr",
     "output_type": "stream",
     "text": [
      "\rDownloading celeba:   4%|▍         | 58.7M/1.44G [00:08<03:52, 5.95MB/s]"
     ]
    },
    {
     "name": "stderr",
     "output_type": "stream",
     "text": [
      "\rDownloading celeba:   4%|▍         | 59.3M/1.44G [00:08<03:48, 6.06MB/s]"
     ]
    },
    {
     "name": "stderr",
     "output_type": "stream",
     "text": [
      "\rDownloading celeba:   4%|▍         | 60.0M/1.44G [00:08<03:40, 6.27MB/s]"
     ]
    },
    {
     "name": "stderr",
     "output_type": "stream",
     "text": [
      "\rDownloading celeba:   4%|▍         | 60.6M/1.44G [00:08<03:43, 6.19MB/s]"
     ]
    },
    {
     "name": "stderr",
     "output_type": "stream",
     "text": [
      "\rDownloading celeba:   4%|▍         | 61.1M/1.44G [00:08<04:09, 5.54MB/s]"
     ]
    },
    {
     "name": "stderr",
     "output_type": "stream",
     "text": [
      "\rDownloading celeba:   4%|▍         | 61.9M/1.44G [00:08<03:51, 5.97MB/s]"
     ]
    },
    {
     "name": "stderr",
     "output_type": "stream",
     "text": [
      "\rDownloading celeba:   4%|▍         | 62.5M/1.44G [00:09<03:47, 6.07MB/s]"
     ]
    },
    {
     "name": "stderr",
     "output_type": "stream",
     "text": [
      "\rDownloading celeba:   4%|▍         | 63.2M/1.44G [00:09<03:44, 6.16MB/s]"
     ]
    },
    {
     "name": "stderr",
     "output_type": "stream",
     "text": [
      "\rDownloading celeba:   4%|▍         | 63.8M/1.44G [00:09<03:44, 6.14MB/s]"
     ]
    },
    {
     "name": "stderr",
     "output_type": "stream",
     "text": [
      "\rDownloading celeba:   4%|▍         | 64.4M/1.44G [00:09<03:43, 6.17MB/s]"
     ]
    },
    {
     "name": "stderr",
     "output_type": "stream",
     "text": [
      "\rDownloading celeba:   5%|▍         | 65.1M/1.44G [00:09<03:38, 6.31MB/s]"
     ]
    },
    {
     "name": "stderr",
     "output_type": "stream",
     "text": [
      "\rDownloading celeba:   5%|▍         | 65.7M/1.44G [00:09<03:39, 6.29MB/s]"
     ]
    },
    {
     "name": "stderr",
     "output_type": "stream",
     "text": [
      "\rDownloading celeba:   5%|▍         | 66.4M/1.44G [00:09<03:40, 6.26MB/s]"
     ]
    },
    {
     "name": "stderr",
     "output_type": "stream",
     "text": [
      "\rDownloading celeba:   5%|▍         | 67.0M/1.44G [00:09<03:38, 6.31MB/s]"
     ]
    },
    {
     "name": "stderr",
     "output_type": "stream",
     "text": [
      "\rDownloading celeba:   5%|▍         | 67.7M/1.44G [00:09<03:32, 6.49MB/s]"
     ]
    },
    {
     "name": "stderr",
     "output_type": "stream",
     "text": [
      "\rDownloading celeba:   5%|▍         | 68.4M/1.44G [00:09<03:30, 6.54MB/s]"
     ]
    },
    {
     "name": "stderr",
     "output_type": "stream",
     "text": [
      "\rDownloading celeba:   5%|▍         | 69.1M/1.44G [00:10<03:27, 6.64MB/s]"
     ]
    },
    {
     "name": "stderr",
     "output_type": "stream",
     "text": [
      "\rDownloading celeba:   5%|▍         | 69.8M/1.44G [00:10<03:24, 6.73MB/s]"
     ]
    },
    {
     "name": "stderr",
     "output_type": "stream",
     "text": [
      "\rDownloading celeba:   5%|▍         | 70.5M/1.44G [00:10<03:24, 6.72MB/s]"
     ]
    },
    {
     "name": "stderr",
     "output_type": "stream",
     "text": [
      "\rDownloading celeba:   5%|▍         | 71.2M/1.44G [00:10<03:22, 6.78MB/s]"
     ]
    },
    {
     "name": "stderr",
     "output_type": "stream",
     "text": [
      "\rDownloading celeba:   5%|▍         | 71.9M/1.44G [00:10<03:19, 6.89MB/s]"
     ]
    },
    {
     "name": "stderr",
     "output_type": "stream",
     "text": [
      "\rDownloading celeba:   5%|▌         | 72.7M/1.44G [00:10<03:16, 6.99MB/s]"
     ]
    },
    {
     "name": "stderr",
     "output_type": "stream",
     "text": [
      "\rDownloading celeba:   5%|▌         | 73.6M/1.44G [00:10<03:02, 7.50MB/s]"
     ]
    },
    {
     "name": "stderr",
     "output_type": "stream",
     "text": [
      "\rDownloading celeba:   5%|▌         | 74.5M/1.44G [00:10<02:50, 8.01MB/s]"
     ]
    },
    {
     "name": "stderr",
     "output_type": "stream",
     "text": [
      "\rDownloading celeba:   5%|▌         | 74.9M/1.44G [00:10<03:53, 5.87MB/s]"
     ]
    },
    {
     "name": "stderr",
     "output_type": "stream",
     "text": [
      "\rDownloading celeba:   5%|▌         | 75.7M/1.44G [00:11<03:37, 6.29MB/s]"
     ]
    },
    {
     "name": "stderr",
     "output_type": "stream",
     "text": [
      "\rDownloading celeba:   5%|▌         | 76.8M/1.44G [00:11<03:08, 7.23MB/s]"
     ]
    },
    {
     "name": "stderr",
     "output_type": "stream",
     "text": [
      "\rDownloading celeba:   5%|▌         | 77.9M/1.44G [00:11<02:49, 8.04MB/s]"
     ]
    },
    {
     "name": "stderr",
     "output_type": "stream",
     "text": [
      "\rDownloading celeba:   5%|▌         | 78.9M/1.44G [00:11<02:41, 8.44MB/s]"
     ]
    },
    {
     "name": "stderr",
     "output_type": "stream",
     "text": [
      "\rDownloading celeba:   6%|▌         | 79.9M/1.44G [00:11<02:34, 8.84MB/s]"
     ]
    },
    {
     "name": "stderr",
     "output_type": "stream",
     "text": [
      "\rDownloading celeba:   6%|▌         | 80.9M/1.44G [00:11<02:28, 9.16MB/s]"
     ]
    },
    {
     "name": "stderr",
     "output_type": "stream",
     "text": [
      "\rDownloading celeba:   6%|▌         | 81.8M/1.44G [00:11<02:29, 9.12MB/s]"
     ]
    },
    {
     "name": "stderr",
     "output_type": "stream",
     "text": [
      "\rDownloading celeba:   6%|▌         | 82.5M/1.44G [00:11<02:44, 8.28MB/s]"
     ]
    },
    {
     "name": "stderr",
     "output_type": "stream",
     "text": [
      "\rDownloading celeba:   6%|▌         | 83.4M/1.44G [00:11<02:41, 8.41MB/s]"
     ]
    },
    {
     "name": "stderr",
     "output_type": "stream",
     "text": [
      "\rDownloading celeba:   6%|▌         | 83.9M/1.44G [00:11<03:16, 6.92MB/s]"
     ]
    },
    {
     "name": "stderr",
     "output_type": "stream",
     "text": [
      "\rDownloading celeba:   6%|▌         | 84.5M/1.44G [00:12<03:32, 6.40MB/s]"
     ]
    },
    {
     "name": "stderr",
     "output_type": "stream",
     "text": [
      "\rDownloading celeba:   6%|▌         | 85.0M/1.44G [00:12<03:55, 5.76MB/s]"
     ]
    },
    {
     "name": "stderr",
     "output_type": "stream",
     "text": [
      "\rDownloading celeba:   6%|▌         | 85.6M/1.44G [00:12<03:50, 5.89MB/s]"
     ]
    },
    {
     "name": "stderr",
     "output_type": "stream",
     "text": [
      "\rDownloading celeba:   6%|▌         | 86.0M/1.44G [00:12<04:17, 5.27MB/s]"
     ]
    },
    {
     "name": "stderr",
     "output_type": "stream",
     "text": [
      "\rDownloading celeba:   6%|▌         | 86.5M/1.44G [00:12<04:23, 5.15MB/s]"
     ]
    },
    {
     "name": "stderr",
     "output_type": "stream",
     "text": [
      "\rDownloading celeba:   6%|▌         | 86.9M/1.44G [00:12<05:11, 4.36MB/s]"
     ]
    },
    {
     "name": "stderr",
     "output_type": "stream",
     "text": [
      "\rDownloading celeba:   6%|▌         | 87.5M/1.44G [00:12<04:48, 4.70MB/s]"
     ]
    },
    {
     "name": "stderr",
     "output_type": "stream",
     "text": [
      "\rDownloading celeba:   6%|▌         | 87.9M/1.44G [00:12<05:08, 4.40MB/s]"
     ]
    },
    {
     "name": "stderr",
     "output_type": "stream",
     "text": [
      "\rDownloading celeba:   6%|▌         | 88.2M/1.44G [00:12<05:28, 4.13MB/s]"
     ]
    },
    {
     "name": "stderr",
     "output_type": "stream",
     "text": [
      "\rDownloading celeba:   6%|▌         | 88.8M/1.44G [00:12<05:10, 4.37MB/s]"
     ]
    },
    {
     "name": "stderr",
     "output_type": "stream",
     "text": [
      "\rDownloading celeba:   6%|▌         | 89.3M/1.44G [00:13<04:58, 4.54MB/s]"
     ]
    },
    {
     "name": "stderr",
     "output_type": "stream",
     "text": [
      "\rDownloading celeba:   6%|▌         | 89.7M/1.44G [00:13<04:59, 4.53MB/s]"
     ]
    },
    {
     "name": "stderr",
     "output_type": "stream",
     "text": [
      "\rDownloading celeba:   6%|▌         | 90.2M/1.44G [00:13<05:01, 4.49MB/s]"
     ]
    },
    {
     "name": "stderr",
     "output_type": "stream",
     "text": [
      "\rDownloading celeba:   6%|▋         | 90.7M/1.44G [00:13<04:59, 4.52MB/s]"
     ]
    },
    {
     "name": "stderr",
     "output_type": "stream",
     "text": [
      "\rDownloading celeba:   6%|▋         | 91.1M/1.44G [00:13<05:06, 4.41MB/s]"
     ]
    },
    {
     "name": "stderr",
     "output_type": "stream",
     "text": [
      "\rDownloading celeba:   6%|▋         | 91.5M/1.44G [00:13<05:14, 4.30MB/s]"
     ]
    },
    {
     "name": "stderr",
     "output_type": "stream",
     "text": [
      "\rDownloading celeba:   6%|▋         | 92.0M/1.44G [00:13<05:10, 4.35MB/s]"
     ]
    },
    {
     "name": "stderr",
     "output_type": "stream",
     "text": [
      "\rDownloading celeba:   6%|▋         | 92.4M/1.44G [00:13<05:08, 4.37MB/s]"
     ]
    },
    {
     "name": "stderr",
     "output_type": "stream",
     "text": [
      "\rDownloading celeba:   6%|▋         | 92.9M/1.44G [00:13<05:02, 4.46MB/s]"
     ]
    },
    {
     "name": "stderr",
     "output_type": "stream",
     "text": [
      "\rDownloading celeba:   6%|▋         | 93.4M/1.44G [00:13<04:57, 4.53MB/s]"
     ]
    },
    {
     "name": "stderr",
     "output_type": "stream",
     "text": [
      "\rDownloading celeba:   7%|▋         | 93.8M/1.44G [00:14<04:58, 4.52MB/s]"
     ]
    },
    {
     "name": "stderr",
     "output_type": "stream",
     "text": [
      "\rDownloading celeba:   7%|▋         | 94.3M/1.44G [00:14<05:13, 4.30MB/s]"
     ]
    },
    {
     "name": "stderr",
     "output_type": "stream",
     "text": [
      "\rDownloading celeba:   7%|▋         | 94.6M/1.44G [00:14<05:48, 3.87MB/s]"
     ]
    },
    {
     "name": "stderr",
     "output_type": "stream",
     "text": [
      "\rDownloading celeba:   7%|▋         | 95.0M/1.44G [00:14<05:46, 3.89MB/s]"
     ]
    },
    {
     "name": "stderr",
     "output_type": "stream",
     "text": [
      "\rDownloading celeba:   7%|▋         | 95.3M/1.44G [00:14<06:06, 3.68MB/s]"
     ]
    },
    {
     "name": "stderr",
     "output_type": "stream",
     "text": [
      "\rDownloading celeba:   7%|▋         | 95.7M/1.44G [00:14<06:03, 3.71MB/s]"
     ]
    },
    {
     "name": "stderr",
     "output_type": "stream",
     "text": [
      "\rDownloading celeba:   7%|▋         | 96.0M/1.44G [00:14<06:25, 3.50MB/s]"
     ]
    },
    {
     "name": "stderr",
     "output_type": "stream",
     "text": [
      "\rDownloading celeba:   7%|▋         | 96.4M/1.44G [00:14<06:20, 3.54MB/s]"
     ]
    },
    {
     "name": "stderr",
     "output_type": "stream",
     "text": [
      "\rDownloading celeba:   7%|▋         | 96.7M/1.44G [00:14<06:26, 3.48MB/s]"
     ]
    },
    {
     "name": "stderr",
     "output_type": "stream",
     "text": [
      "\rDownloading celeba:   7%|▋         | 97.0M/1.44G [00:15<07:40, 2.92MB/s]"
     ]
    },
    {
     "name": "stderr",
     "output_type": "stream",
     "text": [
      "\rDownloading celeba:   7%|▋         | 97.4M/1.44G [00:15<07:00, 3.20MB/s]"
     ]
    },
    {
     "name": "stderr",
     "output_type": "stream",
     "text": [
      "\rDownloading celeba:   7%|▋         | 97.8M/1.44G [00:15<06:28, 3.46MB/s]"
     ]
    },
    {
     "name": "stderr",
     "output_type": "stream",
     "text": [
      "\rDownloading celeba:   7%|▋         | 98.2M/1.44G [00:15<06:16, 3.57MB/s]"
     ]
    },
    {
     "name": "stderr",
     "output_type": "stream",
     "text": [
      "\rDownloading celeba:   7%|▋         | 98.6M/1.44G [00:15<06:15, 3.59MB/s]"
     ]
    },
    {
     "name": "stderr",
     "output_type": "stream",
     "text": [
      "\rDownloading celeba:   7%|▋         | 99.0M/1.44G [00:15<06:05, 3.68MB/s]"
     ]
    },
    {
     "name": "stderr",
     "output_type": "stream",
     "text": [
      "\rDownloading celeba:   7%|▋         | 99.4M/1.44G [00:15<05:57, 3.76MB/s]"
     ]
    },
    {
     "name": "stderr",
     "output_type": "stream",
     "text": [
      "\rDownloading celeba:   7%|▋         | 99.8M/1.44G [00:15<05:52, 3.81MB/s]"
     ]
    },
    {
     "name": "stderr",
     "output_type": "stream",
     "text": [
      "\rDownloading celeba:   7%|▋         | 100M/1.44G [00:15<05:48, 3.86MB/s] "
     ]
    },
    {
     "name": "stderr",
     "output_type": "stream",
     "text": [
      "\rDownloading celeba:   7%|▋         | 101M/1.44G [00:15<05:42, 3.92MB/s]"
     ]
    },
    {
     "name": "stderr",
     "output_type": "stream",
     "text": [
      "\rDownloading celeba:   7%|▋         | 101M/1.44G [00:16<05:40, 3.95MB/s]"
     ]
    },
    {
     "name": "stderr",
     "output_type": "stream",
     "text": [
      "\rDownloading celeba:   7%|▋         | 101M/1.44G [00:16<05:45, 3.88MB/s]"
     ]
    },
    {
     "name": "stderr",
     "output_type": "stream",
     "text": [
      "\rDownloading celeba:   7%|▋         | 102M/1.44G [00:16<05:35, 4.00MB/s]"
     ]
    },
    {
     "name": "stderr",
     "output_type": "stream",
     "text": [
      "\rDownloading celeba:   7%|▋         | 102M/1.44G [00:16<05:32, 4.04MB/s]"
     ]
    },
    {
     "name": "stderr",
     "output_type": "stream",
     "text": [
      "\rDownloading celeba:   7%|▋         | 103M/1.44G [00:16<05:30, 4.06MB/s]"
     ]
    },
    {
     "name": "stderr",
     "output_type": "stream",
     "text": [
      "\rDownloading celeba:   7%|▋         | 103M/1.44G [00:16<05:16, 4.24MB/s]"
     ]
    },
    {
     "name": "stderr",
     "output_type": "stream",
     "text": [
      "\rDownloading celeba:   7%|▋         | 104M/1.44G [00:16<04:43, 4.72MB/s]"
     ]
    },
    {
     "name": "stderr",
     "output_type": "stream",
     "text": [
      "\rDownloading celeba:   7%|▋         | 105M/1.44G [00:16<04:08, 5.39MB/s]"
     ]
    },
    {
     "name": "stderr",
     "output_type": "stream",
     "text": [
      "\rDownloading celeba:   7%|▋         | 106M/1.44G [00:16<03:33, 6.26MB/s]"
     ]
    },
    {
     "name": "stderr",
     "output_type": "stream",
     "text": [
      "\rDownloading celeba:   7%|▋         | 107M/1.44G [00:16<03:03, 7.29MB/s]"
     ]
    },
    {
     "name": "stderr",
     "output_type": "stream",
     "text": [
      "\rDownloading celeba:   7%|▋         | 108M/1.44G [00:17<02:43, 8.19MB/s]"
     ]
    },
    {
     "name": "stderr",
     "output_type": "stream",
     "text": [
      "\rDownloading celeba:   8%|▊         | 109M/1.44G [00:17<02:44, 8.09MB/s]"
     ]
    },
    {
     "name": "stderr",
     "output_type": "stream",
     "text": [
      "\rDownloading celeba:   8%|▊         | 110M/1.44G [00:17<02:19, 9.52MB/s]"
     ]
    },
    {
     "name": "stderr",
     "output_type": "stream",
     "text": [
      "\rDownloading celeba:   8%|▊         | 112M/1.44G [00:17<02:11, 10.1MB/s]"
     ]
    },
    {
     "name": "stderr",
     "output_type": "stream",
     "text": [
      "\rDownloading celeba:   8%|▊         | 112M/1.44G [00:17<02:23, 9.30MB/s]"
     ]
    },
    {
     "name": "stderr",
     "output_type": "stream",
     "text": [
      "\rDownloading celeba:   8%|▊         | 114M/1.44G [00:17<02:13, 9.95MB/s]"
     ]
    },
    {
     "name": "stderr",
     "output_type": "stream",
     "text": [
      "\rDownloading celeba:   8%|▊         | 115M/1.44G [00:17<01:58, 11.2MB/s]"
     ]
    },
    {
     "name": "stderr",
     "output_type": "stream",
     "text": [
      "\rDownloading celeba:   8%|▊         | 116M/1.44G [00:17<01:56, 11.3MB/s]"
     ]
    },
    {
     "name": "stderr",
     "output_type": "stream",
     "text": [
      "\rDownloading celeba:   8%|▊         | 118M/1.44G [00:17<01:55, 11.5MB/s]"
     ]
    },
    {
     "name": "stderr",
     "output_type": "stream",
     "text": [
      "\rDownloading celeba:   8%|▊         | 119M/1.44G [00:17<01:54, 11.6MB/s]"
     ]
    },
    {
     "name": "stderr",
     "output_type": "stream",
     "text": [
      "\rDownloading celeba:   8%|▊         | 120M/1.44G [00:18<01:53, 11.7MB/s]"
     ]
    },
    {
     "name": "stderr",
     "output_type": "stream",
     "text": [
      "\rDownloading celeba:   8%|▊         | 121M/1.44G [00:18<01:53, 11.7MB/s]"
     ]
    },
    {
     "name": "stderr",
     "output_type": "stream",
     "text": [
      "\rDownloading celeba:   8%|▊         | 122M/1.44G [00:18<01:52, 11.7MB/s]"
     ]
    },
    {
     "name": "stderr",
     "output_type": "stream",
     "text": [
      "\rDownloading celeba:   9%|▊         | 124M/1.44G [00:18<01:52, 11.7MB/s]"
     ]
    },
    {
     "name": "stderr",
     "output_type": "stream",
     "text": [
      "\rDownloading celeba:   9%|▊         | 125M/1.44G [00:18<01:52, 11.7MB/s]"
     ]
    },
    {
     "name": "stderr",
     "output_type": "stream",
     "text": [
      "\rDownloading celeba:   9%|▊         | 126M/1.44G [00:18<01:51, 11.8MB/s]"
     ]
    },
    {
     "name": "stderr",
     "output_type": "stream",
     "text": [
      "\rDownloading celeba:   9%|▉         | 127M/1.44G [00:18<01:52, 11.7MB/s]"
     ]
    },
    {
     "name": "stderr",
     "output_type": "stream",
     "text": [
      "\rDownloading celeba:   9%|▉         | 128M/1.44G [00:18<01:52, 11.7MB/s]"
     ]
    },
    {
     "name": "stderr",
     "output_type": "stream",
     "text": [
      "\rDownloading celeba:   9%|▉         | 130M/1.44G [00:18<01:51, 11.8MB/s]"
     ]
    },
    {
     "name": "stderr",
     "output_type": "stream",
     "text": [
      "\rDownloading celeba:   9%|▉         | 131M/1.44G [00:18<01:51, 11.8MB/s]"
     ]
    },
    {
     "name": "stderr",
     "output_type": "stream",
     "text": [
      "\rDownloading celeba:   9%|▉         | 132M/1.44G [00:19<01:51, 11.8MB/s]"
     ]
    },
    {
     "name": "stderr",
     "output_type": "stream",
     "text": [
      "\rDownloading celeba:   9%|▉         | 133M/1.44G [00:19<01:51, 11.8MB/s]"
     ]
    },
    {
     "name": "stderr",
     "output_type": "stream",
     "text": [
      "\rDownloading celeba:   9%|▉         | 134M/1.44G [00:19<01:51, 11.8MB/s]"
     ]
    },
    {
     "name": "stderr",
     "output_type": "stream",
     "text": [
      "\rDownloading celeba:   9%|▉         | 136M/1.44G [00:19<01:50, 11.8MB/s]"
     ]
    },
    {
     "name": "stderr",
     "output_type": "stream",
     "text": [
      "\rDownloading celeba:   9%|▉         | 137M/1.44G [00:19<01:50, 11.8MB/s]"
     ]
    },
    {
     "name": "stderr",
     "output_type": "stream",
     "text": [
      "\rDownloading celeba:  10%|▉         | 138M/1.44G [00:19<01:50, 11.8MB/s]"
     ]
    },
    {
     "name": "stderr",
     "output_type": "stream",
     "text": [
      "\rDownloading celeba:  10%|▉         | 139M/1.44G [00:19<01:50, 11.8MB/s]"
     ]
    },
    {
     "name": "stderr",
     "output_type": "stream",
     "text": [
      "\rDownloading celeba:  10%|▉         | 140M/1.44G [00:19<01:50, 11.8MB/s]"
     ]
    },
    {
     "name": "stderr",
     "output_type": "stream",
     "text": [
      "\rDownloading celeba:  10%|▉         | 141M/1.44G [00:19<02:12, 9.85MB/s]"
     ]
    },
    {
     "name": "stderr",
     "output_type": "stream",
     "text": [
      "\rDownloading celeba:  10%|▉         | 143M/1.44G [00:19<01:56, 11.1MB/s]"
     ]
    },
    {
     "name": "stderr",
     "output_type": "stream",
     "text": [
      "\rDownloading celeba:  10%|▉         | 143M/1.44G [00:20<02:16, 9.51MB/s]"
     ]
    },
    {
     "name": "stderr",
     "output_type": "stream",
     "text": [
      "\rDownloading celeba:  10%|█         | 145M/1.44G [00:20<02:00, 10.8MB/s]"
     ]
    },
    {
     "name": "stderr",
     "output_type": "stream",
     "text": [
      "\rDownloading celeba:  10%|█         | 146M/1.44G [00:20<01:56, 11.1MB/s]"
     ]
    },
    {
     "name": "stderr",
     "output_type": "stream",
     "text": [
      "\rDownloading celeba:  10%|█         | 147M/1.44G [00:20<01:54, 11.3MB/s]"
     ]
    },
    {
     "name": "stderr",
     "output_type": "stream",
     "text": [
      "\rDownloading celeba:  10%|█         | 149M/1.44G [00:20<01:52, 11.5MB/s]"
     ]
    },
    {
     "name": "stderr",
     "output_type": "stream",
     "text": [
      "\rDownloading celeba:  10%|█         | 150M/1.44G [00:20<01:52, 11.5MB/s]"
     ]
    },
    {
     "name": "stderr",
     "output_type": "stream",
     "text": [
      "\rDownloading celeba:  10%|█         | 151M/1.44G [00:20<01:52, 11.5MB/s]"
     ]
    },
    {
     "name": "stderr",
     "output_type": "stream",
     "text": [
      "\rDownloading celeba:  11%|█         | 152M/1.44G [00:20<01:50, 11.7MB/s]"
     ]
    },
    {
     "name": "stderr",
     "output_type": "stream",
     "text": [
      "\rDownloading celeba:  11%|█         | 153M/1.44G [00:21<02:40, 8.06MB/s]"
     ]
    },
    {
     "name": "stderr",
     "output_type": "stream",
     "text": [
      "\rDownloading celeba:  11%|█         | 154M/1.44G [00:21<02:20, 9.17MB/s]"
     ]
    },
    {
     "name": "stderr",
     "output_type": "stream",
     "text": [
      "\rDownloading celeba:  11%|█         | 156M/1.44G [00:21<02:12, 9.72MB/s]"
     ]
    },
    {
     "name": "stderr",
     "output_type": "stream",
     "text": [
      "\rDownloading celeba:  11%|█         | 157M/1.44G [00:21<02:10, 9.87MB/s]"
     ]
    },
    {
     "name": "stderr",
     "output_type": "stream",
     "text": [
      "\rDownloading celeba:  11%|█         | 158M/1.44G [00:21<02:09, 9.92MB/s]"
     ]
    },
    {
     "name": "stderr",
     "output_type": "stream",
     "text": [
      "\rDownloading celeba:  11%|█         | 159M/1.44G [00:21<02:07, 10.1MB/s]"
     ]
    },
    {
     "name": "stderr",
     "output_type": "stream",
     "text": [
      "\rDownloading celeba:  11%|█         | 160M/1.44G [00:21<02:04, 10.3MB/s]"
     ]
    },
    {
     "name": "stderr",
     "output_type": "stream",
     "text": [
      "\rDownloading celeba:  11%|█         | 160M/1.44G [00:21<02:33, 8.39MB/s]"
     ]
    },
    {
     "name": "stderr",
     "output_type": "stream",
     "text": [
      "\rDownloading celeba:  11%|█         | 161M/1.44G [00:21<02:25, 8.82MB/s]"
     ]
    },
    {
     "name": "stderr",
     "output_type": "stream",
     "text": [
      "\rDownloading celeba:  11%|█         | 162M/1.44G [00:21<02:36, 8.21MB/s]"
     ]
    },
    {
     "name": "stderr",
     "output_type": "stream",
     "text": [
      "\rDownloading celeba:  11%|█▏        | 163M/1.44G [00:22<03:26, 6.21MB/s]"
     ]
    },
    {
     "name": "stderr",
     "output_type": "stream",
     "text": [
      "\rDownloading celeba:  11%|█▏        | 163M/1.44G [00:22<03:09, 6.74MB/s]"
     ]
    },
    {
     "name": "stderr",
     "output_type": "stream",
     "text": [
      "\rDownloading celeba:  11%|█▏        | 164M/1.44G [00:22<03:21, 6.35MB/s]"
     ]
    },
    {
     "name": "stderr",
     "output_type": "stream",
     "text": [
      "\rDownloading celeba:  11%|█▏        | 164M/1.44G [00:22<03:43, 5.72MB/s]"
     ]
    },
    {
     "name": "stderr",
     "output_type": "stream",
     "text": [
      "\rDownloading celeba:  11%|█▏        | 165M/1.44G [00:22<03:51, 5.52MB/s]"
     ]
    },
    {
     "name": "stderr",
     "output_type": "stream",
     "text": [
      "\rDownloading celeba:  11%|█▏        | 165M/1.44G [00:22<04:11, 5.07MB/s]"
     ]
    },
    {
     "name": "stderr",
     "output_type": "stream",
     "text": [
      "\rDownloading celeba:  11%|█▏        | 166M/1.44G [00:22<04:27, 4.77MB/s]"
     ]
    },
    {
     "name": "stderr",
     "output_type": "stream",
     "text": [
      "\rDownloading celeba:  12%|█▏        | 166M/1.44G [00:22<04:37, 4.60MB/s]"
     ]
    },
    {
     "name": "stderr",
     "output_type": "stream",
     "text": [
      "\rDownloading celeba:  12%|█▏        | 167M/1.44G [00:22<05:45, 3.69MB/s]"
     ]
    },
    {
     "name": "stderr",
     "output_type": "stream",
     "text": [
      "\rDownloading celeba:  12%|█▏        | 167M/1.44G [00:22<05:04, 4.20MB/s]"
     ]
    },
    {
     "name": "stderr",
     "output_type": "stream",
     "text": [
      "\rDownloading celeba:  12%|█▏        | 168M/1.44G [00:23<04:55, 4.32MB/s]"
     ]
    },
    {
     "name": "stderr",
     "output_type": "stream",
     "text": [
      "\rDownloading celeba:  12%|█▏        | 168M/1.44G [00:23<04:49, 4.40MB/s]"
     ]
    },
    {
     "name": "stderr",
     "output_type": "stream",
     "text": [
      "\rDownloading celeba:  12%|█▏        | 169M/1.44G [00:23<04:48, 4.42MB/s]"
     ]
    },
    {
     "name": "stderr",
     "output_type": "stream",
     "text": [
      "\rDownloading celeba:  12%|█▏        | 169M/1.44G [00:23<04:46, 4.44MB/s]"
     ]
    },
    {
     "name": "stderr",
     "output_type": "stream",
     "text": [
      "\rDownloading celeba:  12%|█▏        | 170M/1.44G [00:23<04:35, 4.62MB/s]"
     ]
    },
    {
     "name": "stderr",
     "output_type": "stream",
     "text": [
      "\rDownloading celeba:  12%|█▏        | 170M/1.44G [00:23<04:26, 4.77MB/s]"
     ]
    },
    {
     "name": "stderr",
     "output_type": "stream",
     "text": [
      "\rDownloading celeba:  12%|█▏        | 171M/1.44G [00:23<04:11, 5.06MB/s]"
     ]
    },
    {
     "name": "stderr",
     "output_type": "stream",
     "text": [
      "\rDownloading celeba:  12%|█▏        | 171M/1.44G [00:23<04:09, 5.10MB/s]"
     ]
    },
    {
     "name": "stderr",
     "output_type": "stream",
     "text": [
      "\rDownloading celeba:  12%|█▏        | 172M/1.44G [00:23<04:05, 5.18MB/s]"
     ]
    },
    {
     "name": "stderr",
     "output_type": "stream",
     "text": [
      "\rDownloading celeba:  12%|█▏        | 172M/1.44G [00:23<04:00, 5.29MB/s]"
     ]
    },
    {
     "name": "stderr",
     "output_type": "stream",
     "text": [
      "\rDownloading celeba:  12%|█▏        | 173M/1.44G [00:24<04:04, 5.20MB/s]"
     ]
    },
    {
     "name": "stderr",
     "output_type": "stream",
     "text": [
      "\rDownloading celeba:  12%|█▏        | 173M/1.44G [00:24<03:59, 5.30MB/s]"
     ]
    },
    {
     "name": "stderr",
     "output_type": "stream",
     "text": [
      "\rDownloading celeba:  12%|█▏        | 174M/1.44G [00:24<03:57, 5.35MB/s]"
     ]
    },
    {
     "name": "stderr",
     "output_type": "stream",
     "text": [
      "\rDownloading celeba:  12%|█▏        | 175M/1.44G [00:24<03:54, 5.41MB/s]"
     ]
    },
    {
     "name": "stderr",
     "output_type": "stream",
     "text": [
      "\rDownloading celeba:  12%|█▏        | 175M/1.44G [00:24<03:51, 5.48MB/s]"
     ]
    },
    {
     "name": "stderr",
     "output_type": "stream",
     "text": [
      "\rDownloading celeba:  12%|█▏        | 176M/1.44G [00:24<03:46, 5.59MB/s]"
     ]
    },
    {
     "name": "stderr",
     "output_type": "stream",
     "text": [
      "\rDownloading celeba:  12%|█▏        | 176M/1.44G [00:24<03:41, 5.71MB/s]"
     ]
    },
    {
     "name": "stderr",
     "output_type": "stream",
     "text": [
      "\rDownloading celeba:  12%|█▏        | 177M/1.44G [00:24<03:30, 6.02MB/s]"
     ]
    },
    {
     "name": "stderr",
     "output_type": "stream",
     "text": [
      "\rDownloading celeba:  12%|█▏        | 178M/1.44G [00:24<03:18, 6.37MB/s]"
     ]
    },
    {
     "name": "stderr",
     "output_type": "stream",
     "text": [
      "\rDownloading celeba:  12%|█▏        | 179M/1.44G [00:24<03:05, 6.82MB/s]"
     ]
    },
    {
     "name": "stderr",
     "output_type": "stream",
     "text": [
      "\rDownloading celeba:  12%|█▏        | 179M/1.44G [00:25<03:00, 6.99MB/s]"
     ]
    },
    {
     "name": "stderr",
     "output_type": "stream",
     "text": [
      "\rDownloading celeba:  12%|█▏        | 180M/1.44G [00:25<03:00, 7.00MB/s]"
     ]
    },
    {
     "name": "stderr",
     "output_type": "stream",
     "text": [
      "\rDownloading celeba:  13%|█▎        | 181M/1.44G [00:25<03:00, 7.01MB/s]"
     ]
    },
    {
     "name": "stderr",
     "output_type": "stream",
     "text": [
      "\rDownloading celeba:  13%|█▎        | 181M/1.44G [00:25<02:59, 7.03MB/s]"
     ]
    },
    {
     "name": "stderr",
     "output_type": "stream",
     "text": [
      "\rDownloading celeba:  13%|█▎        | 182M/1.44G [00:25<03:00, 7.00MB/s]"
     ]
    },
    {
     "name": "stderr",
     "output_type": "stream",
     "text": [
      "\rDownloading celeba:  13%|█▎        | 183M/1.44G [00:25<02:56, 7.13MB/s]"
     ]
    },
    {
     "name": "stderr",
     "output_type": "stream",
     "text": [
      "\rDownloading celeba:  13%|█▎        | 184M/1.44G [00:25<02:53, 7.27MB/s]"
     ]
    },
    {
     "name": "stderr",
     "output_type": "stream",
     "text": [
      "\rDownloading celeba:  13%|█▎        | 184M/1.44G [00:25<02:50, 7.40MB/s]"
     ]
    },
    {
     "name": "stderr",
     "output_type": "stream",
     "text": [
      "\rDownloading celeba:  13%|█▎        | 185M/1.44G [00:25<02:44, 7.65MB/s]"
     ]
    },
    {
     "name": "stderr",
     "output_type": "stream",
     "text": [
      "\rDownloading celeba:  13%|█▎        | 186M/1.44G [00:25<02:41, 7.78MB/s]"
     ]
    },
    {
     "name": "stderr",
     "output_type": "stream",
     "text": [
      "\rDownloading celeba:  13%|█▎        | 187M/1.44G [00:26<02:41, 7.76MB/s]"
     ]
    },
    {
     "name": "stderr",
     "output_type": "stream",
     "text": [
      "\rDownloading celeba:  13%|█▎        | 188M/1.44G [00:26<02:41, 7.79MB/s]"
     ]
    },
    {
     "name": "stderr",
     "output_type": "stream",
     "text": [
      "\rDownloading celeba:  13%|█▎        | 189M/1.44G [00:26<02:40, 7.81MB/s]"
     ]
    },
    {
     "name": "stderr",
     "output_type": "stream",
     "text": [
      "\rDownloading celeba:  13%|█▎        | 189M/1.44G [00:26<02:39, 7.86MB/s]"
     ]
    },
    {
     "name": "stderr",
     "output_type": "stream",
     "text": [
      "\rDownloading celeba:  13%|█▎        | 190M/1.44G [00:26<02:36, 8.00MB/s]"
     ]
    },
    {
     "name": "stderr",
     "output_type": "stream",
     "text": [
      "\rDownloading celeba:  13%|█▎        | 191M/1.44G [00:26<02:34, 8.12MB/s]"
     ]
    },
    {
     "name": "stderr",
     "output_type": "stream",
     "text": [
      "\rDownloading celeba:  13%|█▎        | 192M/1.44G [00:26<02:33, 8.14MB/s]"
     ]
    },
    {
     "name": "stderr",
     "output_type": "stream",
     "text": [
      "\rDownloading celeba:  13%|█▎        | 193M/1.44G [00:26<02:31, 8.24MB/s]"
     ]
    },
    {
     "name": "stderr",
     "output_type": "stream",
     "text": [
      "\rDownloading celeba:  13%|█▎        | 194M/1.44G [00:26<02:27, 8.47MB/s]"
     ]
    },
    {
     "name": "stderr",
     "output_type": "stream",
     "text": [
      "\rDownloading celeba:  13%|█▎        | 195M/1.44G [00:27<02:23, 8.67MB/s]"
     ]
    },
    {
     "name": "stderr",
     "output_type": "stream",
     "text": [
      "\rDownloading celeba:  14%|█▎        | 195M/1.44G [00:27<02:23, 8.72MB/s]"
     ]
    },
    {
     "name": "stderr",
     "output_type": "stream",
     "text": [
      "\rDownloading celeba:  14%|█▎        | 196M/1.44G [00:27<02:24, 8.61MB/s]"
     ]
    },
    {
     "name": "stderr",
     "output_type": "stream",
     "text": [
      "\rDownloading celeba:  14%|█▎        | 197M/1.44G [00:27<02:29, 8.34MB/s]"
     ]
    },
    {
     "name": "stderr",
     "output_type": "stream",
     "text": [
      "\rDownloading celeba:  14%|█▎        | 198M/1.44G [00:27<02:31, 8.24MB/s]"
     ]
    },
    {
     "name": "stderr",
     "output_type": "stream",
     "text": [
      "\rDownloading celeba:  14%|█▍        | 199M/1.44G [00:27<02:33, 8.09MB/s]"
     ]
    },
    {
     "name": "stderr",
     "output_type": "stream",
     "text": [
      "\rDownloading celeba:  14%|█▍        | 199M/1.44G [00:27<02:33, 8.08MB/s]"
     ]
    },
    {
     "name": "stderr",
     "output_type": "stream",
     "text": [
      "\rDownloading celeba:  14%|█▍        | 200M/1.44G [00:27<02:32, 8.13MB/s]"
     ]
    },
    {
     "name": "stderr",
     "output_type": "stream",
     "text": [
      "\rDownloading celeba:  14%|█▍        | 201M/1.44G [00:27<02:32, 8.13MB/s]"
     ]
    },
    {
     "name": "stderr",
     "output_type": "stream",
     "text": [
      "\rDownloading celeba:  14%|█▍        | 202M/1.44G [00:27<02:33, 8.07MB/s]"
     ]
    },
    {
     "name": "stderr",
     "output_type": "stream",
     "text": [
      "\rDownloading celeba:  14%|█▍        | 203M/1.44G [00:28<02:31, 8.21MB/s]"
     ]
    },
    {
     "name": "stderr",
     "output_type": "stream",
     "text": [
      "\rDownloading celeba:  14%|█▍        | 204M/1.44G [00:28<02:26, 8.46MB/s]"
     ]
    },
    {
     "name": "stderr",
     "output_type": "stream",
     "text": [
      "\rDownloading celeba:  14%|█▍        | 205M/1.44G [00:28<02:23, 8.62MB/s]"
     ]
    },
    {
     "name": "stderr",
     "output_type": "stream",
     "text": [
      "\rDownloading celeba:  14%|█▍        | 205M/1.44G [00:28<02:23, 8.61MB/s]"
     ]
    },
    {
     "name": "stderr",
     "output_type": "stream",
     "text": [
      "\rDownloading celeba:  14%|█▍        | 206M/1.44G [00:28<02:27, 8.41MB/s]"
     ]
    },
    {
     "name": "stderr",
     "output_type": "stream",
     "text": [
      "\rDownloading celeba:  14%|█▍        | 207M/1.44G [00:28<02:27, 8.38MB/s]"
     ]
    },
    {
     "name": "stderr",
     "output_type": "stream",
     "text": [
      "\rDownloading celeba:  14%|█▍        | 208M/1.44G [00:28<02:22, 8.64MB/s]"
     ]
    },
    {
     "name": "stderr",
     "output_type": "stream",
     "text": [
      "\rDownloading celeba:  14%|█▍        | 209M/1.44G [00:28<02:15, 9.09MB/s]"
     ]
    },
    {
     "name": "stderr",
     "output_type": "stream",
     "text": [
      "\rDownloading celeba:  15%|█▍        | 210M/1.44G [00:28<02:06, 9.72MB/s]"
     ]
    },
    {
     "name": "stderr",
     "output_type": "stream",
     "text": [
      "\rDownloading celeba:  15%|█▍        | 211M/1.44G [00:28<02:07, 9.68MB/s]"
     ]
    },
    {
     "name": "stderr",
     "output_type": "stream",
     "text": [
      "\rDownloading celeba:  15%|█▍        | 213M/1.44G [00:29<01:55, 10.7MB/s]"
     ]
    },
    {
     "name": "stderr",
     "output_type": "stream",
     "text": [
      "\rDownloading celeba:  15%|█▍        | 214M/1.44G [00:29<01:51, 11.0MB/s]"
     ]
    },
    {
     "name": "stderr",
     "output_type": "stream",
     "text": [
      "\rDownloading celeba:  15%|█▍        | 215M/1.44G [00:29<01:49, 11.2MB/s]"
     ]
    },
    {
     "name": "stderr",
     "output_type": "stream",
     "text": [
      "\rDownloading celeba:  15%|█▍        | 216M/1.44G [00:29<01:47, 11.4MB/s]"
     ]
    },
    {
     "name": "stderr",
     "output_type": "stream",
     "text": [
      "\rDownloading celeba:  15%|█▌        | 217M/1.44G [00:29<01:46, 11.5MB/s]"
     ]
    },
    {
     "name": "stderr",
     "output_type": "stream",
     "text": [
      "\rDownloading celeba:  15%|█▌        | 219M/1.44G [00:29<01:45, 11.6MB/s]"
     ]
    },
    {
     "name": "stderr",
     "output_type": "stream",
     "text": [
      "\rDownloading celeba:  15%|█▌        | 220M/1.44G [00:29<01:45, 11.6MB/s]"
     ]
    },
    {
     "name": "stderr",
     "output_type": "stream",
     "text": [
      "\rDownloading celeba:  15%|█▌        | 221M/1.44G [00:29<01:44, 11.7MB/s]"
     ]
    },
    {
     "name": "stderr",
     "output_type": "stream",
     "text": [
      "\rDownloading celeba:  15%|█▌        | 222M/1.44G [00:29<01:43, 11.7MB/s]"
     ]
    },
    {
     "name": "stderr",
     "output_type": "stream",
     "text": [
      "\rDownloading celeba:  15%|█▌        | 223M/1.44G [00:29<01:43, 11.8MB/s]"
     ]
    },
    {
     "name": "stderr",
     "output_type": "stream",
     "text": [
      "\rDownloading celeba:  16%|█▌        | 225M/1.44G [00:30<01:43, 11.8MB/s]"
     ]
    },
    {
     "name": "stderr",
     "output_type": "stream",
     "text": [
      "\rDownloading celeba:  16%|█▌        | 226M/1.44G [00:30<01:43, 11.8MB/s]"
     ]
    },
    {
     "name": "stderr",
     "output_type": "stream",
     "text": [
      "\rDownloading celeba:  16%|█▌        | 227M/1.44G [00:30<01:42, 11.8MB/s]"
     ]
    },
    {
     "name": "stderr",
     "output_type": "stream",
     "text": [
      "\rDownloading celeba:  16%|█▌        | 228M/1.44G [00:30<01:43, 11.8MB/s]"
     ]
    },
    {
     "name": "stderr",
     "output_type": "stream",
     "text": [
      "\rDownloading celeba:  16%|█▌        | 229M/1.44G [00:30<01:43, 11.8MB/s]"
     ]
    },
    {
     "name": "stderr",
     "output_type": "stream",
     "text": [
      "\rDownloading celeba:  16%|█▌        | 231M/1.44G [00:30<01:42, 11.8MB/s]"
     ]
    },
    {
     "name": "stderr",
     "output_type": "stream",
     "text": [
      "\rDownloading celeba:  16%|█▌        | 232M/1.44G [00:30<01:42, 11.8MB/s]"
     ]
    },
    {
     "name": "stderr",
     "output_type": "stream",
     "text": [
      "\rDownloading celeba:  16%|█▌        | 233M/1.44G [00:30<01:42, 11.8MB/s]"
     ]
    },
    {
     "name": "stderr",
     "output_type": "stream",
     "text": [
      "\rDownloading celeba:  16%|█▌        | 234M/1.44G [00:30<01:42, 11.7MB/s]"
     ]
    },
    {
     "name": "stderr",
     "output_type": "stream",
     "text": [
      "\rDownloading celeba:  16%|█▋        | 235M/1.44G [00:30<01:42, 11.7MB/s]"
     ]
    },
    {
     "name": "stderr",
     "output_type": "stream",
     "text": [
      "\rDownloading celeba:  16%|█▋        | 236M/1.44G [00:31<01:42, 11.7MB/s]"
     ]
    },
    {
     "name": "stderr",
     "output_type": "stream",
     "text": [
      "\rDownloading celeba:  16%|█▋        | 238M/1.44G [00:31<01:42, 11.7MB/s]"
     ]
    },
    {
     "name": "stderr",
     "output_type": "stream",
     "text": [
      "\rDownloading celeba:  17%|█▋        | 239M/1.44G [00:31<01:42, 11.8MB/s]"
     ]
    },
    {
     "name": "stderr",
     "output_type": "stream",
     "text": [
      "\rDownloading celeba:  17%|█▋        | 240M/1.44G [00:31<01:42, 11.8MB/s]"
     ]
    },
    {
     "name": "stderr",
     "output_type": "stream",
     "text": [
      "\rDownloading celeba:  17%|█▋        | 241M/1.44G [00:31<01:41, 11.8MB/s]"
     ]
    },
    {
     "name": "stderr",
     "output_type": "stream",
     "text": [
      "\rDownloading celeba:  17%|█▋        | 242M/1.44G [00:31<01:41, 11.8MB/s]"
     ]
    },
    {
     "name": "stderr",
     "output_type": "stream",
     "text": [
      "\rDownloading celeba:  17%|█▋        | 244M/1.44G [00:31<01:41, 11.8MB/s]"
     ]
    },
    {
     "name": "stderr",
     "output_type": "stream",
     "text": [
      "\rDownloading celeba:  17%|█▋        | 245M/1.44G [00:31<01:41, 11.8MB/s]"
     ]
    },
    {
     "name": "stderr",
     "output_type": "stream",
     "text": [
      "\rDownloading celeba:  17%|█▋        | 246M/1.44G [00:31<01:56, 10.3MB/s]"
     ]
    },
    {
     "name": "stderr",
     "output_type": "stream",
     "text": [
      "\rDownloading celeba:  17%|█▋        | 247M/1.44G [00:31<01:46, 11.2MB/s]"
     ]
    },
    {
     "name": "stderr",
     "output_type": "stream",
     "text": [
      "\rDownloading celeba:  17%|█▋        | 248M/1.44G [00:32<01:44, 11.4MB/s]"
     ]
    },
    {
     "name": "stderr",
     "output_type": "stream",
     "text": [
      "\rDownloading celeba:  17%|█▋        | 249M/1.44G [00:32<01:45, 11.3MB/s]"
     ]
    },
    {
     "name": "stderr",
     "output_type": "stream",
     "text": [
      "\rDownloading celeba:  17%|█▋        | 250M/1.44G [00:32<01:49, 10.9MB/s]"
     ]
    },
    {
     "name": "stderr",
     "output_type": "stream",
     "text": [
      "\rDownloading celeba:  17%|█▋        | 251M/1.44G [00:32<01:55, 10.3MB/s]"
     ]
    },
    {
     "name": "stderr",
     "output_type": "stream",
     "text": [
      "\rDownloading celeba:  17%|█▋        | 252M/1.44G [00:32<02:00, 9.89MB/s]"
     ]
    },
    {
     "name": "stderr",
     "output_type": "stream",
     "text": [
      "\rDownloading celeba:  18%|█▊        | 253M/1.44G [00:32<02:06, 9.43MB/s]"
     ]
    },
    {
     "name": "stderr",
     "output_type": "stream",
     "text": [
      "\rDownloading celeba:  18%|█▊        | 254M/1.44G [00:32<02:41, 7.35MB/s]"
     ]
    },
    {
     "name": "stderr",
     "output_type": "stream",
     "text": [
      "\rDownloading celeba:  18%|█▊        | 254M/1.44G [00:32<02:51, 6.92MB/s]"
     ]
    },
    {
     "name": "stderr",
     "output_type": "stream",
     "text": [
      "\rDownloading celeba:  18%|█▊        | 255M/1.44G [00:32<02:46, 7.15MB/s]"
     ]
    },
    {
     "name": "stderr",
     "output_type": "stream",
     "text": [
      "\rDownloading celeba:  18%|█▊        | 256M/1.44G [00:32<03:02, 6.49MB/s]"
     ]
    },
    {
     "name": "stderr",
     "output_type": "stream",
     "text": [
      "\rDownloading celeba:  18%|█▊        | 256M/1.44G [00:33<04:06, 4.81MB/s]"
     ]
    },
    {
     "name": "stderr",
     "output_type": "stream",
     "text": [
      "\rDownloading celeba:  18%|█▊        | 257M/1.44G [00:33<03:55, 5.04MB/s]"
     ]
    },
    {
     "name": "stderr",
     "output_type": "stream",
     "text": [
      "\rDownloading celeba:  18%|█▊        | 257M/1.44G [00:33<04:14, 4.67MB/s]"
     ]
    },
    {
     "name": "stderr",
     "output_type": "stream",
     "text": [
      "\rDownloading celeba:  18%|█▊        | 257M/1.44G [00:33<04:21, 4.54MB/s]"
     ]
    },
    {
     "name": "stderr",
     "output_type": "stream",
     "text": [
      "\rDownloading celeba:  18%|█▊        | 258M/1.44G [00:33<04:35, 4.30MB/s]"
     ]
    },
    {
     "name": "stderr",
     "output_type": "stream",
     "text": [
      "\rDownloading celeba:  18%|█▊        | 258M/1.44G [00:33<04:33, 4.33MB/s]"
     ]
    },
    {
     "name": "stderr",
     "output_type": "stream",
     "text": [
      "\rDownloading celeba:  18%|█▊        | 259M/1.44G [00:33<04:30, 4.39MB/s]"
     ]
    },
    {
     "name": "stderr",
     "output_type": "stream",
     "text": [
      "\rDownloading celeba:  18%|█▊        | 259M/1.44G [00:33<04:20, 4.55MB/s]"
     ]
    },
    {
     "name": "stderr",
     "output_type": "stream",
     "text": [
      "\rDownloading celeba:  18%|█▊        | 260M/1.44G [00:33<04:19, 4.56MB/s]"
     ]
    },
    {
     "name": "stderr",
     "output_type": "stream",
     "text": [
      "\rDownloading celeba:  18%|█▊        | 260M/1.44G [00:34<04:16, 4.62MB/s]"
     ]
    },
    {
     "name": "stderr",
     "output_type": "stream",
     "text": [
      "\rDownloading celeba:  18%|█▊        | 261M/1.44G [00:34<04:21, 4.52MB/s]"
     ]
    },
    {
     "name": "stderr",
     "output_type": "stream",
     "text": [
      "\rDownloading celeba:  18%|█▊        | 261M/1.44G [00:34<04:40, 4.21MB/s]"
     ]
    },
    {
     "name": "stderr",
     "output_type": "stream",
     "text": [
      "\rDownloading celeba:  18%|█▊        | 262M/1.44G [00:34<04:17, 4.59MB/s]"
     ]
    },
    {
     "name": "stderr",
     "output_type": "stream",
     "text": [
      "\rDownloading celeba:  18%|█▊        | 262M/1.44G [00:34<04:20, 4.54MB/s]"
     ]
    },
    {
     "name": "stderr",
     "output_type": "stream",
     "text": [
      "\rDownloading celeba:  18%|█▊        | 263M/1.44G [00:34<04:14, 4.63MB/s]"
     ]
    },
    {
     "name": "stderr",
     "output_type": "stream",
     "text": [
      "\rDownloading celeba:  18%|█▊        | 263M/1.44G [00:34<04:17, 4.59MB/s]"
     ]
    },
    {
     "name": "stderr",
     "output_type": "stream",
     "text": [
      "\rDownloading celeba:  18%|█▊        | 264M/1.44G [00:34<04:13, 4.66MB/s]"
     ]
    },
    {
     "name": "stderr",
     "output_type": "stream",
     "text": [
      "\rDownloading celeba:  18%|█▊        | 264M/1.44G [00:34<04:13, 4.66MB/s]"
     ]
    },
    {
     "name": "stderr",
     "output_type": "stream",
     "text": [
      "\rDownloading celeba:  18%|█▊        | 265M/1.44G [00:34<04:11, 4.68MB/s]"
     ]
    },
    {
     "name": "stderr",
     "output_type": "stream",
     "text": [
      "\rDownloading celeba:  18%|█▊        | 265M/1.44G [00:35<04:05, 4.80MB/s]"
     ]
    },
    {
     "name": "stderr",
     "output_type": "stream",
     "text": [
      "\rDownloading celeba:  18%|█▊        | 266M/1.44G [00:35<03:58, 4.95MB/s]"
     ]
    },
    {
     "name": "stderr",
     "output_type": "stream",
     "text": [
      "\rDownloading celeba:  18%|█▊        | 266M/1.44G [00:35<03:49, 5.13MB/s]"
     ]
    },
    {
     "name": "stderr",
     "output_type": "stream",
     "text": [
      "\rDownloading celeba:  18%|█▊        | 267M/1.44G [00:35<03:44, 5.24MB/s]"
     ]
    },
    {
     "name": "stderr",
     "output_type": "stream",
     "text": [
      "\rDownloading celeba:  19%|█▊        | 267M/1.44G [00:35<03:39, 5.36MB/s]"
     ]
    },
    {
     "name": "stderr",
     "output_type": "stream",
     "text": [
      "\rDownloading celeba:  19%|█▊        | 268M/1.44G [00:35<03:38, 5.39MB/s]"
     ]
    },
    {
     "name": "stderr",
     "output_type": "stream",
     "text": [
      "\rDownloading celeba:  19%|█▊        | 268M/1.44G [00:35<03:37, 5.41MB/s]"
     ]
    },
    {
     "name": "stderr",
     "output_type": "stream",
     "text": [
      "\rDownloading celeba:  19%|█▊        | 269M/1.44G [00:35<03:39, 5.36MB/s]"
     ]
    },
    {
     "name": "stderr",
     "output_type": "stream",
     "text": [
      "\rDownloading celeba:  19%|█▊        | 270M/1.44G [00:35<03:33, 5.50MB/s]"
     ]
    },
    {
     "name": "stderr",
     "output_type": "stream",
     "text": [
      "\rDownloading celeba:  19%|█▊        | 270M/1.44G [00:36<03:25, 5.72MB/s]"
     ]
    },
    {
     "name": "stderr",
     "output_type": "stream",
     "text": [
      "\rDownloading celeba:  19%|█▉        | 271M/1.44G [00:36<03:14, 6.03MB/s]"
     ]
    },
    {
     "name": "stderr",
     "output_type": "stream",
     "text": [
      "\rDownloading celeba:  19%|█▉        | 272M/1.44G [00:36<02:59, 6.51MB/s]"
     ]
    },
    {
     "name": "stderr",
     "output_type": "stream",
     "text": [
      "\rDownloading celeba:  19%|█▉        | 273M/1.44G [00:36<02:39, 7.32MB/s]"
     ]
    },
    {
     "name": "stderr",
     "output_type": "stream",
     "text": [
      "\rDownloading celeba:  19%|█▉        | 274M/1.44G [00:36<02:21, 8.26MB/s]"
     ]
    },
    {
     "name": "stderr",
     "output_type": "stream",
     "text": [
      "\rDownloading celeba:  19%|█▉        | 275M/1.44G [00:36<02:08, 9.08MB/s]"
     ]
    },
    {
     "name": "stderr",
     "output_type": "stream",
     "text": [
      "\rDownloading celeba:  19%|█▉        | 276M/1.44G [00:36<01:59, 9.75MB/s]"
     ]
    },
    {
     "name": "stderr",
     "output_type": "stream",
     "text": [
      "\rDownloading celeba:  19%|█▉        | 277M/1.44G [00:36<02:06, 9.19MB/s]"
     ]
    },
    {
     "name": "stderr",
     "output_type": "stream",
     "text": [
      "\rDownloading celeba:  19%|█▉        | 279M/1.44G [00:36<01:52, 10.4MB/s]"
     ]
    },
    {
     "name": "stderr",
     "output_type": "stream",
     "text": [
      "\rDownloading celeba:  19%|█▉        | 280M/1.44G [00:36<01:48, 10.8MB/s]"
     ]
    },
    {
     "name": "stderr",
     "output_type": "stream",
     "text": [
      "\rDownloading celeba:  19%|█▉        | 281M/1.44G [00:37<01:45, 11.1MB/s]"
     ]
    },
    {
     "name": "stderr",
     "output_type": "stream",
     "text": [
      "\rDownloading celeba:  20%|█▉        | 282M/1.44G [00:37<01:47, 10.8MB/s]"
     ]
    },
    {
     "name": "stderr",
     "output_type": "stream",
     "text": [
      "\rDownloading celeba:  20%|█▉        | 283M/1.44G [00:37<01:51, 10.4MB/s]"
     ]
    },
    {
     "name": "stderr",
     "output_type": "stream",
     "text": [
      "\rDownloading celeba:  20%|█▉        | 284M/1.44G [00:37<01:55, 10.1MB/s]"
     ]
    },
    {
     "name": "stderr",
     "output_type": "stream",
     "text": [
      "\rDownloading celeba:  20%|█▉        | 285M/1.44G [00:37<01:55, 10.1MB/s]"
     ]
    },
    {
     "name": "stderr",
     "output_type": "stream",
     "text": [
      "\rDownloading celeba:  20%|█▉        | 286M/1.44G [00:37<01:54, 10.1MB/s]"
     ]
    },
    {
     "name": "stderr",
     "output_type": "stream",
     "text": [
      "\rDownloading celeba:  20%|█▉        | 287M/1.44G [00:37<01:56, 9.89MB/s]"
     ]
    },
    {
     "name": "stderr",
     "output_type": "stream",
     "text": [
      "\rDownloading celeba:  20%|█▉        | 288M/1.44G [00:37<02:01, 9.54MB/s]"
     ]
    },
    {
     "name": "stderr",
     "output_type": "stream",
     "text": [
      "\rDownloading celeba:  20%|██        | 289M/1.44G [00:37<02:04, 9.31MB/s]"
     ]
    },
    {
     "name": "stderr",
     "output_type": "stream",
     "text": [
      "\rDownloading celeba:  20%|██        | 290M/1.44G [00:37<02:04, 9.25MB/s]"
     ]
    },
    {
     "name": "stderr",
     "output_type": "stream",
     "text": [
      "\rDownloading celeba:  20%|██        | 291M/1.44G [00:38<02:08, 9.00MB/s]"
     ]
    },
    {
     "name": "stderr",
     "output_type": "stream",
     "text": [
      "\rDownloading celeba:  20%|██        | 291M/1.44G [00:38<02:12, 8.68MB/s]"
     ]
    },
    {
     "name": "stderr",
     "output_type": "stream",
     "text": [
      "\rDownloading celeba:  20%|██        | 292M/1.44G [00:38<02:15, 8.52MB/s]"
     ]
    },
    {
     "name": "stderr",
     "output_type": "stream",
     "text": [
      "\rDownloading celeba:  20%|██        | 293M/1.44G [00:38<02:15, 8.50MB/s]"
     ]
    },
    {
     "name": "stderr",
     "output_type": "stream",
     "text": [
      "\rDownloading celeba:  20%|██        | 294M/1.44G [00:38<02:13, 8.60MB/s]"
     ]
    },
    {
     "name": "stderr",
     "output_type": "stream",
     "text": [
      "\rDownloading celeba:  20%|██        | 295M/1.44G [00:38<02:12, 8.67MB/s]"
     ]
    },
    {
     "name": "stderr",
     "output_type": "stream",
     "text": [
      "\rDownloading celeba:  20%|██        | 296M/1.44G [00:38<02:13, 8.62MB/s]"
     ]
    },
    {
     "name": "stderr",
     "output_type": "stream",
     "text": [
      "\rDownloading celeba:  21%|██        | 297M/1.44G [00:38<02:13, 8.57MB/s]"
     ]
    },
    {
     "name": "stderr",
     "output_type": "stream",
     "text": [
      "\rDownloading celeba:  21%|██        | 298M/1.44G [00:38<02:11, 8.70MB/s]"
     ]
    },
    {
     "name": "stderr",
     "output_type": "stream",
     "text": [
      "\rDownloading celeba:  21%|██        | 298M/1.44G [00:38<02:12, 8.62MB/s]"
     ]
    },
    {
     "name": "stderr",
     "output_type": "stream",
     "text": [
      "\rDownloading celeba:  21%|██        | 299M/1.44G [00:39<02:13, 8.57MB/s]"
     ]
    },
    {
     "name": "stderr",
     "output_type": "stream",
     "text": [
      "\rDownloading celeba:  21%|██        | 300M/1.44G [00:39<02:12, 8.60MB/s]"
     ]
    },
    {
     "name": "stderr",
     "output_type": "stream",
     "text": [
      "\rDownloading celeba:  21%|██        | 301M/1.44G [00:39<02:13, 8.54MB/s]"
     ]
    },
    {
     "name": "stderr",
     "output_type": "stream",
     "text": [
      "\rDownloading celeba:  21%|██        | 302M/1.44G [00:39<02:12, 8.61MB/s]"
     ]
    },
    {
     "name": "stderr",
     "output_type": "stream",
     "text": [
      "\rDownloading celeba:  21%|██        | 303M/1.44G [00:39<02:14, 8.51MB/s]"
     ]
    },
    {
     "name": "stderr",
     "output_type": "stream",
     "text": [
      "\rDownloading celeba:  21%|██        | 304M/1.44G [00:39<02:13, 8.52MB/s]"
     ]
    },
    {
     "name": "stderr",
     "output_type": "stream",
     "text": [
      "\rDownloading celeba:  21%|██        | 304M/1.44G [00:39<02:11, 8.67MB/s]"
     ]
    },
    {
     "name": "stderr",
     "output_type": "stream",
     "text": [
      "\rDownloading celeba:  21%|██        | 305M/1.44G [00:39<02:08, 8.88MB/s]"
     ]
    },
    {
     "name": "stderr",
     "output_type": "stream",
     "text": [
      "\rDownloading celeba:  21%|██        | 307M/1.44G [00:39<01:59, 9.55MB/s]"
     ]
    },
    {
     "name": "stderr",
     "output_type": "stream",
     "text": [
      "\rDownloading celeba:  21%|██▏       | 308M/1.44G [00:39<01:51, 10.1MB/s]"
     ]
    },
    {
     "name": "stderr",
     "output_type": "stream",
     "text": [
      "\rDownloading celeba:  21%|██▏       | 309M/1.44G [00:40<01:47, 10.6MB/s]"
     ]
    },
    {
     "name": "stderr",
     "output_type": "stream",
     "text": [
      "\rDownloading celeba:  21%|██▏       | 310M/1.44G [00:40<01:43, 10.9MB/s]"
     ]
    },
    {
     "name": "stderr",
     "output_type": "stream",
     "text": [
      "\rDownloading celeba:  22%|██▏       | 310M/1.44G [00:40<02:58, 6.36MB/s]"
     ]
    },
    {
     "name": "stderr",
     "output_type": "stream",
     "text": [
      "\rDownloading celeba:  22%|██▏       | 312M/1.44G [00:40<02:26, 7.75MB/s]"
     ]
    },
    {
     "name": "stderr",
     "output_type": "stream",
     "text": [
      "\rDownloading celeba:  22%|██▏       | 313M/1.44G [00:40<02:11, 8.62MB/s]"
     ]
    },
    {
     "name": "stderr",
     "output_type": "stream",
     "text": [
      "\rDownloading celeba:  22%|██▏       | 314M/1.44G [00:40<02:01, 9.29MB/s]"
     ]
    },
    {
     "name": "stderr",
     "output_type": "stream",
     "text": [
      "\rDownloading celeba:  22%|██▏       | 316M/1.44G [00:40<01:53, 9.92MB/s]"
     ]
    },
    {
     "name": "stderr",
     "output_type": "stream",
     "text": [
      "\rDownloading celeba:  22%|██▏       | 317M/1.44G [00:40<01:48, 10.4MB/s]"
     ]
    },
    {
     "name": "stderr",
     "output_type": "stream",
     "text": [
      "\rDownloading celeba:  22%|██▏       | 318M/1.44G [00:40<01:44, 10.8MB/s]"
     ]
    },
    {
     "name": "stderr",
     "output_type": "stream",
     "text": [
      "\rDownloading celeba:  22%|██▏       | 319M/1.44G [00:40<01:41, 11.1MB/s]"
     ]
    },
    {
     "name": "stderr",
     "output_type": "stream",
     "text": [
      "\rDownloading celeba:  22%|██▏       | 320M/1.44G [00:41<01:39, 11.3MB/s]"
     ]
    },
    {
     "name": "stderr",
     "output_type": "stream",
     "text": [
      "\rDownloading celeba:  22%|██▏       | 321M/1.44G [00:41<01:38, 11.4MB/s]"
     ]
    },
    {
     "name": "stderr",
     "output_type": "stream",
     "text": [
      "\rDownloading celeba:  22%|██▏       | 323M/1.44G [00:41<01:37, 11.5MB/s]"
     ]
    },
    {
     "name": "stderr",
     "output_type": "stream",
     "text": [
      "\rDownloading celeba:  22%|██▏       | 324M/1.44G [00:41<01:36, 11.7MB/s]"
     ]
    },
    {
     "name": "stderr",
     "output_type": "stream",
     "text": [
      "\rDownloading celeba:  23%|██▎       | 325M/1.44G [00:41<01:35, 11.7MB/s]"
     ]
    },
    {
     "name": "stderr",
     "output_type": "stream",
     "text": [
      "\rDownloading celeba:  23%|██▎       | 326M/1.44G [00:41<01:35, 11.7MB/s]"
     ]
    },
    {
     "name": "stderr",
     "output_type": "stream",
     "text": [
      "\rDownloading celeba:  23%|██▎       | 327M/1.44G [00:41<01:34, 11.8MB/s]"
     ]
    },
    {
     "name": "stderr",
     "output_type": "stream",
     "text": [
      "\rDownloading celeba:  23%|██▎       | 329M/1.44G [00:41<01:34, 11.7MB/s]"
     ]
    },
    {
     "name": "stderr",
     "output_type": "stream",
     "text": [
      "\rDownloading celeba:  23%|██▎       | 330M/1.44G [00:41<01:34, 11.8MB/s]"
     ]
    },
    {
     "name": "stderr",
     "output_type": "stream",
     "text": [
      "\rDownloading celeba:  23%|██▎       | 331M/1.44G [00:41<01:34, 11.8MB/s]"
     ]
    },
    {
     "name": "stderr",
     "output_type": "stream",
     "text": [
      "\rDownloading celeba:  23%|██▎       | 332M/1.44G [00:42<01:34, 11.8MB/s]"
     ]
    },
    {
     "name": "stderr",
     "output_type": "stream",
     "text": [
      "\rDownloading celeba:  23%|██▎       | 333M/1.44G [00:42<01:34, 11.7MB/s]"
     ]
    },
    {
     "name": "stderr",
     "output_type": "stream",
     "text": [
      "\rDownloading celeba:  23%|██▎       | 334M/1.44G [00:42<01:35, 11.6MB/s]"
     ]
    },
    {
     "name": "stderr",
     "output_type": "stream",
     "text": [
      "\rDownloading celeba:  23%|██▎       | 336M/1.44G [00:42<01:35, 11.6MB/s]"
     ]
    },
    {
     "name": "stderr",
     "output_type": "stream",
     "text": [
      "\rDownloading celeba:  23%|██▎       | 337M/1.44G [00:42<01:34, 11.7MB/s]"
     ]
    },
    {
     "name": "stderr",
     "output_type": "stream",
     "text": [
      "\rDownloading celeba:  23%|██▎       | 338M/1.44G [00:42<01:34, 11.7MB/s]"
     ]
    },
    {
     "name": "stderr",
     "output_type": "stream",
     "text": [
      "\rDownloading celeba:  23%|██▎       | 339M/1.44G [00:42<01:55, 9.60MB/s]"
     ]
    },
    {
     "name": "stderr",
     "output_type": "stream",
     "text": [
      "\rDownloading celeba:  24%|██▎       | 340M/1.44G [00:42<01:44, 10.5MB/s]"
     ]
    },
    {
     "name": "stderr",
     "output_type": "stream",
     "text": [
      "\rDownloading celeba:  24%|██▎       | 341M/1.44G [00:42<01:48, 10.1MB/s]"
     ]
    },
    {
     "name": "stderr",
     "output_type": "stream",
     "text": [
      "\rDownloading celeba:  24%|██▎       | 342M/1.44G [00:42<02:02, 8.99MB/s]"
     ]
    },
    {
     "name": "stderr",
     "output_type": "stream",
     "text": [
      "\rDownloading celeba:  24%|██▎       | 343M/1.44G [00:43<02:06, 8.69MB/s]"
     ]
    },
    {
     "name": "stderr",
     "output_type": "stream",
     "text": [
      "\rDownloading celeba:  24%|██▍       | 343M/1.44G [00:43<02:17, 8.00MB/s]"
     ]
    },
    {
     "name": "stderr",
     "output_type": "stream",
     "text": [
      "\rDownloading celeba:  24%|██▍       | 344M/1.44G [00:43<02:57, 6.18MB/s]"
     ]
    },
    {
     "name": "stderr",
     "output_type": "stream",
     "text": [
      "\rDownloading celeba:  24%|██▍       | 345M/1.44G [00:43<02:46, 6.60MB/s]"
     ]
    },
    {
     "name": "stderr",
     "output_type": "stream",
     "text": [
      "\rDownloading celeba:  24%|██▍       | 345M/1.44G [00:43<03:02, 6.03MB/s]"
     ]
    },
    {
     "name": "stderr",
     "output_type": "stream",
     "text": [
      "\rDownloading celeba:  24%|██▍       | 346M/1.44G [00:43<03:13, 5.67MB/s]"
     ]
    },
    {
     "name": "stderr",
     "output_type": "stream",
     "text": [
      "\rDownloading celeba:  24%|██▍       | 346M/1.44G [00:43<03:34, 5.11MB/s]"
     ]
    },
    {
     "name": "stderr",
     "output_type": "stream",
     "text": [
      "\rDownloading celeba:  24%|██▍       | 346M/1.44G [00:43<03:45, 4.87MB/s]"
     ]
    },
    {
     "name": "stderr",
     "output_type": "stream",
     "text": [
      "\rDownloading celeba:  24%|██▍       | 347M/1.44G [00:43<04:05, 4.47MB/s]"
     ]
    },
    {
     "name": "stderr",
     "output_type": "stream",
     "text": [
      "\rDownloading celeba:  24%|██▍       | 347M/1.44G [00:44<05:18, 3.44MB/s]"
     ]
    },
    {
     "name": "stderr",
     "output_type": "stream",
     "text": [
      "\rDownloading celeba:  24%|██▍       | 348M/1.44G [00:44<04:40, 3.90MB/s]"
     ]
    },
    {
     "name": "stderr",
     "output_type": "stream",
     "text": [
      "\rDownloading celeba:  24%|██▍       | 348M/1.44G [00:44<04:31, 4.04MB/s]"
     ]
    },
    {
     "name": "stderr",
     "output_type": "stream",
     "text": [
      "\rDownloading celeba:  24%|██▍       | 349M/1.44G [00:44<04:29, 4.07MB/s]"
     ]
    },
    {
     "name": "stderr",
     "output_type": "stream",
     "text": [
      "\rDownloading celeba:  24%|██▍       | 349M/1.44G [00:44<04:30, 4.05MB/s]"
     ]
    },
    {
     "name": "stderr",
     "output_type": "stream",
     "text": [
      "\rDownloading celeba:  24%|██▍       | 349M/1.44G [00:44<04:29, 4.05MB/s]"
     ]
    },
    {
     "name": "stderr",
     "output_type": "stream",
     "text": [
      "\rDownloading celeba:  24%|██▍       | 350M/1.44G [00:44<04:29, 4.06MB/s]"
     ]
    },
    {
     "name": "stderr",
     "output_type": "stream",
     "text": [
      "\rDownloading celeba:  24%|██▍       | 350M/1.44G [00:44<04:31, 4.03MB/s]"
     ]
    },
    {
     "name": "stderr",
     "output_type": "stream",
     "text": [
      "\rDownloading celeba:  24%|██▍       | 351M/1.44G [00:44<04:29, 4.06MB/s]"
     ]
    },
    {
     "name": "stderr",
     "output_type": "stream",
     "text": [
      "\rDownloading celeba:  24%|██▍       | 351M/1.44G [00:44<04:22, 4.17MB/s]"
     ]
    },
    {
     "name": "stderr",
     "output_type": "stream",
     "text": [
      "\rDownloading celeba:  24%|██▍       | 352M/1.44G [00:45<04:18, 4.22MB/s]"
     ]
    },
    {
     "name": "stderr",
     "output_type": "stream",
     "text": [
      "\rDownloading celeba:  24%|██▍       | 352M/1.44G [00:45<04:16, 4.26MB/s]"
     ]
    },
    {
     "name": "stderr",
     "output_type": "stream",
     "text": [
      "\rDownloading celeba:  24%|██▍       | 352M/1.44G [00:45<04:21, 4.18MB/s]"
     ]
    },
    {
     "name": "stderr",
     "output_type": "stream",
     "text": [
      "\rDownloading celeba:  24%|██▍       | 353M/1.44G [00:45<04:21, 4.17MB/s]"
     ]
    },
    {
     "name": "stderr",
     "output_type": "stream",
     "text": [
      "\rDownloading celeba:  24%|██▍       | 353M/1.44G [00:45<04:20, 4.19MB/s]"
     ]
    },
    {
     "name": "stderr",
     "output_type": "stream",
     "text": [
      "\rDownloading celeba:  25%|██▍       | 354M/1.44G [00:45<04:20, 4.19MB/s]"
     ]
    },
    {
     "name": "stderr",
     "output_type": "stream",
     "text": [
      "\rDownloading celeba:  25%|██▍       | 354M/1.44G [00:45<04:20, 4.18MB/s]"
     ]
    },
    {
     "name": "stderr",
     "output_type": "stream",
     "text": [
      "\rDownloading celeba:  25%|██▍       | 355M/1.44G [00:45<04:22, 4.15MB/s]"
     ]
    },
    {
     "name": "stderr",
     "output_type": "stream",
     "text": [
      "\rDownloading celeba:  25%|██▍       | 355M/1.44G [00:45<04:41, 3.87MB/s]"
     ]
    },
    {
     "name": "stderr",
     "output_type": "stream",
     "text": [
      "\rDownloading celeba:  25%|██▍       | 356M/1.44G [00:46<04:22, 4.15MB/s]"
     ]
    },
    {
     "name": "stderr",
     "output_type": "stream",
     "text": [
      "\rDownloading celeba:  25%|██▍       | 356M/1.44G [00:46<04:21, 4.15MB/s]"
     ]
    },
    {
     "name": "stderr",
     "output_type": "stream",
     "text": [
      "\rDownloading celeba:  25%|██▍       | 356M/1.44G [00:46<04:34, 3.97MB/s]"
     ]
    },
    {
     "name": "stderr",
     "output_type": "stream",
     "text": [
      "\rDownloading celeba:  25%|██▍       | 357M/1.44G [00:46<04:36, 3.93MB/s]"
     ]
    },
    {
     "name": "stderr",
     "output_type": "stream",
     "text": [
      "\rDownloading celeba:  25%|██▍       | 357M/1.44G [00:46<04:41, 3.85MB/s]"
     ]
    },
    {
     "name": "stderr",
     "output_type": "stream",
     "text": [
      "\rDownloading celeba:  25%|██▍       | 357M/1.44G [00:46<04:49, 3.75MB/s]"
     ]
    },
    {
     "name": "stderr",
     "output_type": "stream",
     "text": [
      "\rDownloading celeba:  25%|██▍       | 358M/1.44G [00:46<04:50, 3.74MB/s]"
     ]
    },
    {
     "name": "stderr",
     "output_type": "stream",
     "text": [
      "\rDownloading celeba:  25%|██▍       | 358M/1.44G [00:46<04:49, 3.75MB/s]"
     ]
    },
    {
     "name": "stderr",
     "output_type": "stream",
     "text": [
      "\rDownloading celeba:  25%|██▍       | 359M/1.44G [00:46<04:47, 3.77MB/s]"
     ]
    },
    {
     "name": "stderr",
     "output_type": "stream",
     "text": [
      "\rDownloading celeba:  25%|██▍       | 359M/1.44G [00:46<04:44, 3.81MB/s]"
     ]
    },
    {
     "name": "stderr",
     "output_type": "stream",
     "text": [
      "\rDownloading celeba:  25%|██▍       | 359M/1.44G [00:47<04:38, 3.90MB/s]"
     ]
    },
    {
     "name": "stderr",
     "output_type": "stream",
     "text": [
      "\rDownloading celeba:  25%|██▍       | 360M/1.44G [00:47<04:32, 3.97MB/s]"
     ]
    },
    {
     "name": "stderr",
     "output_type": "stream",
     "text": [
      "\rDownloading celeba:  25%|██▍       | 360M/1.44G [00:47<04:34, 3.95MB/s]"
     ]
    },
    {
     "name": "stderr",
     "output_type": "stream",
     "text": [
      "\rDownloading celeba:  25%|██▍       | 361M/1.44G [00:47<04:26, 4.06MB/s]"
     ]
    },
    {
     "name": "stderr",
     "output_type": "stream",
     "text": [
      "\rDownloading celeba:  25%|██▌       | 361M/1.44G [00:47<04:25, 4.08MB/s]"
     ]
    },
    {
     "name": "stderr",
     "output_type": "stream",
     "text": [
      "\rDownloading celeba:  25%|██▌       | 362M/1.44G [00:47<04:21, 4.13MB/s]"
     ]
    },
    {
     "name": "stderr",
     "output_type": "stream",
     "text": [
      "\rDownloading celeba:  25%|██▌       | 362M/1.44G [00:47<04:21, 4.13MB/s]"
     ]
    },
    {
     "name": "stderr",
     "output_type": "stream",
     "text": [
      "\rDownloading celeba:  25%|██▌       | 362M/1.44G [00:47<04:21, 4.14MB/s]"
     ]
    },
    {
     "name": "stderr",
     "output_type": "stream",
     "text": [
      "\rDownloading celeba:  25%|██▌       | 363M/1.44G [00:47<04:24, 4.08MB/s]"
     ]
    },
    {
     "name": "stderr",
     "output_type": "stream",
     "text": [
      "\rDownloading celeba:  25%|██▌       | 363M/1.44G [00:47<04:18, 4.18MB/s]"
     ]
    },
    {
     "name": "stderr",
     "output_type": "stream",
     "text": [
      "\rDownloading celeba:  25%|██▌       | 364M/1.44G [00:48<04:21, 4.13MB/s]"
     ]
    },
    {
     "name": "stderr",
     "output_type": "stream",
     "text": [
      "\rDownloading celeba:  25%|██▌       | 364M/1.44G [00:48<04:12, 4.28MB/s]"
     ]
    },
    {
     "name": "stderr",
     "output_type": "stream",
     "text": [
      "\rDownloading celeba:  25%|██▌       | 365M/1.44G [00:48<04:02, 4.45MB/s]"
     ]
    },
    {
     "name": "stderr",
     "output_type": "stream",
     "text": [
      "\rDownloading celeba:  25%|██▌       | 365M/1.44G [00:48<03:45, 4.78MB/s]"
     ]
    },
    {
     "name": "stderr",
     "output_type": "stream",
     "text": [
      "\rDownloading celeba:  25%|██▌       | 366M/1.44G [00:48<03:27, 5.20MB/s]"
     ]
    },
    {
     "name": "stderr",
     "output_type": "stream",
     "text": [
      "\rDownloading celeba:  25%|██▌       | 367M/1.44G [00:48<03:06, 5.79MB/s]"
     ]
    },
    {
     "name": "stderr",
     "output_type": "stream",
     "text": [
      "\rDownloading celeba:  25%|██▌       | 368M/1.44G [00:48<02:44, 6.53MB/s]"
     ]
    },
    {
     "name": "stderr",
     "output_type": "stream",
     "text": [
      "\rDownloading celeba:  26%|██▌       | 369M/1.44G [00:48<02:26, 7.33MB/s]"
     ]
    },
    {
     "name": "stderr",
     "output_type": "stream",
     "text": [
      "\rDownloading celeba:  26%|██▌       | 370M/1.44G [00:48<02:13, 8.04MB/s]"
     ]
    },
    {
     "name": "stderr",
     "output_type": "stream",
     "text": [
      "\rDownloading celeba:  26%|██▌       | 371M/1.44G [00:48<02:04, 8.61MB/s]"
     ]
    },
    {
     "name": "stderr",
     "output_type": "stream",
     "text": [
      "\rDownloading celeba:  26%|██▌       | 372M/1.44G [00:49<02:00, 8.87MB/s]"
     ]
    },
    {
     "name": "stderr",
     "output_type": "stream",
     "text": [
      "\rDownloading celeba:  26%|██▌       | 372M/1.44G [00:49<02:24, 7.42MB/s]"
     ]
    },
    {
     "name": "stderr",
     "output_type": "stream",
     "text": [
      "\rDownloading celeba:  26%|██▌       | 373M/1.44G [00:49<02:11, 8.15MB/s]"
     ]
    },
    {
     "name": "stderr",
     "output_type": "stream",
     "text": [
      "\rDownloading celeba:  26%|██▌       | 374M/1.44G [00:49<02:13, 8.01MB/s]"
     ]
    },
    {
     "name": "stderr",
     "output_type": "stream",
     "text": [
      "\rDownloading celeba:  26%|██▌       | 375M/1.44G [00:49<02:15, 7.88MB/s]"
     ]
    },
    {
     "name": "stderr",
     "output_type": "stream",
     "text": [
      "\rDownloading celeba:  26%|██▌       | 376M/1.44G [00:49<02:19, 7.63MB/s]"
     ]
    },
    {
     "name": "stderr",
     "output_type": "stream",
     "text": [
      "\rDownloading celeba:  26%|██▌       | 376M/1.44G [00:49<02:21, 7.56MB/s]"
     ]
    },
    {
     "name": "stderr",
     "output_type": "stream",
     "text": [
      "\rDownloading celeba:  26%|██▌       | 377M/1.44G [00:49<02:23, 7.42MB/s]"
     ]
    },
    {
     "name": "stderr",
     "output_type": "stream",
     "text": [
      "\rDownloading celeba:  26%|██▌       | 378M/1.44G [00:49<02:23, 7.44MB/s]"
     ]
    },
    {
     "name": "stderr",
     "output_type": "stream",
     "text": [
      "\rDownloading celeba:  26%|██▌       | 379M/1.44G [00:50<02:21, 7.55MB/s]"
     ]
    },
    {
     "name": "stderr",
     "output_type": "stream",
     "text": [
      "\rDownloading celeba:  26%|██▋       | 379M/1.44G [00:50<02:18, 7.66MB/s]"
     ]
    },
    {
     "name": "stderr",
     "output_type": "stream",
     "text": [
      "\rDownloading celeba:  26%|██▋       | 380M/1.44G [00:50<02:17, 7.73MB/s]"
     ]
    },
    {
     "name": "stderr",
     "output_type": "stream",
     "text": [
      "\rDownloading celeba:  26%|██▋       | 381M/1.44G [00:50<02:14, 7.92MB/s]"
     ]
    },
    {
     "name": "stderr",
     "output_type": "stream",
     "text": [
      "\rDownloading celeba:  26%|██▋       | 382M/1.44G [00:50<02:16, 7.80MB/s]"
     ]
    },
    {
     "name": "stderr",
     "output_type": "stream",
     "text": [
      "\rDownloading celeba:  27%|██▋       | 383M/1.44G [00:50<02:05, 8.48MB/s]"
     ]
    },
    {
     "name": "stderr",
     "output_type": "stream",
     "text": [
      "\rDownloading celeba:  27%|██▋       | 384M/1.44G [00:50<02:01, 8.69MB/s]"
     ]
    },
    {
     "name": "stderr",
     "output_type": "stream",
     "text": [
      "\rDownloading celeba:  27%|██▋       | 385M/1.44G [00:50<01:59, 8.89MB/s]"
     ]
    },
    {
     "name": "stderr",
     "output_type": "stream",
     "text": [
      "\rDownloading celeba:  27%|██▋       | 386M/1.44G [00:50<02:08, 8.21MB/s]"
     ]
    },
    {
     "name": "stderr",
     "output_type": "stream",
     "text": [
      "\rDownloading celeba:  27%|██▋       | 387M/1.44G [00:50<02:27, 7.15MB/s]"
     ]
    },
    {
     "name": "stderr",
     "output_type": "stream",
     "text": [
      "\rDownloading celeba:  27%|██▋       | 388M/1.44G [00:51<02:08, 8.23MB/s]"
     ]
    },
    {
     "name": "stderr",
     "output_type": "stream",
     "text": [
      "\rDownloading celeba:  27%|██▋       | 389M/1.44G [00:51<01:59, 8.85MB/s]"
     ]
    },
    {
     "name": "stderr",
     "output_type": "stream",
     "text": [
      "\rDownloading celeba:  27%|██▋       | 390M/1.44G [00:51<01:56, 9.06MB/s]"
     ]
    },
    {
     "name": "stderr",
     "output_type": "stream",
     "text": [
      "\rDownloading celeba:  27%|██▋       | 391M/1.44G [00:51<01:54, 9.21MB/s]"
     ]
    },
    {
     "name": "stderr",
     "output_type": "stream",
     "text": [
      "\rDownloading celeba:  27%|██▋       | 392M/1.44G [00:51<02:03, 8.53MB/s]"
     ]
    },
    {
     "name": "stderr",
     "output_type": "stream",
     "text": [
      "\rDownloading celeba:  27%|██▋       | 393M/1.44G [00:51<02:01, 8.64MB/s]"
     ]
    },
    {
     "name": "stderr",
     "output_type": "stream",
     "text": [
      "\rDownloading celeba:  27%|██▋       | 393M/1.44G [00:51<01:59, 8.78MB/s]"
     ]
    },
    {
     "name": "stderr",
     "output_type": "stream",
     "text": [
      "\rDownloading celeba:  27%|██▋       | 394M/1.44G [00:51<01:55, 9.07MB/s]"
     ]
    },
    {
     "name": "stderr",
     "output_type": "stream",
     "text": [
      "\rDownloading celeba:  27%|██▋       | 395M/1.44G [00:51<01:57, 8.95MB/s]"
     ]
    },
    {
     "name": "stderr",
     "output_type": "stream",
     "text": [
      "\rDownloading celeba:  27%|██▋       | 396M/1.44G [00:52<02:08, 8.16MB/s]"
     ]
    },
    {
     "name": "stderr",
     "output_type": "stream",
     "text": [
      "\rDownloading celeba:  27%|██▋       | 397M/1.44G [00:52<02:45, 6.34MB/s]"
     ]
    },
    {
     "name": "stderr",
     "output_type": "stream",
     "text": [
      "\rDownloading celeba:  28%|██▊       | 398M/1.44G [00:52<02:21, 7.41MB/s]"
     ]
    },
    {
     "name": "stderr",
     "output_type": "stream",
     "text": [
      "\rDownloading celeba:  28%|██▊       | 399M/1.44G [00:52<02:18, 7.54MB/s]"
     ]
    },
    {
     "name": "stderr",
     "output_type": "stream",
     "text": [
      "\rDownloading celeba:  28%|██▊       | 399M/1.44G [00:52<02:26, 7.13MB/s]"
     ]
    },
    {
     "name": "stderr",
     "output_type": "stream",
     "text": [
      "\rDownloading celeba:  28%|██▊       | 400M/1.44G [00:52<02:17, 7.56MB/s]"
     ]
    },
    {
     "name": "stderr",
     "output_type": "stream",
     "text": [
      "\rDownloading celeba:  28%|██▊       | 401M/1.44G [00:52<02:18, 7.53MB/s]"
     ]
    },
    {
     "name": "stderr",
     "output_type": "stream",
     "text": [
      "\rDownloading celeba:  28%|██▊       | 402M/1.44G [00:52<02:35, 6.69MB/s]"
     ]
    },
    {
     "name": "stderr",
     "output_type": "stream",
     "text": [
      "\rDownloading celeba:  28%|██▊       | 403M/1.44G [00:52<02:27, 7.04MB/s]"
     ]
    },
    {
     "name": "stderr",
     "output_type": "stream",
     "text": [
      "\rDownloading celeba:  28%|██▊       | 403M/1.44G [00:52<02:39, 6.53MB/s]"
     ]
    },
    {
     "name": "stderr",
     "output_type": "stream",
     "text": [
      "\rDownloading celeba:  28%|██▊       | 404M/1.44G [00:53<02:45, 6.27MB/s]"
     ]
    },
    {
     "name": "stderr",
     "output_type": "stream",
     "text": [
      "\rDownloading celeba:  28%|██▊       | 404M/1.44G [00:53<02:51, 6.07MB/s]"
     ]
    },
    {
     "name": "stderr",
     "output_type": "stream",
     "text": [
      "\rDownloading celeba:  28%|██▊       | 405M/1.44G [00:53<02:52, 6.03MB/s]"
     ]
    },
    {
     "name": "stderr",
     "output_type": "stream",
     "text": [
      "\rDownloading celeba:  28%|██▊       | 405M/1.44G [00:53<02:52, 6.01MB/s]"
     ]
    },
    {
     "name": "stderr",
     "output_type": "stream",
     "text": [
      "\rDownloading celeba:  28%|██▊       | 406M/1.44G [00:53<02:56, 5.89MB/s]"
     ]
    },
    {
     "name": "stderr",
     "output_type": "stream",
     "text": [
      "\rDownloading celeba:  28%|██▊       | 407M/1.44G [00:53<03:00, 5.73MB/s]"
     ]
    },
    {
     "name": "stderr",
     "output_type": "stream",
     "text": [
      "\rDownloading celeba:  28%|██▊       | 407M/1.44G [00:53<03:14, 5.33MB/s]"
     ]
    },
    {
     "name": "stderr",
     "output_type": "stream",
     "text": [
      "\rDownloading celeba:  28%|██▊       | 408M/1.44G [00:53<03:27, 4.99MB/s]"
     ]
    },
    {
     "name": "stderr",
     "output_type": "stream",
     "text": [
      "\rDownloading celeba:  28%|██▊       | 408M/1.44G [00:53<04:09, 4.14MB/s]"
     ]
    },
    {
     "name": "stderr",
     "output_type": "stream",
     "text": [
      "\rDownloading celeba:  28%|██▊       | 408M/1.44G [00:54<03:55, 4.39MB/s]"
     ]
    },
    {
     "name": "stderr",
     "output_type": "stream",
     "text": [
      "\rDownloading celeba:  28%|██▊       | 409M/1.44G [00:54<04:11, 4.12MB/s]"
     ]
    },
    {
     "name": "stderr",
     "output_type": "stream",
     "text": [
      "\rDownloading celeba:  28%|██▊       | 409M/1.44G [00:54<04:26, 3.88MB/s]"
     ]
    },
    {
     "name": "stderr",
     "output_type": "stream",
     "text": [
      "\rDownloading celeba:  28%|██▊       | 409M/1.44G [00:54<04:35, 3.76MB/s]"
     ]
    },
    {
     "name": "stderr",
     "output_type": "stream",
     "text": [
      "\rDownloading celeba:  28%|██▊       | 410M/1.44G [00:54<04:43, 3.64MB/s]"
     ]
    },
    {
     "name": "stderr",
     "output_type": "stream",
     "text": [
      "\rDownloading celeba:  28%|██▊       | 410M/1.44G [00:54<04:22, 3.93MB/s]"
     ]
    },
    {
     "name": "stderr",
     "output_type": "stream",
     "text": [
      "\rDownloading celeba:  28%|██▊       | 411M/1.44G [00:54<04:10, 4.13MB/s]"
     ]
    },
    {
     "name": "stderr",
     "output_type": "stream",
     "text": [
      "\rDownloading celeba:  28%|██▊       | 411M/1.44G [00:54<04:00, 4.30MB/s]"
     ]
    },
    {
     "name": "stderr",
     "output_type": "stream",
     "text": [
      "\rDownloading celeba:  29%|██▊       | 412M/1.44G [00:54<04:01, 4.28MB/s]"
     ]
    },
    {
     "name": "stderr",
     "output_type": "stream",
     "text": [
      "\rDownloading celeba:  29%|██▊       | 412M/1.44G [00:54<03:42, 4.64MB/s]"
     ]
    },
    {
     "name": "stderr",
     "output_type": "stream",
     "text": [
      "\rDownloading celeba:  29%|██▊       | 413M/1.44G [00:55<03:33, 4.82MB/s]"
     ]
    },
    {
     "name": "stderr",
     "output_type": "stream",
     "text": [
      "\rDownloading celeba:  29%|██▊       | 413M/1.44G [00:55<03:25, 5.00MB/s]"
     ]
    },
    {
     "name": "stderr",
     "output_type": "stream",
     "text": [
      "\rDownloading celeba:  29%|██▊       | 414M/1.44G [00:55<03:43, 4.61MB/s]"
     ]
    },
    {
     "name": "stderr",
     "output_type": "stream",
     "text": [
      "\rDownloading celeba:  29%|██▊       | 414M/1.44G [00:55<03:29, 4.91MB/s]"
     ]
    },
    {
     "name": "stderr",
     "output_type": "stream",
     "text": [
      "\rDownloading celeba:  29%|██▊       | 415M/1.44G [00:55<03:23, 5.06MB/s]"
     ]
    },
    {
     "name": "stderr",
     "output_type": "stream",
     "text": [
      "\rDownloading celeba:  29%|██▉       | 415M/1.44G [00:55<03:23, 5.06MB/s]"
     ]
    },
    {
     "name": "stderr",
     "output_type": "stream",
     "text": [
      "\rDownloading celeba:  29%|██▉       | 416M/1.44G [00:55<03:20, 5.12MB/s]"
     ]
    },
    {
     "name": "stderr",
     "output_type": "stream",
     "text": [
      "\rDownloading celeba:  29%|██▉       | 417M/1.44G [00:55<03:23, 5.05MB/s]"
     ]
    },
    {
     "name": "stderr",
     "output_type": "stream",
     "text": [
      "\rDownloading celeba:  29%|██▉       | 417M/1.44G [00:55<03:15, 5.25MB/s]"
     ]
    },
    {
     "name": "stderr",
     "output_type": "stream",
     "text": [
      "\rDownloading celeba:  29%|██▉       | 418M/1.44G [00:55<03:10, 5.39MB/s]"
     ]
    },
    {
     "name": "stderr",
     "output_type": "stream",
     "text": [
      "\rDownloading celeba:  29%|██▉       | 418M/1.44G [00:56<02:53, 5.90MB/s]"
     ]
    },
    {
     "name": "stderr",
     "output_type": "stream",
     "text": [
      "\rDownloading celeba:  29%|██▉       | 419M/1.44G [00:56<02:37, 6.49MB/s]"
     ]
    },
    {
     "name": "stderr",
     "output_type": "stream",
     "text": [
      "\rDownloading celeba:  29%|██▉       | 420M/1.44G [00:56<02:21, 7.21MB/s]"
     ]
    },
    {
     "name": "stderr",
     "output_type": "stream",
     "text": [
      "\rDownloading celeba:  29%|██▉       | 421M/1.44G [00:56<02:06, 8.10MB/s]"
     ]
    },
    {
     "name": "stderr",
     "output_type": "stream",
     "text": [
      "\rDownloading celeba:  29%|██▉       | 423M/1.44G [00:56<01:54, 8.94MB/s]"
     ]
    },
    {
     "name": "stderr",
     "output_type": "stream",
     "text": [
      "\rDownloading celeba:  29%|██▉       | 424M/1.44G [00:56<01:45, 9.64MB/s]"
     ]
    },
    {
     "name": "stderr",
     "output_type": "stream",
     "text": [
      "\rDownloading celeba:  29%|██▉       | 425M/1.44G [00:56<01:56, 8.75MB/s]"
     ]
    },
    {
     "name": "stderr",
     "output_type": "stream",
     "text": [
      "\rDownloading celeba:  30%|██▉       | 426M/1.44G [00:56<01:43, 9.82MB/s]"
     ]
    },
    {
     "name": "stderr",
     "output_type": "stream",
     "text": [
      "\rDownloading celeba:  30%|██▉       | 427M/1.44G [00:56<01:36, 10.6MB/s]"
     ]
    },
    {
     "name": "stderr",
     "output_type": "stream",
     "text": [
      "\rDownloading celeba:  30%|██▉       | 428M/1.44G [00:56<01:35, 10.7MB/s]"
     ]
    },
    {
     "name": "stderr",
     "output_type": "stream",
     "text": [
      "\rDownloading celeba:  30%|██▉       | 429M/1.44G [00:57<01:34, 10.8MB/s]"
     ]
    },
    {
     "name": "stderr",
     "output_type": "stream",
     "text": [
      "\rDownloading celeba:  30%|██▉       | 430M/1.44G [00:57<01:34, 10.7MB/s]"
     ]
    },
    {
     "name": "stderr",
     "output_type": "stream",
     "text": [
      "\rDownloading celeba:  30%|██▉       | 432M/1.44G [00:57<01:35, 10.6MB/s]"
     ]
    },
    {
     "name": "stderr",
     "output_type": "stream",
     "text": [
      "\rDownloading celeba:  30%|██▉       | 433M/1.44G [00:57<01:36, 10.4MB/s]"
     ]
    },
    {
     "name": "stderr",
     "output_type": "stream",
     "text": [
      "\rDownloading celeba:  30%|███       | 434M/1.44G [00:57<01:37, 10.4MB/s]"
     ]
    },
    {
     "name": "stderr",
     "output_type": "stream",
     "text": [
      "\rDownloading celeba:  30%|███       | 435M/1.44G [00:57<01:37, 10.4MB/s]"
     ]
    },
    {
     "name": "stderr",
     "output_type": "stream",
     "text": [
      "\rDownloading celeba:  30%|███       | 436M/1.44G [00:57<01:36, 10.5MB/s]"
     ]
    },
    {
     "name": "stderr",
     "output_type": "stream",
     "text": [
      "\rDownloading celeba:  30%|███       | 437M/1.44G [00:57<01:36, 10.4MB/s]"
     ]
    },
    {
     "name": "stderr",
     "output_type": "stream",
     "text": [
      "\rDownloading celeba:  30%|███       | 438M/1.44G [00:57<01:34, 10.7MB/s]"
     ]
    },
    {
     "name": "stderr",
     "output_type": "stream",
     "text": [
      "\rDownloading celeba:  30%|███       | 439M/1.44G [00:57<01:34, 10.6MB/s]"
     ]
    },
    {
     "name": "stderr",
     "output_type": "stream",
     "text": [
      "\rDownloading celeba:  30%|███       | 440M/1.44G [00:58<01:37, 10.3MB/s]"
     ]
    },
    {
     "name": "stderr",
     "output_type": "stream",
     "text": [
      "\rDownloading celeba:  31%|███       | 441M/1.44G [00:58<01:38, 10.1MB/s]"
     ]
    },
    {
     "name": "stderr",
     "output_type": "stream",
     "text": [
      "\rDownloading celeba:  31%|███       | 442M/1.44G [00:58<01:38, 10.1MB/s]"
     ]
    },
    {
     "name": "stderr",
     "output_type": "stream",
     "text": [
      "\rDownloading celeba:  31%|███       | 443M/1.44G [00:58<01:39, 10.1MB/s]"
     ]
    },
    {
     "name": "stderr",
     "output_type": "stream",
     "text": [
      "\rDownloading celeba:  31%|███       | 444M/1.44G [00:58<01:39, 10.1MB/s]"
     ]
    },
    {
     "name": "stderr",
     "output_type": "stream",
     "text": [
      "\rDownloading celeba:  31%|███       | 445M/1.44G [00:58<01:40, 9.93MB/s]"
     ]
    },
    {
     "name": "stderr",
     "output_type": "stream",
     "text": [
      "\rDownloading celeba:  31%|███       | 446M/1.44G [00:58<01:41, 9.84MB/s]"
     ]
    },
    {
     "name": "stderr",
     "output_type": "stream",
     "text": [
      "\rDownloading celeba:  31%|███       | 447M/1.44G [00:58<01:41, 9.81MB/s]"
     ]
    },
    {
     "name": "stderr",
     "output_type": "stream",
     "text": [
      "\rDownloading celeba:  31%|███       | 448M/1.44G [00:58<01:53, 8.74MB/s]"
     ]
    },
    {
     "name": "stderr",
     "output_type": "stream",
     "text": [
      "\rDownloading celeba:  31%|███       | 449M/1.44G [00:59<01:46, 9.37MB/s]"
     ]
    },
    {
     "name": "stderr",
     "output_type": "stream",
     "text": [
      "\rDownloading celeba:  31%|███       | 450M/1.44G [00:59<01:51, 8.90MB/s]"
     ]
    },
    {
     "name": "stderr",
     "output_type": "stream",
     "text": [
      "\rDownloading celeba:  31%|███       | 450M/1.44G [00:59<01:55, 8.59MB/s]"
     ]
    },
    {
     "name": "stderr",
     "output_type": "stream",
     "text": [
      "\rDownloading celeba:  31%|███▏      | 451M/1.44G [00:59<01:58, 8.35MB/s]"
     ]
    },
    {
     "name": "stderr",
     "output_type": "stream",
     "text": [
      "\rDownloading celeba:  31%|███▏      | 452M/1.44G [00:59<01:59, 8.29MB/s]"
     ]
    },
    {
     "name": "stderr",
     "output_type": "stream",
     "text": [
      "\rDownloading celeba:  31%|███▏      | 453M/1.44G [00:59<01:57, 8.45MB/s]"
     ]
    },
    {
     "name": "stderr",
     "output_type": "stream",
     "text": [
      "\rDownloading celeba:  31%|███▏      | 454M/1.44G [00:59<01:57, 8.41MB/s]"
     ]
    },
    {
     "name": "stderr",
     "output_type": "stream",
     "text": [
      "\rDownloading celeba:  31%|███▏      | 455M/1.44G [00:59<01:58, 8.35MB/s]"
     ]
    },
    {
     "name": "stderr",
     "output_type": "stream",
     "text": [
      "\rDownloading celeba:  32%|███▏      | 455M/1.44G [00:59<01:58, 8.35MB/s]"
     ]
    },
    {
     "name": "stderr",
     "output_type": "stream",
     "text": [
      "\rDownloading celeba:  32%|███▏      | 456M/1.44G [00:59<02:10, 7.54MB/s]"
     ]
    },
    {
     "name": "stderr",
     "output_type": "stream",
     "text": [
      "\rDownloading celeba:  32%|███▏      | 457M/1.44G [01:00<02:00, 8.18MB/s]"
     ]
    },
    {
     "name": "stderr",
     "output_type": "stream",
     "text": [
      "\rDownloading celeba:  32%|███▏      | 458M/1.44G [01:00<02:04, 7.91MB/s]"
     ]
    },
    {
     "name": "stderr",
     "output_type": "stream",
     "text": [
      "\rDownloading celeba:  32%|███▏      | 458M/1.44G [01:00<02:10, 7.55MB/s]"
     ]
    },
    {
     "name": "stderr",
     "output_type": "stream",
     "text": [
      "\rDownloading celeba:  32%|███▏      | 459M/1.44G [01:00<02:12, 7.41MB/s]"
     ]
    },
    {
     "name": "stderr",
     "output_type": "stream",
     "text": [
      "\rDownloading celeba:  32%|███▏      | 460M/1.44G [01:00<02:15, 7.27MB/s]"
     ]
    },
    {
     "name": "stderr",
     "output_type": "stream",
     "text": [
      "\rDownloading celeba:  32%|███▏      | 461M/1.44G [01:00<02:17, 7.12MB/s]"
     ]
    },
    {
     "name": "stderr",
     "output_type": "stream",
     "text": [
      "\rDownloading celeba:  32%|███▏      | 461M/1.44G [01:00<02:17, 7.14MB/s]"
     ]
    },
    {
     "name": "stderr",
     "output_type": "stream",
     "text": [
      "\rDownloading celeba:  32%|███▏      | 462M/1.44G [01:00<02:15, 7.23MB/s]"
     ]
    },
    {
     "name": "stderr",
     "output_type": "stream",
     "text": [
      "\rDownloading celeba:  32%|███▏      | 463M/1.44G [01:00<02:15, 7.24MB/s]"
     ]
    },
    {
     "name": "stderr",
     "output_type": "stream",
     "text": [
      "\rDownloading celeba:  32%|███▏      | 464M/1.44G [01:00<02:16, 7.20MB/s]"
     ]
    },
    {
     "name": "stderr",
     "output_type": "stream",
     "text": [
      "\rDownloading celeba:  32%|███▏      | 464M/1.44G [01:01<02:20, 6.97MB/s]"
     ]
    },
    {
     "name": "stderr",
     "output_type": "stream",
     "text": [
      "\rDownloading celeba:  32%|███▏      | 465M/1.44G [01:01<02:21, 6.91MB/s]"
     ]
    },
    {
     "name": "stderr",
     "output_type": "stream",
     "text": [
      "\rDownloading celeba:  32%|███▏      | 466M/1.44G [01:01<02:20, 6.95MB/s]"
     ]
    },
    {
     "name": "stderr",
     "output_type": "stream",
     "text": [
      "\rDownloading celeba:  32%|███▏      | 466M/1.44G [01:01<02:21, 6.93MB/s]"
     ]
    },
    {
     "name": "stderr",
     "output_type": "stream",
     "text": [
      "\rDownloading celeba:  32%|███▏      | 467M/1.44G [01:01<02:21, 6.89MB/s]"
     ]
    },
    {
     "name": "stderr",
     "output_type": "stream",
     "text": [
      "\rDownloading celeba:  32%|███▏      | 468M/1.44G [01:01<02:21, 6.90MB/s]"
     ]
    },
    {
     "name": "stderr",
     "output_type": "stream",
     "text": [
      "\rDownloading celeba:  32%|███▏      | 468M/1.44G [01:01<02:19, 7.00MB/s]"
     ]
    },
    {
     "name": "stderr",
     "output_type": "stream",
     "text": [
      "\rDownloading celeba:  33%|███▎      | 469M/1.44G [01:01<02:17, 7.10MB/s]"
     ]
    },
    {
     "name": "stderr",
     "output_type": "stream",
     "text": [
      "\rDownloading celeba:  33%|███▎      | 470M/1.44G [01:01<02:13, 7.30MB/s]"
     ]
    },
    {
     "name": "stderr",
     "output_type": "stream",
     "text": [
      "\rDownloading celeba:  33%|███▎      | 471M/1.44G [01:01<02:09, 7.49MB/s]"
     ]
    },
    {
     "name": "stderr",
     "output_type": "stream",
     "text": [
      "\rDownloading celeba:  33%|███▎      | 472M/1.44G [01:02<02:05, 7.76MB/s]"
     ]
    },
    {
     "name": "stderr",
     "output_type": "stream",
     "text": [
      "\rDownloading celeba:  33%|███▎      | 473M/1.44G [01:02<01:58, 8.17MB/s]"
     ]
    },
    {
     "name": "stderr",
     "output_type": "stream",
     "text": [
      "\rDownloading celeba:  33%|███▎      | 474M/1.44G [01:02<01:50, 8.75MB/s]"
     ]
    },
    {
     "name": "stderr",
     "output_type": "stream",
     "text": [
      "\rDownloading celeba:  33%|███▎      | 475M/1.44G [01:02<01:42, 9.42MB/s]"
     ]
    },
    {
     "name": "stderr",
     "output_type": "stream",
     "text": [
      "\rDownloading celeba:  33%|███▎      | 476M/1.44G [01:02<01:37, 9.89MB/s]"
     ]
    },
    {
     "name": "stderr",
     "output_type": "stream",
     "text": [
      "\rDownloading celeba:  33%|███▎      | 477M/1.44G [01:02<01:34, 10.3MB/s]"
     ]
    },
    {
     "name": "stderr",
     "output_type": "stream",
     "text": [
      "\rDownloading celeba:  33%|███▎      | 478M/1.44G [01:02<01:30, 10.6MB/s]"
     ]
    },
    {
     "name": "stderr",
     "output_type": "stream",
     "text": [
      "\rDownloading celeba:  33%|███▎      | 479M/1.44G [01:02<01:30, 10.7MB/s]"
     ]
    },
    {
     "name": "stderr",
     "output_type": "stream",
     "text": [
      "\rDownloading celeba:  33%|███▎      | 480M/1.44G [01:02<01:39, 9.73MB/s]"
     ]
    },
    {
     "name": "stderr",
     "output_type": "stream",
     "text": [
      "\rDownloading celeba:  33%|███▎      | 481M/1.44G [01:02<02:06, 7.61MB/s]"
     ]
    },
    {
     "name": "stderr",
     "output_type": "stream",
     "text": [
      "\rDownloading celeba:  33%|███▎      | 481M/1.44G [01:03<02:23, 6.69MB/s]"
     ]
    },
    {
     "name": "stderr",
     "output_type": "stream",
     "text": [
      "\rDownloading celeba:  33%|███▎      | 482M/1.44G [01:03<02:09, 7.44MB/s]"
     ]
    },
    {
     "name": "stderr",
     "output_type": "stream",
     "text": [
      "\rDownloading celeba:  33%|███▎      | 483M/1.44G [01:03<03:07, 5.13MB/s]"
     ]
    },
    {
     "name": "stderr",
     "output_type": "stream",
     "text": [
      "\rDownloading celeba:  33%|███▎      | 484M/1.44G [01:03<02:43, 5.86MB/s]"
     ]
    },
    {
     "name": "stderr",
     "output_type": "stream",
     "text": [
      "\rDownloading celeba:  34%|███▎      | 484M/1.44G [01:03<02:39, 6.01MB/s]"
     ]
    },
    {
     "name": "stderr",
     "output_type": "stream",
     "text": [
      "\rDownloading celeba:  34%|███▎      | 485M/1.44G [01:03<02:44, 5.84MB/s]"
     ]
    },
    {
     "name": "stderr",
     "output_type": "stream",
     "text": [
      "\rDownloading celeba:  34%|███▎      | 485M/1.44G [01:03<02:42, 5.91MB/s]"
     ]
    },
    {
     "name": "stderr",
     "output_type": "stream",
     "text": [
      "\rDownloading celeba:  34%|███▎      | 486M/1.44G [01:03<02:38, 6.03MB/s]"
     ]
    },
    {
     "name": "stderr",
     "output_type": "stream",
     "text": [
      "\rDownloading celeba:  34%|███▎      | 487M/1.44G [01:03<02:36, 6.10MB/s]"
     ]
    },
    {
     "name": "stderr",
     "output_type": "stream",
     "text": [
      "\rDownloading celeba:  34%|███▍      | 487M/1.44G [01:04<02:35, 6.14MB/s]"
     ]
    },
    {
     "name": "stderr",
     "output_type": "stream",
     "text": [
      "\rDownloading celeba:  34%|███▍      | 488M/1.44G [01:04<02:36, 6.12MB/s]"
     ]
    },
    {
     "name": "stderr",
     "output_type": "stream",
     "text": [
      "\rDownloading celeba:  34%|███▍      | 489M/1.44G [01:04<02:40, 5.94MB/s]"
     ]
    },
    {
     "name": "stderr",
     "output_type": "stream",
     "text": [
      "\rDownloading celeba:  34%|███▍      | 489M/1.44G [01:04<02:47, 5.68MB/s]"
     ]
    },
    {
     "name": "stderr",
     "output_type": "stream",
     "text": [
      "\rDownloading celeba:  34%|███▍      | 489M/1.44G [01:04<02:59, 5.31MB/s]"
     ]
    },
    {
     "name": "stderr",
     "output_type": "stream",
     "text": [
      "\rDownloading celeba:  34%|███▍      | 490M/1.44G [01:04<03:16, 4.86MB/s]"
     ]
    },
    {
     "name": "stderr",
     "output_type": "stream",
     "text": [
      "\rDownloading celeba:  34%|███▍      | 490M/1.44G [01:04<03:24, 4.67MB/s]"
     ]
    },
    {
     "name": "stderr",
     "output_type": "stream",
     "text": [
      "\rDownloading celeba:  34%|███▍      | 491M/1.44G [01:04<03:29, 4.54MB/s]"
     ]
    },
    {
     "name": "stderr",
     "output_type": "stream",
     "text": [
      "\rDownloading celeba:  34%|███▍      | 491M/1.44G [01:04<03:23, 4.68MB/s]"
     ]
    },
    {
     "name": "stderr",
     "output_type": "stream",
     "text": [
      "\rDownloading celeba:  34%|███▍      | 492M/1.44G [01:04<03:16, 4.83MB/s]"
     ]
    },
    {
     "name": "stderr",
     "output_type": "stream",
     "text": [
      "\rDownloading celeba:  34%|███▍      | 492M/1.44G [01:05<03:14, 4.88MB/s]"
     ]
    },
    {
     "name": "stderr",
     "output_type": "stream",
     "text": [
      "\rDownloading celeba:  34%|███▍      | 493M/1.44G [01:05<03:13, 4.92MB/s]"
     ]
    },
    {
     "name": "stderr",
     "output_type": "stream",
     "text": [
      "\rDownloading celeba:  34%|███▍      | 493M/1.44G [01:05<03:10, 4.98MB/s]"
     ]
    },
    {
     "name": "stderr",
     "output_type": "stream",
     "text": [
      "\rDownloading celeba:  34%|███▍      | 494M/1.44G [01:05<03:13, 4.92MB/s]"
     ]
    },
    {
     "name": "stderr",
     "output_type": "stream",
     "text": [
      "\rDownloading celeba:  34%|███▍      | 494M/1.44G [01:05<03:07, 5.06MB/s]"
     ]
    },
    {
     "name": "stderr",
     "output_type": "stream",
     "text": [
      "\rDownloading celeba:  34%|███▍      | 495M/1.44G [01:05<03:09, 5.01MB/s]"
     ]
    },
    {
     "name": "stderr",
     "output_type": "stream",
     "text": [
      "\rDownloading celeba:  34%|███▍      | 496M/1.44G [01:05<03:06, 5.09MB/s]"
     ]
    },
    {
     "name": "stderr",
     "output_type": "stream",
     "text": [
      "\rDownloading celeba:  34%|███▍      | 496M/1.44G [01:05<03:01, 5.22MB/s]"
     ]
    },
    {
     "name": "stderr",
     "output_type": "stream",
     "text": [
      "\rDownloading celeba:  34%|███▍      | 497M/1.44G [01:05<03:03, 5.15MB/s]"
     ]
    },
    {
     "name": "stderr",
     "output_type": "stream",
     "text": [
      "\rDownloading celeba:  34%|███▍      | 497M/1.44G [01:05<02:59, 5.29MB/s]"
     ]
    },
    {
     "name": "stderr",
     "output_type": "stream",
     "text": [
      "\rDownloading celeba:  34%|███▍      | 498M/1.44G [01:06<02:58, 5.29MB/s]"
     ]
    },
    {
     "name": "stderr",
     "output_type": "stream",
     "text": [
      "\rDownloading celeba:  35%|███▍      | 498M/1.44G [01:06<03:04, 5.11MB/s]"
     ]
    },
    {
     "name": "stderr",
     "output_type": "stream",
     "text": [
      "\rDownloading celeba:  35%|███▍      | 499M/1.44G [01:06<03:10, 4.96MB/s]"
     ]
    },
    {
     "name": "stderr",
     "output_type": "stream",
     "text": [
      "\rDownloading celeba:  35%|███▍      | 499M/1.44G [01:06<03:08, 5.01MB/s]"
     ]
    },
    {
     "name": "stderr",
     "output_type": "stream",
     "text": [
      "\rDownloading celeba:  35%|███▍      | 500M/1.44G [01:06<03:07, 5.04MB/s]"
     ]
    },
    {
     "name": "stderr",
     "output_type": "stream",
     "text": [
      "\rDownloading celeba:  35%|███▍      | 500M/1.44G [01:06<02:59, 5.26MB/s]"
     ]
    },
    {
     "name": "stderr",
     "output_type": "stream",
     "text": [
      "\rDownloading celeba:  35%|███▍      | 501M/1.44G [01:06<02:55, 5.38MB/s]"
     ]
    },
    {
     "name": "stderr",
     "output_type": "stream",
     "text": [
      "\rDownloading celeba:  35%|███▍      | 502M/1.44G [01:06<02:38, 5.94MB/s]"
     ]
    },
    {
     "name": "stderr",
     "output_type": "stream",
     "text": [
      "\rDownloading celeba:  35%|███▍      | 502M/1.44G [01:06<02:27, 6.37MB/s]"
     ]
    },
    {
     "name": "stderr",
     "output_type": "stream",
     "text": [
      "\rDownloading celeba:  35%|███▍      | 503M/1.44G [01:06<02:11, 7.15MB/s]"
     ]
    },
    {
     "name": "stderr",
     "output_type": "stream",
     "text": [
      "\rDownloading celeba:  35%|███▍      | 505M/1.44G [01:07<01:58, 7.95MB/s]"
     ]
    },
    {
     "name": "stderr",
     "output_type": "stream",
     "text": [
      "\rDownloading celeba:  35%|███▌      | 506M/1.44G [01:07<01:57, 7.98MB/s]"
     ]
    },
    {
     "name": "stderr",
     "output_type": "stream",
     "text": [
      "\rDownloading celeba:  35%|███▌      | 507M/1.44G [01:07<01:39, 9.39MB/s]"
     ]
    },
    {
     "name": "stderr",
     "output_type": "stream",
     "text": [
      "\rDownloading celeba:  35%|███▌      | 508M/1.44G [01:07<01:37, 9.62MB/s]"
     ]
    },
    {
     "name": "stderr",
     "output_type": "stream",
     "text": [
      "\rDownloading celeba:  35%|███▌      | 509M/1.44G [01:07<01:36, 9.64MB/s]"
     ]
    },
    {
     "name": "stderr",
     "output_type": "stream",
     "text": [
      "\rDownloading celeba:  35%|███▌      | 510M/1.44G [01:07<01:50, 8.48MB/s]"
     ]
    },
    {
     "name": "stderr",
     "output_type": "stream",
     "text": [
      "\rDownloading celeba:  35%|███▌      | 511M/1.44G [01:07<01:39, 9.36MB/s]"
     ]
    },
    {
     "name": "stderr",
     "output_type": "stream",
     "text": [
      "\rDownloading celeba:  35%|███▌      | 512M/1.44G [01:07<01:46, 8.78MB/s]"
     ]
    },
    {
     "name": "stderr",
     "output_type": "stream",
     "text": [
      "\rDownloading celeba:  36%|███▌      | 513M/1.44G [01:07<01:50, 8.40MB/s]"
     ]
    },
    {
     "name": "stderr",
     "output_type": "stream",
     "text": [
      "\rDownloading celeba:  36%|███▌      | 514M/1.44G [01:08<01:54, 8.12MB/s]"
     ]
    },
    {
     "name": "stderr",
     "output_type": "stream",
     "text": [
      "\rDownloading celeba:  36%|███▌      | 514M/1.44G [01:08<01:55, 8.08MB/s]"
     ]
    },
    {
     "name": "stderr",
     "output_type": "stream",
     "text": [
      "\rDownloading celeba:  36%|███▌      | 515M/1.44G [01:08<01:57, 7.89MB/s]"
     ]
    },
    {
     "name": "stderr",
     "output_type": "stream",
     "text": [
      "\rDownloading celeba:  36%|███▌      | 516M/1.44G [01:08<01:57, 7.93MB/s]"
     ]
    },
    {
     "name": "stderr",
     "output_type": "stream",
     "text": [
      "\rDownloading celeba:  36%|███▌      | 517M/1.44G [01:08<01:58, 7.85MB/s]"
     ]
    },
    {
     "name": "stderr",
     "output_type": "stream",
     "text": [
      "\rDownloading celeba:  36%|███▌      | 518M/1.44G [01:08<01:57, 7.85MB/s]"
     ]
    },
    {
     "name": "stderr",
     "output_type": "stream",
     "text": [
      "\rDownloading celeba:  36%|███▌      | 518M/1.44G [01:08<01:59, 7.74MB/s]"
     ]
    },
    {
     "name": "stderr",
     "output_type": "stream",
     "text": [
      "\rDownloading celeba:  36%|███▌      | 519M/1.44G [01:08<01:59, 7.72MB/s]"
     ]
    },
    {
     "name": "stderr",
     "output_type": "stream",
     "text": [
      "\rDownloading celeba:  36%|███▌      | 520M/1.44G [01:08<02:01, 7.59MB/s]"
     ]
    },
    {
     "name": "stderr",
     "output_type": "stream",
     "text": [
      "\rDownloading celeba:  36%|███▌      | 521M/1.44G [01:08<02:03, 7.49MB/s]"
     ]
    },
    {
     "name": "stderr",
     "output_type": "stream",
     "text": [
      "\rDownloading celeba:  36%|███▌      | 521M/1.44G [01:09<02:08, 7.18MB/s]"
     ]
    },
    {
     "name": "stderr",
     "output_type": "stream",
     "text": [
      "\rDownloading celeba:  36%|███▌      | 522M/1.44G [01:09<02:07, 7.22MB/s]"
     ]
    },
    {
     "name": "stderr",
     "output_type": "stream",
     "text": [
      "\rDownloading celeba:  36%|███▌      | 523M/1.44G [01:09<02:09, 7.13MB/s]"
     ]
    },
    {
     "name": "stderr",
     "output_type": "stream",
     "text": [
      "\rDownloading celeba:  36%|███▋      | 523M/1.44G [01:09<02:08, 7.14MB/s]"
     ]
    },
    {
     "name": "stderr",
     "output_type": "stream",
     "text": [
      "\rDownloading celeba:  36%|███▋      | 524M/1.44G [01:09<02:06, 7.28MB/s]"
     ]
    },
    {
     "name": "stderr",
     "output_type": "stream",
     "text": [
      "\rDownloading celeba:  36%|███▋      | 525M/1.44G [01:09<02:04, 7.35MB/s]"
     ]
    },
    {
     "name": "stderr",
     "output_type": "stream",
     "text": [
      "\rDownloading celeba:  36%|███▋      | 526M/1.44G [01:09<02:03, 7.41MB/s]"
     ]
    },
    {
     "name": "stderr",
     "output_type": "stream",
     "text": [
      "\rDownloading celeba:  36%|███▋      | 526M/1.44G [01:09<02:23, 6.41MB/s]"
     ]
    },
    {
     "name": "stderr",
     "output_type": "stream",
     "text": [
      "\rDownloading celeba:  37%|███▋      | 527M/1.44G [01:09<02:09, 7.09MB/s]"
     ]
    },
    {
     "name": "stderr",
     "output_type": "stream",
     "text": [
      "\rDownloading celeba:  37%|███▋      | 528M/1.44G [01:10<02:06, 7.25MB/s]"
     ]
    },
    {
     "name": "stderr",
     "output_type": "stream",
     "text": [
      "\rDownloading celeba:  37%|███▋      | 529M/1.44G [01:10<02:03, 7.38MB/s]"
     ]
    },
    {
     "name": "stderr",
     "output_type": "stream",
     "text": [
      "\rDownloading celeba:  37%|███▋      | 530M/1.44G [01:10<02:03, 7.41MB/s]"
     ]
    },
    {
     "name": "stderr",
     "output_type": "stream",
     "text": [
      "\rDownloading celeba:  37%|███▋      | 530M/1.44G [01:10<02:07, 7.17MB/s]"
     ]
    },
    {
     "name": "stderr",
     "output_type": "stream",
     "text": [
      "\rDownloading celeba:  37%|███▋      | 531M/1.44G [01:10<02:06, 7.19MB/s]"
     ]
    },
    {
     "name": "stderr",
     "output_type": "stream",
     "text": [
      "\rDownloading celeba:  37%|███▋      | 532M/1.44G [01:10<02:09, 7.03MB/s]"
     ]
    },
    {
     "name": "stderr",
     "output_type": "stream",
     "text": [
      "\rDownloading celeba:  37%|███▋      | 532M/1.44G [01:10<02:11, 6.92MB/s]"
     ]
    },
    {
     "name": "stderr",
     "output_type": "stream",
     "text": [
      "\rDownloading celeba:  37%|███▋      | 533M/1.44G [01:10<02:12, 6.85MB/s]"
     ]
    },
    {
     "name": "stderr",
     "output_type": "stream",
     "text": [
      "\rDownloading celeba:  37%|███▋      | 534M/1.44G [01:10<02:12, 6.87MB/s]"
     ]
    },
    {
     "name": "stderr",
     "output_type": "stream",
     "text": [
      "\rDownloading celeba:  37%|███▋      | 535M/1.44G [01:10<02:13, 6.81MB/s]"
     ]
    },
    {
     "name": "stderr",
     "output_type": "stream",
     "text": [
      "\rDownloading celeba:  37%|███▋      | 535M/1.44G [01:11<02:13, 6.83MB/s]"
     ]
    },
    {
     "name": "stderr",
     "output_type": "stream",
     "text": [
      "\rDownloading celeba:  37%|███▋      | 536M/1.44G [01:11<02:17, 6.62MB/s]"
     ]
    },
    {
     "name": "stderr",
     "output_type": "stream",
     "text": [
      "\rDownloading celeba:  37%|███▋      | 537M/1.44G [01:11<02:16, 6.65MB/s]"
     ]
    },
    {
     "name": "stderr",
     "output_type": "stream",
     "text": [
      "\rDownloading celeba:  37%|███▋      | 537M/1.44G [01:11<02:16, 6.62MB/s]"
     ]
    },
    {
     "name": "stderr",
     "output_type": "stream",
     "text": [
      "\rDownloading celeba:  37%|███▋      | 538M/1.44G [01:11<02:15, 6.67MB/s]"
     ]
    },
    {
     "name": "stderr",
     "output_type": "stream",
     "text": [
      "\rDownloading celeba:  37%|███▋      | 539M/1.44G [01:11<02:14, 6.73MB/s]"
     ]
    },
    {
     "name": "stderr",
     "output_type": "stream",
     "text": [
      "\rDownloading celeba:  37%|███▋      | 539M/1.44G [01:11<02:15, 6.69MB/s]"
     ]
    },
    {
     "name": "stderr",
     "output_type": "stream",
     "text": [
      "\rDownloading celeba:  37%|███▋      | 540M/1.44G [01:11<02:15, 6.64MB/s]"
     ]
    },
    {
     "name": "stderr",
     "output_type": "stream",
     "text": [
      "\rDownloading celeba:  37%|███▋      | 541M/1.44G [01:11<02:16, 6.62MB/s]"
     ]
    },
    {
     "name": "stderr",
     "output_type": "stream",
     "text": [
      "\rDownloading celeba:  38%|███▊      | 541M/1.44G [01:11<02:14, 6.71MB/s]"
     ]
    },
    {
     "name": "stderr",
     "output_type": "stream",
     "text": [
      "\rDownloading celeba:  38%|███▊      | 542M/1.44G [01:12<02:14, 6.69MB/s]"
     ]
    },
    {
     "name": "stderr",
     "output_type": "stream",
     "text": [
      "\rDownloading celeba:  38%|███▊      | 543M/1.44G [01:12<02:13, 6.75MB/s]"
     ]
    },
    {
     "name": "stderr",
     "output_type": "stream",
     "text": [
      "\rDownloading celeba:  38%|███▊      | 543M/1.44G [01:12<02:32, 5.92MB/s]"
     ]
    },
    {
     "name": "stderr",
     "output_type": "stream",
     "text": [
      "\rDownloading celeba:  38%|███▊      | 544M/1.44G [01:12<02:17, 6.55MB/s]"
     ]
    },
    {
     "name": "stderr",
     "output_type": "stream",
     "text": [
      "\rDownloading celeba:  38%|███▊      | 545M/1.44G [01:12<02:14, 6.67MB/s]"
     ]
    },
    {
     "name": "stderr",
     "output_type": "stream",
     "text": [
      "\rDownloading celeba:  38%|███▊      | 546M/1.44G [01:12<02:12, 6.77MB/s]"
     ]
    },
    {
     "name": "stderr",
     "output_type": "stream",
     "text": [
      "\rDownloading celeba:  38%|███▊      | 546M/1.44G [01:12<02:12, 6.77MB/s]"
     ]
    },
    {
     "name": "stderr",
     "output_type": "stream",
     "text": [
      "\rDownloading celeba:  38%|███▊      | 547M/1.44G [01:12<02:13, 6.71MB/s]"
     ]
    },
    {
     "name": "stderr",
     "output_type": "stream",
     "text": [
      "\rDownloading celeba:  38%|███▊      | 548M/1.44G [01:12<02:20, 6.38MB/s]"
     ]
    },
    {
     "name": "stderr",
     "output_type": "stream",
     "text": [
      "\rDownloading celeba:  38%|███▊      | 548M/1.44G [01:13<02:51, 5.23MB/s]"
     ]
    },
    {
     "name": "stderr",
     "output_type": "stream",
     "text": [
      "\rDownloading celeba:  38%|███▊      | 549M/1.44G [01:13<02:43, 5.49MB/s]"
     ]
    },
    {
     "name": "stderr",
     "output_type": "stream",
     "text": [
      "\rDownloading celeba:  38%|███▊      | 549M/1.44G [01:13<03:02, 4.91MB/s]"
     ]
    },
    {
     "name": "stderr",
     "output_type": "stream",
     "text": [
      "\rDownloading celeba:  38%|███▊      | 550M/1.44G [01:13<03:17, 4.52MB/s]"
     ]
    },
    {
     "name": "stderr",
     "output_type": "stream",
     "text": [
      "\rDownloading celeba:  38%|███▊      | 550M/1.44G [01:13<03:26, 4.34MB/s]"
     ]
    },
    {
     "name": "stderr",
     "output_type": "stream",
     "text": [
      "\rDownloading celeba:  38%|███▊      | 550M/1.44G [01:13<03:46, 3.95MB/s]"
     ]
    },
    {
     "name": "stderr",
     "output_type": "stream",
     "text": [
      "\rDownloading celeba:  38%|███▊      | 551M/1.44G [01:13<04:10, 3.56MB/s]"
     ]
    },
    {
     "name": "stderr",
     "output_type": "stream",
     "text": [
      "\rDownloading celeba:  38%|███▊      | 551M/1.44G [01:13<04:15, 3.50MB/s]"
     ]
    },
    {
     "name": "stderr",
     "output_type": "stream",
     "text": [
      "\rDownloading celeba:  38%|███▊      | 551M/1.44G [01:13<04:25, 3.36MB/s]"
     ]
    },
    {
     "name": "stderr",
     "output_type": "stream",
     "text": [
      "\rDownloading celeba:  38%|███▊      | 552M/1.44G [01:13<04:19, 3.44MB/s]"
     ]
    },
    {
     "name": "stderr",
     "output_type": "stream",
     "text": [
      "\rDownloading celeba:  38%|███▊      | 552M/1.44G [01:14<04:15, 3.48MB/s]"
     ]
    },
    {
     "name": "stderr",
     "output_type": "stream",
     "text": [
      "\rDownloading celeba:  38%|███▊      | 552M/1.44G [01:14<04:18, 3.45MB/s]"
     ]
    },
    {
     "name": "stderr",
     "output_type": "stream",
     "text": [
      "\rDownloading celeba:  38%|███▊      | 553M/1.44G [01:14<04:57, 3.00MB/s]"
     ]
    },
    {
     "name": "stderr",
     "output_type": "stream",
     "text": [
      "\rDownloading celeba:  38%|███▊      | 553M/1.44G [01:14<04:38, 3.20MB/s]"
     ]
    },
    {
     "name": "stderr",
     "output_type": "stream",
     "text": [
      "\rDownloading celeba:  38%|███▊      | 553M/1.44G [01:14<04:44, 3.12MB/s]"
     ]
    },
    {
     "name": "stderr",
     "output_type": "stream",
     "text": [
      "\rDownloading celeba:  38%|███▊      | 554M/1.44G [01:14<04:41, 3.16MB/s]"
     ]
    },
    {
     "name": "stderr",
     "output_type": "stream",
     "text": [
      "\rDownloading celeba:  38%|███▊      | 554M/1.44G [01:14<04:42, 3.15MB/s]"
     ]
    },
    {
     "name": "stderr",
     "output_type": "stream",
     "text": [
      "\rDownloading celeba:  38%|███▊      | 554M/1.44G [01:14<04:46, 3.11MB/s]"
     ]
    },
    {
     "name": "stderr",
     "output_type": "stream",
     "text": [
      "\rDownloading celeba:  38%|███▊      | 555M/1.44G [01:14<04:42, 3.15MB/s]"
     ]
    },
    {
     "name": "stderr",
     "output_type": "stream",
     "text": [
      "\rDownloading celeba:  38%|███▊      | 555M/1.44G [01:14<04:38, 3.19MB/s]"
     ]
    },
    {
     "name": "stderr",
     "output_type": "stream",
     "text": [
      "\rDownloading celeba:  38%|███▊      | 555M/1.44G [01:15<04:37, 3.21MB/s]"
     ]
    },
    {
     "name": "stderr",
     "output_type": "stream",
     "text": [
      "\rDownloading celeba:  38%|███▊      | 555M/1.44G [01:15<05:10, 2.86MB/s]"
     ]
    },
    {
     "name": "stderr",
     "output_type": "stream",
     "text": [
      "\rDownloading celeba:  39%|███▊      | 556M/1.44G [01:15<04:39, 3.17MB/s]"
     ]
    },
    {
     "name": "stderr",
     "output_type": "stream",
     "text": [
      "\rDownloading celeba:  39%|███▊      | 556M/1.44G [01:15<04:46, 3.10MB/s]"
     ]
    },
    {
     "name": "stderr",
     "output_type": "stream",
     "text": [
      "\rDownloading celeba:  39%|███▊      | 556M/1.44G [01:15<05:06, 2.89MB/s]"
     ]
    },
    {
     "name": "stderr",
     "output_type": "stream",
     "text": [
      "\rDownloading celeba:  39%|███▊      | 557M/1.44G [01:15<05:16, 2.80MB/s]"
     ]
    },
    {
     "name": "stderr",
     "output_type": "stream",
     "text": [
      "\rDownloading celeba:  39%|███▊      | 557M/1.44G [01:15<05:31, 2.67MB/s]"
     ]
    },
    {
     "name": "stderr",
     "output_type": "stream",
     "text": [
      "\rDownloading celeba:  39%|███▊      | 557M/1.44G [01:15<05:44, 2.57MB/s]"
     ]
    },
    {
     "name": "stderr",
     "output_type": "stream",
     "text": [
      "\rDownloading celeba:  39%|███▊      | 557M/1.44G [01:15<05:45, 2.56MB/s]"
     ]
    },
    {
     "name": "stderr",
     "output_type": "stream",
     "text": [
      "\rDownloading celeba:  39%|███▊      | 558M/1.44G [01:16<05:57, 2.48MB/s]"
     ]
    },
    {
     "name": "stderr",
     "output_type": "stream",
     "text": [
      "\rDownloading celeba:  39%|███▊      | 558M/1.44G [01:16<06:04, 2.43MB/s]"
     ]
    },
    {
     "name": "stderr",
     "output_type": "stream",
     "text": [
      "\rDownloading celeba:  39%|███▊      | 558M/1.44G [01:16<06:05, 2.42MB/s]"
     ]
    },
    {
     "name": "stderr",
     "output_type": "stream",
     "text": [
      "\rDownloading celeba:  39%|███▊      | 558M/1.44G [01:16<05:52, 2.51MB/s]"
     ]
    },
    {
     "name": "stderr",
     "output_type": "stream",
     "text": [
      "\rDownloading celeba:  39%|███▊      | 559M/1.44G [01:16<05:44, 2.57MB/s]"
     ]
    },
    {
     "name": "stderr",
     "output_type": "stream",
     "text": [
      "\rDownloading celeba:  39%|███▊      | 559M/1.44G [01:16<05:46, 2.55MB/s]"
     ]
    },
    {
     "name": "stderr",
     "output_type": "stream",
     "text": [
      "\rDownloading celeba:  39%|███▊      | 559M/1.44G [01:16<05:50, 2.52MB/s]"
     ]
    },
    {
     "name": "stderr",
     "output_type": "stream",
     "text": [
      "\rDownloading celeba:  39%|███▉      | 560M/1.44G [01:16<05:58, 2.46MB/s]"
     ]
    },
    {
     "name": "stderr",
     "output_type": "stream",
     "text": [
      "\rDownloading celeba:  39%|███▉      | 560M/1.44G [01:16<06:01, 2.44MB/s]"
     ]
    },
    {
     "name": "stderr",
     "output_type": "stream",
     "text": [
      "\rDownloading celeba:  39%|███▉      | 560M/1.44G [01:16<06:00, 2.45MB/s]"
     ]
    },
    {
     "name": "stderr",
     "output_type": "stream",
     "text": [
      "\rDownloading celeba:  39%|███▉      | 560M/1.44G [01:17<06:01, 2.44MB/s]"
     ]
    },
    {
     "name": "stderr",
     "output_type": "stream",
     "text": [
      "\rDownloading celeba:  39%|███▉      | 561M/1.44G [01:17<05:52, 2.50MB/s]"
     ]
    },
    {
     "name": "stderr",
     "output_type": "stream",
     "text": [
      "\rDownloading celeba:  39%|███▉      | 561M/1.44G [01:17<05:32, 2.65MB/s]"
     ]
    },
    {
     "name": "stderr",
     "output_type": "stream",
     "text": [
      "\rDownloading celeba:  39%|███▉      | 561M/1.44G [01:17<05:39, 2.60MB/s]"
     ]
    },
    {
     "name": "stderr",
     "output_type": "stream",
     "text": [
      "\rDownloading celeba:  39%|███▉      | 562M/1.44G [01:17<04:54, 2.99MB/s]"
     ]
    },
    {
     "name": "stderr",
     "output_type": "stream",
     "text": [
      "\rDownloading celeba:  39%|███▉      | 562M/1.44G [01:17<04:34, 3.22MB/s]"
     ]
    },
    {
     "name": "stderr",
     "output_type": "stream",
     "text": [
      "\rDownloading celeba:  39%|███▉      | 563M/1.44G [01:17<04:33, 3.22MB/s]"
     ]
    },
    {
     "name": "stderr",
     "output_type": "stream",
     "text": [
      "\rDownloading celeba:  39%|███▉      | 563M/1.44G [01:17<04:29, 3.27MB/s]"
     ]
    },
    {
     "name": "stderr",
     "output_type": "stream",
     "text": [
      "\rDownloading celeba:  39%|███▉      | 563M/1.44G [01:17<04:21, 3.36MB/s]"
     ]
    },
    {
     "name": "stderr",
     "output_type": "stream",
     "text": [
      "\rDownloading celeba:  39%|███▉      | 564M/1.44G [01:18<04:28, 3.28MB/s]"
     ]
    },
    {
     "name": "stderr",
     "output_type": "stream",
     "text": [
      "\rDownloading celeba:  39%|███▉      | 564M/1.44G [01:18<04:23, 3.34MB/s]"
     ]
    },
    {
     "name": "stderr",
     "output_type": "stream",
     "text": [
      "\rDownloading celeba:  39%|███▉      | 564M/1.44G [01:18<04:23, 3.33MB/s]"
     ]
    },
    {
     "name": "stderr",
     "output_type": "stream",
     "text": [
      "\rDownloading celeba:  39%|███▉      | 565M/1.44G [01:18<05:04, 2.89MB/s]"
     ]
    },
    {
     "name": "stderr",
     "output_type": "stream",
     "text": [
      "\rDownloading celeba:  39%|███▉      | 565M/1.44G [01:18<04:38, 3.15MB/s]"
     ]
    },
    {
     "name": "stderr",
     "output_type": "stream",
     "text": [
      "\rDownloading celeba:  39%|███▉      | 565M/1.44G [01:18<04:50, 3.02MB/s]"
     ]
    },
    {
     "name": "stderr",
     "output_type": "stream",
     "text": [
      "\rDownloading celeba:  39%|███▉      | 566M/1.44G [01:18<04:54, 2.98MB/s]"
     ]
    },
    {
     "name": "stderr",
     "output_type": "stream",
     "text": [
      "\rDownloading celeba:  39%|███▉      | 566M/1.44G [01:18<05:06, 2.86MB/s]"
     ]
    },
    {
     "name": "stderr",
     "output_type": "stream",
     "text": [
      "\rDownloading celeba:  39%|███▉      | 566M/1.44G [01:18<04:58, 2.93MB/s]"
     ]
    },
    {
     "name": "stderr",
     "output_type": "stream",
     "text": [
      "\rDownloading celeba:  39%|███▉      | 566M/1.44G [01:18<04:57, 2.95MB/s]"
     ]
    },
    {
     "name": "stderr",
     "output_type": "stream",
     "text": [
      "\rDownloading celeba:  39%|███▉      | 567M/1.44G [01:19<05:02, 2.89MB/s]"
     ]
    },
    {
     "name": "stderr",
     "output_type": "stream",
     "text": [
      "\rDownloading celeba:  39%|███▉      | 567M/1.44G [01:19<05:16, 2.77MB/s]"
     ]
    },
    {
     "name": "stderr",
     "output_type": "stream",
     "text": [
      "\rDownloading celeba:  39%|███▉      | 567M/1.44G [01:19<05:13, 2.79MB/s]"
     ]
    },
    {
     "name": "stderr",
     "output_type": "stream",
     "text": [
      "\rDownloading celeba:  39%|███▉      | 568M/1.44G [01:19<05:10, 2.82MB/s]"
     ]
    },
    {
     "name": "stderr",
     "output_type": "stream",
     "text": [
      "\rDownloading celeba:  39%|███▉      | 568M/1.44G [01:19<05:02, 2.89MB/s]"
     ]
    },
    {
     "name": "stderr",
     "output_type": "stream",
     "text": [
      "\rDownloading celeba:  39%|███▉      | 568M/1.44G [01:19<04:49, 3.02MB/s]"
     ]
    },
    {
     "name": "stderr",
     "output_type": "stream",
     "text": [
      "\rDownloading celeba:  39%|███▉      | 569M/1.44G [01:19<04:41, 3.11MB/s]"
     ]
    },
    {
     "name": "stderr",
     "output_type": "stream",
     "text": [
      "\rDownloading celeba:  39%|███▉      | 569M/1.44G [01:19<04:39, 3.13MB/s]"
     ]
    },
    {
     "name": "stderr",
     "output_type": "stream",
     "text": [
      "\rDownloading celeba:  39%|███▉      | 569M/1.44G [01:19<04:40, 3.12MB/s]"
     ]
    },
    {
     "name": "stderr",
     "output_type": "stream",
     "text": [
      "\rDownloading celeba:  39%|███▉      | 570M/1.44G [01:20<04:46, 3.05MB/s]"
     ]
    },
    {
     "name": "stderr",
     "output_type": "stream",
     "text": [
      "\rDownloading celeba:  39%|███▉      | 570M/1.44G [01:20<04:48, 3.03MB/s]"
     ]
    },
    {
     "name": "stderr",
     "output_type": "stream",
     "text": [
      "\rDownloading celeba:  40%|███▉      | 570M/1.44G [01:20<04:49, 3.02MB/s]"
     ]
    },
    {
     "name": "stderr",
     "output_type": "stream",
     "text": [
      "\rDownloading celeba:  40%|███▉      | 571M/1.44G [01:20<04:44, 3.07MB/s]"
     ]
    },
    {
     "name": "stderr",
     "output_type": "stream",
     "text": [
      "\rDownloading celeba:  40%|███▉      | 571M/1.44G [01:20<04:46, 3.05MB/s]"
     ]
    },
    {
     "name": "stderr",
     "output_type": "stream",
     "text": [
      "\rDownloading celeba:  40%|███▉      | 571M/1.44G [01:20<04:42, 3.09MB/s]"
     ]
    },
    {
     "name": "stderr",
     "output_type": "stream",
     "text": [
      "\rDownloading celeba:  40%|███▉      | 572M/1.44G [01:20<04:35, 3.17MB/s]"
     ]
    },
    {
     "name": "stderr",
     "output_type": "stream",
     "text": [
      "\rDownloading celeba:  40%|███▉      | 572M/1.44G [01:20<04:21, 3.34MB/s]"
     ]
    },
    {
     "name": "stderr",
     "output_type": "stream",
     "text": [
      "\rDownloading celeba:  40%|███▉      | 572M/1.44G [01:20<03:58, 3.66MB/s]"
     ]
    },
    {
     "name": "stderr",
     "output_type": "stream",
     "text": [
      "\rDownloading celeba:  40%|███▉      | 572M/1.44G [01:20<11:49, 1.23MB/s]"
     ]
    },
    {
     "name": "stderr",
     "output_type": "stream",
     "text": [
      "\rDownloading celeba:  40%|███▉      | 574M/1.44G [01:21<08:40, 1.67MB/s]"
     ]
    },
    {
     "name": "stderr",
     "output_type": "stream",
     "text": [
      "\rDownloading celeba:  40%|███▉      | 574M/1.44G [01:21<06:44, 2.15MB/s]"
     ]
    },
    {
     "name": "stderr",
     "output_type": "stream",
     "text": [
      "\rDownloading celeba:  40%|███▉      | 575M/1.44G [01:21<05:14, 2.76MB/s]"
     ]
    },
    {
     "name": "stderr",
     "output_type": "stream",
     "text": [
      "\rDownloading celeba:  40%|███▉      | 576M/1.44G [01:21<04:06, 3.51MB/s]"
     ]
    },
    {
     "name": "stderr",
     "output_type": "stream",
     "text": [
      "\rDownloading celeba:  40%|███▉      | 577M/1.44G [01:21<03:19, 4.34MB/s]"
     ]
    },
    {
     "name": "stderr",
     "output_type": "stream",
     "text": [
      "\rDownloading celeba:  40%|████      | 578M/1.44G [01:21<02:42, 5.32MB/s]"
     ]
    },
    {
     "name": "stderr",
     "output_type": "stream",
     "text": [
      "\rDownloading celeba:  40%|████      | 579M/1.44G [01:21<02:15, 6.37MB/s]"
     ]
    },
    {
     "name": "stderr",
     "output_type": "stream",
     "text": [
      "\rDownloading celeba:  40%|████      | 580M/1.44G [01:21<01:57, 7.32MB/s]"
     ]
    },
    {
     "name": "stderr",
     "output_type": "stream",
     "text": [
      "\rDownloading celeba:  40%|████      | 582M/1.44G [01:21<01:45, 8.16MB/s]"
     ]
    },
    {
     "name": "stderr",
     "output_type": "stream",
     "text": [
      "\rDownloading celeba:  40%|████      | 582M/1.44G [01:21<01:45, 8.15MB/s]"
     ]
    },
    {
     "name": "stderr",
     "output_type": "stream",
     "text": [
      "\rDownloading celeba:  40%|████      | 583M/1.44G [01:22<01:38, 8.70MB/s]"
     ]
    },
    {
     "name": "stderr",
     "output_type": "stream",
     "text": [
      "\rDownloading celeba:  40%|████      | 584M/1.44G [01:22<01:35, 9.00MB/s]"
     ]
    },
    {
     "name": "stderr",
     "output_type": "stream",
     "text": [
      "\rDownloading celeba:  41%|████      | 585M/1.44G [01:22<01:31, 9.34MB/s]"
     ]
    },
    {
     "name": "stderr",
     "output_type": "stream",
     "text": [
      "\rDownloading celeba:  41%|████      | 586M/1.44G [01:22<01:30, 9.50MB/s]"
     ]
    },
    {
     "name": "stderr",
     "output_type": "stream",
     "text": [
      "\rDownloading celeba:  41%|████      | 588M/1.44G [01:22<01:27, 9.80MB/s]"
     ]
    },
    {
     "name": "stderr",
     "output_type": "stream",
     "text": [
      "\rDownloading celeba:  41%|████      | 589M/1.44G [01:22<01:26, 9.94MB/s]"
     ]
    },
    {
     "name": "stderr",
     "output_type": "stream",
     "text": [
      "\rDownloading celeba:  41%|████      | 590M/1.44G [01:22<01:25, 10.0MB/s]"
     ]
    },
    {
     "name": "stderr",
     "output_type": "stream",
     "text": [
      "\rDownloading celeba:  41%|████      | 590M/1.44G [01:22<02:02, 6.98MB/s]"
     ]
    },
    {
     "name": "stderr",
     "output_type": "stream",
     "text": [
      "\rDownloading celeba:  41%|████      | 591M/1.44G [01:22<01:49, 7.78MB/s]"
     ]
    },
    {
     "name": "stderr",
     "output_type": "stream",
     "text": [
      "\rDownloading celeba:  41%|████      | 592M/1.44G [01:23<01:55, 7.38MB/s]"
     ]
    },
    {
     "name": "stderr",
     "output_type": "stream",
     "text": [
      "\rDownloading celeba:  41%|████      | 592M/1.44G [01:23<02:34, 5.53MB/s]"
     ]
    },
    {
     "name": "stderr",
     "output_type": "stream",
     "text": [
      "\rDownloading celeba:  41%|████      | 593M/1.44G [01:23<02:18, 6.14MB/s]"
     ]
    },
    {
     "name": "stderr",
     "output_type": "stream",
     "text": [
      "\rDownloading celeba:  41%|████      | 593M/1.44G [01:23<02:46, 5.11MB/s]"
     ]
    },
    {
     "name": "stderr",
     "output_type": "stream",
     "text": [
      "\rDownloading celeba:  41%|████      | 594M/1.44G [01:23<02:33, 5.52MB/s]"
     ]
    },
    {
     "name": "stderr",
     "output_type": "stream",
     "text": [
      "\rDownloading celeba:  41%|████      | 595M/1.44G [01:23<02:32, 5.57MB/s]"
     ]
    },
    {
     "name": "stderr",
     "output_type": "stream",
     "text": [
      "\rDownloading celeba:  41%|████      | 595M/1.44G [01:23<02:32, 5.56MB/s]"
     ]
    },
    {
     "name": "stderr",
     "output_type": "stream",
     "text": [
      "\rDownloading celeba:  41%|████▏     | 596M/1.44G [01:23<02:33, 5.51MB/s]"
     ]
    },
    {
     "name": "stderr",
     "output_type": "stream",
     "text": [
      "\rDownloading celeba:  41%|████▏     | 596M/1.44G [01:23<02:32, 5.55MB/s]"
     ]
    },
    {
     "name": "stderr",
     "output_type": "stream",
     "text": [
      "\rDownloading celeba:  41%|████▏     | 597M/1.44G [01:23<02:32, 5.56MB/s]"
     ]
    },
    {
     "name": "stderr",
     "output_type": "stream",
     "text": [
      "\rDownloading celeba:  41%|████▏     | 598M/1.44G [01:24<02:31, 5.59MB/s]"
     ]
    },
    {
     "name": "stderr",
     "output_type": "stream",
     "text": [
      "\rDownloading celeba:  41%|████▏     | 598M/1.44G [01:24<02:32, 5.53MB/s]"
     ]
    },
    {
     "name": "stderr",
     "output_type": "stream",
     "text": [
      "\rDownloading celeba:  41%|████▏     | 599M/1.44G [01:24<02:34, 5.46MB/s]"
     ]
    },
    {
     "name": "stderr",
     "output_type": "stream",
     "text": [
      "\rDownloading celeba:  42%|████▏     | 599M/1.44G [01:24<02:30, 5.60MB/s]"
     ]
    },
    {
     "name": "stderr",
     "output_type": "stream",
     "text": [
      "\rDownloading celeba:  42%|████▏     | 600M/1.44G [01:24<02:29, 5.64MB/s]"
     ]
    },
    {
     "name": "stderr",
     "output_type": "stream",
     "text": [
      "\rDownloading celeba:  42%|████▏     | 600M/1.44G [01:24<02:25, 5.79MB/s]"
     ]
    },
    {
     "name": "stderr",
     "output_type": "stream",
     "text": [
      "\rDownloading celeba:  42%|████▏     | 601M/1.44G [01:24<02:27, 5.70MB/s]"
     ]
    },
    {
     "name": "stderr",
     "output_type": "stream",
     "text": [
      "\rDownloading celeba:  42%|████▏     | 602M/1.44G [01:24<02:28, 5.67MB/s]"
     ]
    },
    {
     "name": "stderr",
     "output_type": "stream",
     "text": [
      "\rDownloading celeba:  42%|████▏     | 602M/1.44G [01:24<02:27, 5.71MB/s]"
     ]
    },
    {
     "name": "stderr",
     "output_type": "stream",
     "text": [
      "\rDownloading celeba:  42%|████▏     | 603M/1.44G [01:24<02:30, 5.59MB/s]"
     ]
    },
    {
     "name": "stderr",
     "output_type": "stream",
     "text": [
      "\rDownloading celeba:  42%|████▏     | 603M/1.44G [01:25<02:32, 5.50MB/s]"
     ]
    },
    {
     "name": "stderr",
     "output_type": "stream",
     "text": [
      "\rDownloading celeba:  42%|████▏     | 604M/1.44G [01:25<02:40, 5.23MB/s]"
     ]
    },
    {
     "name": "stderr",
     "output_type": "stream",
     "text": [
      "\rDownloading celeba:  42%|████▏     | 604M/1.44G [01:25<02:42, 5.17MB/s]"
     ]
    },
    {
     "name": "stderr",
     "output_type": "stream",
     "text": [
      "\rDownloading celeba:  42%|████▏     | 605M/1.44G [01:25<02:42, 5.17MB/s]"
     ]
    },
    {
     "name": "stderr",
     "output_type": "stream",
     "text": [
      "\rDownloading celeba:  42%|████▏     | 605M/1.44G [01:25<02:42, 5.17MB/s]"
     ]
    },
    {
     "name": "stderr",
     "output_type": "stream",
     "text": [
      "\rDownloading celeba:  42%|████▏     | 606M/1.44G [01:25<02:35, 5.38MB/s]"
     ]
    },
    {
     "name": "stderr",
     "output_type": "stream",
     "text": [
      "\rDownloading celeba:  42%|████▏     | 606M/1.44G [01:25<02:36, 5.34MB/s]"
     ]
    },
    {
     "name": "stderr",
     "output_type": "stream",
     "text": [
      "\rDownloading celeba:  42%|████▏     | 607M/1.44G [01:25<02:38, 5.28MB/s]"
     ]
    },
    {
     "name": "stderr",
     "output_type": "stream",
     "text": [
      "\rDownloading celeba:  42%|████▏     | 607M/1.44G [01:25<02:37, 5.31MB/s]"
     ]
    },
    {
     "name": "stderr",
     "output_type": "stream",
     "text": [
      "\rDownloading celeba:  42%|████▏     | 608M/1.44G [01:25<02:36, 5.35MB/s]"
     ]
    },
    {
     "name": "stderr",
     "output_type": "stream",
     "text": [
      "\rDownloading celeba:  42%|████▏     | 609M/1.44G [01:26<02:33, 5.45MB/s]"
     ]
    },
    {
     "name": "stderr",
     "output_type": "stream",
     "text": [
      "\rDownloading celeba:  42%|████▏     | 609M/1.44G [01:26<02:34, 5.41MB/s]"
     ]
    },
    {
     "name": "stderr",
     "output_type": "stream",
     "text": [
      "\rDownloading celeba:  42%|████▏     | 610M/1.44G [01:26<02:23, 5.79MB/s]"
     ]
    },
    {
     "name": "stderr",
     "output_type": "stream",
     "text": [
      "\rDownloading celeba:  42%|████▏     | 611M/1.44G [01:26<02:13, 6.25MB/s]"
     ]
    },
    {
     "name": "stderr",
     "output_type": "stream",
     "text": [
      "\rDownloading celeba:  42%|████▏     | 611M/1.44G [01:26<02:03, 6.72MB/s]"
     ]
    },
    {
     "name": "stderr",
     "output_type": "stream",
     "text": [
      "\rDownloading celeba:  42%|████▏     | 612M/1.44G [01:26<01:54, 7.23MB/s]"
     ]
    },
    {
     "name": "stderr",
     "output_type": "stream",
     "text": [
      "\rDownloading celeba:  42%|████▏     | 613M/1.44G [01:26<01:47, 7.70MB/s]"
     ]
    },
    {
     "name": "stderr",
     "output_type": "stream",
     "text": [
      "\rDownloading celeba:  43%|████▎     | 614M/1.44G [01:26<01:40, 8.23MB/s]"
     ]
    },
    {
     "name": "stderr",
     "output_type": "stream",
     "text": [
      "\rDownloading celeba:  43%|████▎     | 615M/1.44G [01:26<01:33, 8.89MB/s]"
     ]
    },
    {
     "name": "stderr",
     "output_type": "stream",
     "text": [
      "\rDownloading celeba:  43%|████▎     | 617M/1.44G [01:26<01:27, 9.49MB/s]"
     ]
    },
    {
     "name": "stderr",
     "output_type": "stream",
     "text": [
      "\rDownloading celeba:  43%|████▎     | 618M/1.44G [01:27<01:21, 10.2MB/s]"
     ]
    },
    {
     "name": "stderr",
     "output_type": "stream",
     "text": [
      "\rDownloading celeba:  43%|████▎     | 619M/1.44G [01:27<01:17, 10.6MB/s]"
     ]
    },
    {
     "name": "stderr",
     "output_type": "stream",
     "text": [
      "\rDownloading celeba:  43%|████▎     | 620M/1.44G [01:27<01:15, 10.9MB/s]"
     ]
    },
    {
     "name": "stderr",
     "output_type": "stream",
     "text": [
      "\rDownloading celeba:  43%|████▎     | 620M/1.44G [01:27<09:42, 1.41MB/s]"
     ]
    },
    {
     "name": "stderr",
     "output_type": "stream",
     "text": [
      "\rDownloading celeba:  43%|████▎     | 621M/1.44G [01:27<07:28, 1.83MB/s]"
     ]
    },
    {
     "name": "stderr",
     "output_type": "stream",
     "text": [
      "\rDownloading celeba:  43%|████▎     | 621M/1.44G [01:27<11:56, 1.15MB/s]"
     ]
    },
    {
     "name": "stderr",
     "output_type": "stream",
     "text": [
      "\rDownloading celeba:  43%|████▎     | 622M/1.44G [01:27<10:10, 1.35MB/s]"
     ]
    },
    {
     "name": "stderr",
     "output_type": "stream",
     "text": [
      "\rDownloading celeba:  43%|████▎     | 622M/1.44G [01:27<08:03, 1.70MB/s]"
     ]
    },
    {
     "name": "stderr",
     "output_type": "stream",
     "text": [
      "\rDownloading celeba:  43%|████▎     | 623M/1.44G [01:28<06:09, 2.22MB/s]"
     ]
    },
    {
     "name": "stderr",
     "output_type": "stream",
     "text": [
      "\rDownloading celeba:  43%|████▎     | 624M/1.44G [01:28<04:43, 2.89MB/s]"
     ]
    },
    {
     "name": "stderr",
     "output_type": "stream",
     "text": [
      "\rDownloading celeba:  43%|████▎     | 625M/1.44G [01:28<03:43, 3.66MB/s]"
     ]
    },
    {
     "name": "stderr",
     "output_type": "stream",
     "text": [
      "\rDownloading celeba:  43%|████▎     | 626M/1.44G [01:28<02:58, 4.57MB/s]"
     ]
    },
    {
     "name": "stderr",
     "output_type": "stream",
     "text": [
      "\rDownloading celeba:  43%|████▎     | 627M/1.44G [01:28<02:28, 5.51MB/s]"
     ]
    },
    {
     "name": "stderr",
     "output_type": "stream",
     "text": [
      "\rDownloading celeba:  44%|████▎     | 628M/1.44G [01:28<02:06, 6.45MB/s]"
     ]
    },
    {
     "name": "stderr",
     "output_type": "stream",
     "text": [
      "\rDownloading celeba:  44%|████▎     | 629M/1.44G [01:28<01:50, 7.40MB/s]"
     ]
    },
    {
     "name": "stderr",
     "output_type": "stream",
     "text": [
      "\rDownloading celeba:  44%|████▎     | 630M/1.44G [01:28<01:38, 8.26MB/s]"
     ]
    },
    {
     "name": "stderr",
     "output_type": "stream",
     "text": [
      "\rDownloading celeba:  44%|████▎     | 631M/1.44G [01:28<01:41, 8.01MB/s]"
     ]
    },
    {
     "name": "stderr",
     "output_type": "stream",
     "text": [
      "\rDownloading celeba:  44%|████▍     | 633M/1.44G [01:28<01:28, 9.19MB/s]"
     ]
    },
    {
     "name": "stderr",
     "output_type": "stream",
     "text": [
      "\rDownloading celeba:  44%|████▍     | 634M/1.44G [01:29<01:27, 9.26MB/s]"
     ]
    },
    {
     "name": "stderr",
     "output_type": "stream",
     "text": [
      "\rDownloading celeba:  44%|████▍     | 635M/1.44G [01:29<01:26, 9.32MB/s]"
     ]
    },
    {
     "name": "stderr",
     "output_type": "stream",
     "text": [
      "\rDownloading celeba:  44%|████▍     | 636M/1.44G [01:29<01:26, 9.35MB/s]"
     ]
    },
    {
     "name": "stderr",
     "output_type": "stream",
     "text": [
      "\rDownloading celeba:  44%|████▍     | 637M/1.44G [01:29<01:26, 9.36MB/s]"
     ]
    },
    {
     "name": "stderr",
     "output_type": "stream",
     "text": [
      "\rDownloading celeba:  44%|████▍     | 637M/1.44G [01:29<01:25, 9.41MB/s]"
     ]
    },
    {
     "name": "stderr",
     "output_type": "stream",
     "text": [
      "\rDownloading celeba:  44%|████▍     | 638M/1.44G [01:29<01:24, 9.52MB/s]"
     ]
    },
    {
     "name": "stderr",
     "output_type": "stream",
     "text": [
      "\rDownloading celeba:  44%|████▍     | 639M/1.44G [01:29<01:23, 9.66MB/s]"
     ]
    },
    {
     "name": "stderr",
     "output_type": "stream",
     "text": [
      "\rDownloading celeba:  44%|████▍     | 640M/1.44G [01:29<01:22, 9.73MB/s]"
     ]
    },
    {
     "name": "stderr",
     "output_type": "stream",
     "text": [
      "\rDownloading celeba:  44%|████▍     | 641M/1.44G [01:29<01:21, 9.79MB/s]"
     ]
    },
    {
     "name": "stderr",
     "output_type": "stream",
     "text": [
      "\rDownloading celeba:  45%|████▍     | 642M/1.44G [01:29<01:21, 9.86MB/s]"
     ]
    },
    {
     "name": "stderr",
     "output_type": "stream",
     "text": [
      "\rDownloading celeba:  45%|████▍     | 644M/1.44G [01:30<01:19, 10.0MB/s]"
     ]
    },
    {
     "name": "stderr",
     "output_type": "stream",
     "text": [
      "\rDownloading celeba:  45%|████▍     | 645M/1.44G [01:30<01:19, 10.0MB/s]"
     ]
    },
    {
     "name": "stderr",
     "output_type": "stream",
     "text": [
      "\rDownloading celeba:  45%|████▍     | 646M/1.44G [01:30<01:20, 9.92MB/s]"
     ]
    },
    {
     "name": "stderr",
     "output_type": "stream",
     "text": [
      "\rDownloading celeba:  45%|████▍     | 646M/1.44G [01:30<01:34, 8.45MB/s]"
     ]
    },
    {
     "name": "stderr",
     "output_type": "stream",
     "text": [
      "\rDownloading celeba:  45%|████▍     | 648M/1.44G [01:30<01:24, 9.41MB/s]"
     ]
    },
    {
     "name": "stderr",
     "output_type": "stream",
     "text": [
      "\rDownloading celeba:  45%|████▍     | 648M/1.44G [01:30<01:26, 9.22MB/s]"
     ]
    },
    {
     "name": "stderr",
     "output_type": "stream",
     "text": [
      "\rDownloading celeba:  45%|████▍     | 649M/1.44G [01:30<01:26, 9.15MB/s]"
     ]
    },
    {
     "name": "stderr",
     "output_type": "stream",
     "text": [
      "\rDownloading celeba:  45%|████▌     | 650M/1.44G [01:30<01:28, 9.00MB/s]"
     ]
    },
    {
     "name": "stderr",
     "output_type": "stream",
     "text": [
      "\rDownloading celeba:  45%|████▌     | 651M/1.44G [01:30<01:27, 9.09MB/s]"
     ]
    },
    {
     "name": "stderr",
     "output_type": "stream",
     "text": [
      "\rDownloading celeba:  45%|████▌     | 652M/1.44G [01:31<01:26, 9.16MB/s]"
     ]
    },
    {
     "name": "stderr",
     "output_type": "stream",
     "text": [
      "\rDownloading celeba:  45%|████▌     | 653M/1.44G [01:31<01:26, 9.16MB/s]"
     ]
    },
    {
     "name": "stderr",
     "output_type": "stream",
     "text": [
      "\rDownloading celeba:  45%|████▌     | 654M/1.44G [01:31<01:26, 9.16MB/s]"
     ]
    },
    {
     "name": "stderr",
     "output_type": "stream",
     "text": [
      "\rDownloading celeba:  45%|████▌     | 655M/1.44G [01:31<01:27, 9.04MB/s]"
     ]
    },
    {
     "name": "stderr",
     "output_type": "stream",
     "text": [
      "\rDownloading celeba:  45%|████▌     | 656M/1.44G [01:31<01:28, 8.88MB/s]"
     ]
    },
    {
     "name": "stderr",
     "output_type": "stream",
     "text": [
      "\rDownloading celeba:  45%|████▌     | 657M/1.44G [01:31<01:30, 8.74MB/s]"
     ]
    },
    {
     "name": "stderr",
     "output_type": "stream",
     "text": [
      "\rDownloading celeba:  46%|████▌     | 657M/1.44G [01:31<01:30, 8.69MB/s]"
     ]
    },
    {
     "name": "stderr",
     "output_type": "stream",
     "text": [
      "\rDownloading celeba:  46%|████▌     | 658M/1.44G [01:31<01:30, 8.66MB/s]"
     ]
    },
    {
     "name": "stderr",
     "output_type": "stream",
     "text": [
      "\rDownloading celeba:  46%|████▌     | 659M/1.44G [01:31<01:29, 8.77MB/s]"
     ]
    },
    {
     "name": "stderr",
     "output_type": "stream",
     "text": [
      "\rDownloading celeba:  46%|████▌     | 660M/1.44G [01:31<01:27, 8.91MB/s]"
     ]
    },
    {
     "name": "stderr",
     "output_type": "stream",
     "text": [
      "\rDownloading celeba:  46%|████▌     | 661M/1.44G [01:32<01:40, 7.77MB/s]"
     ]
    },
    {
     "name": "stderr",
     "output_type": "stream",
     "text": [
      "\rDownloading celeba:  46%|████▌     | 662M/1.44G [01:32<01:31, 8.57MB/s]"
     ]
    },
    {
     "name": "stderr",
     "output_type": "stream",
     "text": [
      "\rDownloading celeba:  46%|████▌     | 663M/1.44G [01:32<01:36, 8.10MB/s]"
     ]
    },
    {
     "name": "stderr",
     "output_type": "stream",
     "text": [
      "\rDownloading celeba:  46%|████▌     | 664M/1.44G [01:32<01:39, 7.87MB/s]"
     ]
    },
    {
     "name": "stderr",
     "output_type": "stream",
     "text": [
      "\rDownloading celeba:  46%|████▌     | 664M/1.44G [01:32<01:40, 7.78MB/s]"
     ]
    },
    {
     "name": "stderr",
     "output_type": "stream",
     "text": [
      "\rDownloading celeba:  46%|████▌     | 665M/1.44G [01:32<01:41, 7.64MB/s]"
     ]
    },
    {
     "name": "stderr",
     "output_type": "stream",
     "text": [
      "\rDownloading celeba:  46%|████▌     | 666M/1.44G [01:32<01:41, 7.66MB/s]"
     ]
    },
    {
     "name": "stderr",
     "output_type": "stream",
     "text": [
      "\rDownloading celeba:  46%|████▌     | 667M/1.44G [01:32<01:42, 7.60MB/s]"
     ]
    },
    {
     "name": "stderr",
     "output_type": "stream",
     "text": [
      "\rDownloading celeba:  46%|████▌     | 667M/1.44G [01:32<01:46, 7.31MB/s]"
     ]
    },
    {
     "name": "stderr",
     "output_type": "stream",
     "text": [
      "\rDownloading celeba:  46%|████▋     | 668M/1.44G [01:32<01:53, 6.85MB/s]"
     ]
    },
    {
     "name": "stderr",
     "output_type": "stream",
     "text": [
      "\rDownloading celeba:  46%|████▋     | 669M/1.44G [01:33<01:56, 6.68MB/s]"
     ]
    },
    {
     "name": "stderr",
     "output_type": "stream",
     "text": [
      "\rDownloading celeba:  46%|████▋     | 669M/1.44G [01:33<02:14, 5.74MB/s]"
     ]
    },
    {
     "name": "stderr",
     "output_type": "stream",
     "text": [
      "\rDownloading celeba:  46%|████▋     | 670M/1.44G [01:33<02:14, 5.76MB/s]"
     ]
    },
    {
     "name": "stderr",
     "output_type": "stream",
     "text": [
      "\rDownloading celeba:  46%|████▋     | 670M/1.44G [01:33<02:56, 4.38MB/s]"
     ]
    },
    {
     "name": "stderr",
     "output_type": "stream",
     "text": [
      "\rDownloading celeba:  46%|████▋     | 671M/1.44G [01:33<02:38, 4.88MB/s]"
     ]
    },
    {
     "name": "stderr",
     "output_type": "stream",
     "text": [
      "\rDownloading celeba:  46%|████▋     | 671M/1.44G [01:33<02:49, 4.56MB/s]"
     ]
    },
    {
     "name": "stderr",
     "output_type": "stream",
     "text": [
      "\rDownloading celeba:  47%|████▋     | 671M/1.44G [01:33<02:47, 4.61MB/s]"
     ]
    },
    {
     "name": "stderr",
     "output_type": "stream",
     "text": [
      "\rDownloading celeba:  47%|████▋     | 672M/1.44G [01:33<02:45, 4.67MB/s]"
     ]
    },
    {
     "name": "stderr",
     "output_type": "stream",
     "text": [
      "\rDownloading celeba:  47%|████▋     | 672M/1.44G [01:33<02:45, 4.65MB/s]"
     ]
    },
    {
     "name": "stderr",
     "output_type": "stream",
     "text": [
      "\rDownloading celeba:  47%|████▋     | 673M/1.44G [01:34<02:37, 4.88MB/s]"
     ]
    },
    {
     "name": "stderr",
     "output_type": "stream",
     "text": [
      "\rDownloading celeba:  47%|████▋     | 674M/1.44G [01:34<02:38, 4.86MB/s]"
     ]
    },
    {
     "name": "stderr",
     "output_type": "stream",
     "text": [
      "\rDownloading celeba:  47%|████▋     | 674M/1.44G [01:34<02:39, 4.83MB/s]"
     ]
    },
    {
     "name": "stderr",
     "output_type": "stream",
     "text": [
      "\rDownloading celeba:  47%|████▋     | 675M/1.44G [01:34<02:37, 4.89MB/s]"
     ]
    },
    {
     "name": "stderr",
     "output_type": "stream",
     "text": [
      "\rDownloading celeba:  47%|████▋     | 675M/1.44G [01:34<02:36, 4.92MB/s]"
     ]
    },
    {
     "name": "stderr",
     "output_type": "stream",
     "text": [
      "\rDownloading celeba:  47%|████▋     | 676M/1.44G [01:34<02:33, 5.01MB/s]"
     ]
    },
    {
     "name": "stderr",
     "output_type": "stream",
     "text": [
      "\rDownloading celeba:  47%|████▋     | 676M/1.44G [01:34<02:27, 5.19MB/s]"
     ]
    },
    {
     "name": "stderr",
     "output_type": "stream",
     "text": [
      "\rDownloading celeba:  47%|████▋     | 677M/1.44G [01:34<02:26, 5.23MB/s]"
     ]
    },
    {
     "name": "stderr",
     "output_type": "stream",
     "text": [
      "\rDownloading celeba:  47%|████▋     | 677M/1.44G [01:34<02:25, 5.28MB/s]"
     ]
    },
    {
     "name": "stderr",
     "output_type": "stream",
     "text": [
      "\rDownloading celeba:  47%|████▋     | 678M/1.44G [01:34<02:25, 5.28MB/s]"
     ]
    },
    {
     "name": "stderr",
     "output_type": "stream",
     "text": [
      "\rDownloading celeba:  47%|████▋     | 678M/1.44G [01:35<02:25, 5.27MB/s]"
     ]
    },
    {
     "name": "stderr",
     "output_type": "stream",
     "text": [
      "\rDownloading celeba:  47%|████▋     | 679M/1.44G [01:35<02:25, 5.24MB/s]"
     ]
    },
    {
     "name": "stderr",
     "output_type": "stream",
     "text": [
      "\rDownloading celeba:  47%|████▋     | 679M/1.44G [01:35<02:32, 5.01MB/s]"
     ]
    },
    {
     "name": "stderr",
     "output_type": "stream",
     "text": [
      "\rDownloading celeba:  47%|████▋     | 680M/1.44G [01:35<02:33, 4.98MB/s]"
     ]
    },
    {
     "name": "stderr",
     "output_type": "stream",
     "text": [
      "\rDownloading celeba:  47%|████▋     | 680M/1.44G [01:35<02:31, 5.03MB/s]"
     ]
    },
    {
     "name": "stderr",
     "output_type": "stream",
     "text": [
      "\rDownloading celeba:  47%|████▋     | 681M/1.44G [01:35<02:31, 5.03MB/s]"
     ]
    },
    {
     "name": "stderr",
     "output_type": "stream",
     "text": [
      "\rDownloading celeba:  47%|████▋     | 681M/1.44G [01:35<02:31, 5.04MB/s]"
     ]
    },
    {
     "name": "stderr",
     "output_type": "stream",
     "text": [
      "\rDownloading celeba:  47%|████▋     | 682M/1.44G [01:35<02:32, 4.99MB/s]"
     ]
    },
    {
     "name": "stderr",
     "output_type": "stream",
     "text": [
      "\rDownloading celeba:  47%|████▋     | 682M/1.44G [01:35<02:39, 4.77MB/s]"
     ]
    },
    {
     "name": "stderr",
     "output_type": "stream",
     "text": [
      "\rDownloading celeba:  47%|████▋     | 683M/1.44G [01:35<02:31, 5.03MB/s]"
     ]
    },
    {
     "name": "stderr",
     "output_type": "stream",
     "text": [
      "\rDownloading celeba:  47%|████▋     | 683M/1.44G [01:36<02:31, 5.02MB/s]"
     ]
    },
    {
     "name": "stderr",
     "output_type": "stream",
     "text": [
      "\rDownloading celeba:  47%|████▋     | 684M/1.44G [01:36<02:28, 5.13MB/s]"
     ]
    },
    {
     "name": "stderr",
     "output_type": "stream",
     "text": [
      "\rDownloading celeba:  47%|████▋     | 685M/1.44G [01:36<02:18, 5.47MB/s]"
     ]
    },
    {
     "name": "stderr",
     "output_type": "stream",
     "text": [
      "\rDownloading celeba:  47%|████▋     | 685M/1.44G [01:36<02:14, 5.66MB/s]"
     ]
    },
    {
     "name": "stderr",
     "output_type": "stream",
     "text": [
      "\rDownloading celeba:  48%|████▊     | 686M/1.44G [01:36<02:10, 5.79MB/s]"
     ]
    },
    {
     "name": "stderr",
     "output_type": "stream",
     "text": [
      "\rDownloading celeba:  48%|████▊     | 687M/1.44G [01:36<02:07, 5.91MB/s]"
     ]
    },
    {
     "name": "stderr",
     "output_type": "stream",
     "text": [
      "\rDownloading celeba:  48%|████▊     | 687M/1.44G [01:36<02:01, 6.23MB/s]"
     ]
    },
    {
     "name": "stderr",
     "output_type": "stream",
     "text": [
      "\rDownloading celeba:  48%|████▊     | 688M/1.44G [01:36<01:59, 6.33MB/s]"
     ]
    },
    {
     "name": "stderr",
     "output_type": "stream",
     "text": [
      "\rDownloading celeba:  48%|████▊     | 689M/1.44G [01:36<01:57, 6.45MB/s]"
     ]
    },
    {
     "name": "stderr",
     "output_type": "stream",
     "text": [
      "\rDownloading celeba:  48%|████▊     | 689M/1.44G [01:36<01:53, 6.66MB/s]"
     ]
    },
    {
     "name": "stderr",
     "output_type": "stream",
     "text": [
      "\rDownloading celeba:  48%|████▊     | 690M/1.44G [01:37<01:53, 6.64MB/s]"
     ]
    },
    {
     "name": "stderr",
     "output_type": "stream",
     "text": [
      "\rDownloading celeba:  48%|████▊     | 691M/1.44G [01:37<01:52, 6.70MB/s]"
     ]
    },
    {
     "name": "stderr",
     "output_type": "stream",
     "text": [
      "\rDownloading celeba:  48%|████▊     | 691M/1.44G [01:37<01:50, 6.81MB/s]"
     ]
    },
    {
     "name": "stderr",
     "output_type": "stream",
     "text": [
      "\rDownloading celeba:  48%|████▊     | 692M/1.44G [01:37<01:49, 6.83MB/s]"
     ]
    },
    {
     "name": "stderr",
     "output_type": "stream",
     "text": [
      "\rDownloading celeba:  48%|████▊     | 693M/1.44G [01:37<01:47, 6.97MB/s]"
     ]
    },
    {
     "name": "stderr",
     "output_type": "stream",
     "text": [
      "\rDownloading celeba:  48%|████▊     | 694M/1.44G [01:37<01:48, 6.92MB/s]"
     ]
    },
    {
     "name": "stderr",
     "output_type": "stream",
     "text": [
      "\rDownloading celeba:  48%|████▊     | 694M/1.44G [01:37<02:04, 6.03MB/s]"
     ]
    },
    {
     "name": "stderr",
     "output_type": "stream",
     "text": [
      "\rDownloading celeba:  48%|████▊     | 695M/1.44G [01:37<01:52, 6.66MB/s]"
     ]
    },
    {
     "name": "stderr",
     "output_type": "stream",
     "text": [
      "\rDownloading celeba:  48%|████▊     | 696M/1.44G [01:37<02:20, 5.32MB/s]"
     ]
    },
    {
     "name": "stderr",
     "output_type": "stream",
     "text": [
      "\rDownloading celeba:  48%|████▊     | 696M/1.44G [01:38<02:13, 5.62MB/s]"
     ]
    },
    {
     "name": "stderr",
     "output_type": "stream",
     "text": [
      "\rDownloading celeba:  48%|████▊     | 697M/1.44G [01:38<02:21, 5.29MB/s]"
     ]
    },
    {
     "name": "stderr",
     "output_type": "stream",
     "text": [
      "\rDownloading celeba:  48%|████▊     | 697M/1.44G [01:38<02:29, 5.00MB/s]"
     ]
    },
    {
     "name": "stderr",
     "output_type": "stream",
     "text": [
      "\rDownloading celeba:  48%|████▊     | 698M/1.44G [01:38<02:32, 4.89MB/s]"
     ]
    },
    {
     "name": "stderr",
     "output_type": "stream",
     "text": [
      "\rDownloading celeba:  48%|████▊     | 698M/1.44G [01:38<02:30, 4.94MB/s]"
     ]
    },
    {
     "name": "stderr",
     "output_type": "stream",
     "text": [
      "\rDownloading celeba:  48%|████▊     | 699M/1.44G [01:38<02:32, 4.90MB/s]"
     ]
    },
    {
     "name": "stderr",
     "output_type": "stream",
     "text": [
      "\rDownloading celeba:  48%|████▊     | 699M/1.44G [01:38<02:32, 4.89MB/s]"
     ]
    },
    {
     "name": "stderr",
     "output_type": "stream",
     "text": [
      "\rDownloading celeba:  48%|████▊     | 700M/1.44G [01:38<02:35, 4.78MB/s]"
     ]
    },
    {
     "name": "stderr",
     "output_type": "stream",
     "text": [
      "\rDownloading celeba:  49%|████▊     | 700M/1.44G [01:38<02:33, 4.83MB/s]"
     ]
    },
    {
     "name": "stderr",
     "output_type": "stream",
     "text": [
      "\rDownloading celeba:  49%|████▊     | 701M/1.44G [01:38<02:34, 4.80MB/s]"
     ]
    },
    {
     "name": "stderr",
     "output_type": "stream",
     "text": [
      "\rDownloading celeba:  49%|████▊     | 701M/1.44G [01:39<02:31, 4.91MB/s]"
     ]
    },
    {
     "name": "stderr",
     "output_type": "stream",
     "text": [
      "\rDownloading celeba:  49%|████▊     | 702M/1.44G [01:39<02:29, 4.95MB/s]"
     ]
    },
    {
     "name": "stderr",
     "output_type": "stream",
     "text": [
      "\rDownloading celeba:  49%|████▊     | 702M/1.44G [01:39<02:30, 4.93MB/s]"
     ]
    },
    {
     "name": "stderr",
     "output_type": "stream",
     "text": [
      "\rDownloading celeba:  49%|████▊     | 703M/1.44G [01:39<02:25, 5.08MB/s]"
     ]
    },
    {
     "name": "stderr",
     "output_type": "stream",
     "text": [
      "\rDownloading celeba:  49%|████▊     | 703M/1.44G [01:39<02:24, 5.12MB/s]"
     ]
    },
    {
     "name": "stderr",
     "output_type": "stream",
     "text": [
      "\rDownloading celeba:  49%|████▉     | 704M/1.44G [01:39<02:25, 5.10MB/s]"
     ]
    },
    {
     "name": "stderr",
     "output_type": "stream",
     "text": [
      "\rDownloading celeba:  49%|████▉     | 704M/1.44G [01:39<02:23, 5.14MB/s]"
     ]
    },
    {
     "name": "stderr",
     "output_type": "stream",
     "text": [
      "\rDownloading celeba:  49%|████▉     | 705M/1.44G [01:39<02:24, 5.11MB/s]"
     ]
    },
    {
     "name": "stderr",
     "output_type": "stream",
     "text": [
      "\rDownloading celeba:  49%|████▉     | 705M/1.44G [01:39<02:21, 5.23MB/s]"
     ]
    },
    {
     "name": "stderr",
     "output_type": "stream",
     "text": [
      "\rDownloading celeba:  49%|████▉     | 706M/1.44G [01:39<02:17, 5.35MB/s]"
     ]
    },
    {
     "name": "stderr",
     "output_type": "stream",
     "text": [
      "\rDownloading celeba:  49%|████▉     | 706M/1.44G [01:40<02:21, 5.20MB/s]"
     ]
    },
    {
     "name": "stderr",
     "output_type": "stream",
     "text": [
      "\rDownloading celeba:  49%|████▉     | 707M/1.44G [01:40<02:20, 5.26MB/s]"
     ]
    },
    {
     "name": "stderr",
     "output_type": "stream",
     "text": [
      "\rDownloading celeba:  49%|████▉     | 707M/1.44G [01:40<02:21, 5.20MB/s]"
     ]
    },
    {
     "name": "stderr",
     "output_type": "stream",
     "text": [
      "\rDownloading celeba:  49%|████▉     | 708M/1.44G [01:40<02:17, 5.33MB/s]"
     ]
    },
    {
     "name": "stderr",
     "output_type": "stream",
     "text": [
      "\rDownloading celeba:  49%|████▉     | 709M/1.44G [01:40<02:16, 5.38MB/s]"
     ]
    },
    {
     "name": "stderr",
     "output_type": "stream",
     "text": [
      "\rDownloading celeba:  49%|████▉     | 709M/1.44G [01:40<02:04, 5.91MB/s]"
     ]
    },
    {
     "name": "stderr",
     "output_type": "stream",
     "text": [
      "\rDownloading celeba:  49%|████▉     | 710M/1.44G [01:40<01:52, 6.49MB/s]"
     ]
    },
    {
     "name": "stderr",
     "output_type": "stream",
     "text": [
      "\rDownloading celeba:  49%|████▉     | 711M/1.44G [01:40<01:40, 7.27MB/s]"
     ]
    },
    {
     "name": "stderr",
     "output_type": "stream",
     "text": [
      "\rDownloading celeba:  49%|████▉     | 712M/1.44G [01:40<01:30, 8.07MB/s]"
     ]
    },
    {
     "name": "stderr",
     "output_type": "stream",
     "text": [
      "\rDownloading celeba:  49%|████▉     | 713M/1.44G [01:41<01:21, 8.91MB/s]"
     ]
    },
    {
     "name": "stderr",
     "output_type": "stream",
     "text": [
      "\rDownloading celeba:  50%|████▉     | 715M/1.44G [01:41<01:15, 9.64MB/s]"
     ]
    },
    {
     "name": "stderr",
     "output_type": "stream",
     "text": [
      "\rDownloading celeba:  50%|████▉     | 715M/1.44G [01:41<01:22, 8.82MB/s]"
     ]
    },
    {
     "name": "stderr",
     "output_type": "stream",
     "text": [
      "\rDownloading celeba:  50%|████▉     | 717M/1.44G [01:41<01:11, 10.2MB/s]"
     ]
    },
    {
     "name": "stderr",
     "output_type": "stream",
     "text": [
      "\rDownloading celeba:  50%|████▉     | 718M/1.44G [01:41<01:08, 10.6MB/s]"
     ]
    },
    {
     "name": "stderr",
     "output_type": "stream",
     "text": [
      "\rDownloading celeba:  50%|████▉     | 719M/1.44G [01:41<01:17, 9.36MB/s]"
     ]
    },
    {
     "name": "stderr",
     "output_type": "stream",
     "text": [
      "\rDownloading celeba:  50%|████▉     | 721M/1.44G [01:41<01:07, 10.8MB/s]"
     ]
    },
    {
     "name": "stderr",
     "output_type": "stream",
     "text": [
      "\rDownloading celeba:  50%|█████     | 722M/1.44G [01:41<01:05, 11.1MB/s]"
     ]
    },
    {
     "name": "stderr",
     "output_type": "stream",
     "text": [
      "\rDownloading celeba:  50%|█████     | 723M/1.44G [01:41<01:12, 10.0MB/s]"
     ]
    },
    {
     "name": "stderr",
     "output_type": "stream",
     "text": [
      "\rDownloading celeba:  50%|█████     | 724M/1.44G [01:41<01:05, 10.9MB/s]"
     ]
    },
    {
     "name": "stderr",
     "output_type": "stream",
     "text": [
      "\rDownloading celeba:  50%|█████     | 725M/1.44G [01:42<01:06, 10.9MB/s]"
     ]
    },
    {
     "name": "stderr",
     "output_type": "stream",
     "text": [
      "\rDownloading celeba:  50%|█████     | 726M/1.44G [01:42<01:07, 10.7MB/s]"
     ]
    },
    {
     "name": "stderr",
     "output_type": "stream",
     "text": [
      "\rDownloading celeba:  50%|█████     | 727M/1.44G [01:42<01:07, 10.6MB/s]"
     ]
    },
    {
     "name": "stderr",
     "output_type": "stream",
     "text": [
      "\rDownloading celeba:  50%|█████     | 728M/1.44G [01:42<01:12, 9.81MB/s]"
     ]
    },
    {
     "name": "stderr",
     "output_type": "stream",
     "text": [
      "\rDownloading celeba:  51%|█████     | 729M/1.44G [01:42<01:10, 10.2MB/s]"
     ]
    },
    {
     "name": "stderr",
     "output_type": "stream",
     "text": [
      "\rDownloading celeba:  51%|█████     | 730M/1.44G [01:42<01:15, 9.44MB/s]"
     ]
    },
    {
     "name": "stderr",
     "output_type": "stream",
     "text": [
      "\rDownloading celeba:  51%|█████     | 731M/1.44G [01:42<01:16, 9.32MB/s]"
     ]
    },
    {
     "name": "stderr",
     "output_type": "stream",
     "text": [
      "\rDownloading celeba:  51%|█████     | 732M/1.44G [01:42<01:19, 9.01MB/s]"
     ]
    },
    {
     "name": "stderr",
     "output_type": "stream",
     "text": [
      "\rDownloading celeba:  51%|█████     | 732M/1.44G [01:42<01:48, 6.55MB/s]"
     ]
    },
    {
     "name": "stderr",
     "output_type": "stream",
     "text": [
      "\rDownloading celeba:  51%|█████     | 733M/1.44G [01:42<01:43, 6.86MB/s]"
     ]
    },
    {
     "name": "stderr",
     "output_type": "stream",
     "text": [
      "\rDownloading celeba:  51%|█████     | 733M/1.44G [01:43<01:53, 6.25MB/s]"
     ]
    },
    {
     "name": "stderr",
     "output_type": "stream",
     "text": [
      "\rDownloading celeba:  51%|█████     | 734M/1.44G [01:43<02:00, 5.91MB/s]"
     ]
    },
    {
     "name": "stderr",
     "output_type": "stream",
     "text": [
      "\rDownloading celeba:  51%|█████     | 734M/1.44G [01:43<02:09, 5.47MB/s]"
     ]
    },
    {
     "name": "stderr",
     "output_type": "stream",
     "text": [
      "\rDownloading celeba:  51%|█████     | 735M/1.44G [01:43<02:16, 5.18MB/s]"
     ]
    },
    {
     "name": "stderr",
     "output_type": "stream",
     "text": [
      "\rDownloading celeba:  51%|█████     | 735M/1.44G [01:43<02:20, 5.03MB/s]"
     ]
    },
    {
     "name": "stderr",
     "output_type": "stream",
     "text": [
      "\rDownloading celeba:  51%|█████     | 736M/1.44G [01:43<02:23, 4.94MB/s]"
     ]
    },
    {
     "name": "stderr",
     "output_type": "stream",
     "text": [
      "\rDownloading celeba:  51%|█████     | 736M/1.44G [01:43<02:16, 5.19MB/s]"
     ]
    },
    {
     "name": "stderr",
     "output_type": "stream",
     "text": [
      "\rDownloading celeba:  51%|█████     | 737M/1.44G [01:43<02:13, 5.28MB/s]"
     ]
    },
    {
     "name": "stderr",
     "output_type": "stream",
     "text": [
      "\rDownloading celeba:  51%|█████     | 738M/1.44G [01:43<02:08, 5.51MB/s]"
     ]
    },
    {
     "name": "stderr",
     "output_type": "stream",
     "text": [
      "\rDownloading celeba:  51%|█████     | 738M/1.44G [01:43<02:04, 5.67MB/s]"
     ]
    },
    {
     "name": "stderr",
     "output_type": "stream",
     "text": [
      "\rDownloading celeba:  51%|█████     | 739M/1.44G [01:44<02:02, 5.77MB/s]"
     ]
    },
    {
     "name": "stderr",
     "output_type": "stream",
     "text": [
      "\rDownloading celeba:  51%|█████     | 740M/1.44G [01:44<01:57, 5.97MB/s]"
     ]
    },
    {
     "name": "stderr",
     "output_type": "stream",
     "text": [
      "\rDownloading celeba:  51%|█████▏    | 740M/1.44G [01:44<01:57, 5.97MB/s]"
     ]
    },
    {
     "name": "stderr",
     "output_type": "stream",
     "text": [
      "\rDownloading celeba:  51%|█████▏    | 741M/1.44G [01:44<01:55, 6.10MB/s]"
     ]
    },
    {
     "name": "stderr",
     "output_type": "stream",
     "text": [
      "\rDownloading celeba:  51%|█████▏    | 741M/1.44G [01:44<01:53, 6.16MB/s]"
     ]
    },
    {
     "name": "stderr",
     "output_type": "stream",
     "text": [
      "\rDownloading celeba:  51%|█████▏    | 742M/1.44G [01:44<01:53, 6.18MB/s]"
     ]
    },
    {
     "name": "stderr",
     "output_type": "stream",
     "text": [
      "\rDownloading celeba:  51%|█████▏    | 743M/1.44G [01:44<01:50, 6.32MB/s]"
     ]
    },
    {
     "name": "stderr",
     "output_type": "stream",
     "text": [
      "\rDownloading celeba:  51%|█████▏    | 743M/1.44G [01:44<01:50, 6.31MB/s]"
     ]
    },
    {
     "name": "stderr",
     "output_type": "stream",
     "text": [
      "\rDownloading celeba:  52%|█████▏    | 744M/1.44G [01:44<01:50, 6.32MB/s]"
     ]
    },
    {
     "name": "stderr",
     "output_type": "stream",
     "text": [
      "\rDownloading celeba:  52%|█████▏    | 745M/1.44G [01:44<01:50, 6.35MB/s]"
     ]
    },
    {
     "name": "stderr",
     "output_type": "stream",
     "text": [
      "\rDownloading celeba:  52%|█████▏    | 745M/1.44G [01:45<01:50, 6.31MB/s]"
     ]
    },
    {
     "name": "stderr",
     "output_type": "stream",
     "text": [
      "\rDownloading celeba:  52%|█████▏    | 746M/1.44G [01:45<01:48, 6.42MB/s]"
     ]
    },
    {
     "name": "stderr",
     "output_type": "stream",
     "text": [
      "\rDownloading celeba:  52%|█████▏    | 747M/1.44G [01:45<01:47, 6.50MB/s]"
     ]
    },
    {
     "name": "stderr",
     "output_type": "stream",
     "text": [
      "\rDownloading celeba:  52%|█████▏    | 747M/1.44G [01:45<01:45, 6.61MB/s]"
     ]
    },
    {
     "name": "stderr",
     "output_type": "stream",
     "text": [
      "\rDownloading celeba:  52%|█████▏    | 748M/1.44G [01:45<01:44, 6.68MB/s]"
     ]
    },
    {
     "name": "stderr",
     "output_type": "stream",
     "text": [
      "\rDownloading celeba:  52%|█████▏    | 749M/1.44G [01:45<01:44, 6.64MB/s]"
     ]
    },
    {
     "name": "stderr",
     "output_type": "stream",
     "text": [
      "\rDownloading celeba:  52%|█████▏    | 749M/1.44G [01:45<01:41, 6.82MB/s]"
     ]
    },
    {
     "name": "stderr",
     "output_type": "stream",
     "text": [
      "\rDownloading celeba:  52%|█████▏    | 750M/1.44G [01:45<01:42, 6.75MB/s]"
     ]
    },
    {
     "name": "stderr",
     "output_type": "stream",
     "text": [
      "\rDownloading celeba:  52%|█████▏    | 751M/1.44G [01:45<01:42, 6.78MB/s]"
     ]
    },
    {
     "name": "stderr",
     "output_type": "stream",
     "text": [
      "\rDownloading celeba:  52%|█████▏    | 752M/1.44G [01:45<01:40, 6.85MB/s]"
     ]
    },
    {
     "name": "stderr",
     "output_type": "stream",
     "text": [
      "\rDownloading celeba:  52%|█████▏    | 752M/1.44G [01:46<01:41, 6.78MB/s]"
     ]
    },
    {
     "name": "stderr",
     "output_type": "stream",
     "text": [
      "\rDownloading celeba:  52%|█████▏    | 753M/1.44G [01:46<01:43, 6.65MB/s]"
     ]
    },
    {
     "name": "stderr",
     "output_type": "stream",
     "text": [
      "\rDownloading celeba:  52%|█████▏    | 754M/1.44G [01:46<01:42, 6.76MB/s]"
     ]
    },
    {
     "name": "stderr",
     "output_type": "stream",
     "text": [
      "\rDownloading celeba:  52%|█████▏    | 754M/1.44G [01:46<01:40, 6.88MB/s]"
     ]
    },
    {
     "name": "stderr",
     "output_type": "stream",
     "text": [
      "\rDownloading celeba:  52%|█████▏    | 755M/1.44G [01:46<01:39, 6.89MB/s]"
     ]
    },
    {
     "name": "stderr",
     "output_type": "stream",
     "text": [
      "\rDownloading celeba:  52%|█████▏    | 756M/1.44G [01:46<01:37, 7.07MB/s]"
     ]
    },
    {
     "name": "stderr",
     "output_type": "stream",
     "text": [
      "\rDownloading celeba:  52%|█████▏    | 756M/1.44G [01:46<01:36, 7.11MB/s]"
     ]
    },
    {
     "name": "stderr",
     "output_type": "stream",
     "text": [
      "\rDownloading celeba:  52%|█████▏    | 757M/1.44G [01:46<01:37, 7.06MB/s]"
     ]
    },
    {
     "name": "stderr",
     "output_type": "stream",
     "text": [
      "\rDownloading celeba:  53%|█████▎    | 758M/1.44G [01:46<01:35, 7.17MB/s]"
     ]
    },
    {
     "name": "stderr",
     "output_type": "stream",
     "text": [
      "\rDownloading celeba:  53%|█████▎    | 759M/1.44G [01:46<01:36, 7.10MB/s]"
     ]
    },
    {
     "name": "stderr",
     "output_type": "stream",
     "text": [
      "\rDownloading celeba:  53%|█████▎    | 759M/1.44G [01:47<01:40, 6.84MB/s]"
     ]
    },
    {
     "name": "stderr",
     "output_type": "stream",
     "text": [
      "\rDownloading celeba:  53%|█████▎    | 760M/1.44G [01:47<01:40, 6.79MB/s]"
     ]
    },
    {
     "name": "stderr",
     "output_type": "stream",
     "text": [
      "\rDownloading celeba:  53%|█████▎    | 761M/1.44G [01:47<01:40, 6.81MB/s]"
     ]
    },
    {
     "name": "stderr",
     "output_type": "stream",
     "text": [
      "\rDownloading celeba:  53%|█████▎    | 761M/1.44G [01:47<01:44, 6.54MB/s]"
     ]
    },
    {
     "name": "stderr",
     "output_type": "stream",
     "text": [
      "\rDownloading celeba:  53%|█████▎    | 762M/1.44G [01:47<01:37, 6.97MB/s]"
     ]
    },
    {
     "name": "stderr",
     "output_type": "stream",
     "text": [
      "\rDownloading celeba:  53%|█████▎    | 763M/1.44G [01:47<01:39, 6.86MB/s]"
     ]
    },
    {
     "name": "stderr",
     "output_type": "stream",
     "text": [
      "\rDownloading celeba:  53%|█████▎    | 764M/1.44G [01:47<01:40, 6.76MB/s]"
     ]
    },
    {
     "name": "stderr",
     "output_type": "stream",
     "text": [
      "\rDownloading celeba:  53%|█████▎    | 764M/1.44G [01:47<01:40, 6.74MB/s]"
     ]
    },
    {
     "name": "stderr",
     "output_type": "stream",
     "text": [
      "\rDownloading celeba:  53%|█████▎    | 765M/1.44G [01:47<01:40, 6.76MB/s]"
     ]
    },
    {
     "name": "stderr",
     "output_type": "stream",
     "text": [
      "\rDownloading celeba:  53%|█████▎    | 766M/1.44G [01:48<01:40, 6.78MB/s]"
     ]
    },
    {
     "name": "stderr",
     "output_type": "stream",
     "text": [
      "\rDownloading celeba:  53%|█████▎    | 766M/1.44G [01:48<01:39, 6.79MB/s]"
     ]
    },
    {
     "name": "stderr",
     "output_type": "stream",
     "text": [
      "\rDownloading celeba:  53%|█████▎    | 767M/1.44G [01:48<02:32, 4.43MB/s]"
     ]
    },
    {
     "name": "stderr",
     "output_type": "stream",
     "text": [
      "\rDownloading celeba:  53%|█████▎    | 768M/1.44G [01:48<02:07, 5.31MB/s]"
     ]
    },
    {
     "name": "stderr",
     "output_type": "stream",
     "text": [
      "\rDownloading celeba:  53%|█████▎    | 768M/1.44G [01:48<02:03, 5.47MB/s]"
     ]
    },
    {
     "name": "stderr",
     "output_type": "stream",
     "text": [
      "\rDownloading celeba:  53%|█████▎    | 769M/1.44G [01:48<02:00, 5.58MB/s]"
     ]
    },
    {
     "name": "stderr",
     "output_type": "stream",
     "text": [
      "\rDownloading celeba:  53%|█████▎    | 769M/1.44G [01:48<02:04, 5.44MB/s]"
     ]
    },
    {
     "name": "stderr",
     "output_type": "stream",
     "text": [
      "\rDownloading celeba:  53%|█████▎    | 770M/1.44G [01:48<02:15, 4.96MB/s]"
     ]
    },
    {
     "name": "stderr",
     "output_type": "stream",
     "text": [
      "\rDownloading celeba:  53%|█████▎    | 770M/1.44G [01:48<02:24, 4.66MB/s]"
     ]
    },
    {
     "name": "stderr",
     "output_type": "stream",
     "text": [
      "\rDownloading celeba:  53%|█████▎    | 771M/1.44G [01:48<02:30, 4.47MB/s]"
     ]
    },
    {
     "name": "stderr",
     "output_type": "stream",
     "text": [
      "\rDownloading celeba:  53%|█████▎    | 771M/1.44G [01:49<02:35, 4.33MB/s]"
     ]
    },
    {
     "name": "stderr",
     "output_type": "stream",
     "text": [
      "\rDownloading celeba:  53%|█████▎    | 771M/1.44G [01:49<02:36, 4.28MB/s]"
     ]
    },
    {
     "name": "stderr",
     "output_type": "stream",
     "text": [
      "\rDownloading celeba:  53%|█████▎    | 772M/1.44G [01:49<02:38, 4.24MB/s]"
     ]
    },
    {
     "name": "stderr",
     "output_type": "stream",
     "text": [
      "\rDownloading celeba:  53%|█████▎    | 772M/1.44G [01:49<02:38, 4.23MB/s]"
     ]
    },
    {
     "name": "stderr",
     "output_type": "stream",
     "text": [
      "\rDownloading celeba:  54%|█████▎    | 773M/1.44G [01:49<02:38, 4.22MB/s]"
     ]
    },
    {
     "name": "stderr",
     "output_type": "stream",
     "text": [
      "\rDownloading celeba:  54%|█████▎    | 773M/1.44G [01:49<02:36, 4.27MB/s]"
     ]
    },
    {
     "name": "stderr",
     "output_type": "stream",
     "text": [
      "\rDownloading celeba:  54%|█████▎    | 774M/1.44G [01:49<02:36, 4.29MB/s]"
     ]
    },
    {
     "name": "stderr",
     "output_type": "stream",
     "text": [
      "\rDownloading celeba:  54%|█████▎    | 774M/1.44G [01:49<02:33, 4.35MB/s]"
     ]
    },
    {
     "name": "stderr",
     "output_type": "stream",
     "text": [
      "\rDownloading celeba:  54%|█████▎    | 774M/1.44G [01:49<02:32, 4.39MB/s]"
     ]
    },
    {
     "name": "stderr",
     "output_type": "stream",
     "text": [
      "\rDownloading celeba:  54%|█████▎    | 775M/1.44G [01:49<02:30, 4.44MB/s]"
     ]
    },
    {
     "name": "stderr",
     "output_type": "stream",
     "text": [
      "\rDownloading celeba:  54%|█████▎    | 776M/1.44G [01:50<02:23, 4.67MB/s]"
     ]
    },
    {
     "name": "stderr",
     "output_type": "stream",
     "text": [
      "\rDownloading celeba:  54%|█████▍    | 776M/1.44G [01:50<02:10, 5.13MB/s]"
     ]
    },
    {
     "name": "stderr",
     "output_type": "stream",
     "text": [
      "\rDownloading celeba:  54%|█████▍    | 777M/1.44G [01:50<01:54, 5.83MB/s]"
     ]
    },
    {
     "name": "stderr",
     "output_type": "stream",
     "text": [
      "\rDownloading celeba:  54%|█████▍    | 778M/1.44G [01:50<01:38, 6.77MB/s]"
     ]
    },
    {
     "name": "stderr",
     "output_type": "stream",
     "text": [
      "\rDownloading celeba:  54%|█████▍    | 779M/1.44G [01:50<01:25, 7.77MB/s]"
     ]
    },
    {
     "name": "stderr",
     "output_type": "stream",
     "text": [
      "\rDownloading celeba:  54%|█████▍    | 781M/1.44G [01:50<01:16, 8.66MB/s]"
     ]
    },
    {
     "name": "stderr",
     "output_type": "stream",
     "text": [
      "\rDownloading celeba:  54%|█████▍    | 781M/1.44G [01:50<01:18, 8.48MB/s]"
     ]
    },
    {
     "name": "stderr",
     "output_type": "stream",
     "text": [
      "\rDownloading celeba:  54%|█████▍    | 783M/1.44G [01:50<01:07, 9.83MB/s]"
     ]
    },
    {
     "name": "stderr",
     "output_type": "stream",
     "text": [
      "\rDownloading celeba:  54%|█████▍    | 784M/1.44G [01:50<01:03, 10.4MB/s]"
     ]
    },
    {
     "name": "stderr",
     "output_type": "stream",
     "text": [
      "\rDownloading celeba:  54%|█████▍    | 784M/1.44G [01:50<02:06, 5.19MB/s]"
     ]
    },
    {
     "name": "stderr",
     "output_type": "stream",
     "text": [
      "\rDownloading celeba:  54%|█████▍    | 786M/1.44G [01:51<01:39, 6.61MB/s]"
     ]
    },
    {
     "name": "stderr",
     "output_type": "stream",
     "text": [
      "\rDownloading celeba:  55%|█████▍    | 787M/1.44G [01:51<01:27, 7.46MB/s]"
     ]
    },
    {
     "name": "stderr",
     "output_type": "stream",
     "text": [
      "\rDownloading celeba:  55%|█████▍    | 788M/1.44G [01:51<01:19, 8.25MB/s]"
     ]
    },
    {
     "name": "stderr",
     "output_type": "stream",
     "text": [
      "\rDownloading celeba:  55%|█████▍    | 789M/1.44G [01:51<01:13, 8.88MB/s]"
     ]
    },
    {
     "name": "stderr",
     "output_type": "stream",
     "text": [
      "\rDownloading celeba:  55%|█████▍    | 791M/1.44G [01:51<01:09, 9.41MB/s]"
     ]
    },
    {
     "name": "stderr",
     "output_type": "stream",
     "text": [
      "\rDownloading celeba:  55%|█████▍    | 792M/1.44G [01:51<01:07, 9.64MB/s]"
     ]
    },
    {
     "name": "stderr",
     "output_type": "stream",
     "text": [
      "\rDownloading celeba:  55%|█████▍    | 793M/1.44G [01:51<01:05, 9.91MB/s]"
     ]
    },
    {
     "name": "stderr",
     "output_type": "stream",
     "text": [
      "\rDownloading celeba:  55%|█████▍    | 794M/1.44G [01:51<01:05, 9.97MB/s]"
     ]
    },
    {
     "name": "stderr",
     "output_type": "stream",
     "text": [
      "\rDownloading celeba:  55%|█████▌    | 795M/1.44G [01:51<01:04, 10.0MB/s]"
     ]
    },
    {
     "name": "stderr",
     "output_type": "stream",
     "text": [
      "\rDownloading celeba:  55%|█████▌    | 796M/1.44G [01:51<01:04, 10.1MB/s]"
     ]
    },
    {
     "name": "stderr",
     "output_type": "stream",
     "text": [
      "\rDownloading celeba:  55%|█████▌    | 797M/1.44G [01:52<01:03, 10.2MB/s]"
     ]
    },
    {
     "name": "stderr",
     "output_type": "stream",
     "text": [
      "\rDownloading celeba:  55%|█████▌    | 798M/1.44G [01:52<01:03, 10.2MB/s]"
     ]
    },
    {
     "name": "stderr",
     "output_type": "stream",
     "text": [
      "\rDownloading celeba:  55%|█████▌    | 799M/1.44G [01:52<01:01, 10.5MB/s]"
     ]
    },
    {
     "name": "stderr",
     "output_type": "stream",
     "text": [
      "\rDownloading celeba:  55%|█████▌    | 800M/1.44G [01:52<01:01, 10.5MB/s]"
     ]
    },
    {
     "name": "stderr",
     "output_type": "stream",
     "text": [
      "\rDownloading celeba:  55%|█████▌    | 801M/1.44G [01:52<01:00, 10.7MB/s]"
     ]
    },
    {
     "name": "stderr",
     "output_type": "stream",
     "text": [
      "\rDownloading celeba:  56%|█████▌    | 802M/1.44G [01:52<01:00, 10.7MB/s]"
     ]
    },
    {
     "name": "stderr",
     "output_type": "stream",
     "text": [
      "\rDownloading celeba:  56%|█████▌    | 803M/1.44G [01:52<00:59, 10.8MB/s]"
     ]
    },
    {
     "name": "stderr",
     "output_type": "stream",
     "text": [
      "\rDownloading celeba:  56%|█████▌    | 804M/1.44G [01:52<01:08, 9.36MB/s]"
     ]
    },
    {
     "name": "stderr",
     "output_type": "stream",
     "text": [
      "\rDownloading celeba:  56%|█████▌    | 805M/1.44G [01:52<01:07, 9.47MB/s]"
     ]
    },
    {
     "name": "stderr",
     "output_type": "stream",
     "text": [
      "\rDownloading celeba:  56%|█████▌    | 806M/1.44G [01:53<01:16, 8.36MB/s]"
     ]
    },
    {
     "name": "stderr",
     "output_type": "stream",
     "text": [
      "\rDownloading celeba:  56%|█████▌    | 806M/1.44G [01:53<01:24, 7.54MB/s]"
     ]
    },
    {
     "name": "stderr",
     "output_type": "stream",
     "text": [
      "\rDownloading celeba:  56%|█████▌    | 807M/1.44G [01:53<01:30, 7.01MB/s]"
     ]
    },
    {
     "name": "stderr",
     "output_type": "stream",
     "text": [
      "\rDownloading celeba:  56%|█████▌    | 808M/1.44G [01:53<01:37, 6.51MB/s]"
     ]
    },
    {
     "name": "stderr",
     "output_type": "stream",
     "text": [
      "\rDownloading celeba:  56%|█████▌    | 808M/1.44G [01:53<01:45, 6.02MB/s]"
     ]
    },
    {
     "name": "stderr",
     "output_type": "stream",
     "text": [
      "\rDownloading celeba:  56%|█████▌    | 809M/1.44G [01:53<01:52, 5.66MB/s]"
     ]
    },
    {
     "name": "stderr",
     "output_type": "stream",
     "text": [
      "\rDownloading celeba:  56%|█████▌    | 809M/1.44G [01:53<02:02, 5.17MB/s]"
     ]
    },
    {
     "name": "stderr",
     "output_type": "stream",
     "text": [
      "\rDownloading celeba:  56%|█████▌    | 810M/1.44G [01:53<02:15, 4.68MB/s]"
     ]
    },
    {
     "name": "stderr",
     "output_type": "stream",
     "text": [
      "\rDownloading celeba:  56%|█████▌    | 810M/1.44G [01:53<02:48, 3.76MB/s]"
     ]
    },
    {
     "name": "stderr",
     "output_type": "stream",
     "text": [
      "\rDownloading celeba:  56%|█████▌    | 810M/1.44G [01:53<02:41, 3.93MB/s]"
     ]
    },
    {
     "name": "stderr",
     "output_type": "stream",
     "text": [
      "\rDownloading celeba:  56%|█████▌    | 811M/1.44G [01:54<02:31, 4.17MB/s]"
     ]
    },
    {
     "name": "stderr",
     "output_type": "stream",
     "text": [
      "\rDownloading celeba:  56%|█████▌    | 811M/1.44G [01:54<02:25, 4.35MB/s]"
     ]
    },
    {
     "name": "stderr",
     "output_type": "stream",
     "text": [
      "\rDownloading celeba:  56%|█████▌    | 812M/1.44G [01:54<02:20, 4.50MB/s]"
     ]
    },
    {
     "name": "stderr",
     "output_type": "stream",
     "text": [
      "\rDownloading celeba:  56%|█████▋    | 812M/1.44G [01:54<02:18, 4.57MB/s]"
     ]
    },
    {
     "name": "stderr",
     "output_type": "stream",
     "text": [
      "\rDownloading celeba:  56%|█████▋    | 813M/1.44G [01:54<02:16, 4.62MB/s]"
     ]
    },
    {
     "name": "stderr",
     "output_type": "stream",
     "text": [
      "\rDownloading celeba:  56%|█████▋    | 813M/1.44G [01:54<02:13, 4.74MB/s]"
     ]
    },
    {
     "name": "stderr",
     "output_type": "stream",
     "text": [
      "\rDownloading celeba:  56%|█████▋    | 814M/1.44G [01:54<02:11, 4.78MB/s]"
     ]
    },
    {
     "name": "stderr",
     "output_type": "stream",
     "text": [
      "\rDownloading celeba:  56%|█████▋    | 814M/1.44G [01:54<02:10, 4.82MB/s]"
     ]
    },
    {
     "name": "stderr",
     "output_type": "stream",
     "text": [
      "\rDownloading celeba:  56%|█████▋    | 815M/1.44G [01:54<02:08, 4.89MB/s]"
     ]
    },
    {
     "name": "stderr",
     "output_type": "stream",
     "text": [
      "\rDownloading celeba:  56%|█████▋    | 815M/1.44G [01:54<02:07, 4.92MB/s]"
     ]
    },
    {
     "name": "stderr",
     "output_type": "stream",
     "text": [
      "\rDownloading celeba:  57%|█████▋    | 816M/1.44G [01:55<02:06, 4.95MB/s]"
     ]
    },
    {
     "name": "stderr",
     "output_type": "stream",
     "text": [
      "\rDownloading celeba:  57%|█████▋    | 816M/1.44G [01:55<02:04, 5.03MB/s]"
     ]
    },
    {
     "name": "stderr",
     "output_type": "stream",
     "text": [
      "\rDownloading celeba:  57%|█████▋    | 817M/1.44G [01:55<02:05, 5.01MB/s]"
     ]
    },
    {
     "name": "stderr",
     "output_type": "stream",
     "text": [
      "\rDownloading celeba:  57%|█████▋    | 817M/1.44G [01:55<01:59, 5.25MB/s]"
     ]
    },
    {
     "name": "stderr",
     "output_type": "stream",
     "text": [
      "\rDownloading celeba:  57%|█████▋    | 818M/1.44G [01:55<01:49, 5.73MB/s]"
     ]
    },
    {
     "name": "stderr",
     "output_type": "stream",
     "text": [
      "\rDownloading celeba:  57%|█████▋    | 819M/1.44G [01:55<01:35, 6.53MB/s]"
     ]
    },
    {
     "name": "stderr",
     "output_type": "stream",
     "text": [
      "\rDownloading celeba:  57%|█████▋    | 820M/1.44G [01:55<01:23, 7.49MB/s]"
     ]
    },
    {
     "name": "stderr",
     "output_type": "stream",
     "text": [
      "\rDownloading celeba:  57%|█████▋    | 822M/1.44G [01:55<01:13, 8.41MB/s]"
     ]
    },
    {
     "name": "stderr",
     "output_type": "stream",
     "text": [
      "\rDownloading celeba:  57%|█████▋    | 823M/1.44G [01:55<01:07, 9.22MB/s]"
     ]
    },
    {
     "name": "stderr",
     "output_type": "stream",
     "text": [
      "\rDownloading celeba:  57%|█████▋    | 824M/1.44G [01:55<01:02, 9.85MB/s]"
     ]
    },
    {
     "name": "stderr",
     "output_type": "stream",
     "text": [
      "\rDownloading celeba:  57%|█████▋    | 825M/1.44G [01:56<00:59, 10.4MB/s]"
     ]
    },
    {
     "name": "stderr",
     "output_type": "stream",
     "text": [
      "\rDownloading celeba:  57%|█████▋    | 826M/1.44G [01:56<00:57, 10.8MB/s]"
     ]
    },
    {
     "name": "stderr",
     "output_type": "stream",
     "text": [
      "\rDownloading celeba:  57%|█████▋    | 828M/1.44G [01:56<00:55, 11.1MB/s]"
     ]
    },
    {
     "name": "stderr",
     "output_type": "stream",
     "text": [
      "\rDownloading celeba:  57%|█████▋    | 829M/1.44G [01:56<00:54, 11.3MB/s]"
     ]
    },
    {
     "name": "stderr",
     "output_type": "stream",
     "text": [
      "\rDownloading celeba:  57%|█████▋    | 830M/1.44G [01:56<00:53, 11.4MB/s]"
     ]
    },
    {
     "name": "stderr",
     "output_type": "stream",
     "text": [
      "\rDownloading celeba:  58%|█████▊    | 831M/1.44G [01:56<00:52, 11.6MB/s]"
     ]
    },
    {
     "name": "stderr",
     "output_type": "stream",
     "text": [
      "\rDownloading celeba:  58%|█████▊    | 832M/1.44G [01:56<00:52, 11.7MB/s]"
     ]
    },
    {
     "name": "stderr",
     "output_type": "stream",
     "text": [
      "\rDownloading celeba:  58%|█████▊    | 834M/1.44G [01:56<00:52, 11.7MB/s]"
     ]
    },
    {
     "name": "stderr",
     "output_type": "stream",
     "text": [
      "\rDownloading celeba:  58%|█████▊    | 835M/1.44G [01:56<00:51, 11.7MB/s]"
     ]
    },
    {
     "name": "stderr",
     "output_type": "stream",
     "text": [
      "\rDownloading celeba:  58%|█████▊    | 836M/1.44G [01:56<00:51, 11.8MB/s]"
     ]
    },
    {
     "name": "stderr",
     "output_type": "stream",
     "text": [
      "\rDownloading celeba:  58%|█████▊    | 837M/1.44G [01:57<00:51, 11.8MB/s]"
     ]
    },
    {
     "name": "stderr",
     "output_type": "stream",
     "text": [
      "\rDownloading celeba:  58%|█████▊    | 838M/1.44G [01:57<00:51, 11.7MB/s]"
     ]
    },
    {
     "name": "stderr",
     "output_type": "stream",
     "text": [
      "\rDownloading celeba:  58%|█████▊    | 839M/1.44G [01:57<00:51, 11.7MB/s]"
     ]
    },
    {
     "name": "stderr",
     "output_type": "stream",
     "text": [
      "\rDownloading celeba:  58%|█████▊    | 841M/1.44G [01:57<00:51, 11.7MB/s]"
     ]
    },
    {
     "name": "stderr",
     "output_type": "stream",
     "text": [
      "\rDownloading celeba:  58%|█████▊    | 842M/1.44G [01:57<00:51, 11.7MB/s]"
     ]
    },
    {
     "name": "stderr",
     "output_type": "stream",
     "text": [
      "\rDownloading celeba:  58%|█████▊    | 843M/1.44G [01:57<00:52, 11.4MB/s]"
     ]
    },
    {
     "name": "stderr",
     "output_type": "stream",
     "text": [
      "\rDownloading celeba:  58%|█████▊    | 844M/1.44G [01:57<00:54, 11.0MB/s]"
     ]
    },
    {
     "name": "stderr",
     "output_type": "stream",
     "text": [
      "\rDownloading celeba:  59%|█████▊    | 845M/1.44G [01:57<00:55, 10.8MB/s]"
     ]
    },
    {
     "name": "stderr",
     "output_type": "stream",
     "text": [
      "\rDownloading celeba:  59%|█████▊    | 846M/1.44G [01:57<00:55, 10.7MB/s]"
     ]
    },
    {
     "name": "stderr",
     "output_type": "stream",
     "text": [
      "\rDownloading celeba:  59%|█████▊    | 847M/1.44G [01:58<00:57, 10.4MB/s]"
     ]
    },
    {
     "name": "stderr",
     "output_type": "stream",
     "text": [
      "\rDownloading celeba:  59%|█████▊    | 848M/1.44G [01:58<00:58, 10.1MB/s]"
     ]
    },
    {
     "name": "stderr",
     "output_type": "stream",
     "text": [
      "\rDownloading celeba:  59%|█████▉    | 849M/1.44G [01:58<01:00, 9.78MB/s]"
     ]
    },
    {
     "name": "stderr",
     "output_type": "stream",
     "text": [
      "\rDownloading celeba:  59%|█████▉    | 850M/1.44G [01:58<01:02, 9.52MB/s]"
     ]
    },
    {
     "name": "stderr",
     "output_type": "stream",
     "text": [
      "\rDownloading celeba:  59%|█████▉    | 851M/1.44G [01:58<01:03, 9.31MB/s]"
     ]
    },
    {
     "name": "stderr",
     "output_type": "stream",
     "text": [
      "\rDownloading celeba:  59%|█████▉    | 852M/1.44G [01:58<01:04, 9.23MB/s]"
     ]
    },
    {
     "name": "stderr",
     "output_type": "stream",
     "text": [
      "\rDownloading celeba:  59%|█████▉    | 852M/1.44G [01:58<01:05, 9.05MB/s]"
     ]
    },
    {
     "name": "stderr",
     "output_type": "stream",
     "text": [
      "\rDownloading celeba:  59%|█████▉    | 853M/1.44G [01:58<01:07, 8.73MB/s]"
     ]
    },
    {
     "name": "stderr",
     "output_type": "stream",
     "text": [
      "\rDownloading celeba:  59%|█████▉    | 854M/1.44G [01:58<01:12, 8.13MB/s]"
     ]
    },
    {
     "name": "stderr",
     "output_type": "stream",
     "text": [
      "\rDownloading celeba:  59%|█████▉    | 855M/1.44G [01:58<01:15, 7.75MB/s]"
     ]
    },
    {
     "name": "stderr",
     "output_type": "stream",
     "text": [
      "\rDownloading celeba:  59%|█████▉    | 855M/1.44G [01:59<01:16, 7.68MB/s]"
     ]
    },
    {
     "name": "stderr",
     "output_type": "stream",
     "text": [
      "\rDownloading celeba:  59%|█████▉    | 856M/1.44G [01:59<01:17, 7.61MB/s]"
     ]
    },
    {
     "name": "stderr",
     "output_type": "stream",
     "text": [
      "\rDownloading celeba:  59%|█████▉    | 857M/1.44G [01:59<01:16, 7.67MB/s]"
     ]
    },
    {
     "name": "stderr",
     "output_type": "stream",
     "text": [
      "\rDownloading celeba:  59%|█████▉    | 858M/1.44G [01:59<01:16, 7.70MB/s]"
     ]
    },
    {
     "name": "stderr",
     "output_type": "stream",
     "text": [
      "\rDownloading celeba:  59%|█████▉    | 859M/1.44G [01:59<01:16, 7.68MB/s]"
     ]
    },
    {
     "name": "stderr",
     "output_type": "stream",
     "text": [
      "\rDownloading celeba:  60%|█████▉    | 859M/1.44G [01:59<01:16, 7.61MB/s]"
     ]
    },
    {
     "name": "stderr",
     "output_type": "stream",
     "text": [
      "\rDownloading celeba:  60%|█████▉    | 860M/1.44G [01:59<01:18, 7.46MB/s]"
     ]
    },
    {
     "name": "stderr",
     "output_type": "stream",
     "text": [
      "\rDownloading celeba:  60%|█████▉    | 861M/1.44G [01:59<01:19, 7.31MB/s]"
     ]
    },
    {
     "name": "stderr",
     "output_type": "stream",
     "text": [
      "\rDownloading celeba:  60%|█████▉    | 861M/1.44G [01:59<01:19, 7.29MB/s]"
     ]
    },
    {
     "name": "stderr",
     "output_type": "stream",
     "text": [
      "\rDownloading celeba:  60%|█████▉    | 862M/1.44G [01:59<01:19, 7.31MB/s]"
     ]
    },
    {
     "name": "stderr",
     "output_type": "stream",
     "text": [
      "\rDownloading celeba:  60%|█████▉    | 863M/1.44G [02:00<01:20, 7.20MB/s]"
     ]
    },
    {
     "name": "stderr",
     "output_type": "stream",
     "text": [
      "\rDownloading celeba:  60%|█████▉    | 864M/1.44G [02:00<01:20, 7.22MB/s]"
     ]
    },
    {
     "name": "stderr",
     "output_type": "stream",
     "text": [
      "\rDownloading celeba:  60%|█████▉    | 864M/1.44G [02:00<01:20, 7.18MB/s]"
     ]
    },
    {
     "name": "stderr",
     "output_type": "stream",
     "text": [
      "\rDownloading celeba:  60%|█████▉    | 865M/1.44G [02:00<01:20, 7.22MB/s]"
     ]
    },
    {
     "name": "stderr",
     "output_type": "stream",
     "text": [
      "\rDownloading celeba:  60%|█████▉    | 866M/1.44G [02:00<01:19, 7.26MB/s]"
     ]
    },
    {
     "name": "stderr",
     "output_type": "stream",
     "text": [
      "\rDownloading celeba:  60%|██████    | 867M/1.44G [02:00<01:15, 7.69MB/s]"
     ]
    },
    {
     "name": "stderr",
     "output_type": "stream",
     "text": [
      "\rDownloading celeba:  60%|██████    | 868M/1.44G [02:00<01:07, 8.50MB/s]"
     ]
    },
    {
     "name": "stderr",
     "output_type": "stream",
     "text": [
      "\rDownloading celeba:  60%|██████    | 869M/1.44G [02:00<01:01, 9.29MB/s]"
     ]
    },
    {
     "name": "stderr",
     "output_type": "stream",
     "text": [
      "\rDownloading celeba:  60%|██████    | 870M/1.44G [02:00<00:57, 9.93MB/s]"
     ]
    },
    {
     "name": "stderr",
     "output_type": "stream",
     "text": [
      "\rDownloading celeba:  60%|██████    | 871M/1.44G [02:00<01:18, 7.26MB/s]"
     ]
    },
    {
     "name": "stderr",
     "output_type": "stream",
     "text": [
      "\rDownloading celeba:  60%|██████    | 873M/1.44G [02:01<01:04, 8.83MB/s]"
     ]
    },
    {
     "name": "stderr",
     "output_type": "stream",
     "text": [
      "\rDownloading celeba:  61%|██████    | 874M/1.44G [02:01<01:03, 8.99MB/s]"
     ]
    },
    {
     "name": "stderr",
     "output_type": "stream",
     "text": [
      "\rDownloading celeba:  61%|██████    | 874M/1.44G [02:01<01:03, 8.98MB/s]"
     ]
    },
    {
     "name": "stderr",
     "output_type": "stream",
     "text": [
      "\rDownloading celeba:  61%|██████    | 875M/1.44G [02:01<01:04, 8.86MB/s]"
     ]
    },
    {
     "name": "stderr",
     "output_type": "stream",
     "text": [
      "\rDownloading celeba:  61%|██████    | 876M/1.44G [02:01<01:05, 8.70MB/s]"
     ]
    },
    {
     "name": "stderr",
     "output_type": "stream",
     "text": [
      "\rDownloading celeba:  61%|██████    | 877M/1.44G [02:01<01:05, 8.63MB/s]"
     ]
    },
    {
     "name": "stderr",
     "output_type": "stream",
     "text": [
      "\rDownloading celeba:  61%|██████    | 878M/1.44G [02:01<01:05, 8.63MB/s]"
     ]
    },
    {
     "name": "stderr",
     "output_type": "stream",
     "text": [
      "\rDownloading celeba:  61%|██████    | 879M/1.44G [02:01<01:04, 8.78MB/s]"
     ]
    },
    {
     "name": "stderr",
     "output_type": "stream",
     "text": [
      "\rDownloading celeba:  61%|██████    | 880M/1.44G [02:01<01:03, 8.87MB/s]"
     ]
    },
    {
     "name": "stderr",
     "output_type": "stream",
     "text": [
      "\rDownloading celeba:  61%|██████    | 881M/1.44G [02:01<01:05, 8.63MB/s]"
     ]
    },
    {
     "name": "stderr",
     "output_type": "stream",
     "text": [
      "\rDownloading celeba:  61%|██████    | 881M/1.44G [02:02<01:07, 8.33MB/s]"
     ]
    },
    {
     "name": "stderr",
     "output_type": "stream",
     "text": [
      "\rDownloading celeba:  61%|██████    | 882M/1.44G [02:02<01:11, 7.90MB/s]"
     ]
    },
    {
     "name": "stderr",
     "output_type": "stream",
     "text": [
      "\rDownloading celeba:  61%|██████    | 883M/1.44G [02:02<01:12, 7.77MB/s]"
     ]
    },
    {
     "name": "stderr",
     "output_type": "stream",
     "text": [
      "\rDownloading celeba:  61%|██████    | 884M/1.44G [02:02<01:12, 7.77MB/s]"
     ]
    },
    {
     "name": "stderr",
     "output_type": "stream",
     "text": [
      "\rDownloading celeba:  61%|██████▏   | 884M/1.44G [02:02<01:12, 7.70MB/s]"
     ]
    },
    {
     "name": "stderr",
     "output_type": "stream",
     "text": [
      "\rDownloading celeba:  61%|██████▏   | 885M/1.44G [02:02<01:13, 7.59MB/s]"
     ]
    },
    {
     "name": "stderr",
     "output_type": "stream",
     "text": [
      "\rDownloading celeba:  61%|██████▏   | 886M/1.44G [02:02<01:15, 7.40MB/s]"
     ]
    },
    {
     "name": "stderr",
     "output_type": "stream",
     "text": [
      "\rDownloading celeba:  61%|██████▏   | 886M/1.44G [02:02<01:18, 7.08MB/s]"
     ]
    },
    {
     "name": "stderr",
     "output_type": "stream",
     "text": [
      "\rDownloading celeba:  61%|██████▏   | 887M/1.44G [02:02<01:24, 6.56MB/s]"
     ]
    },
    {
     "name": "stderr",
     "output_type": "stream",
     "text": [
      "\rDownloading celeba:  61%|██████▏   | 888M/1.44G [02:02<01:33, 5.96MB/s]"
     ]
    },
    {
     "name": "stderr",
     "output_type": "stream",
     "text": [
      "\rDownloading celeba:  62%|██████▏   | 888M/1.44G [02:03<01:37, 5.67MB/s]"
     ]
    },
    {
     "name": "stderr",
     "output_type": "stream",
     "text": [
      "\rDownloading celeba:  62%|██████▏   | 888M/1.44G [02:03<02:03, 4.50MB/s]"
     ]
    },
    {
     "name": "stderr",
     "output_type": "stream",
     "text": [
      "\rDownloading celeba:  62%|██████▏   | 889M/1.44G [02:03<01:52, 4.95MB/s]"
     ]
    },
    {
     "name": "stderr",
     "output_type": "stream",
     "text": [
      "\rDownloading celeba:  62%|██████▏   | 890M/1.44G [02:03<01:54, 4.83MB/s]"
     ]
    },
    {
     "name": "stderr",
     "output_type": "stream",
     "text": [
      "\rDownloading celeba:  62%|██████▏   | 890M/1.44G [02:03<01:52, 4.93MB/s]"
     ]
    },
    {
     "name": "stderr",
     "output_type": "stream",
     "text": [
      "\rDownloading celeba:  62%|██████▏   | 891M/1.44G [02:03<01:46, 5.18MB/s]"
     ]
    },
    {
     "name": "stderr",
     "output_type": "stream",
     "text": [
      "\rDownloading celeba:  62%|██████▏   | 891M/1.44G [02:03<01:43, 5.32MB/s]"
     ]
    },
    {
     "name": "stderr",
     "output_type": "stream",
     "text": [
      "\rDownloading celeba:  62%|██████▏   | 892M/1.44G [02:03<01:41, 5.44MB/s]"
     ]
    },
    {
     "name": "stderr",
     "output_type": "stream",
     "text": [
      "\rDownloading celeba:  62%|██████▏   | 892M/1.44G [02:03<01:38, 5.57MB/s]"
     ]
    },
    {
     "name": "stderr",
     "output_type": "stream",
     "text": [
      "\rDownloading celeba:  62%|██████▏   | 893M/1.44G [02:03<01:36, 5.71MB/s]"
     ]
    },
    {
     "name": "stderr",
     "output_type": "stream",
     "text": [
      "\rDownloading celeba:  62%|██████▏   | 894M/1.44G [02:04<01:38, 5.56MB/s]"
     ]
    },
    {
     "name": "stderr",
     "output_type": "stream",
     "text": [
      "\rDownloading celeba:  62%|██████▏   | 894M/1.44G [02:04<01:38, 5.60MB/s]"
     ]
    },
    {
     "name": "stderr",
     "output_type": "stream",
     "text": [
      "\rDownloading celeba:  62%|██████▏   | 895M/1.44G [02:04<01:35, 5.75MB/s]"
     ]
    },
    {
     "name": "stderr",
     "output_type": "stream",
     "text": [
      "\rDownloading celeba:  62%|██████▏   | 895M/1.44G [02:04<01:35, 5.74MB/s]"
     ]
    },
    {
     "name": "stderr",
     "output_type": "stream",
     "text": [
      "\rDownloading celeba:  62%|██████▏   | 896M/1.44G [02:04<01:33, 5.83MB/s]"
     ]
    },
    {
     "name": "stderr",
     "output_type": "stream",
     "text": [
      "\rDownloading celeba:  62%|██████▏   | 896M/1.44G [02:04<01:35, 5.73MB/s]"
     ]
    },
    {
     "name": "stderr",
     "output_type": "stream",
     "text": [
      "\rDownloading celeba:  62%|██████▏   | 897M/1.44G [02:04<01:32, 5.91MB/s]"
     ]
    },
    {
     "name": "stderr",
     "output_type": "stream",
     "text": [
      "\rDownloading celeba:  62%|██████▏   | 898M/1.44G [02:04<01:29, 6.11MB/s]"
     ]
    },
    {
     "name": "stderr",
     "output_type": "stream",
     "text": [
      "\rDownloading celeba:  62%|██████▏   | 898M/1.44G [02:04<01:38, 5.53MB/s]"
     ]
    },
    {
     "name": "stderr",
     "output_type": "stream",
     "text": [
      "\rDownloading celeba:  62%|██████▏   | 899M/1.44G [02:05<01:37, 5.58MB/s]"
     ]
    },
    {
     "name": "stderr",
     "output_type": "stream",
     "text": [
      "\rDownloading celeba:  62%|██████▏   | 899M/1.44G [02:05<01:46, 5.13MB/s]"
     ]
    },
    {
     "name": "stderr",
     "output_type": "stream",
     "text": [
      "\rDownloading celeba:  62%|██████▏   | 900M/1.44G [02:05<01:54, 4.73MB/s]"
     ]
    },
    {
     "name": "stderr",
     "output_type": "stream",
     "text": [
      "\rDownloading celeba:  62%|██████▏   | 900M/1.44G [02:05<02:00, 4.51MB/s]"
     ]
    },
    {
     "name": "stderr",
     "output_type": "stream",
     "text": [
      "\rDownloading celeba:  62%|██████▏   | 901M/1.44G [02:05<02:01, 4.48MB/s]"
     ]
    },
    {
     "name": "stderr",
     "output_type": "stream",
     "text": [
      "\rDownloading celeba:  62%|██████▏   | 901M/1.44G [02:05<02:03, 4.38MB/s]"
     ]
    },
    {
     "name": "stderr",
     "output_type": "stream",
     "text": [
      "\rDownloading celeba:  62%|██████▏   | 902M/1.44G [02:05<02:02, 4.41MB/s]"
     ]
    },
    {
     "name": "stderr",
     "output_type": "stream",
     "text": [
      "\rDownloading celeba:  62%|██████▏   | 902M/1.44G [02:05<01:59, 4.53MB/s]"
     ]
    },
    {
     "name": "stderr",
     "output_type": "stream",
     "text": [
      "\rDownloading celeba:  63%|██████▎   | 903M/1.44G [02:05<01:58, 4.56MB/s]"
     ]
    },
    {
     "name": "stderr",
     "output_type": "stream",
     "text": [
      "\rDownloading celeba:  63%|██████▎   | 903M/1.44G [02:05<01:56, 4.66MB/s]"
     ]
    },
    {
     "name": "stderr",
     "output_type": "stream",
     "text": [
      "\rDownloading celeba:  63%|██████▎   | 904M/1.44G [02:06<01:51, 4.84MB/s]"
     ]
    },
    {
     "name": "stderr",
     "output_type": "stream",
     "text": [
      "\rDownloading celeba:  63%|██████▎   | 904M/1.44G [02:06<01:49, 4.93MB/s]"
     ]
    },
    {
     "name": "stderr",
     "output_type": "stream",
     "text": [
      "\rDownloading celeba:  63%|██████▎   | 905M/1.44G [02:06<01:55, 4.68MB/s]"
     ]
    },
    {
     "name": "stderr",
     "output_type": "stream",
     "text": [
      "\rDownloading celeba:  63%|██████▎   | 905M/1.44G [02:06<02:01, 4.44MB/s]"
     ]
    },
    {
     "name": "stderr",
     "output_type": "stream",
     "text": [
      "\rDownloading celeba:  63%|██████▎   | 905M/1.44G [02:06<02:07, 4.22MB/s]"
     ]
    },
    {
     "name": "stderr",
     "output_type": "stream",
     "text": [
      "\rDownloading celeba:  63%|██████▎   | 906M/1.44G [02:06<02:11, 4.10MB/s]"
     ]
    },
    {
     "name": "stderr",
     "output_type": "stream",
     "text": [
      "\rDownloading celeba:  63%|██████▎   | 906M/1.44G [02:06<02:12, 4.05MB/s]"
     ]
    },
    {
     "name": "stderr",
     "output_type": "stream",
     "text": [
      "\rDownloading celeba:  63%|██████▎   | 907M/1.44G [02:06<02:16, 3.95MB/s]"
     ]
    },
    {
     "name": "stderr",
     "output_type": "stream",
     "text": [
      "\rDownloading celeba:  63%|██████▎   | 907M/1.44G [02:06<02:22, 3.78MB/s]"
     ]
    },
    {
     "name": "stderr",
     "output_type": "stream",
     "text": [
      "\rDownloading celeba:  63%|██████▎   | 907M/1.44G [02:06<02:27, 3.64MB/s]"
     ]
    },
    {
     "name": "stderr",
     "output_type": "stream",
     "text": [
      "\rDownloading celeba:  63%|██████▎   | 908M/1.44G [02:07<02:30, 3.56MB/s]"
     ]
    },
    {
     "name": "stderr",
     "output_type": "stream",
     "text": [
      "\rDownloading celeba:  63%|██████▎   | 908M/1.44G [02:07<02:35, 3.45MB/s]"
     ]
    },
    {
     "name": "stderr",
     "output_type": "stream",
     "text": [
      "\rDownloading celeba:  63%|██████▎   | 908M/1.44G [02:07<02:42, 3.29MB/s]"
     ]
    },
    {
     "name": "stderr",
     "output_type": "stream",
     "text": [
      "\rDownloading celeba:  63%|██████▎   | 909M/1.44G [02:07<02:40, 3.33MB/s]"
     ]
    },
    {
     "name": "stderr",
     "output_type": "stream",
     "text": [
      "\rDownloading celeba:  63%|██████▎   | 909M/1.44G [02:07<02:41, 3.31MB/s]"
     ]
    },
    {
     "name": "stderr",
     "output_type": "stream",
     "text": [
      "\rDownloading celeba:  63%|██████▎   | 909M/1.44G [02:07<02:42, 3.30MB/s]"
     ]
    },
    {
     "name": "stderr",
     "output_type": "stream",
     "text": [
      "\rDownloading celeba:  63%|██████▎   | 910M/1.44G [02:07<02:42, 3.28MB/s]"
     ]
    },
    {
     "name": "stderr",
     "output_type": "stream",
     "text": [
      "\rDownloading celeba:  63%|██████▎   | 910M/1.44G [02:07<02:46, 3.21MB/s]"
     ]
    },
    {
     "name": "stderr",
     "output_type": "stream",
     "text": [
      "\rDownloading celeba:  63%|██████▎   | 910M/1.44G [02:07<02:46, 3.20MB/s]"
     ]
    },
    {
     "name": "stderr",
     "output_type": "stream",
     "text": [
      "\rDownloading celeba:  63%|██████▎   | 911M/1.44G [02:08<02:45, 3.21MB/s]"
     ]
    },
    {
     "name": "stderr",
     "output_type": "stream",
     "text": [
      "\rDownloading celeba:  63%|██████▎   | 911M/1.44G [02:08<02:39, 3.33MB/s]"
     ]
    },
    {
     "name": "stderr",
     "output_type": "stream",
     "text": [
      "\rDownloading celeba:  63%|██████▎   | 911M/1.44G [02:08<02:38, 3.36MB/s]"
     ]
    },
    {
     "name": "stderr",
     "output_type": "stream",
     "text": [
      "\rDownloading celeba:  63%|██████▎   | 912M/1.44G [02:08<02:36, 3.40MB/s]"
     ]
    },
    {
     "name": "stderr",
     "output_type": "stream",
     "text": [
      "\rDownloading celeba:  63%|██████▎   | 912M/1.44G [02:08<02:36, 3.39MB/s]"
     ]
    },
    {
     "name": "stderr",
     "output_type": "stream",
     "text": [
      "\rDownloading celeba:  63%|██████▎   | 912M/1.44G [02:08<02:28, 3.59MB/s]"
     ]
    },
    {
     "name": "stderr",
     "output_type": "stream",
     "text": [
      "\rDownloading celeba:  63%|██████▎   | 913M/1.44G [02:08<02:22, 3.72MB/s]"
     ]
    },
    {
     "name": "stderr",
     "output_type": "stream",
     "text": [
      "\rDownloading celeba:  63%|██████▎   | 914M/1.44G [02:08<02:02, 4.33MB/s]"
     ]
    },
    {
     "name": "stderr",
     "output_type": "stream",
     "text": [
      "\rDownloading celeba:  63%|██████▎   | 914M/1.44G [02:08<01:50, 4.77MB/s]"
     ]
    },
    {
     "name": "stderr",
     "output_type": "stream",
     "text": [
      "\rDownloading celeba:  63%|██████▎   | 915M/1.44G [02:08<01:46, 4.97MB/s]"
     ]
    },
    {
     "name": "stderr",
     "output_type": "stream",
     "text": [
      "\rDownloading celeba:  63%|██████▎   | 915M/1.44G [02:09<01:45, 5.02MB/s]"
     ]
    },
    {
     "name": "stderr",
     "output_type": "stream",
     "text": [
      "\rDownloading celeba:  63%|██████▎   | 916M/1.44G [02:09<01:46, 4.96MB/s]"
     ]
    },
    {
     "name": "stderr",
     "output_type": "stream",
     "text": [
      "\rDownloading celeba:  63%|██████▎   | 916M/1.44G [02:09<01:45, 4.99MB/s]"
     ]
    },
    {
     "name": "stderr",
     "output_type": "stream",
     "text": [
      "\rDownloading celeba:  64%|██████▎   | 917M/1.44G [02:09<01:43, 5.06MB/s]"
     ]
    },
    {
     "name": "stderr",
     "output_type": "stream",
     "text": [
      "\rDownloading celeba:  64%|██████▎   | 917M/1.44G [02:09<01:44, 5.05MB/s]"
     ]
    },
    {
     "name": "stderr",
     "output_type": "stream",
     "text": [
      "\rDownloading celeba:  64%|██████▎   | 918M/1.44G [02:09<01:44, 5.01MB/s]"
     ]
    },
    {
     "name": "stderr",
     "output_type": "stream",
     "text": [
      "\rDownloading celeba:  64%|██████▎   | 918M/1.44G [02:09<01:41, 5.16MB/s]"
     ]
    },
    {
     "name": "stderr",
     "output_type": "stream",
     "text": [
      "\rDownloading celeba:  64%|██████▎   | 919M/1.44G [02:09<01:37, 5.36MB/s]"
     ]
    },
    {
     "name": "stderr",
     "output_type": "stream",
     "text": [
      "\rDownloading celeba:  64%|██████▎   | 920M/1.44G [02:09<01:37, 5.39MB/s]"
     ]
    },
    {
     "name": "stderr",
     "output_type": "stream",
     "text": [
      "\rDownloading celeba:  64%|██████▎   | 920M/1.44G [02:09<01:35, 5.48MB/s]"
     ]
    },
    {
     "name": "stderr",
     "output_type": "stream",
     "text": [
      "\rDownloading celeba:  64%|██████▍   | 921M/1.44G [02:10<01:37, 5.35MB/s]"
     ]
    },
    {
     "name": "stderr",
     "output_type": "stream",
     "text": [
      "\rDownloading celeba:  64%|██████▍   | 921M/1.44G [02:10<01:36, 5.40MB/s]"
     ]
    },
    {
     "name": "stderr",
     "output_type": "stream",
     "text": [
      "\rDownloading celeba:  64%|██████▍   | 922M/1.44G [02:10<01:35, 5.44MB/s]"
     ]
    },
    {
     "name": "stderr",
     "output_type": "stream",
     "text": [
      "\rDownloading celeba:  64%|██████▍   | 922M/1.44G [02:10<01:34, 5.51MB/s]"
     ]
    },
    {
     "name": "stderr",
     "output_type": "stream",
     "text": [
      "\rDownloading celeba:  64%|██████▍   | 923M/1.44G [02:10<01:32, 5.62MB/s]"
     ]
    },
    {
     "name": "stderr",
     "output_type": "stream",
     "text": [
      "\rDownloading celeba:  64%|██████▍   | 924M/1.44G [02:10<01:30, 5.73MB/s]"
     ]
    },
    {
     "name": "stderr",
     "output_type": "stream",
     "text": [
      "\rDownloading celeba:  64%|██████▍   | 924M/1.44G [02:10<01:22, 6.29MB/s]"
     ]
    },
    {
     "name": "stderr",
     "output_type": "stream",
     "text": [
      "\rDownloading celeba:  64%|██████▍   | 925M/1.44G [02:10<01:14, 6.96MB/s]"
     ]
    },
    {
     "name": "stderr",
     "output_type": "stream",
     "text": [
      "\rDownloading celeba:  64%|██████▍   | 926M/1.44G [02:10<01:05, 7.88MB/s]"
     ]
    },
    {
     "name": "stderr",
     "output_type": "stream",
     "text": [
      "\rDownloading celeba:  64%|██████▍   | 928M/1.44G [02:10<00:58, 8.75MB/s]"
     ]
    },
    {
     "name": "stderr",
     "output_type": "stream",
     "text": [
      "\rDownloading celeba:  64%|██████▍   | 929M/1.44G [02:11<00:54, 9.49MB/s]"
     ]
    },
    {
     "name": "stderr",
     "output_type": "stream",
     "text": [
      "\rDownloading celeba:  64%|██████▍   | 930M/1.44G [02:11<00:50, 10.1MB/s]"
     ]
    },
    {
     "name": "stderr",
     "output_type": "stream",
     "text": [
      "\rDownloading celeba:  65%|██████▍   | 931M/1.44G [02:11<00:54, 9.33MB/s]"
     ]
    },
    {
     "name": "stderr",
     "output_type": "stream",
     "text": [
      "\rDownloading celeba:  65%|██████▍   | 933M/1.44G [02:11<00:47, 10.8MB/s]"
     ]
    },
    {
     "name": "stderr",
     "output_type": "stream",
     "text": [
      "\rDownloading celeba:  65%|██████▍   | 934M/1.44G [02:11<00:45, 11.1MB/s]"
     ]
    },
    {
     "name": "stderr",
     "output_type": "stream",
     "text": [
      "\rDownloading celeba:  65%|██████▍   | 935M/1.44G [02:11<00:45, 11.3MB/s]"
     ]
    },
    {
     "name": "stderr",
     "output_type": "stream",
     "text": [
      "\rDownloading celeba:  65%|██████▍   | 936M/1.44G [02:11<00:44, 11.5MB/s]"
     ]
    },
    {
     "name": "stderr",
     "output_type": "stream",
     "text": [
      "\rDownloading celeba:  65%|██████▍   | 938M/1.44G [02:11<00:43, 11.6MB/s]"
     ]
    },
    {
     "name": "stderr",
     "output_type": "stream",
     "text": [
      "\rDownloading celeba:  65%|██████▌   | 939M/1.44G [02:11<00:43, 11.6MB/s]"
     ]
    },
    {
     "name": "stderr",
     "output_type": "stream",
     "text": [
      "\rDownloading celeba:  65%|██████▌   | 940M/1.44G [02:12<00:43, 11.7MB/s]"
     ]
    },
    {
     "name": "stderr",
     "output_type": "stream",
     "text": [
      "\rDownloading celeba:  65%|██████▌   | 941M/1.44G [02:12<00:42, 11.7MB/s]"
     ]
    },
    {
     "name": "stderr",
     "output_type": "stream",
     "text": [
      "\rDownloading celeba:  65%|██████▌   | 942M/1.44G [02:12<00:42, 11.8MB/s]"
     ]
    },
    {
     "name": "stderr",
     "output_type": "stream",
     "text": [
      "\rDownloading celeba:  65%|██████▌   | 943M/1.44G [02:12<00:47, 10.5MB/s]"
     ]
    },
    {
     "name": "stderr",
     "output_type": "stream",
     "text": [
      "\rDownloading celeba:  65%|██████▌   | 945M/1.44G [02:12<00:42, 11.8MB/s]"
     ]
    },
    {
     "name": "stderr",
     "output_type": "stream",
     "text": [
      "\rDownloading celeba:  66%|██████▌   | 946M/1.44G [02:12<00:48, 10.3MB/s]"
     ]
    },
    {
     "name": "stderr",
     "output_type": "stream",
     "text": [
      "\rDownloading celeba:  66%|██████▌   | 947M/1.44G [02:12<00:43, 11.3MB/s]"
     ]
    },
    {
     "name": "stderr",
     "output_type": "stream",
     "text": [
      "\rDownloading celeba:  66%|██████▌   | 948M/1.44G [02:12<00:47, 10.4MB/s]"
     ]
    },
    {
     "name": "stderr",
     "output_type": "stream",
     "text": [
      "\rDownloading celeba:  66%|██████▌   | 949M/1.44G [02:12<00:54, 9.06MB/s]"
     ]
    },
    {
     "name": "stderr",
     "output_type": "stream",
     "text": [
      "\rDownloading celeba:  66%|██████▌   | 950M/1.44G [02:12<01:03, 7.74MB/s]"
     ]
    },
    {
     "name": "stderr",
     "output_type": "stream",
     "text": [
      "\rDownloading celeba:  66%|██████▌   | 950M/1.44G [02:13<01:09, 7.11MB/s]"
     ]
    },
    {
     "name": "stderr",
     "output_type": "stream",
     "text": [
      "\rDownloading celeba:  66%|██████▌   | 951M/1.44G [02:13<01:28, 5.58MB/s]"
     ]
    },
    {
     "name": "stderr",
     "output_type": "stream",
     "text": [
      "\rDownloading celeba:  66%|██████▌   | 951M/1.44G [02:13<01:23, 5.87MB/s]"
     ]
    },
    {
     "name": "stderr",
     "output_type": "stream",
     "text": [
      "\rDownloading celeba:  66%|██████▌   | 952M/1.44G [02:13<01:48, 4.55MB/s]"
     ]
    },
    {
     "name": "stderr",
     "output_type": "stream",
     "text": [
      "\rDownloading celeba:  66%|██████▌   | 952M/1.44G [02:13<01:41, 4.86MB/s]"
     ]
    },
    {
     "name": "stderr",
     "output_type": "stream",
     "text": [
      "\rDownloading celeba:  66%|██████▌   | 953M/1.44G [02:13<01:47, 4.56MB/s]"
     ]
    },
    {
     "name": "stderr",
     "output_type": "stream",
     "text": [
      "\rDownloading celeba:  66%|██████▌   | 953M/1.44G [02:13<01:54, 4.30MB/s]"
     ]
    },
    {
     "name": "stderr",
     "output_type": "stream",
     "text": [
      "\rDownloading celeba:  66%|██████▌   | 953M/1.44G [02:13<02:03, 3.98MB/s]"
     ]
    },
    {
     "name": "stderr",
     "output_type": "stream",
     "text": [
      "\rDownloading celeba:  66%|██████▌   | 954M/1.44G [02:13<02:09, 3.78MB/s]"
     ]
    },
    {
     "name": "stderr",
     "output_type": "stream",
     "text": [
      "\rDownloading celeba:  66%|██████▌   | 954M/1.44G [02:14<02:04, 3.92MB/s]"
     ]
    },
    {
     "name": "stderr",
     "output_type": "stream",
     "text": [
      "\rDownloading celeba:  66%|██████▌   | 955M/1.44G [02:14<02:00, 4.07MB/s]"
     ]
    },
    {
     "name": "stderr",
     "output_type": "stream",
     "text": [
      "\rDownloading celeba:  66%|██████▌   | 955M/1.44G [02:14<01:54, 4.27MB/s]"
     ]
    },
    {
     "name": "stderr",
     "output_type": "stream",
     "text": [
      "\rDownloading celeba:  66%|██████▌   | 956M/1.44G [02:14<01:50, 4.40MB/s]"
     ]
    },
    {
     "name": "stderr",
     "output_type": "stream",
     "text": [
      "\rDownloading celeba:  66%|██████▌   | 956M/1.44G [02:14<01:51, 4.36MB/s]"
     ]
    },
    {
     "name": "stderr",
     "output_type": "stream",
     "text": [
      "\rDownloading celeba:  66%|██████▋   | 956M/1.44G [02:14<01:48, 4.50MB/s]"
     ]
    },
    {
     "name": "stderr",
     "output_type": "stream",
     "text": [
      "\rDownloading celeba:  66%|██████▋   | 957M/1.44G [02:14<01:45, 4.60MB/s]"
     ]
    },
    {
     "name": "stderr",
     "output_type": "stream",
     "text": [
      "\rDownloading celeba:  66%|██████▋   | 957M/1.44G [02:14<01:45, 4.61MB/s]"
     ]
    },
    {
     "name": "stderr",
     "output_type": "stream",
     "text": [
      "\rDownloading celeba:  66%|██████▋   | 958M/1.44G [02:14<01:46, 4.56MB/s]"
     ]
    },
    {
     "name": "stderr",
     "output_type": "stream",
     "text": [
      "\rDownloading celeba:  66%|██████▋   | 958M/1.44G [02:14<01:47, 4.53MB/s]"
     ]
    },
    {
     "name": "stderr",
     "output_type": "stream",
     "text": [
      "\rDownloading celeba:  66%|██████▋   | 959M/1.44G [02:15<01:48, 4.48MB/s]"
     ]
    },
    {
     "name": "stderr",
     "output_type": "stream",
     "text": [
      "\rDownloading celeba:  66%|██████▋   | 959M/1.44G [02:15<01:44, 4.64MB/s]"
     ]
    },
    {
     "name": "stderr",
     "output_type": "stream",
     "text": [
      "\rDownloading celeba:  66%|██████▋   | 960M/1.44G [02:15<01:44, 4.62MB/s]"
     ]
    },
    {
     "name": "stderr",
     "output_type": "stream",
     "text": [
      "\rDownloading celeba:  67%|██████▋   | 960M/1.44G [02:15<01:41, 4.76MB/s]"
     ]
    },
    {
     "name": "stderr",
     "output_type": "stream",
     "text": [
      "\rDownloading celeba:  67%|██████▋   | 961M/1.44G [02:15<01:40, 4.79MB/s]"
     ]
    },
    {
     "name": "stderr",
     "output_type": "stream",
     "text": [
      "\rDownloading celeba:  67%|██████▋   | 961M/1.44G [02:15<01:37, 4.94MB/s]"
     ]
    },
    {
     "name": "stderr",
     "output_type": "stream",
     "text": [
      "\rDownloading celeba:  67%|██████▋   | 962M/1.44G [02:15<01:27, 5.52MB/s]"
     ]
    },
    {
     "name": "stderr",
     "output_type": "stream",
     "text": [
      "\rDownloading celeba:  67%|██████▋   | 963M/1.44G [02:15<01:16, 6.29MB/s]"
     ]
    },
    {
     "name": "stderr",
     "output_type": "stream",
     "text": [
      "\rDownloading celeba:  67%|██████▋   | 964M/1.44G [02:15<01:06, 7.16MB/s]"
     ]
    },
    {
     "name": "stderr",
     "output_type": "stream",
     "text": [
      "\rDownloading celeba:  67%|██████▋   | 965M/1.44G [02:15<00:59, 7.98MB/s]"
     ]
    },
    {
     "name": "stderr",
     "output_type": "stream",
     "text": [
      "\rDownloading celeba:  67%|██████▋   | 966M/1.44G [02:16<00:53, 8.85MB/s]"
     ]
    },
    {
     "name": "stderr",
     "output_type": "stream",
     "text": [
      "\rDownloading celeba:  67%|██████▋   | 968M/1.44G [02:16<00:49, 9.57MB/s]"
     ]
    },
    {
     "name": "stderr",
     "output_type": "stream",
     "text": [
      "\rDownloading celeba:  67%|██████▋   | 969M/1.44G [02:16<00:51, 9.21MB/s]"
     ]
    },
    {
     "name": "stderr",
     "output_type": "stream",
     "text": [
      "\rDownloading celeba:  67%|██████▋   | 970M/1.44G [02:16<00:47, 10.1MB/s]"
     ]
    },
    {
     "name": "stderr",
     "output_type": "stream",
     "text": [
      "\rDownloading celeba:  67%|██████▋   | 971M/1.44G [02:16<00:47, 9.93MB/s]"
     ]
    },
    {
     "name": "stderr",
     "output_type": "stream",
     "text": [
      "\rDownloading celeba:  67%|██████▋   | 972M/1.44G [02:16<00:48, 9.76MB/s]"
     ]
    },
    {
     "name": "stderr",
     "output_type": "stream",
     "text": [
      "\rDownloading celeba:  67%|██████▋   | 973M/1.44G [02:16<00:48, 9.76MB/s]"
     ]
    },
    {
     "name": "stderr",
     "output_type": "stream",
     "text": [
      "\rDownloading celeba:  67%|██████▋   | 974M/1.44G [02:16<00:48, 9.78MB/s]"
     ]
    },
    {
     "name": "stderr",
     "output_type": "stream",
     "text": [
      "\rDownloading celeba:  68%|██████▊   | 975M/1.44G [02:16<00:46, 9.99MB/s]"
     ]
    },
    {
     "name": "stderr",
     "output_type": "stream",
     "text": [
      "\rDownloading celeba:  68%|██████▊   | 976M/1.44G [02:16<00:45, 10.2MB/s]"
     ]
    },
    {
     "name": "stderr",
     "output_type": "stream",
     "text": [
      "\rDownloading celeba:  68%|██████▊   | 977M/1.44G [02:17<00:45, 10.2MB/s]"
     ]
    },
    {
     "name": "stderr",
     "output_type": "stream",
     "text": [
      "\rDownloading celeba:  68%|██████▊   | 978M/1.44G [02:17<00:46, 10.1MB/s]"
     ]
    },
    {
     "name": "stderr",
     "output_type": "stream",
     "text": [
      "\rDownloading celeba:  68%|██████▊   | 979M/1.44G [02:17<00:45, 10.1MB/s]"
     ]
    },
    {
     "name": "stderr",
     "output_type": "stream",
     "text": [
      "\rDownloading celeba:  68%|██████▊   | 980M/1.44G [02:17<00:45, 10.2MB/s]"
     ]
    },
    {
     "name": "stderr",
     "output_type": "stream",
     "text": [
      "\rDownloading celeba:  68%|██████▊   | 981M/1.44G [02:17<00:45, 10.2MB/s]"
     ]
    },
    {
     "name": "stderr",
     "output_type": "stream",
     "text": [
      "\rDownloading celeba:  68%|██████▊   | 982M/1.44G [02:17<00:44, 10.3MB/s]"
     ]
    },
    {
     "name": "stderr",
     "output_type": "stream",
     "text": [
      "\rDownloading celeba:  68%|██████▊   | 983M/1.44G [02:17<00:44, 10.4MB/s]"
     ]
    },
    {
     "name": "stderr",
     "output_type": "stream",
     "text": [
      "\rDownloading celeba:  68%|██████▊   | 984M/1.44G [02:17<00:45, 10.2MB/s]"
     ]
    },
    {
     "name": "stderr",
     "output_type": "stream",
     "text": [
      "\rDownloading celeba:  68%|██████▊   | 985M/1.44G [02:17<00:46, 9.91MB/s]"
     ]
    },
    {
     "name": "stderr",
     "output_type": "stream",
     "text": [
      "\rDownloading celeba:  68%|██████▊   | 986M/1.44G [02:17<00:49, 9.16MB/s]"
     ]
    },
    {
     "name": "stderr",
     "output_type": "stream",
     "text": [
      "\rDownloading celeba:  68%|██████▊   | 987M/1.44G [02:18<00:54, 8.43MB/s]"
     ]
    },
    {
     "name": "stderr",
     "output_type": "stream",
     "text": [
      "\rDownloading celeba:  68%|██████▊   | 987M/1.44G [02:18<00:56, 8.10MB/s]"
     ]
    },
    {
     "name": "stderr",
     "output_type": "stream",
     "text": [
      "\rDownloading celeba:  68%|██████▊   | 988M/1.44G [02:18<00:57, 7.97MB/s]"
     ]
    },
    {
     "name": "stderr",
     "output_type": "stream",
     "text": [
      "\rDownloading celeba:  69%|██████▊   | 989M/1.44G [02:18<00:58, 7.75MB/s]"
     ]
    },
    {
     "name": "stderr",
     "output_type": "stream",
     "text": [
      "\rDownloading celeba:  69%|██████▊   | 990M/1.44G [02:18<00:59, 7.61MB/s]"
     ]
    },
    {
     "name": "stderr",
     "output_type": "stream",
     "text": [
      "\rDownloading celeba:  69%|██████▊   | 990M/1.44G [02:18<00:58, 7.69MB/s]"
     ]
    },
    {
     "name": "stderr",
     "output_type": "stream",
     "text": [
      "\rDownloading celeba:  69%|██████▊   | 991M/1.44G [02:18<00:57, 7.91MB/s]"
     ]
    },
    {
     "name": "stderr",
     "output_type": "stream",
     "text": [
      "\rDownloading celeba:  69%|██████▊   | 992M/1.44G [02:18<00:57, 7.83MB/s]"
     ]
    },
    {
     "name": "stderr",
     "output_type": "stream",
     "text": [
      "\rDownloading celeba:  69%|██████▉   | 993M/1.44G [02:18<00:58, 7.73MB/s]"
     ]
    },
    {
     "name": "stderr",
     "output_type": "stream",
     "text": [
      "\rDownloading celeba:  69%|██████▉   | 994M/1.44G [02:18<00:58, 7.66MB/s]"
     ]
    },
    {
     "name": "stderr",
     "output_type": "stream",
     "text": [
      "\rDownloading celeba:  69%|██████▉   | 994M/1.44G [02:19<00:56, 7.92MB/s]"
     ]
    },
    {
     "name": "stderr",
     "output_type": "stream",
     "text": [
      "\rDownloading celeba:  69%|██████▉   | 995M/1.44G [02:19<00:56, 7.95MB/s]"
     ]
    },
    {
     "name": "stderr",
     "output_type": "stream",
     "text": [
      "\rDownloading celeba:  69%|██████▉   | 996M/1.44G [02:19<00:56, 7.96MB/s]"
     ]
    },
    {
     "name": "stderr",
     "output_type": "stream",
     "text": [
      "\rDownloading celeba:  69%|██████▉   | 997M/1.44G [02:19<00:56, 7.90MB/s]"
     ]
    },
    {
     "name": "stderr",
     "output_type": "stream",
     "text": [
      "\rDownloading celeba:  69%|██████▉   | 998M/1.44G [02:19<00:56, 7.92MB/s]"
     ]
    },
    {
     "name": "stderr",
     "output_type": "stream",
     "text": [
      "\rDownloading celeba:  69%|██████▉   | 998M/1.44G [02:19<00:56, 7.83MB/s]"
     ]
    },
    {
     "name": "stderr",
     "output_type": "stream",
     "text": [
      "\rDownloading celeba:  69%|██████▉   | 999M/1.44G [02:19<00:56, 7.85MB/s]"
     ]
    },
    {
     "name": "stderr",
     "output_type": "stream",
     "text": [
      "\rDownloading celeba:  69%|██████▉   | 1.00G/1.44G [02:19<00:56, 7.90MB/s]"
     ]
    },
    {
     "name": "stderr",
     "output_type": "stream",
     "text": [
      "\rDownloading celeba:  69%|██████▉   | 1.00G/1.44G [02:19<00:53, 8.27MB/s]"
     ]
    },
    {
     "name": "stderr",
     "output_type": "stream",
     "text": [
      "\rDownloading celeba:  69%|██████▉   | 1.00G/1.44G [02:19<00:49, 8.96MB/s]"
     ]
    },
    {
     "name": "stderr",
     "output_type": "stream",
     "text": [
      "\rDownloading celeba:  70%|██████▉   | 1.00G/1.44G [02:20<00:45, 9.67MB/s]"
     ]
    },
    {
     "name": "stderr",
     "output_type": "stream",
     "text": [
      "\rDownloading celeba:  70%|██████▉   | 1.00G/1.44G [02:20<00:42, 10.2MB/s]"
     ]
    },
    {
     "name": "stderr",
     "output_type": "stream",
     "text": [
      "\rDownloading celeba:  70%|██████▉   | 1.01G/1.44G [02:20<00:45, 9.58MB/s]"
     ]
    },
    {
     "name": "stderr",
     "output_type": "stream",
     "text": [
      "\rDownloading celeba:  70%|██████▉   | 1.01G/1.44G [02:20<00:39, 10.9MB/s]"
     ]
    },
    {
     "name": "stderr",
     "output_type": "stream",
     "text": [
      "\rDownloading celeba:  70%|██████▉   | 1.01G/1.44G [02:20<00:39, 11.2MB/s]"
     ]
    },
    {
     "name": "stderr",
     "output_type": "stream",
     "text": [
      "\rDownloading celeba:  70%|██████▉   | 1.01G/1.44G [02:20<00:38, 11.4MB/s]"
     ]
    },
    {
     "name": "stderr",
     "output_type": "stream",
     "text": [
      "\rDownloading celeba:  70%|███████   | 1.01G/1.44G [02:20<00:37, 11.5MB/s]"
     ]
    },
    {
     "name": "stderr",
     "output_type": "stream",
     "text": [
      "\rDownloading celeba:  70%|███████   | 1.01G/1.44G [02:20<00:37, 11.6MB/s]"
     ]
    },
    {
     "name": "stderr",
     "output_type": "stream",
     "text": [
      "\rDownloading celeba:  70%|███████   | 1.01G/1.44G [02:20<00:57, 7.48MB/s]"
     ]
    },
    {
     "name": "stderr",
     "output_type": "stream",
     "text": [
      "\rDownloading celeba:  70%|███████   | 1.01G/1.44G [02:21<00:49, 8.65MB/s]"
     ]
    },
    {
     "name": "stderr",
     "output_type": "stream",
     "text": [
      "\rDownloading celeba:  70%|███████   | 1.02G/1.44G [02:21<00:46, 9.22MB/s]"
     ]
    },
    {
     "name": "stderr",
     "output_type": "stream",
     "text": [
      "\rDownloading celeba:  70%|███████   | 1.02G/1.44G [02:21<00:45, 9.43MB/s]"
     ]
    },
    {
     "name": "stderr",
     "output_type": "stream",
     "text": [
      "\rDownloading celeba:  70%|███████   | 1.02G/1.44G [02:21<00:44, 9.59MB/s]"
     ]
    },
    {
     "name": "stderr",
     "output_type": "stream",
     "text": [
      "\rDownloading celeba:  71%|███████   | 1.02G/1.44G [02:21<00:44, 9.64MB/s]"
     ]
    },
    {
     "name": "stderr",
     "output_type": "stream",
     "text": [
      "\rDownloading celeba:  71%|███████   | 1.02G/1.44G [02:21<00:43, 9.80MB/s]"
     ]
    },
    {
     "name": "stderr",
     "output_type": "stream",
     "text": [
      "\rDownloading celeba:  71%|███████   | 1.02G/1.44G [02:21<00:42, 10.0MB/s]"
     ]
    },
    {
     "name": "stderr",
     "output_type": "stream",
     "text": [
      "\rDownloading celeba:  71%|███████   | 1.02G/1.44G [02:21<00:41, 10.2MB/s]"
     ]
    },
    {
     "name": "stderr",
     "output_type": "stream",
     "text": [
      "\rDownloading celeba:  71%|███████   | 1.02G/1.44G [02:21<00:40, 10.5MB/s]"
     ]
    },
    {
     "name": "stderr",
     "output_type": "stream",
     "text": [
      "\rDownloading celeba:  71%|███████   | 1.02G/1.44G [02:21<00:39, 10.6MB/s]"
     ]
    },
    {
     "name": "stderr",
     "output_type": "stream",
     "text": [
      "\rDownloading celeba:  71%|███████   | 1.02G/1.44G [02:22<00:39, 10.7MB/s]"
     ]
    },
    {
     "name": "stderr",
     "output_type": "stream",
     "text": [
      "\rDownloading celeba:  71%|███████   | 1.03G/1.44G [02:22<00:38, 10.7MB/s]"
     ]
    },
    {
     "name": "stderr",
     "output_type": "stream",
     "text": [
      "\rDownloading celeba:  71%|███████   | 1.03G/1.44G [02:22<00:38, 10.8MB/s]"
     ]
    },
    {
     "name": "stderr",
     "output_type": "stream",
     "text": [
      "\rDownloading celeba:  71%|███████   | 1.03G/1.44G [02:22<00:38, 10.7MB/s]"
     ]
    },
    {
     "name": "stderr",
     "output_type": "stream",
     "text": [
      "\rDownloading celeba:  71%|███████▏  | 1.03G/1.44G [02:22<00:39, 10.6MB/s]"
     ]
    },
    {
     "name": "stderr",
     "output_type": "stream",
     "text": [
      "\rDownloading celeba:  71%|███████▏  | 1.03G/1.44G [02:22<00:39, 10.4MB/s]"
     ]
    },
    {
     "name": "stderr",
     "output_type": "stream",
     "text": [
      "\rDownloading celeba:  71%|███████▏  | 1.03G/1.44G [02:22<00:39, 10.4MB/s]"
     ]
    },
    {
     "name": "stderr",
     "output_type": "stream",
     "text": [
      "\rDownloading celeba:  71%|███████▏  | 1.03G/1.44G [02:22<00:49, 8.37MB/s]"
     ]
    },
    {
     "name": "stderr",
     "output_type": "stream",
     "text": [
      "\rDownloading celeba:  72%|███████▏  | 1.03G/1.44G [02:22<00:49, 8.33MB/s]"
     ]
    },
    {
     "name": "stderr",
     "output_type": "stream",
     "text": [
      "\rDownloading celeba:  72%|███████▏  | 1.03G/1.44G [02:23<00:46, 8.79MB/s]"
     ]
    },
    {
     "name": "stderr",
     "output_type": "stream",
     "text": [
      "\rDownloading celeba:  72%|███████▏  | 1.03G/1.44G [02:23<00:49, 8.29MB/s]"
     ]
    },
    {
     "name": "stderr",
     "output_type": "stream",
     "text": [
      "\rDownloading celeba:  72%|███████▏  | 1.03G/1.44G [02:23<00:56, 7.19MB/s]"
     ]
    },
    {
     "name": "stderr",
     "output_type": "stream",
     "text": [
      "\rDownloading celeba:  72%|███████▏  | 1.04G/1.44G [02:23<00:57, 7.15MB/s]"
     ]
    },
    {
     "name": "stderr",
     "output_type": "stream",
     "text": [
      "\rDownloading celeba:  72%|███████▏  | 1.04G/1.44G [02:23<01:01, 6.58MB/s]"
     ]
    },
    {
     "name": "stderr",
     "output_type": "stream",
     "text": [
      "\rDownloading celeba:  72%|███████▏  | 1.04G/1.44G [02:23<01:07, 6.01MB/s]"
     ]
    },
    {
     "name": "stderr",
     "output_type": "stream",
     "text": [
      "\rDownloading celeba:  72%|███████▏  | 1.04G/1.44G [02:23<01:12, 5.63MB/s]"
     ]
    },
    {
     "name": "stderr",
     "output_type": "stream",
     "text": [
      "\rDownloading celeba:  72%|███████▏  | 1.04G/1.44G [02:23<01:17, 5.25MB/s]"
     ]
    },
    {
     "name": "stderr",
     "output_type": "stream",
     "text": [
      "\rDownloading celeba:  72%|███████▏  | 1.04G/1.44G [02:23<01:19, 5.09MB/s]"
     ]
    },
    {
     "name": "stderr",
     "output_type": "stream",
     "text": [
      "\rDownloading celeba:  72%|███████▏  | 1.04G/1.44G [02:23<01:23, 4.86MB/s]"
     ]
    },
    {
     "name": "stderr",
     "output_type": "stream",
     "text": [
      "\rDownloading celeba:  72%|███████▏  | 1.04G/1.44G [02:24<01:21, 4.98MB/s]"
     ]
    },
    {
     "name": "stderr",
     "output_type": "stream",
     "text": [
      "\rDownloading celeba:  72%|███████▏  | 1.04G/1.44G [02:24<01:19, 5.09MB/s]"
     ]
    },
    {
     "name": "stderr",
     "output_type": "stream",
     "text": [
      "\rDownloading celeba:  72%|███████▏  | 1.04G/1.44G [02:24<01:18, 5.13MB/s]"
     ]
    },
    {
     "name": "stderr",
     "output_type": "stream",
     "text": [
      "\rDownloading celeba:  72%|███████▏  | 1.04G/1.44G [02:24<01:17, 5.22MB/s]"
     ]
    },
    {
     "name": "stderr",
     "output_type": "stream",
     "text": [
      "\rDownloading celeba:  72%|███████▏  | 1.04G/1.44G [02:24<01:15, 5.30MB/s]"
     ]
    },
    {
     "name": "stderr",
     "output_type": "stream",
     "text": [
      "\rDownloading celeba:  72%|███████▏  | 1.04G/1.44G [02:24<01:15, 5.34MB/s]"
     ]
    },
    {
     "name": "stderr",
     "output_type": "stream",
     "text": [
      "\rDownloading celeba:  72%|███████▏  | 1.04G/1.44G [02:24<01:14, 5.37MB/s]"
     ]
    },
    {
     "name": "stderr",
     "output_type": "stream",
     "text": [
      "\rDownloading celeba:  72%|███████▏  | 1.04G/1.44G [02:24<01:13, 5.47MB/s]"
     ]
    },
    {
     "name": "stderr",
     "output_type": "stream",
     "text": [
      "\rDownloading celeba:  72%|███████▏  | 1.04G/1.44G [02:24<01:11, 5.57MB/s]"
     ]
    },
    {
     "name": "stderr",
     "output_type": "stream",
     "text": [
      "\rDownloading celeba:  72%|███████▏  | 1.04G/1.44G [02:24<01:12, 5.48MB/s]"
     ]
    },
    {
     "name": "stderr",
     "output_type": "stream",
     "text": [
      "\rDownloading celeba:  72%|███████▏  | 1.04G/1.44G [02:25<01:12, 5.53MB/s]"
     ]
    },
    {
     "name": "stderr",
     "output_type": "stream",
     "text": [
      "\rDownloading celeba:  72%|███████▏  | 1.05G/1.44G [02:25<01:18, 5.06MB/s]"
     ]
    },
    {
     "name": "stderr",
     "output_type": "stream",
     "text": [
      "\rDownloading celeba:  72%|███████▏  | 1.05G/1.44G [02:25<01:15, 5.30MB/s]"
     ]
    },
    {
     "name": "stderr",
     "output_type": "stream",
     "text": [
      "\rDownloading celeba:  72%|███████▏  | 1.05G/1.44G [02:25<01:20, 4.91MB/s]"
     ]
    },
    {
     "name": "stderr",
     "output_type": "stream",
     "text": [
      "\rDownloading celeba:  73%|███████▎  | 1.05G/1.44G [02:25<01:24, 4.72MB/s]"
     ]
    },
    {
     "name": "stderr",
     "output_type": "stream",
     "text": [
      "\rDownloading celeba:  73%|███████▎  | 1.05G/1.44G [02:25<01:27, 4.55MB/s]"
     ]
    },
    {
     "name": "stderr",
     "output_type": "stream",
     "text": [
      "\rDownloading celeba:  73%|███████▎  | 1.05G/1.44G [02:25<01:29, 4.43MB/s]"
     ]
    },
    {
     "name": "stderr",
     "output_type": "stream",
     "text": [
      "\rDownloading celeba:  73%|███████▎  | 1.05G/1.44G [02:25<01:30, 4.36MB/s]"
     ]
    },
    {
     "name": "stderr",
     "output_type": "stream",
     "text": [
      "\rDownloading celeba:  73%|███████▎  | 1.05G/1.44G [02:25<01:31, 4.34MB/s]"
     ]
    },
    {
     "name": "stderr",
     "output_type": "stream",
     "text": [
      "\rDownloading celeba:  73%|███████▎  | 1.05G/1.44G [02:25<01:29, 4.40MB/s]"
     ]
    },
    {
     "name": "stderr",
     "output_type": "stream",
     "text": [
      "\rDownloading celeba:  73%|███████▎  | 1.05G/1.44G [02:26<01:29, 4.41MB/s]"
     ]
    },
    {
     "name": "stderr",
     "output_type": "stream",
     "text": [
      "\rDownloading celeba:  73%|███████▎  | 1.05G/1.44G [02:26<01:30, 4.37MB/s]"
     ]
    },
    {
     "name": "stderr",
     "output_type": "stream",
     "text": [
      "\rDownloading celeba:  73%|███████▎  | 1.05G/1.44G [02:26<01:28, 4.43MB/s]"
     ]
    },
    {
     "name": "stderr",
     "output_type": "stream",
     "text": [
      "\rDownloading celeba:  73%|███████▎  | 1.05G/1.44G [02:26<01:27, 4.48MB/s]"
     ]
    },
    {
     "name": "stderr",
     "output_type": "stream",
     "text": [
      "\rDownloading celeba:  73%|███████▎  | 1.05G/1.44G [02:26<01:26, 4.56MB/s]"
     ]
    },
    {
     "name": "stderr",
     "output_type": "stream",
     "text": [
      "\rDownloading celeba:  73%|███████▎  | 1.05G/1.44G [02:26<01:26, 4.55MB/s]"
     ]
    },
    {
     "name": "stderr",
     "output_type": "stream",
     "text": [
      "\rDownloading celeba:  73%|███████▎  | 1.05G/1.44G [02:26<01:22, 4.74MB/s]"
     ]
    },
    {
     "name": "stderr",
     "output_type": "stream",
     "text": [
      "\rDownloading celeba:  73%|███████▎  | 1.05G/1.44G [02:26<01:15, 5.16MB/s]"
     ]
    },
    {
     "name": "stderr",
     "output_type": "stream",
     "text": [
      "\rDownloading celeba:  73%|███████▎  | 1.05G/1.44G [02:26<01:11, 5.45MB/s]"
     ]
    },
    {
     "name": "stderr",
     "output_type": "stream",
     "text": [
      "\rDownloading celeba:  73%|███████▎  | 1.05G/1.44G [02:27<01:13, 5.29MB/s]"
     ]
    },
    {
     "name": "stderr",
     "output_type": "stream",
     "text": [
      "\rDownloading celeba:  73%|███████▎  | 1.05G/1.44G [02:27<01:11, 5.42MB/s]"
     ]
    },
    {
     "name": "stderr",
     "output_type": "stream",
     "text": [
      "\rDownloading celeba:  73%|███████▎  | 1.06G/1.44G [02:27<01:10, 5.51MB/s]"
     ]
    },
    {
     "name": "stderr",
     "output_type": "stream",
     "text": [
      "\rDownloading celeba:  73%|███████▎  | 1.06G/1.44G [02:27<01:11, 5.40MB/s]"
     ]
    },
    {
     "name": "stderr",
     "output_type": "stream",
     "text": [
      "\rDownloading celeba:  73%|███████▎  | 1.06G/1.44G [02:27<01:10, 5.49MB/s]"
     ]
    },
    {
     "name": "stderr",
     "output_type": "stream",
     "text": [
      "\rDownloading celeba:  73%|███████▎  | 1.06G/1.44G [02:27<01:10, 5.50MB/s]"
     ]
    },
    {
     "name": "stderr",
     "output_type": "stream",
     "text": [
      "\rDownloading celeba:  73%|███████▎  | 1.06G/1.44G [02:27<01:08, 5.60MB/s]"
     ]
    },
    {
     "name": "stderr",
     "output_type": "stream",
     "text": [
      "\rDownloading celeba:  73%|███████▎  | 1.06G/1.44G [02:27<01:07, 5.72MB/s]"
     ]
    },
    {
     "name": "stderr",
     "output_type": "stream",
     "text": [
      "\rDownloading celeba:  73%|███████▎  | 1.06G/1.44G [02:27<01:08, 5.65MB/s]"
     ]
    },
    {
     "name": "stderr",
     "output_type": "stream",
     "text": [
      "\rDownloading celeba:  73%|███████▎  | 1.06G/1.44G [02:27<01:05, 5.84MB/s]"
     ]
    },
    {
     "name": "stderr",
     "output_type": "stream",
     "text": [
      "\rDownloading celeba:  73%|███████▎  | 1.06G/1.44G [02:28<01:04, 5.92MB/s]"
     ]
    },
    {
     "name": "stderr",
     "output_type": "stream",
     "text": [
      "\rDownloading celeba:  73%|███████▎  | 1.06G/1.44G [02:28<01:02, 6.08MB/s]"
     ]
    },
    {
     "name": "stderr",
     "output_type": "stream",
     "text": [
      "\rDownloading celeba:  74%|███████▎  | 1.06G/1.44G [02:28<01:02, 6.15MB/s]"
     ]
    },
    {
     "name": "stderr",
     "output_type": "stream",
     "text": [
      "\rDownloading celeba:  74%|███████▎  | 1.06G/1.44G [02:28<01:02, 6.14MB/s]"
     ]
    },
    {
     "name": "stderr",
     "output_type": "stream",
     "text": [
      "\rDownloading celeba:  74%|███████▎  | 1.06G/1.44G [02:28<01:02, 6.14MB/s]"
     ]
    },
    {
     "name": "stderr",
     "output_type": "stream",
     "text": [
      "\rDownloading celeba:  74%|███████▎  | 1.06G/1.44G [02:28<01:02, 6.10MB/s]"
     ]
    },
    {
     "name": "stderr",
     "output_type": "stream",
     "text": [
      "\rDownloading celeba:  74%|███████▎  | 1.06G/1.44G [02:28<00:58, 6.48MB/s]"
     ]
    },
    {
     "name": "stderr",
     "output_type": "stream",
     "text": [
      "\rDownloading celeba:  74%|███████▍  | 1.07G/1.44G [02:28<00:52, 7.23MB/s]"
     ]
    },
    {
     "name": "stderr",
     "output_type": "stream",
     "text": [
      "\rDownloading celeba:  74%|███████▍  | 1.07G/1.44G [02:28<00:47, 7.96MB/s]"
     ]
    },
    {
     "name": "stderr",
     "output_type": "stream",
     "text": [
      "\rDownloading celeba:  74%|███████▍  | 1.07G/1.44G [02:28<00:42, 8.79MB/s]"
     ]
    },
    {
     "name": "stderr",
     "output_type": "stream",
     "text": [
      "\rDownloading celeba:  74%|███████▍  | 1.07G/1.44G [02:29<00:39, 9.53MB/s]"
     ]
    },
    {
     "name": "stderr",
     "output_type": "stream",
     "text": [
      "\rDownloading celeba:  74%|███████▍  | 1.07G/1.44G [02:29<00:37, 10.1MB/s]"
     ]
    },
    {
     "name": "stderr",
     "output_type": "stream",
     "text": [
      "\rDownloading celeba:  74%|███████▍  | 1.07G/1.44G [02:29<00:39, 9.38MB/s]"
     ]
    },
    {
     "name": "stderr",
     "output_type": "stream",
     "text": [
      "\rDownloading celeba:  74%|███████▍  | 1.07G/1.44G [02:29<00:34, 10.8MB/s]"
     ]
    },
    {
     "name": "stderr",
     "output_type": "stream",
     "text": [
      "\rDownloading celeba:  74%|███████▍  | 1.07G/1.44G [02:29<00:33, 11.1MB/s]"
     ]
    },
    {
     "name": "stderr",
     "output_type": "stream",
     "text": [
      "\rDownloading celeba:  74%|███████▍  | 1.07G/1.44G [02:29<00:32, 11.3MB/s]"
     ]
    },
    {
     "name": "stderr",
     "output_type": "stream",
     "text": [
      "\rDownloading celeba:  75%|███████▍  | 1.08G/1.44G [02:29<00:32, 11.5MB/s]"
     ]
    },
    {
     "name": "stderr",
     "output_type": "stream",
     "text": [
      "\rDownloading celeba:  75%|███████▍  | 1.08G/1.44G [02:29<00:31, 11.6MB/s]"
     ]
    },
    {
     "name": "stderr",
     "output_type": "stream",
     "text": [
      "\rDownloading celeba:  75%|███████▍  | 1.08G/1.44G [02:29<00:31, 11.6MB/s]"
     ]
    },
    {
     "name": "stderr",
     "output_type": "stream",
     "text": [
      "\rDownloading celeba:  75%|███████▍  | 1.08G/1.44G [02:30<00:31, 11.7MB/s]"
     ]
    },
    {
     "name": "stderr",
     "output_type": "stream",
     "text": [
      "\rDownloading celeba:  75%|███████▍  | 1.08G/1.44G [02:30<00:30, 11.8MB/s]"
     ]
    },
    {
     "name": "stderr",
     "output_type": "stream",
     "text": [
      "\rDownloading celeba:  75%|███████▍  | 1.08G/1.44G [02:30<00:31, 11.6MB/s]"
     ]
    },
    {
     "name": "stderr",
     "output_type": "stream",
     "text": [
      "\rDownloading celeba:  75%|███████▌  | 1.08G/1.44G [02:30<00:31, 11.6MB/s]"
     ]
    },
    {
     "name": "stderr",
     "output_type": "stream",
     "text": [
      "\rDownloading celeba:  75%|███████▌  | 1.08G/1.44G [02:30<00:30, 11.6MB/s]"
     ]
    },
    {
     "name": "stderr",
     "output_type": "stream",
     "text": [
      "\rDownloading celeba:  75%|███████▌  | 1.09G/1.44G [02:30<00:31, 11.4MB/s]"
     ]
    },
    {
     "name": "stderr",
     "output_type": "stream",
     "text": [
      "\rDownloading celeba:  75%|███████▌  | 1.09G/1.44G [02:30<00:31, 11.4MB/s]"
     ]
    },
    {
     "name": "stderr",
     "output_type": "stream",
     "text": [
      "\rDownloading celeba:  75%|███████▌  | 1.09G/1.44G [02:30<00:31, 11.3MB/s]"
     ]
    },
    {
     "name": "stderr",
     "output_type": "stream",
     "text": [
      "\rDownloading celeba:  75%|███████▌  | 1.09G/1.44G [02:30<00:31, 11.2MB/s]"
     ]
    },
    {
     "name": "stderr",
     "output_type": "stream",
     "text": [
      "\rDownloading celeba:  76%|███████▌  | 1.09G/1.44G [02:30<00:32, 11.0MB/s]"
     ]
    },
    {
     "name": "stderr",
     "output_type": "stream",
     "text": [
      "\rDownloading celeba:  76%|███████▌  | 1.09G/1.44G [02:31<00:31, 11.2MB/s]"
     ]
    },
    {
     "name": "stderr",
     "output_type": "stream",
     "text": [
      "\rDownloading celeba:  76%|███████▌  | 1.09G/1.44G [02:31<00:31, 11.2MB/s]"
     ]
    },
    {
     "name": "stderr",
     "output_type": "stream",
     "text": [
      "\rDownloading celeba:  76%|███████▌  | 1.09G/1.44G [02:31<00:31, 11.0MB/s]"
     ]
    },
    {
     "name": "stderr",
     "output_type": "stream",
     "text": [
      "\rDownloading celeba:  76%|███████▌  | 1.09G/1.44G [02:31<00:31, 11.0MB/s]"
     ]
    },
    {
     "name": "stderr",
     "output_type": "stream",
     "text": [
      "\rDownloading celeba:  76%|███████▌  | 1.10G/1.44G [02:31<00:31, 11.0MB/s]"
     ]
    },
    {
     "name": "stderr",
     "output_type": "stream",
     "text": [
      "\rDownloading celeba:  76%|███████▌  | 1.10G/1.44G [02:31<00:32, 10.8MB/s]"
     ]
    },
    {
     "name": "stderr",
     "output_type": "stream",
     "text": [
      "\rDownloading celeba:  76%|███████▌  | 1.10G/1.44G [02:31<00:32, 10.7MB/s]"
     ]
    },
    {
     "name": "stderr",
     "output_type": "stream",
     "text": [
      "\rDownloading celeba:  76%|███████▌  | 1.10G/1.44G [02:31<00:31, 10.9MB/s]"
     ]
    },
    {
     "name": "stderr",
     "output_type": "stream",
     "text": [
      "\rDownloading celeba:  76%|███████▌  | 1.10G/1.44G [02:31<00:31, 11.1MB/s]"
     ]
    },
    {
     "name": "stderr",
     "output_type": "stream",
     "text": [
      "\rDownloading celeba:  76%|███████▋  | 1.10G/1.44G [02:31<00:34, 9.84MB/s]"
     ]
    },
    {
     "name": "stderr",
     "output_type": "stream",
     "text": [
      "\rDownloading celeba:  76%|███████▋  | 1.10G/1.44G [02:32<00:31, 10.8MB/s]"
     ]
    },
    {
     "name": "stderr",
     "output_type": "stream",
     "text": [
      "\rDownloading celeba:  76%|███████▋  | 1.10G/1.44G [02:32<00:31, 10.7MB/s]"
     ]
    },
    {
     "name": "stderr",
     "output_type": "stream",
     "text": [
      "\rDownloading celeba:  76%|███████▋  | 1.10G/1.44G [02:32<00:31, 10.7MB/s]"
     ]
    },
    {
     "name": "stderr",
     "output_type": "stream",
     "text": [
      "\rDownloading celeba:  77%|███████▋  | 1.11G/1.44G [02:32<00:31, 10.7MB/s]"
     ]
    },
    {
     "name": "stderr",
     "output_type": "stream",
     "text": [
      "\rDownloading celeba:  77%|███████▋  | 1.11G/1.44G [02:32<00:32, 10.5MB/s]"
     ]
    },
    {
     "name": "stderr",
     "output_type": "stream",
     "text": [
      "\rDownloading celeba:  77%|███████▋  | 1.11G/1.44G [02:32<00:32, 10.4MB/s]"
     ]
    },
    {
     "name": "stderr",
     "output_type": "stream",
     "text": [
      "\rDownloading celeba:  77%|███████▋  | 1.11G/1.44G [02:32<00:32, 10.2MB/s]"
     ]
    },
    {
     "name": "stderr",
     "output_type": "stream",
     "text": [
      "\rDownloading celeba:  77%|███████▋  | 1.11G/1.44G [02:32<00:39, 8.44MB/s]"
     ]
    },
    {
     "name": "stderr",
     "output_type": "stream",
     "text": [
      "\rDownloading celeba:  77%|███████▋  | 1.11G/1.44G [02:32<00:38, 8.73MB/s]"
     ]
    },
    {
     "name": "stderr",
     "output_type": "stream",
     "text": [
      "\rDownloading celeba:  77%|███████▋  | 1.11G/1.44G [02:33<00:42, 7.87MB/s]"
     ]
    },
    {
     "name": "stderr",
     "output_type": "stream",
     "text": [
      "\rDownloading celeba:  77%|███████▋  | 1.11G/1.44G [02:33<00:58, 5.70MB/s]"
     ]
    },
    {
     "name": "stderr",
     "output_type": "stream",
     "text": [
      "\rDownloading celeba:  77%|███████▋  | 1.11G/1.44G [02:33<00:53, 6.17MB/s]"
     ]
    },
    {
     "name": "stderr",
     "output_type": "stream",
     "text": [
      "\rDownloading celeba:  77%|███████▋  | 1.11G/1.44G [02:33<01:11, 4.65MB/s]"
     ]
    },
    {
     "name": "stderr",
     "output_type": "stream",
     "text": [
      "\rDownloading celeba:  77%|███████▋  | 1.11G/1.44G [02:33<01:05, 5.02MB/s]"
     ]
    },
    {
     "name": "stderr",
     "output_type": "stream",
     "text": [
      "\rDownloading celeba:  77%|███████▋  | 1.11G/1.44G [02:33<01:17, 4.27MB/s]"
     ]
    },
    {
     "name": "stderr",
     "output_type": "stream",
     "text": [
      "\rDownloading celeba:  77%|███████▋  | 1.11G/1.44G [02:33<01:12, 4.58MB/s]"
     ]
    },
    {
     "name": "stderr",
     "output_type": "stream",
     "text": [
      "\rDownloading celeba:  77%|███████▋  | 1.11G/1.44G [02:33<01:17, 4.27MB/s]"
     ]
    },
    {
     "name": "stderr",
     "output_type": "stream",
     "text": [
      "\rDownloading celeba:  77%|███████▋  | 1.11G/1.44G [02:33<01:19, 4.13MB/s]"
     ]
    },
    {
     "name": "stderr",
     "output_type": "stream",
     "text": [
      "\rDownloading celeba:  77%|███████▋  | 1.12G/1.44G [02:33<01:16, 4.27MB/s]"
     ]
    },
    {
     "name": "stderr",
     "output_type": "stream",
     "text": [
      "\rDownloading celeba:  77%|███████▋  | 1.12G/1.44G [02:34<01:15, 4.37MB/s]"
     ]
    },
    {
     "name": "stderr",
     "output_type": "stream",
     "text": [
      "\rDownloading celeba:  77%|███████▋  | 1.12G/1.44G [02:34<01:13, 4.46MB/s]"
     ]
    },
    {
     "name": "stderr",
     "output_type": "stream",
     "text": [
      "\rDownloading celeba:  77%|███████▋  | 1.12G/1.44G [02:34<01:12, 4.51MB/s]"
     ]
    },
    {
     "name": "stderr",
     "output_type": "stream",
     "text": [
      "\rDownloading celeba:  77%|███████▋  | 1.12G/1.44G [02:34<01:10, 4.61MB/s]"
     ]
    },
    {
     "name": "stderr",
     "output_type": "stream",
     "text": [
      "\rDownloading celeba:  77%|███████▋  | 1.12G/1.44G [02:34<01:09, 4.72MB/s]"
     ]
    },
    {
     "name": "stderr",
     "output_type": "stream",
     "text": [
      "\rDownloading celeba:  77%|███████▋  | 1.12G/1.44G [02:34<01:07, 4.85MB/s]"
     ]
    },
    {
     "name": "stderr",
     "output_type": "stream",
     "text": [
      "\rDownloading celeba:  77%|███████▋  | 1.12G/1.44G [02:34<01:06, 4.86MB/s]"
     ]
    },
    {
     "name": "stderr",
     "output_type": "stream",
     "text": [
      "\rDownloading celeba:  78%|███████▊  | 1.12G/1.44G [02:34<01:06, 4.90MB/s]"
     ]
    },
    {
     "name": "stderr",
     "output_type": "stream",
     "text": [
      "\rDownloading celeba:  78%|███████▊  | 1.12G/1.44G [02:34<01:05, 4.92MB/s]"
     ]
    },
    {
     "name": "stderr",
     "output_type": "stream",
     "text": [
      "\rDownloading celeba:  78%|███████▊  | 1.12G/1.44G [02:34<01:05, 4.94MB/s]"
     ]
    },
    {
     "name": "stderr",
     "output_type": "stream",
     "text": [
      "\rDownloading celeba:  78%|███████▊  | 1.12G/1.44G [02:35<01:05, 4.93MB/s]"
     ]
    },
    {
     "name": "stderr",
     "output_type": "stream",
     "text": [
      "\rDownloading celeba:  78%|███████▊  | 1.12G/1.44G [02:35<01:03, 5.06MB/s]"
     ]
    },
    {
     "name": "stderr",
     "output_type": "stream",
     "text": [
      "\rDownloading celeba:  78%|███████▊  | 1.12G/1.44G [02:35<01:03, 5.09MB/s]"
     ]
    },
    {
     "name": "stderr",
     "output_type": "stream",
     "text": [
      "\rDownloading celeba:  78%|███████▊  | 1.12G/1.44G [02:35<01:02, 5.12MB/s]"
     ]
    },
    {
     "name": "stderr",
     "output_type": "stream",
     "text": [
      "\rDownloading celeba:  78%|███████▊  | 1.12G/1.44G [02:35<01:03, 5.05MB/s]"
     ]
    },
    {
     "name": "stderr",
     "output_type": "stream",
     "text": [
      "\rDownloading celeba:  78%|███████▊  | 1.12G/1.44G [02:35<01:03, 5.05MB/s]"
     ]
    },
    {
     "name": "stderr",
     "output_type": "stream",
     "text": [
      "\rDownloading celeba:  78%|███████▊  | 1.12G/1.44G [02:35<01:00, 5.27MB/s]"
     ]
    },
    {
     "name": "stderr",
     "output_type": "stream",
     "text": [
      "\rDownloading celeba:  78%|███████▊  | 1.12G/1.44G [02:35<00:56, 5.64MB/s]"
     ]
    },
    {
     "name": "stderr",
     "output_type": "stream",
     "text": [
      "\rDownloading celeba:  78%|███████▊  | 1.13G/1.44G [02:35<00:51, 6.16MB/s]"
     ]
    },
    {
     "name": "stderr",
     "output_type": "stream",
     "text": [
      "\rDownloading celeba:  78%|███████▊  | 1.13G/1.44G [02:36<00:45, 6.98MB/s]"
     ]
    },
    {
     "name": "stderr",
     "output_type": "stream",
     "text": [
      "\rDownloading celeba:  78%|███████▊  | 1.13G/1.44G [02:36<00:40, 7.87MB/s]"
     ]
    },
    {
     "name": "stderr",
     "output_type": "stream",
     "text": [
      "\rDownloading celeba:  78%|███████▊  | 1.13G/1.44G [02:36<00:35, 8.76MB/s]"
     ]
    },
    {
     "name": "stderr",
     "output_type": "stream",
     "text": [
      "\rDownloading celeba:  78%|███████▊  | 1.13G/1.44G [02:36<00:33, 9.50MB/s]"
     ]
    },
    {
     "name": "stderr",
     "output_type": "stream",
     "text": [
      "\rDownloading celeba:  78%|███████▊  | 1.13G/1.44G [02:36<00:35, 8.89MB/s]"
     ]
    },
    {
     "name": "stderr",
     "output_type": "stream",
     "text": [
      "\rDownloading celeba:  78%|███████▊  | 1.13G/1.44G [02:36<00:29, 10.4MB/s]"
     ]
    },
    {
     "name": "stderr",
     "output_type": "stream",
     "text": [
      "\rDownloading celeba:  79%|███████▊  | 1.13G/1.44G [02:36<00:29, 10.5MB/s]"
     ]
    },
    {
     "name": "stderr",
     "output_type": "stream",
     "text": [
      "\rDownloading celeba:  79%|███████▊  | 1.13G/1.44G [02:36<00:29, 10.6MB/s]"
     ]
    },
    {
     "name": "stderr",
     "output_type": "stream",
     "text": [
      "\rDownloading celeba:  79%|███████▊  | 1.14G/1.44G [02:36<00:28, 10.7MB/s]"
     ]
    },
    {
     "name": "stderr",
     "output_type": "stream",
     "text": [
      "\rDownloading celeba:  79%|███████▉  | 1.14G/1.44G [02:36<00:28, 10.7MB/s]"
     ]
    },
    {
     "name": "stderr",
     "output_type": "stream",
     "text": [
      "\rDownloading celeba:  79%|███████▉  | 1.14G/1.44G [02:37<00:28, 10.7MB/s]"
     ]
    },
    {
     "name": "stderr",
     "output_type": "stream",
     "text": [
      "\rDownloading celeba:  79%|███████▉  | 1.14G/1.44G [02:37<00:28, 10.6MB/s]"
     ]
    },
    {
     "name": "stderr",
     "output_type": "stream",
     "text": [
      "\rDownloading celeba:  79%|███████▉  | 1.14G/1.44G [02:37<00:29, 10.2MB/s]"
     ]
    },
    {
     "name": "stderr",
     "output_type": "stream",
     "text": [
      "\rDownloading celeba:  79%|███████▉  | 1.14G/1.44G [02:37<00:29, 10.1MB/s]"
     ]
    },
    {
     "name": "stderr",
     "output_type": "stream",
     "text": [
      "\rDownloading celeba:  79%|███████▉  | 1.14G/1.44G [02:37<00:30, 9.96MB/s]"
     ]
    },
    {
     "name": "stderr",
     "output_type": "stream",
     "text": [
      "\rDownloading celeba:  79%|███████▉  | 1.14G/1.44G [02:37<00:30, 9.81MB/s]"
     ]
    },
    {
     "name": "stderr",
     "output_type": "stream",
     "text": [
      "\rDownloading celeba:  79%|███████▉  | 1.14G/1.44G [02:37<00:30, 9.88MB/s]"
     ]
    },
    {
     "name": "stderr",
     "output_type": "stream",
     "text": [
      "\rDownloading celeba:  79%|███████▉  | 1.14G/1.44G [02:37<00:30, 9.86MB/s]"
     ]
    },
    {
     "name": "stderr",
     "output_type": "stream",
     "text": [
      "\rDownloading celeba:  79%|███████▉  | 1.15G/1.44G [02:37<00:30, 9.82MB/s]"
     ]
    },
    {
     "name": "stderr",
     "output_type": "stream",
     "text": [
      "\rDownloading celeba:  79%|███████▉  | 1.15G/1.44G [02:37<00:30, 9.69MB/s]"
     ]
    },
    {
     "name": "stderr",
     "output_type": "stream",
     "text": [
      "\rDownloading celeba:  80%|███████▉  | 1.15G/1.44G [02:38<00:31, 9.52MB/s]"
     ]
    },
    {
     "name": "stderr",
     "output_type": "stream",
     "text": [
      "\rDownloading celeba:  80%|███████▉  | 1.15G/1.44G [02:38<00:32, 9.14MB/s]"
     ]
    },
    {
     "name": "stderr",
     "output_type": "stream",
     "text": [
      "\rDownloading celeba:  80%|███████▉  | 1.15G/1.44G [02:38<00:32, 9.04MB/s]"
     ]
    },
    {
     "name": "stderr",
     "output_type": "stream",
     "text": [
      "\rDownloading celeba:  80%|███████▉  | 1.15G/1.44G [02:38<00:32, 9.05MB/s]"
     ]
    },
    {
     "name": "stderr",
     "output_type": "stream",
     "text": [
      "\rDownloading celeba:  80%|███████▉  | 1.15G/1.44G [02:38<00:32, 9.10MB/s]"
     ]
    },
    {
     "name": "stderr",
     "output_type": "stream",
     "text": [
      "\rDownloading celeba:  80%|███████▉  | 1.15G/1.44G [02:38<00:31, 9.28MB/s]"
     ]
    },
    {
     "name": "stderr",
     "output_type": "stream",
     "text": [
      "\rDownloading celeba:  80%|███████▉  | 1.15G/1.44G [02:38<00:34, 8.43MB/s]"
     ]
    },
    {
     "name": "stderr",
     "output_type": "stream",
     "text": [
      "\rDownloading celeba:  80%|███████▉  | 1.15G/1.44G [02:38<00:31, 9.18MB/s]"
     ]
    },
    {
     "name": "stderr",
     "output_type": "stream",
     "text": [
      "\rDownloading celeba:  80%|████████  | 1.16G/1.44G [02:38<00:34, 8.41MB/s]"
     ]
    },
    {
     "name": "stderr",
     "output_type": "stream",
     "text": [
      "\rDownloading celeba:  80%|████████  | 1.16G/1.44G [02:39<00:36, 7.85MB/s]"
     ]
    },
    {
     "name": "stderr",
     "output_type": "stream",
     "text": [
      "\rDownloading celeba:  80%|████████  | 1.16G/1.44G [02:39<00:38, 7.43MB/s]"
     ]
    },
    {
     "name": "stderr",
     "output_type": "stream",
     "text": [
      "\rDownloading celeba:  80%|████████  | 1.16G/1.44G [02:39<00:39, 7.16MB/s]"
     ]
    },
    {
     "name": "stderr",
     "output_type": "stream",
     "text": [
      "\rDownloading celeba:  80%|████████  | 1.16G/1.44G [02:39<00:40, 7.07MB/s]"
     ]
    },
    {
     "name": "stderr",
     "output_type": "stream",
     "text": [
      "\rDownloading celeba:  80%|████████  | 1.16G/1.44G [02:39<00:40, 7.06MB/s]"
     ]
    },
    {
     "name": "stderr",
     "output_type": "stream",
     "text": [
      "\rDownloading celeba:  80%|████████  | 1.16G/1.44G [02:39<00:41, 6.93MB/s]"
     ]
    },
    {
     "name": "stderr",
     "output_type": "stream",
     "text": [
      "\rDownloading celeba:  80%|████████  | 1.16G/1.44G [02:39<00:40, 7.00MB/s]"
     ]
    },
    {
     "name": "stderr",
     "output_type": "stream",
     "text": [
      "\rDownloading celeba:  80%|████████  | 1.16G/1.44G [02:39<00:40, 6.96MB/s]"
     ]
    },
    {
     "name": "stderr",
     "output_type": "stream",
     "text": [
      "\rDownloading celeba:  80%|████████  | 1.16G/1.44G [02:39<00:42, 6.70MB/s]"
     ]
    },
    {
     "name": "stderr",
     "output_type": "stream",
     "text": [
      "\rDownloading celeba:  80%|████████  | 1.16G/1.44G [02:39<00:43, 6.52MB/s]"
     ]
    },
    {
     "name": "stderr",
     "output_type": "stream",
     "text": [
      "\rDownloading celeba:  81%|████████  | 1.16G/1.44G [02:40<00:43, 6.52MB/s]"
     ]
    },
    {
     "name": "stderr",
     "output_type": "stream",
     "text": [
      "\rDownloading celeba:  81%|████████  | 1.16G/1.44G [02:40<00:45, 6.13MB/s]"
     ]
    },
    {
     "name": "stderr",
     "output_type": "stream",
     "text": [
      "\rDownloading celeba:  81%|████████  | 1.16G/1.44G [02:40<00:45, 6.10MB/s]"
     ]
    },
    {
     "name": "stderr",
     "output_type": "stream",
     "text": [
      "\rDownloading celeba:  81%|████████  | 1.16G/1.44G [02:40<00:45, 6.08MB/s]"
     ]
    },
    {
     "name": "stderr",
     "output_type": "stream",
     "text": [
      "\rDownloading celeba:  81%|████████  | 1.16G/1.44G [02:40<00:47, 5.92MB/s]"
     ]
    },
    {
     "name": "stderr",
     "output_type": "stream",
     "text": [
      "\rDownloading celeba:  81%|████████  | 1.17G/1.44G [02:40<00:45, 6.08MB/s]"
     ]
    },
    {
     "name": "stderr",
     "output_type": "stream",
     "text": [
      "\rDownloading celeba:  81%|████████  | 1.17G/1.44G [02:40<00:45, 6.12MB/s]"
     ]
    },
    {
     "name": "stderr",
     "output_type": "stream",
     "text": [
      "\rDownloading celeba:  81%|████████  | 1.17G/1.44G [02:40<00:44, 6.17MB/s]"
     ]
    },
    {
     "name": "stderr",
     "output_type": "stream",
     "text": [
      "\rDownloading celeba:  81%|████████  | 1.17G/1.44G [02:40<00:44, 6.21MB/s]"
     ]
    },
    {
     "name": "stderr",
     "output_type": "stream",
     "text": [
      "\rDownloading celeba:  81%|████████  | 1.17G/1.44G [02:40<00:45, 6.11MB/s]"
     ]
    },
    {
     "name": "stderr",
     "output_type": "stream",
     "text": [
      "\rDownloading celeba:  81%|████████  | 1.17G/1.44G [02:41<00:44, 6.14MB/s]"
     ]
    },
    {
     "name": "stderr",
     "output_type": "stream",
     "text": [
      "\rDownloading celeba:  81%|████████  | 1.17G/1.44G [02:41<00:44, 6.14MB/s]"
     ]
    },
    {
     "name": "stderr",
     "output_type": "stream",
     "text": [
      "\rDownloading celeba:  81%|████████  | 1.17G/1.44G [02:41<00:44, 6.15MB/s]"
     ]
    },
    {
     "name": "stderr",
     "output_type": "stream",
     "text": [
      "\rDownloading celeba:  81%|████████  | 1.17G/1.44G [02:41<00:49, 5.55MB/s]"
     ]
    },
    {
     "name": "stderr",
     "output_type": "stream",
     "text": [
      "\rDownloading celeba:  81%|████████  | 1.17G/1.44G [02:41<00:44, 6.11MB/s]"
     ]
    },
    {
     "name": "stderr",
     "output_type": "stream",
     "text": [
      "\rDownloading celeba:  81%|████████  | 1.17G/1.44G [02:41<00:43, 6.22MB/s]"
     ]
    },
    {
     "name": "stderr",
     "output_type": "stream",
     "text": [
      "\rDownloading celeba:  81%|████████  | 1.17G/1.44G [02:41<00:42, 6.35MB/s]"
     ]
    },
    {
     "name": "stderr",
     "output_type": "stream",
     "text": [
      "\rDownloading celeba:  81%|████████▏ | 1.17G/1.44G [02:41<00:41, 6.47MB/s]"
     ]
    },
    {
     "name": "stderr",
     "output_type": "stream",
     "text": [
      "\rDownloading celeba:  81%|████████▏ | 1.17G/1.44G [02:41<00:42, 6.35MB/s]"
     ]
    },
    {
     "name": "stderr",
     "output_type": "stream",
     "text": [
      "\rDownloading celeba:  81%|████████▏ | 1.17G/1.44G [02:41<00:42, 6.37MB/s]"
     ]
    },
    {
     "name": "stderr",
     "output_type": "stream",
     "text": [
      "\rDownloading celeba:  81%|████████▏ | 1.18G/1.44G [02:42<00:42, 6.34MB/s]"
     ]
    },
    {
     "name": "stderr",
     "output_type": "stream",
     "text": [
      "\rDownloading celeba:  81%|████████▏ | 1.18G/1.44G [02:42<00:41, 6.48MB/s]"
     ]
    },
    {
     "name": "stderr",
     "output_type": "stream",
     "text": [
      "\rDownloading celeba:  82%|████████▏ | 1.18G/1.44G [02:42<00:42, 6.28MB/s]"
     ]
    },
    {
     "name": "stderr",
     "output_type": "stream",
     "text": [
      "\rDownloading celeba:  82%|████████▏ | 1.18G/1.44G [02:42<00:42, 6.26MB/s]"
     ]
    },
    {
     "name": "stderr",
     "output_type": "stream",
     "text": [
      "\rDownloading celeba:  82%|████████▏ | 1.18G/1.44G [02:42<00:42, 6.32MB/s]"
     ]
    },
    {
     "name": "stderr",
     "output_type": "stream",
     "text": [
      "\rDownloading celeba:  82%|████████▏ | 1.18G/1.44G [02:42<00:41, 6.43MB/s]"
     ]
    },
    {
     "name": "stderr",
     "output_type": "stream",
     "text": [
      "\rDownloading celeba:  82%|████████▏ | 1.18G/1.44G [02:42<00:41, 6.40MB/s]"
     ]
    },
    {
     "name": "stderr",
     "output_type": "stream",
     "text": [
      "\rDownloading celeba:  82%|████████▏ | 1.18G/1.44G [02:42<00:47, 5.56MB/s]"
     ]
    },
    {
     "name": "stderr",
     "output_type": "stream",
     "text": [
      "\rDownloading celeba:  82%|████████▏ | 1.18G/1.44G [02:42<00:43, 6.06MB/s]"
     ]
    },
    {
     "name": "stderr",
     "output_type": "stream",
     "text": [
      "\rDownloading celeba:  82%|████████▏ | 1.18G/1.44G [02:43<00:44, 5.92MB/s]"
     ]
    },
    {
     "name": "stderr",
     "output_type": "stream",
     "text": [
      "\rDownloading celeba:  82%|████████▏ | 1.18G/1.44G [02:43<00:46, 5.61MB/s]"
     ]
    },
    {
     "name": "stderr",
     "output_type": "stream",
     "text": [
      "\rDownloading celeba:  82%|████████▏ | 1.18G/1.44G [02:43<00:51, 5.11MB/s]"
     ]
    },
    {
     "name": "stderr",
     "output_type": "stream",
     "text": [
      "\rDownloading celeba:  82%|████████▏ | 1.18G/1.44G [02:43<00:54, 4.77MB/s]"
     ]
    },
    {
     "name": "stderr",
     "output_type": "stream",
     "text": [
      "\rDownloading celeba:  82%|████████▏ | 1.18G/1.44G [02:43<00:56, 4.63MB/s]"
     ]
    },
    {
     "name": "stderr",
     "output_type": "stream",
     "text": [
      "\rDownloading celeba:  82%|████████▏ | 1.18G/1.44G [02:43<00:57, 4.53MB/s]"
     ]
    },
    {
     "name": "stderr",
     "output_type": "stream",
     "text": [
      "\rDownloading celeba:  82%|████████▏ | 1.18G/1.44G [02:43<00:59, 4.36MB/s]"
     ]
    },
    {
     "name": "stderr",
     "output_type": "stream",
     "text": [
      "\rDownloading celeba:  82%|████████▏ | 1.18G/1.44G [02:43<00:58, 4.40MB/s]"
     ]
    },
    {
     "name": "stderr",
     "output_type": "stream",
     "text": [
      "\rDownloading celeba:  82%|████████▏ | 1.18G/1.44G [02:43<00:57, 4.52MB/s]"
     ]
    },
    {
     "name": "stderr",
     "output_type": "stream",
     "text": [
      "\rDownloading celeba:  82%|████████▏ | 1.19G/1.44G [02:43<00:54, 4.74MB/s]"
     ]
    },
    {
     "name": "stderr",
     "output_type": "stream",
     "text": [
      "\rDownloading celeba:  82%|████████▏ | 1.19G/1.44G [02:44<00:52, 4.95MB/s]"
     ]
    },
    {
     "name": "stderr",
     "output_type": "stream",
     "text": [
      "\rDownloading celeba:  82%|████████▏ | 1.19G/1.44G [02:44<00:50, 5.12MB/s]"
     ]
    },
    {
     "name": "stderr",
     "output_type": "stream",
     "text": [
      "\rDownloading celeba:  82%|████████▏ | 1.19G/1.44G [02:44<00:49, 5.16MB/s]"
     ]
    },
    {
     "name": "stderr",
     "output_type": "stream",
     "text": [
      "\rDownloading celeba:  82%|████████▏ | 1.19G/1.44G [02:44<00:48, 5.25MB/s]"
     ]
    },
    {
     "name": "stderr",
     "output_type": "stream",
     "text": [
      "\rDownloading celeba:  82%|████████▏ | 1.19G/1.44G [02:44<00:47, 5.35MB/s]"
     ]
    },
    {
     "name": "stderr",
     "output_type": "stream",
     "text": [
      "\rDownloading celeba:  82%|████████▏ | 1.19G/1.44G [02:44<00:47, 5.41MB/s]"
     ]
    },
    {
     "name": "stderr",
     "output_type": "stream",
     "text": [
      "\rDownloading celeba:  82%|████████▏ | 1.19G/1.44G [02:44<00:46, 5.52MB/s]"
     ]
    },
    {
     "name": "stderr",
     "output_type": "stream",
     "text": [
      "\rDownloading celeba:  82%|████████▏ | 1.19G/1.44G [02:44<00:44, 5.67MB/s]"
     ]
    },
    {
     "name": "stderr",
     "output_type": "stream",
     "text": [
      "\rDownloading celeba:  82%|████████▏ | 1.19G/1.44G [02:44<00:45, 5.61MB/s]"
     ]
    },
    {
     "name": "stderr",
     "output_type": "stream",
     "text": [
      "\rDownloading celeba:  83%|████████▎ | 1.19G/1.44G [02:44<00:49, 5.08MB/s]"
     ]
    },
    {
     "name": "stderr",
     "output_type": "stream",
     "text": [
      "\rDownloading celeba:  83%|████████▎ | 1.19G/1.44G [02:45<00:45, 5.49MB/s]"
     ]
    },
    {
     "name": "stderr",
     "output_type": "stream",
     "text": [
      "\rDownloading celeba:  83%|████████▎ | 1.19G/1.44G [02:45<00:47, 5.32MB/s]"
     ]
    },
    {
     "name": "stderr",
     "output_type": "stream",
     "text": [
      "\rDownloading celeba:  83%|████████▎ | 1.19G/1.44G [02:45<00:49, 5.08MB/s]"
     ]
    },
    {
     "name": "stderr",
     "output_type": "stream",
     "text": [
      "\rDownloading celeba:  83%|████████▎ | 1.19G/1.44G [02:45<00:49, 5.06MB/s]"
     ]
    },
    {
     "name": "stderr",
     "output_type": "stream",
     "text": [
      "\rDownloading celeba:  83%|████████▎ | 1.19G/1.44G [02:45<00:51, 4.84MB/s]"
     ]
    },
    {
     "name": "stderr",
     "output_type": "stream",
     "text": [
      "\rDownloading celeba:  83%|████████▎ | 1.19G/1.44G [02:45<00:52, 4.72MB/s]"
     ]
    },
    {
     "name": "stderr",
     "output_type": "stream",
     "text": [
      "\rDownloading celeba:  83%|████████▎ | 1.19G/1.44G [02:45<00:53, 4.69MB/s]"
     ]
    },
    {
     "name": "stderr",
     "output_type": "stream",
     "text": [
      "\rDownloading celeba:  83%|████████▎ | 1.20G/1.44G [02:45<00:54, 4.54MB/s]"
     ]
    },
    {
     "name": "stderr",
     "output_type": "stream",
     "text": [
      "\rDownloading celeba:  83%|████████▎ | 1.20G/1.44G [02:45<00:54, 4.55MB/s]"
     ]
    },
    {
     "name": "stderr",
     "output_type": "stream",
     "text": [
      "\rDownloading celeba:  83%|████████▎ | 1.20G/1.44G [02:46<00:54, 4.58MB/s]"
     ]
    },
    {
     "name": "stderr",
     "output_type": "stream",
     "text": [
      "\rDownloading celeba:  83%|████████▎ | 1.20G/1.44G [02:46<00:54, 4.57MB/s]"
     ]
    },
    {
     "name": "stderr",
     "output_type": "stream",
     "text": [
      "\rDownloading celeba:  83%|████████▎ | 1.20G/1.44G [02:46<00:54, 4.55MB/s]"
     ]
    },
    {
     "name": "stderr",
     "output_type": "stream",
     "text": [
      "\rDownloading celeba:  83%|████████▎ | 1.20G/1.44G [02:46<00:53, 4.58MB/s]"
     ]
    },
    {
     "name": "stderr",
     "output_type": "stream",
     "text": [
      "\rDownloading celeba:  83%|████████▎ | 1.20G/1.44G [02:46<00:54, 4.50MB/s]"
     ]
    },
    {
     "name": "stderr",
     "output_type": "stream",
     "text": [
      "\rDownloading celeba:  83%|████████▎ | 1.20G/1.44G [02:46<00:54, 4.47MB/s]"
     ]
    },
    {
     "name": "stderr",
     "output_type": "stream",
     "text": [
      "\rDownloading celeba:  83%|████████▎ | 1.20G/1.44G [02:46<00:54, 4.45MB/s]"
     ]
    },
    {
     "name": "stderr",
     "output_type": "stream",
     "text": [
      "\rDownloading celeba:  83%|████████▎ | 1.20G/1.44G [02:46<00:53, 4.53MB/s]"
     ]
    },
    {
     "name": "stderr",
     "output_type": "stream",
     "text": [
      "\rDownloading celeba:  83%|████████▎ | 1.20G/1.44G [02:46<00:53, 4.53MB/s]"
     ]
    },
    {
     "name": "stderr",
     "output_type": "stream",
     "text": [
      "\rDownloading celeba:  83%|████████▎ | 1.20G/1.44G [02:46<00:52, 4.62MB/s]"
     ]
    },
    {
     "name": "stderr",
     "output_type": "stream",
     "text": [
      "\rDownloading celeba:  83%|████████▎ | 1.20G/1.44G [02:47<00:51, 4.74MB/s]"
     ]
    },
    {
     "name": "stderr",
     "output_type": "stream",
     "text": [
      "\rDownloading celeba:  83%|████████▎ | 1.20G/1.44G [02:47<00:50, 4.78MB/s]"
     ]
    },
    {
     "name": "stderr",
     "output_type": "stream",
     "text": [
      "\rDownloading celeba:  83%|████████▎ | 1.20G/1.44G [02:47<00:50, 4.80MB/s]"
     ]
    },
    {
     "name": "stderr",
     "output_type": "stream",
     "text": [
      "\rDownloading celeba:  83%|████████▎ | 1.20G/1.44G [02:47<00:48, 5.00MB/s]"
     ]
    },
    {
     "name": "stderr",
     "output_type": "stream",
     "text": [
      "\rDownloading celeba:  83%|████████▎ | 1.20G/1.44G [02:47<00:43, 5.47MB/s]"
     ]
    },
    {
     "name": "stderr",
     "output_type": "stream",
     "text": [
      "\rDownloading celeba:  83%|████████▎ | 1.20G/1.44G [02:47<00:39, 6.06MB/s]"
     ]
    },
    {
     "name": "stderr",
     "output_type": "stream",
     "text": [
      "\rDownloading celeba:  83%|████████▎ | 1.20G/1.44G [02:47<00:35, 6.77MB/s]"
     ]
    },
    {
     "name": "stderr",
     "output_type": "stream",
     "text": [
      "\rDownloading celeba:  84%|████████▎ | 1.21G/1.44G [02:47<00:31, 7.64MB/s]"
     ]
    },
    {
     "name": "stderr",
     "output_type": "stream",
     "text": [
      "\rDownloading celeba:  84%|████████▎ | 1.21G/1.44G [02:47<00:27, 8.54MB/s]"
     ]
    },
    {
     "name": "stderr",
     "output_type": "stream",
     "text": [
      "\rDownloading celeba:  84%|████████▎ | 1.21G/1.44G [02:47<00:25, 9.33MB/s]"
     ]
    },
    {
     "name": "stderr",
     "output_type": "stream",
     "text": [
      "\rDownloading celeba:  84%|████████▍ | 1.21G/1.44G [02:48<00:23, 9.96MB/s]"
     ]
    },
    {
     "name": "stderr",
     "output_type": "stream",
     "text": [
      "\rDownloading celeba:  84%|████████▍ | 1.21G/1.44G [02:48<00:26, 8.95MB/s]"
     ]
    },
    {
     "name": "stderr",
     "output_type": "stream",
     "text": [
      "\rDownloading celeba:  84%|████████▍ | 1.21G/1.44G [02:48<00:22, 10.5MB/s]"
     ]
    },
    {
     "name": "stderr",
     "output_type": "stream",
     "text": [
      "\rDownloading celeba:  84%|████████▍ | 1.21G/1.44G [02:48<00:21, 10.9MB/s]"
     ]
    },
    {
     "name": "stderr",
     "output_type": "stream",
     "text": [
      "\rDownloading celeba:  84%|████████▍ | 1.21G/1.44G [02:48<00:23, 9.59MB/s]"
     ]
    },
    {
     "name": "stderr",
     "output_type": "stream",
     "text": [
      "\rDownloading celeba:  84%|████████▍ | 1.22G/1.44G [02:48<00:20, 10.9MB/s]"
     ]
    },
    {
     "name": "stderr",
     "output_type": "stream",
     "text": [
      "\rDownloading celeba:  84%|████████▍ | 1.22G/1.44G [02:48<00:20, 11.1MB/s]"
     ]
    },
    {
     "name": "stderr",
     "output_type": "stream",
     "text": [
      "\rDownloading celeba:  84%|████████▍ | 1.22G/1.44G [02:48<00:22, 10.1MB/s]"
     ]
    },
    {
     "name": "stderr",
     "output_type": "stream",
     "text": [
      "\rDownloading celeba:  84%|████████▍ | 1.22G/1.44G [02:48<00:20, 11.2MB/s]"
     ]
    },
    {
     "name": "stderr",
     "output_type": "stream",
     "text": [
      "\rDownloading celeba:  85%|████████▍ | 1.22G/1.44G [02:49<00:20, 10.8MB/s]"
     ]
    },
    {
     "name": "stderr",
     "output_type": "stream",
     "text": [
      "\rDownloading celeba:  85%|████████▍ | 1.22G/1.44G [02:49<00:21, 10.5MB/s]"
     ]
    },
    {
     "name": "stderr",
     "output_type": "stream",
     "text": [
      "\rDownloading celeba:  85%|████████▍ | 1.22G/1.44G [02:49<00:21, 10.4MB/s]"
     ]
    },
    {
     "name": "stderr",
     "output_type": "stream",
     "text": [
      "\rDownloading celeba:  85%|████████▍ | 1.22G/1.44G [02:49<00:21, 10.3MB/s]"
     ]
    },
    {
     "name": "stderr",
     "output_type": "stream",
     "text": [
      "\rDownloading celeba:  85%|████████▍ | 1.22G/1.44G [02:49<00:21, 10.3MB/s]"
     ]
    },
    {
     "name": "stderr",
     "output_type": "stream",
     "text": [
      "\rDownloading celeba:  85%|████████▍ | 1.23G/1.44G [02:49<00:21, 10.3MB/s]"
     ]
    },
    {
     "name": "stderr",
     "output_type": "stream",
     "text": [
      "\rDownloading celeba:  85%|████████▍ | 1.23G/1.44G [02:49<00:21, 10.2MB/s]"
     ]
    },
    {
     "name": "stderr",
     "output_type": "stream",
     "text": [
      "\rDownloading celeba:  85%|████████▌ | 1.23G/1.44G [02:49<00:20, 10.4MB/s]"
     ]
    },
    {
     "name": "stderr",
     "output_type": "stream",
     "text": [
      "\rDownloading celeba:  85%|████████▌ | 1.23G/1.44G [02:49<00:20, 10.4MB/s]"
     ]
    },
    {
     "name": "stderr",
     "output_type": "stream",
     "text": [
      "\rDownloading celeba:  85%|████████▌ | 1.23G/1.44G [02:49<00:22, 9.37MB/s]"
     ]
    },
    {
     "name": "stderr",
     "output_type": "stream",
     "text": [
      "\rDownloading celeba:  85%|████████▌ | 1.23G/1.44G [02:50<00:21, 9.97MB/s]"
     ]
    },
    {
     "name": "stderr",
     "output_type": "stream",
     "text": [
      "\rDownloading celeba:  85%|████████▌ | 1.23G/1.44G [02:50<00:23, 9.05MB/s]"
     ]
    },
    {
     "name": "stderr",
     "output_type": "stream",
     "text": [
      "\rDownloading celeba:  85%|████████▌ | 1.23G/1.44G [02:50<00:24, 8.62MB/s]"
     ]
    },
    {
     "name": "stderr",
     "output_type": "stream",
     "text": [
      "\rDownloading celeba:  85%|████████▌ | 1.23G/1.44G [02:50<00:24, 8.47MB/s]"
     ]
    },
    {
     "name": "stderr",
     "output_type": "stream",
     "text": [
      "\rDownloading celeba:  85%|████████▌ | 1.23G/1.44G [02:50<00:25, 8.32MB/s]"
     ]
    },
    {
     "name": "stderr",
     "output_type": "stream",
     "text": [
      "\rDownloading celeba:  86%|████████▌ | 1.23G/1.44G [02:50<00:25, 8.30MB/s]"
     ]
    },
    {
     "name": "stderr",
     "output_type": "stream",
     "text": [
      "\rDownloading celeba:  86%|████████▌ | 1.24G/1.44G [02:50<00:25, 8.30MB/s]"
     ]
    },
    {
     "name": "stderr",
     "output_type": "stream",
     "text": [
      "\rDownloading celeba:  86%|████████▌ | 1.24G/1.44G [02:50<00:24, 8.28MB/s]"
     ]
    },
    {
     "name": "stderr",
     "output_type": "stream",
     "text": [
      "\rDownloading celeba:  86%|████████▌ | 1.24G/1.44G [02:50<00:24, 8.37MB/s]"
     ]
    },
    {
     "name": "stderr",
     "output_type": "stream",
     "text": [
      "\rDownloading celeba:  86%|████████▌ | 1.24G/1.44G [02:50<01:01, 3.34MB/s]"
     ]
    },
    {
     "name": "stderr",
     "output_type": "stream",
     "text": [
      "\rDownloading celeba:  86%|████████▌ | 1.24G/1.44G [02:51<00:47, 4.34MB/s]"
     ]
    },
    {
     "name": "stderr",
     "output_type": "stream",
     "text": [
      "\rDownloading celeba:  86%|████████▌ | 1.24G/1.44G [02:51<00:40, 5.01MB/s]"
     ]
    },
    {
     "name": "stderr",
     "output_type": "stream",
     "text": [
      "\rDownloading celeba:  86%|████████▌ | 1.24G/1.44G [02:51<00:36, 5.57MB/s]"
     ]
    },
    {
     "name": "stderr",
     "output_type": "stream",
     "text": [
      "\rDownloading celeba:  86%|████████▌ | 1.24G/1.44G [02:51<00:32, 6.16MB/s]"
     ]
    },
    {
     "name": "stderr",
     "output_type": "stream",
     "text": [
      "\rDownloading celeba:  86%|████████▌ | 1.24G/1.44G [02:51<00:30, 6.68MB/s]"
     ]
    },
    {
     "name": "stderr",
     "output_type": "stream",
     "text": [
      "\rDownloading celeba:  86%|████████▌ | 1.24G/1.44G [02:51<00:28, 7.09MB/s]"
     ]
    },
    {
     "name": "stderr",
     "output_type": "stream",
     "text": [
      "\rDownloading celeba:  86%|████████▌ | 1.24G/1.44G [02:51<00:27, 7.33MB/s]"
     ]
    },
    {
     "name": "stderr",
     "output_type": "stream",
     "text": [
      "\rDownloading celeba:  86%|████████▌ | 1.24G/1.44G [02:51<00:26, 7.58MB/s]"
     ]
    },
    {
     "name": "stderr",
     "output_type": "stream",
     "text": [
      "\rDownloading celeba:  86%|████████▋ | 1.25G/1.44G [02:51<00:25, 7.76MB/s]"
     ]
    },
    {
     "name": "stderr",
     "output_type": "stream",
     "text": [
      "\rDownloading celeba:  86%|████████▋ | 1.25G/1.44G [02:51<00:24, 7.96MB/s]"
     ]
    },
    {
     "name": "stderr",
     "output_type": "stream",
     "text": [
      "\rDownloading celeba:  86%|████████▋ | 1.25G/1.44G [02:52<00:23, 8.18MB/s]"
     ]
    },
    {
     "name": "stderr",
     "output_type": "stream",
     "text": [
      "\rDownloading celeba:  86%|████████▋ | 1.25G/1.44G [02:52<00:23, 8.28MB/s]"
     ]
    },
    {
     "name": "stderr",
     "output_type": "stream",
     "text": [
      "\rDownloading celeba:  87%|████████▋ | 1.25G/1.44G [02:52<00:22, 8.69MB/s]"
     ]
    },
    {
     "name": "stderr",
     "output_type": "stream",
     "text": [
      "\rDownloading celeba:  87%|████████▋ | 1.25G/1.44G [02:52<00:20, 9.32MB/s]"
     ]
    },
    {
     "name": "stderr",
     "output_type": "stream",
     "text": [
      "\rDownloading celeba:  87%|████████▋ | 1.25G/1.44G [02:52<00:19, 9.94MB/s]"
     ]
    },
    {
     "name": "stderr",
     "output_type": "stream",
     "text": [
      "\rDownloading celeba:  87%|████████▋ | 1.25G/1.44G [02:52<00:18, 10.5MB/s]"
     ]
    },
    {
     "name": "stderr",
     "output_type": "stream",
     "text": [
      "\rDownloading celeba:  87%|████████▋ | 1.25G/1.44G [02:52<00:17, 10.9MB/s]"
     ]
    },
    {
     "name": "stderr",
     "output_type": "stream",
     "text": [
      "\rDownloading celeba:  87%|████████▋ | 1.25G/1.44G [02:52<00:21, 8.75MB/s]"
     ]
    },
    {
     "name": "stderr",
     "output_type": "stream",
     "text": [
      "\rDownloading celeba:  87%|████████▋ | 1.26G/1.44G [02:52<00:21, 8.91MB/s]"
     ]
    },
    {
     "name": "stderr",
     "output_type": "stream",
     "text": [
      "\rDownloading celeba:  87%|████████▋ | 1.26G/1.44G [02:53<00:19, 9.55MB/s]"
     ]
    },
    {
     "name": "stderr",
     "output_type": "stream",
     "text": [
      "\rDownloading celeba:  87%|████████▋ | 1.26G/1.44G [02:53<00:24, 7.67MB/s]"
     ]
    },
    {
     "name": "stderr",
     "output_type": "stream",
     "text": [
      "\rDownloading celeba:  87%|████████▋ | 1.26G/1.44G [02:53<00:22, 8.08MB/s]"
     ]
    },
    {
     "name": "stderr",
     "output_type": "stream",
     "text": [
      "\rDownloading celeba:  87%|████████▋ | 1.26G/1.44G [02:53<00:27, 6.72MB/s]"
     ]
    },
    {
     "name": "stderr",
     "output_type": "stream",
     "text": [
      "\rDownloading celeba:  87%|████████▋ | 1.26G/1.44G [02:53<00:30, 6.02MB/s]"
     ]
    },
    {
     "name": "stderr",
     "output_type": "stream",
     "text": [
      "\rDownloading celeba:  87%|████████▋ | 1.26G/1.44G [02:53<00:32, 5.64MB/s]"
     ]
    },
    {
     "name": "stderr",
     "output_type": "stream",
     "text": [
      "\rDownloading celeba:  87%|████████▋ | 1.26G/1.44G [02:53<00:33, 5.42MB/s]"
     ]
    },
    {
     "name": "stderr",
     "output_type": "stream",
     "text": [
      "\rDownloading celeba:  87%|████████▋ | 1.26G/1.44G [02:53<00:34, 5.26MB/s]"
     ]
    },
    {
     "name": "stderr",
     "output_type": "stream",
     "text": [
      "\rDownloading celeba:  87%|████████▋ | 1.26G/1.44G [02:53<00:36, 4.94MB/s]"
     ]
    },
    {
     "name": "stderr",
     "output_type": "stream",
     "text": [
      "\rDownloading celeba:  87%|████████▋ | 1.26G/1.44G [02:53<00:37, 4.81MB/s]"
     ]
    },
    {
     "name": "stderr",
     "output_type": "stream",
     "text": [
      "\rDownloading celeba:  87%|████████▋ | 1.26G/1.44G [02:54<00:39, 4.62MB/s]"
     ]
    },
    {
     "name": "stderr",
     "output_type": "stream",
     "text": [
      "\rDownloading celeba:  87%|████████▋ | 1.26G/1.44G [02:54<00:37, 4.81MB/s]"
     ]
    },
    {
     "name": "stderr",
     "output_type": "stream",
     "text": [
      "\rDownloading celeba:  87%|████████▋ | 1.26G/1.44G [02:54<00:37, 4.81MB/s]"
     ]
    },
    {
     "name": "stderr",
     "output_type": "stream",
     "text": [
      "\rDownloading celeba:  88%|████████▊ | 1.26G/1.44G [02:54<00:36, 4.90MB/s]"
     ]
    },
    {
     "name": "stderr",
     "output_type": "stream",
     "text": [
      "\rDownloading celeba:  88%|████████▊ | 1.26G/1.44G [02:54<00:35, 5.00MB/s]"
     ]
    },
    {
     "name": "stderr",
     "output_type": "stream",
     "text": [
      "\rDownloading celeba:  88%|████████▊ | 1.26G/1.44G [02:54<00:35, 4.98MB/s]"
     ]
    },
    {
     "name": "stderr",
     "output_type": "stream",
     "text": [
      "\rDownloading celeba:  88%|████████▊ | 1.27G/1.44G [02:54<00:34, 5.10MB/s]"
     ]
    },
    {
     "name": "stderr",
     "output_type": "stream",
     "text": [
      "\rDownloading celeba:  88%|████████▊ | 1.27G/1.44G [02:54<00:33, 5.27MB/s]"
     ]
    },
    {
     "name": "stderr",
     "output_type": "stream",
     "text": [
      "\rDownloading celeba:  88%|████████▊ | 1.27G/1.44G [02:54<00:32, 5.38MB/s]"
     ]
    },
    {
     "name": "stderr",
     "output_type": "stream",
     "text": [
      "\rDownloading celeba:  88%|████████▊ | 1.27G/1.44G [02:54<00:33, 5.25MB/s]"
     ]
    },
    {
     "name": "stderr",
     "output_type": "stream",
     "text": [
      "\rDownloading celeba:  88%|████████▊ | 1.27G/1.44G [02:55<00:34, 5.18MB/s]"
     ]
    },
    {
     "name": "stderr",
     "output_type": "stream",
     "text": [
      "\rDownloading celeba:  88%|████████▊ | 1.27G/1.44G [02:55<00:34, 5.06MB/s]"
     ]
    },
    {
     "name": "stderr",
     "output_type": "stream",
     "text": [
      "\rDownloading celeba:  88%|████████▊ | 1.27G/1.44G [02:55<00:33, 5.19MB/s]"
     ]
    },
    {
     "name": "stderr",
     "output_type": "stream",
     "text": [
      "\rDownloading celeba:  88%|████████▊ | 1.27G/1.44G [02:55<00:33, 5.25MB/s]"
     ]
    },
    {
     "name": "stderr",
     "output_type": "stream",
     "text": [
      "\rDownloading celeba:  88%|████████▊ | 1.27G/1.44G [02:55<00:32, 5.41MB/s]"
     ]
    },
    {
     "name": "stderr",
     "output_type": "stream",
     "text": [
      "\rDownloading celeba:  88%|████████▊ | 1.27G/1.44G [02:55<00:31, 5.46MB/s]"
     ]
    },
    {
     "name": "stderr",
     "output_type": "stream",
     "text": [
      "\rDownloading celeba:  88%|████████▊ | 1.27G/1.44G [02:55<00:31, 5.44MB/s]"
     ]
    },
    {
     "name": "stderr",
     "output_type": "stream",
     "text": [
      "\rDownloading celeba:  88%|████████▊ | 1.27G/1.44G [02:55<00:31, 5.40MB/s]"
     ]
    },
    {
     "name": "stderr",
     "output_type": "stream",
     "text": [
      "\rDownloading celeba:  88%|████████▊ | 1.27G/1.44G [02:55<00:30, 5.56MB/s]"
     ]
    },
    {
     "name": "stderr",
     "output_type": "stream",
     "text": [
      "\rDownloading celeba:  88%|████████▊ | 1.27G/1.44G [02:55<00:31, 5.45MB/s]"
     ]
    },
    {
     "name": "stderr",
     "output_type": "stream",
     "text": [
      "\rDownloading celeba:  88%|████████▊ | 1.27G/1.44G [02:56<00:31, 5.43MB/s]"
     ]
    },
    {
     "name": "stderr",
     "output_type": "stream",
     "text": [
      "\rDownloading celeba:  88%|████████▊ | 1.27G/1.44G [02:56<00:31, 5.33MB/s]"
     ]
    },
    {
     "name": "stderr",
     "output_type": "stream",
     "text": [
      "\rDownloading celeba:  88%|████████▊ | 1.27G/1.44G [02:56<00:31, 5.32MB/s]"
     ]
    },
    {
     "name": "stderr",
     "output_type": "stream",
     "text": [
      "\rDownloading celeba:  88%|████████▊ | 1.27G/1.44G [02:56<00:33, 5.06MB/s]"
     ]
    },
    {
     "name": "stderr",
     "output_type": "stream",
     "text": [
      "\rDownloading celeba:  88%|████████▊ | 1.27G/1.44G [02:56<00:34, 4.96MB/s]"
     ]
    },
    {
     "name": "stderr",
     "output_type": "stream",
     "text": [
      "\rDownloading celeba:  88%|████████▊ | 1.28G/1.44G [02:56<00:34, 4.90MB/s]"
     ]
    },
    {
     "name": "stderr",
     "output_type": "stream",
     "text": [
      "\rDownloading celeba:  88%|████████▊ | 1.28G/1.44G [02:56<00:34, 4.88MB/s]"
     ]
    },
    {
     "name": "stderr",
     "output_type": "stream",
     "text": [
      "\rDownloading celeba:  88%|████████▊ | 1.28G/1.44G [02:56<00:34, 4.91MB/s]"
     ]
    },
    {
     "name": "stderr",
     "output_type": "stream",
     "text": [
      "\rDownloading celeba:  88%|████████▊ | 1.28G/1.44G [02:56<00:33, 4.95MB/s]"
     ]
    },
    {
     "name": "stderr",
     "output_type": "stream",
     "text": [
      "\rDownloading celeba:  88%|████████▊ | 1.28G/1.44G [02:56<00:33, 4.92MB/s]"
     ]
    },
    {
     "name": "stderr",
     "output_type": "stream",
     "text": [
      "\rDownloading celeba:  89%|████████▊ | 1.28G/1.44G [02:57<00:33, 4.92MB/s]"
     ]
    },
    {
     "name": "stderr",
     "output_type": "stream",
     "text": [
      "\rDownloading celeba:  89%|████████▊ | 1.28G/1.44G [02:57<00:33, 4.89MB/s]"
     ]
    },
    {
     "name": "stderr",
     "output_type": "stream",
     "text": [
      "\rDownloading celeba:  89%|████████▊ | 1.28G/1.44G [02:57<00:34, 4.82MB/s]"
     ]
    },
    {
     "name": "stderr",
     "output_type": "stream",
     "text": [
      "\rDownloading celeba:  89%|████████▊ | 1.28G/1.44G [02:57<00:33, 4.84MB/s]"
     ]
    },
    {
     "name": "stderr",
     "output_type": "stream",
     "text": [
      "\rDownloading celeba:  89%|████████▊ | 1.28G/1.44G [02:57<00:33, 4.87MB/s]"
     ]
    },
    {
     "name": "stderr",
     "output_type": "stream",
     "text": [
      "\rDownloading celeba:  89%|████████▊ | 1.28G/1.44G [02:57<00:33, 4.94MB/s]"
     ]
    },
    {
     "name": "stderr",
     "output_type": "stream",
     "text": [
      "\rDownloading celeba:  89%|████████▊ | 1.28G/1.44G [02:57<00:32, 4.99MB/s]"
     ]
    },
    {
     "name": "stderr",
     "output_type": "stream",
     "text": [
      "\rDownloading celeba:  89%|████████▉ | 1.28G/1.44G [02:57<00:32, 5.03MB/s]"
     ]
    },
    {
     "name": "stderr",
     "output_type": "stream",
     "text": [
      "\rDownloading celeba:  89%|████████▉ | 1.28G/1.44G [02:57<00:31, 5.06MB/s]"
     ]
    },
    {
     "name": "stderr",
     "output_type": "stream",
     "text": [
      "\rDownloading celeba:  89%|████████▉ | 1.28G/1.44G [02:58<00:31, 5.08MB/s]"
     ]
    },
    {
     "name": "stderr",
     "output_type": "stream",
     "text": [
      "\rDownloading celeba:  89%|████████▉ | 1.28G/1.44G [02:58<00:30, 5.30MB/s]"
     ]
    },
    {
     "name": "stderr",
     "output_type": "stream",
     "text": [
      "\rDownloading celeba:  89%|████████▉ | 1.28G/1.44G [02:58<00:29, 5.45MB/s]"
     ]
    },
    {
     "name": "stderr",
     "output_type": "stream",
     "text": [
      "\rDownloading celeba:  89%|████████▉ | 1.28G/1.44G [02:58<00:29, 5.48MB/s]"
     ]
    },
    {
     "name": "stderr",
     "output_type": "stream",
     "text": [
      "\rDownloading celeba:  89%|████████▉ | 1.28G/1.44G [02:58<00:29, 5.38MB/s]"
     ]
    },
    {
     "name": "stderr",
     "output_type": "stream",
     "text": [
      "\rDownloading celeba:  89%|████████▉ | 1.29G/1.44G [02:58<00:27, 5.67MB/s]"
     ]
    },
    {
     "name": "stderr",
     "output_type": "stream",
     "text": [
      "\rDownloading celeba:  89%|████████▉ | 1.29G/1.44G [02:58<00:26, 6.02MB/s]"
     ]
    },
    {
     "name": "stderr",
     "output_type": "stream",
     "text": [
      "\rDownloading celeba:  89%|████████▉ | 1.29G/1.44G [02:58<00:25, 6.09MB/s]"
     ]
    },
    {
     "name": "stderr",
     "output_type": "stream",
     "text": [
      "\rDownloading celeba:  89%|████████▉ | 1.29G/1.44G [02:58<00:21, 7.17MB/s]"
     ]
    },
    {
     "name": "stderr",
     "output_type": "stream",
     "text": [
      "\rDownloading celeba:  89%|████████▉ | 1.29G/1.44G [02:58<00:23, 6.72MB/s]"
     ]
    },
    {
     "name": "stderr",
     "output_type": "stream",
     "text": [
      "\rDownloading celeba:  89%|████████▉ | 1.29G/1.44G [02:59<00:20, 7.61MB/s]"
     ]
    },
    {
     "name": "stderr",
     "output_type": "stream",
     "text": [
      "\rDownloading celeba:  89%|████████▉ | 1.29G/1.44G [02:59<00:19, 7.72MB/s]"
     ]
    },
    {
     "name": "stderr",
     "output_type": "stream",
     "text": [
      "\rDownloading celeba:  89%|████████▉ | 1.29G/1.44G [02:59<00:19, 7.78MB/s]"
     ]
    },
    {
     "name": "stderr",
     "output_type": "stream",
     "text": [
      "\rDownloading celeba:  90%|████████▉ | 1.29G/1.44G [02:59<00:19, 7.91MB/s]"
     ]
    },
    {
     "name": "stderr",
     "output_type": "stream",
     "text": [
      "\rDownloading celeba:  90%|████████▉ | 1.29G/1.44G [02:59<00:18, 8.11MB/s]"
     ]
    },
    {
     "name": "stderr",
     "output_type": "stream",
     "text": [
      "\rDownloading celeba:  90%|████████▉ | 1.29G/1.44G [02:59<00:21, 7.08MB/s]"
     ]
    },
    {
     "name": "stderr",
     "output_type": "stream",
     "text": [
      "\rDownloading celeba:  90%|████████▉ | 1.29G/1.44G [02:59<00:19, 7.82MB/s]"
     ]
    },
    {
     "name": "stderr",
     "output_type": "stream",
     "text": [
      "\rDownloading celeba:  90%|████████▉ | 1.30G/1.44G [02:59<00:18, 7.81MB/s]"
     ]
    },
    {
     "name": "stderr",
     "output_type": "stream",
     "text": [
      "\rDownloading celeba:  90%|████████▉ | 1.30G/1.44G [02:59<00:19, 7.67MB/s]"
     ]
    },
    {
     "name": "stderr",
     "output_type": "stream",
     "text": [
      "\rDownloading celeba:  90%|████████▉ | 1.30G/1.44G [02:59<00:20, 7.24MB/s]"
     ]
    },
    {
     "name": "stderr",
     "output_type": "stream",
     "text": [
      "\rDownloading celeba:  90%|████████▉ | 1.30G/1.44G [03:00<00:21, 6.89MB/s]"
     ]
    },
    {
     "name": "stderr",
     "output_type": "stream",
     "text": [
      "\rDownloading celeba:  90%|████████▉ | 1.30G/1.44G [03:00<00:21, 6.66MB/s]"
     ]
    },
    {
     "name": "stderr",
     "output_type": "stream",
     "text": [
      "\rDownloading celeba:  90%|████████▉ | 1.30G/1.44G [03:00<00:22, 6.50MB/s]"
     ]
    },
    {
     "name": "stderr",
     "output_type": "stream",
     "text": [
      "\rDownloading celeba:  90%|█████████ | 1.30G/1.44G [03:00<00:23, 6.25MB/s]"
     ]
    },
    {
     "name": "stderr",
     "output_type": "stream",
     "text": [
      "\rDownloading celeba:  90%|█████████ | 1.30G/1.44G [03:00<00:23, 6.22MB/s]"
     ]
    },
    {
     "name": "stderr",
     "output_type": "stream",
     "text": [
      "\rDownloading celeba:  90%|█████████ | 1.30G/1.44G [03:00<00:22, 6.30MB/s]"
     ]
    },
    {
     "name": "stderr",
     "output_type": "stream",
     "text": [
      "\rDownloading celeba:  90%|█████████ | 1.30G/1.44G [03:00<00:22, 6.25MB/s]"
     ]
    },
    {
     "name": "stderr",
     "output_type": "stream",
     "text": [
      "\rDownloading celeba:  90%|█████████ | 1.30G/1.44G [03:00<00:22, 6.22MB/s]"
     ]
    },
    {
     "name": "stderr",
     "output_type": "stream",
     "text": [
      "\rDownloading celeba:  90%|█████████ | 1.30G/1.44G [03:00<00:22, 6.22MB/s]"
     ]
    },
    {
     "name": "stderr",
     "output_type": "stream",
     "text": [
      "\rDownloading celeba:  90%|█████████ | 1.30G/1.44G [03:00<00:22, 6.16MB/s]"
     ]
    },
    {
     "name": "stderr",
     "output_type": "stream",
     "text": [
      "\rDownloading celeba:  90%|█████████ | 1.30G/1.44G [03:01<00:22, 6.23MB/s]"
     ]
    },
    {
     "name": "stderr",
     "output_type": "stream",
     "text": [
      "\rDownloading celeba:  90%|█████████ | 1.30G/1.44G [03:01<00:21, 6.32MB/s]"
     ]
    },
    {
     "name": "stderr",
     "output_type": "stream",
     "text": [
      "\rDownloading celeba:  90%|█████████ | 1.31G/1.44G [03:01<00:22, 6.27MB/s]"
     ]
    },
    {
     "name": "stderr",
     "output_type": "stream",
     "text": [
      "\rDownloading celeba:  90%|█████████ | 1.31G/1.44G [03:01<00:22, 6.17MB/s]"
     ]
    },
    {
     "name": "stderr",
     "output_type": "stream",
     "text": [
      "\rDownloading celeba:  91%|█████████ | 1.31G/1.44G [03:01<00:22, 6.02MB/s]"
     ]
    },
    {
     "name": "stderr",
     "output_type": "stream",
     "text": [
      "\rDownloading celeba:  91%|█████████ | 1.31G/1.44G [03:01<00:22, 6.05MB/s]"
     ]
    },
    {
     "name": "stderr",
     "output_type": "stream",
     "text": [
      "\rDownloading celeba:  91%|█████████ | 1.31G/1.44G [03:01<00:22, 6.12MB/s]"
     ]
    },
    {
     "name": "stderr",
     "output_type": "stream",
     "text": [
      "\rDownloading celeba:  91%|█████████ | 1.31G/1.44G [03:01<00:21, 6.29MB/s]"
     ]
    },
    {
     "name": "stderr",
     "output_type": "stream",
     "text": [
      "\rDownloading celeba:  91%|█████████ | 1.31G/1.44G [03:01<00:20, 6.41MB/s]"
     ]
    },
    {
     "name": "stderr",
     "output_type": "stream",
     "text": [
      "\rDownloading celeba:  91%|█████████ | 1.31G/1.44G [03:02<00:19, 6.70MB/s]"
     ]
    },
    {
     "name": "stderr",
     "output_type": "stream",
     "text": [
      "\rDownloading celeba:  91%|█████████ | 1.31G/1.44G [03:02<00:18, 7.15MB/s]"
     ]
    },
    {
     "name": "stderr",
     "output_type": "stream",
     "text": [
      "\rDownloading celeba:  91%|█████████ | 1.31G/1.44G [03:02<00:17, 7.71MB/s]"
     ]
    },
    {
     "name": "stderr",
     "output_type": "stream",
     "text": [
      "\rDownloading celeba:  91%|█████████ | 1.31G/1.44G [03:02<00:15, 8.43MB/s]"
     ]
    },
    {
     "name": "stderr",
     "output_type": "stream",
     "text": [
      "\rDownloading celeba:  91%|█████████ | 1.31G/1.44G [03:02<00:14, 9.17MB/s]"
     ]
    },
    {
     "name": "stderr",
     "output_type": "stream",
     "text": [
      "\rDownloading celeba:  91%|█████████ | 1.32G/1.44G [03:02<00:13, 9.85MB/s]"
     ]
    },
    {
     "name": "stderr",
     "output_type": "stream",
     "text": [
      "\rDownloading celeba:  91%|█████████ | 1.32G/1.44G [03:02<00:12, 10.4MB/s]"
     ]
    },
    {
     "name": "stderr",
     "output_type": "stream",
     "text": [
      "\rDownloading celeba:  91%|█████████▏| 1.32G/1.44G [03:02<00:11, 10.8MB/s]"
     ]
    },
    {
     "name": "stderr",
     "output_type": "stream",
     "text": [
      "\rDownloading celeba:  91%|█████████▏| 1.32G/1.44G [03:02<00:14, 8.94MB/s]"
     ]
    },
    {
     "name": "stderr",
     "output_type": "stream",
     "text": [
      "\rDownloading celeba:  91%|█████████▏| 1.32G/1.44G [03:02<00:12, 9.56MB/s]"
     ]
    },
    {
     "name": "stderr",
     "output_type": "stream",
     "text": [
      "\rDownloading celeba:  91%|█████████▏| 1.32G/1.44G [03:03<00:12, 10.1MB/s]"
     ]
    },
    {
     "name": "stderr",
     "output_type": "stream",
     "text": [
      "\rDownloading celeba:  92%|█████████▏| 1.32G/1.44G [03:03<00:16, 7.62MB/s]"
     ]
    },
    {
     "name": "stderr",
     "output_type": "stream",
     "text": [
      "\rDownloading celeba:  92%|█████████▏| 1.32G/1.44G [03:03<00:14, 8.13MB/s]"
     ]
    },
    {
     "name": "stderr",
     "output_type": "stream",
     "text": [
      "\rDownloading celeba:  92%|█████████▏| 1.32G/1.44G [03:03<00:15, 7.62MB/s]"
     ]
    },
    {
     "name": "stderr",
     "output_type": "stream",
     "text": [
      "\rDownloading celeba:  92%|█████████▏| 1.32G/1.44G [03:03<00:20, 5.83MB/s]"
     ]
    },
    {
     "name": "stderr",
     "output_type": "stream",
     "text": [
      "\rDownloading celeba:  92%|█████████▏| 1.32G/1.44G [03:03<00:18, 6.33MB/s]"
     ]
    },
    {
     "name": "stderr",
     "output_type": "stream",
     "text": [
      "\rDownloading celeba:  92%|█████████▏| 1.32G/1.44G [03:03<00:23, 5.06MB/s]"
     ]
    },
    {
     "name": "stderr",
     "output_type": "stream",
     "text": [
      "\rDownloading celeba:  92%|█████████▏| 1.32G/1.44G [03:03<00:21, 5.55MB/s]"
     ]
    },
    {
     "name": "stderr",
     "output_type": "stream",
     "text": [
      "\rDownloading celeba:  92%|█████████▏| 1.33G/1.44G [03:03<00:28, 4.19MB/s]"
     ]
    },
    {
     "name": "stderr",
     "output_type": "stream",
     "text": [
      "\rDownloading celeba:  92%|█████████▏| 1.33G/1.44G [03:03<00:25, 4.66MB/s]"
     ]
    },
    {
     "name": "stderr",
     "output_type": "stream",
     "text": [
      "\rDownloading celeba:  92%|█████████▏| 1.33G/1.44G [03:04<00:25, 4.60MB/s]"
     ]
    },
    {
     "name": "stderr",
     "output_type": "stream",
     "text": [
      "\rDownloading celeba:  92%|█████████▏| 1.33G/1.44G [03:04<00:26, 4.48MB/s]"
     ]
    },
    {
     "name": "stderr",
     "output_type": "stream",
     "text": [
      "\rDownloading celeba:  92%|█████████▏| 1.33G/1.44G [03:04<00:25, 4.57MB/s]"
     ]
    },
    {
     "name": "stderr",
     "output_type": "stream",
     "text": [
      "\rDownloading celeba:  92%|█████████▏| 1.33G/1.44G [03:04<00:24, 4.79MB/s]"
     ]
    },
    {
     "name": "stderr",
     "output_type": "stream",
     "text": [
      "\rDownloading celeba:  92%|█████████▏| 1.33G/1.44G [03:04<00:24, 4.73MB/s]"
     ]
    },
    {
     "name": "stderr",
     "output_type": "stream",
     "text": [
      "\rDownloading celeba:  92%|█████████▏| 1.33G/1.44G [03:04<00:23, 4.91MB/s]"
     ]
    },
    {
     "name": "stderr",
     "output_type": "stream",
     "text": [
      "\rDownloading celeba:  92%|█████████▏| 1.33G/1.44G [03:04<00:22, 5.11MB/s]"
     ]
    },
    {
     "name": "stderr",
     "output_type": "stream",
     "text": [
      "\rDownloading celeba:  92%|█████████▏| 1.33G/1.44G [03:04<00:21, 5.18MB/s]"
     ]
    },
    {
     "name": "stderr",
     "output_type": "stream",
     "text": [
      "\rDownloading celeba:  92%|█████████▏| 1.33G/1.44G [03:04<00:22, 5.04MB/s]"
     ]
    },
    {
     "name": "stderr",
     "output_type": "stream",
     "text": [
      "\rDownloading celeba:  92%|█████████▏| 1.33G/1.44G [03:04<00:21, 5.17MB/s]"
     ]
    },
    {
     "name": "stderr",
     "output_type": "stream",
     "text": [
      "\rDownloading celeba:  92%|█████████▏| 1.33G/1.44G [03:05<00:21, 5.27MB/s]"
     ]
    },
    {
     "name": "stderr",
     "output_type": "stream",
     "text": [
      "\rDownloading celeba:  92%|█████████▏| 1.33G/1.44G [03:05<00:21, 5.15MB/s]"
     ]
    },
    {
     "name": "stderr",
     "output_type": "stream",
     "text": [
      "\rDownloading celeba:  92%|█████████▏| 1.33G/1.44G [03:05<00:21, 5.17MB/s]"
     ]
    },
    {
     "name": "stderr",
     "output_type": "stream",
     "text": [
      "\rDownloading celeba:  92%|█████████▏| 1.33G/1.44G [03:05<00:20, 5.26MB/s]"
     ]
    },
    {
     "name": "stderr",
     "output_type": "stream",
     "text": [
      "\rDownloading celeba:  92%|█████████▏| 1.33G/1.44G [03:05<00:21, 5.08MB/s]"
     ]
    },
    {
     "name": "stderr",
     "output_type": "stream",
     "text": [
      "\rDownloading celeba:  92%|█████████▏| 1.33G/1.44G [03:05<00:21, 5.17MB/s]"
     ]
    },
    {
     "name": "stderr",
     "output_type": "stream",
     "text": [
      "\rDownloading celeba:  92%|█████████▏| 1.33G/1.44G [03:05<00:21, 5.03MB/s]"
     ]
    },
    {
     "name": "stderr",
     "output_type": "stream",
     "text": [
      "\rDownloading celeba:  93%|█████████▎| 1.34G/1.44G [03:05<00:20, 5.17MB/s]"
     ]
    },
    {
     "name": "stderr",
     "output_type": "stream",
     "text": [
      "\rDownloading celeba:  93%|█████████▎| 1.34G/1.44G [03:05<00:21, 5.12MB/s]"
     ]
    },
    {
     "name": "stderr",
     "output_type": "stream",
     "text": [
      "\rDownloading celeba:  93%|█████████▎| 1.34G/1.44G [03:06<00:20, 5.23MB/s]"
     ]
    },
    {
     "name": "stderr",
     "output_type": "stream",
     "text": [
      "\rDownloading celeba:  93%|█████████▎| 1.34G/1.44G [03:06<00:19, 5.39MB/s]"
     ]
    },
    {
     "name": "stderr",
     "output_type": "stream",
     "text": [
      "\rDownloading celeba:  93%|█████████▎| 1.34G/1.44G [03:06<00:20, 5.18MB/s]"
     ]
    },
    {
     "name": "stderr",
     "output_type": "stream",
     "text": [
      "\rDownloading celeba:  93%|█████████▎| 1.34G/1.44G [03:06<00:19, 5.37MB/s]"
     ]
    },
    {
     "name": "stderr",
     "output_type": "stream",
     "text": [
      "\rDownloading celeba:  93%|█████████▎| 1.34G/1.44G [03:06<00:18, 5.53MB/s]"
     ]
    },
    {
     "name": "stderr",
     "output_type": "stream",
     "text": [
      "\rDownloading celeba:  93%|█████████▎| 1.34G/1.44G [03:06<00:17, 5.98MB/s]"
     ]
    },
    {
     "name": "stderr",
     "output_type": "stream",
     "text": [
      "\rDownloading celeba:  93%|█████████▎| 1.34G/1.44G [03:06<00:15, 6.64MB/s]"
     ]
    },
    {
     "name": "stderr",
     "output_type": "stream",
     "text": [
      "\rDownloading celeba:  93%|█████████▎| 1.34G/1.44G [03:06<00:13, 7.34MB/s]"
     ]
    },
    {
     "name": "stderr",
     "output_type": "stream",
     "text": [
      "\rDownloading celeba:  93%|█████████▎| 1.34G/1.44G [03:06<00:12, 8.19MB/s]"
     ]
    },
    {
     "name": "stderr",
     "output_type": "stream",
     "text": [
      "\rDownloading celeba:  93%|█████████▎| 1.34G/1.44G [03:06<00:11, 9.03MB/s]"
     ]
    },
    {
     "name": "stderr",
     "output_type": "stream",
     "text": [
      "\rDownloading celeba:  93%|█████████▎| 1.34G/1.44G [03:07<00:10, 9.73MB/s]"
     ]
    },
    {
     "name": "stderr",
     "output_type": "stream",
     "text": [
      "\rDownloading celeba:  93%|█████████▎| 1.35G/1.44G [03:07<00:09, 10.3MB/s]"
     ]
    },
    {
     "name": "stderr",
     "output_type": "stream",
     "text": [
      "\rDownloading celeba:  93%|█████████▎| 1.35G/1.44G [03:07<00:09, 10.7MB/s]"
     ]
    },
    {
     "name": "stderr",
     "output_type": "stream",
     "text": [
      "\rDownloading celeba:  93%|█████████▎| 1.35G/1.44G [03:07<00:10, 8.96MB/s]"
     ]
    },
    {
     "name": "stderr",
     "output_type": "stream",
     "text": [
      "\rDownloading celeba:  93%|█████████▎| 1.35G/1.44G [03:07<00:09, 9.58MB/s]"
     ]
    },
    {
     "name": "stderr",
     "output_type": "stream",
     "text": [
      "\rDownloading celeba:  94%|█████████▎| 1.35G/1.44G [03:07<00:08, 11.0MB/s]"
     ]
    },
    {
     "name": "stderr",
     "output_type": "stream",
     "text": [
      "\rDownloading celeba:  94%|█████████▎| 1.35G/1.44G [03:07<00:08, 11.2MB/s]"
     ]
    },
    {
     "name": "stderr",
     "output_type": "stream",
     "text": [
      "\rDownloading celeba:  94%|█████████▍| 1.35G/1.44G [03:07<00:07, 11.3MB/s]"
     ]
    },
    {
     "name": "stderr",
     "output_type": "stream",
     "text": [
      "\rDownloading celeba:  94%|█████████▍| 1.35G/1.44G [03:07<00:07, 11.5MB/s]"
     ]
    },
    {
     "name": "stderr",
     "output_type": "stream",
     "text": [
      "\rDownloading celeba:  94%|█████████▍| 1.36G/1.44G [03:07<00:07, 11.6MB/s]"
     ]
    },
    {
     "name": "stderr",
     "output_type": "stream",
     "text": [
      "\rDownloading celeba:  94%|█████████▍| 1.36G/1.44G [03:08<00:07, 11.7MB/s]"
     ]
    },
    {
     "name": "stderr",
     "output_type": "stream",
     "text": [
      "\rDownloading celeba:  94%|█████████▍| 1.36G/1.44G [03:08<00:08, 9.54MB/s]"
     ]
    },
    {
     "name": "stderr",
     "output_type": "stream",
     "text": [
      "\rDownloading celeba:  94%|█████████▍| 1.36G/1.44G [03:08<00:07, 10.7MB/s]"
     ]
    },
    {
     "name": "stderr",
     "output_type": "stream",
     "text": [
      "\rDownloading celeba:  94%|█████████▍| 1.36G/1.44G [03:08<00:07, 10.6MB/s]"
     ]
    },
    {
     "name": "stderr",
     "output_type": "stream",
     "text": [
      "\rDownloading celeba:  94%|█████████▍| 1.36G/1.44G [03:08<00:07, 10.4MB/s]"
     ]
    },
    {
     "name": "stderr",
     "output_type": "stream",
     "text": [
      "\rDownloading celeba:  94%|█████████▍| 1.36G/1.44G [03:08<00:07, 10.3MB/s]"
     ]
    },
    {
     "name": "stderr",
     "output_type": "stream",
     "text": [
      "\rDownloading celeba:  94%|█████████▍| 1.36G/1.44G [03:08<00:07, 10.5MB/s]"
     ]
    },
    {
     "name": "stderr",
     "output_type": "stream",
     "text": [
      "\rDownloading celeba:  95%|█████████▍| 1.36G/1.44G [03:08<00:07, 10.4MB/s]"
     ]
    },
    {
     "name": "stderr",
     "output_type": "stream",
     "text": [
      "\rDownloading celeba:  95%|█████████▍| 1.37G/1.44G [03:08<00:07, 10.5MB/s]"
     ]
    },
    {
     "name": "stderr",
     "output_type": "stream",
     "text": [
      "\rDownloading celeba:  95%|█████████▍| 1.37G/1.44G [03:08<00:08, 8.75MB/s]"
     ]
    },
    {
     "name": "stderr",
     "output_type": "stream",
     "text": [
      "\rDownloading celeba:  95%|█████████▍| 1.37G/1.44G [03:09<00:07, 9.77MB/s]"
     ]
    },
    {
     "name": "stderr",
     "output_type": "stream",
     "text": [
      "\rDownloading celeba:  95%|█████████▍| 1.37G/1.44G [03:09<00:07, 9.55MB/s]"
     ]
    },
    {
     "name": "stderr",
     "output_type": "stream",
     "text": [
      "\rDownloading celeba:  95%|█████████▍| 1.37G/1.44G [03:09<00:07, 9.38MB/s]"
     ]
    },
    {
     "name": "stderr",
     "output_type": "stream",
     "text": [
      "\rDownloading celeba:  95%|█████████▍| 1.37G/1.44G [03:09<00:07, 9.36MB/s]"
     ]
    },
    {
     "name": "stderr",
     "output_type": "stream",
     "text": [
      "\rDownloading celeba:  95%|█████████▍| 1.37G/1.44G [03:09<00:07, 9.27MB/s]"
     ]
    },
    {
     "name": "stderr",
     "output_type": "stream",
     "text": [
      "\rDownloading celeba:  95%|█████████▌| 1.37G/1.44G [03:09<00:07, 9.27MB/s]"
     ]
    },
    {
     "name": "stderr",
     "output_type": "stream",
     "text": [
      "\rDownloading celeba:  95%|█████████▌| 1.37G/1.44G [03:09<00:07, 9.34MB/s]"
     ]
    },
    {
     "name": "stderr",
     "output_type": "stream",
     "text": [
      "\rDownloading celeba:  95%|█████████▌| 1.37G/1.44G [03:09<00:07, 9.49MB/s]"
     ]
    },
    {
     "name": "stderr",
     "output_type": "stream",
     "text": [
      "\rDownloading celeba:  95%|█████████▌| 1.37G/1.44G [03:09<00:08, 8.01MB/s]"
     ]
    },
    {
     "name": "stderr",
     "output_type": "stream",
     "text": [
      "\rDownloading celeba:  95%|█████████▌| 1.38G/1.44G [03:09<00:07, 8.97MB/s]"
     ]
    },
    {
     "name": "stderr",
     "output_type": "stream",
     "text": [
      "\rDownloading celeba:  95%|█████████▌| 1.38G/1.44G [03:10<00:07, 8.79MB/s]"
     ]
    },
    {
     "name": "stderr",
     "output_type": "stream",
     "text": [
      "\rDownloading celeba:  95%|█████████▌| 1.38G/1.44G [03:10<00:07, 8.80MB/s]"
     ]
    },
    {
     "name": "stderr",
     "output_type": "stream",
     "text": [
      "\rDownloading celeba:  95%|█████████▌| 1.38G/1.44G [03:10<00:08, 7.90MB/s]"
     ]
    },
    {
     "name": "stderr",
     "output_type": "stream",
     "text": [
      "\rDownloading celeba:  96%|█████████▌| 1.38G/1.44G [03:10<00:08, 8.06MB/s]"
     ]
    },
    {
     "name": "stderr",
     "output_type": "stream",
     "text": [
      "\rDownloading celeba:  96%|█████████▌| 1.38G/1.44G [03:10<00:08, 7.53MB/s]"
     ]
    },
    {
     "name": "stderr",
     "output_type": "stream",
     "text": [
      "\rDownloading celeba:  96%|█████████▌| 1.38G/1.44G [03:10<00:08, 7.42MB/s]"
     ]
    },
    {
     "name": "stderr",
     "output_type": "stream",
     "text": [
      "\rDownloading celeba:  96%|█████████▌| 1.38G/1.44G [03:10<00:08, 7.29MB/s]"
     ]
    },
    {
     "name": "stderr",
     "output_type": "stream",
     "text": [
      "\rDownloading celeba:  96%|█████████▌| 1.38G/1.44G [03:10<00:08, 7.18MB/s]"
     ]
    },
    {
     "name": "stderr",
     "output_type": "stream",
     "text": [
      "\rDownloading celeba:  96%|█████████▌| 1.38G/1.44G [03:10<00:08, 7.17MB/s]"
     ]
    },
    {
     "name": "stderr",
     "output_type": "stream",
     "text": [
      "\rDownloading celeba:  96%|█████████▌| 1.38G/1.44G [03:11<00:08, 7.03MB/s]"
     ]
    },
    {
     "name": "stderr",
     "output_type": "stream",
     "text": [
      "\rDownloading celeba:  96%|█████████▌| 1.38G/1.44G [03:11<00:08, 6.89MB/s]"
     ]
    },
    {
     "name": "stderr",
     "output_type": "stream",
     "text": [
      "\rDownloading celeba:  96%|█████████▌| 1.38G/1.44G [03:11<00:08, 6.92MB/s]"
     ]
    },
    {
     "name": "stderr",
     "output_type": "stream",
     "text": [
      "\rDownloading celeba:  96%|█████████▌| 1.39G/1.44G [03:11<00:08, 6.84MB/s]"
     ]
    },
    {
     "name": "stderr",
     "output_type": "stream",
     "text": [
      "\rDownloading celeba:  96%|█████████▌| 1.39G/1.44G [03:11<00:08, 6.78MB/s]"
     ]
    },
    {
     "name": "stderr",
     "output_type": "stream",
     "text": [
      "\rDownloading celeba:  96%|█████████▌| 1.39G/1.44G [03:11<00:08, 6.83MB/s]"
     ]
    },
    {
     "name": "stderr",
     "output_type": "stream",
     "text": [
      "\rDownloading celeba:  96%|█████████▌| 1.39G/1.44G [03:11<00:08, 6.89MB/s]"
     ]
    },
    {
     "name": "stderr",
     "output_type": "stream",
     "text": [
      "\rDownloading celeba:  96%|█████████▌| 1.39G/1.44G [03:11<00:08, 6.91MB/s]"
     ]
    },
    {
     "name": "stderr",
     "output_type": "stream",
     "text": [
      "\rDownloading celeba:  96%|█████████▌| 1.39G/1.44G [03:11<00:07, 6.86MB/s]"
     ]
    },
    {
     "name": "stderr",
     "output_type": "stream",
     "text": [
      "\rDownloading celeba:  96%|█████████▋| 1.39G/1.44G [03:11<00:08, 6.71MB/s]"
     ]
    },
    {
     "name": "stderr",
     "output_type": "stream",
     "text": [
      "\rDownloading celeba:  96%|█████████▋| 1.39G/1.44G [03:12<00:08, 6.60MB/s]"
     ]
    },
    {
     "name": "stderr",
     "output_type": "stream",
     "text": [
      "\rDownloading celeba:  96%|█████████▋| 1.39G/1.44G [03:12<00:08, 6.52MB/s]"
     ]
    },
    {
     "name": "stderr",
     "output_type": "stream",
     "text": [
      "\rDownloading celeba:  96%|█████████▋| 1.39G/1.44G [03:12<00:09, 5.59MB/s]"
     ]
    },
    {
     "name": "stderr",
     "output_type": "stream",
     "text": [
      "\rDownloading celeba:  96%|█████████▋| 1.39G/1.44G [03:12<00:08, 6.37MB/s]"
     ]
    },
    {
     "name": "stderr",
     "output_type": "stream",
     "text": [
      "\rDownloading celeba:  96%|█████████▋| 1.39G/1.44G [03:12<00:07, 6.39MB/s]"
     ]
    },
    {
     "name": "stderr",
     "output_type": "stream",
     "text": [
      "\rDownloading celeba:  97%|█████████▋| 1.39G/1.44G [03:12<00:07, 6.50MB/s]"
     ]
    },
    {
     "name": "stderr",
     "output_type": "stream",
     "text": [
      "\rDownloading celeba:  97%|█████████▋| 1.39G/1.44G [03:12<00:07, 6.45MB/s]"
     ]
    },
    {
     "name": "stderr",
     "output_type": "stream",
     "text": [
      "\rDownloading celeba:  97%|█████████▋| 1.39G/1.44G [03:12<00:07, 6.20MB/s]"
     ]
    },
    {
     "name": "stderr",
     "output_type": "stream",
     "text": [
      "\rDownloading celeba:  97%|█████████▋| 1.40G/1.44G [03:12<00:08, 5.92MB/s]"
     ]
    },
    {
     "name": "stderr",
     "output_type": "stream",
     "text": [
      "\rDownloading celeba:  97%|█████████▋| 1.40G/1.44G [03:12<00:08, 5.75MB/s]"
     ]
    },
    {
     "name": "stderr",
     "output_type": "stream",
     "text": [
      "\rDownloading celeba:  97%|█████████▋| 1.40G/1.44G [03:13<00:08, 5.62MB/s]"
     ]
    },
    {
     "name": "stderr",
     "output_type": "stream",
     "text": [
      "\rDownloading celeba:  97%|█████████▋| 1.40G/1.44G [03:13<00:08, 5.38MB/s]"
     ]
    },
    {
     "name": "stderr",
     "output_type": "stream",
     "text": [
      "\rDownloading celeba:  97%|█████████▋| 1.40G/1.44G [03:13<00:08, 5.28MB/s]"
     ]
    },
    {
     "name": "stderr",
     "output_type": "stream",
     "text": [
      "\rDownloading celeba:  97%|█████████▋| 1.40G/1.44G [03:13<00:08, 5.27MB/s]"
     ]
    },
    {
     "name": "stderr",
     "output_type": "stream",
     "text": [
      "\rDownloading celeba:  97%|█████████▋| 1.40G/1.44G [03:13<00:08, 5.14MB/s]"
     ]
    },
    {
     "name": "stderr",
     "output_type": "stream",
     "text": [
      "\rDownloading celeba:  97%|█████████▋| 1.40G/1.44G [03:13<00:09, 4.88MB/s]"
     ]
    },
    {
     "name": "stderr",
     "output_type": "stream",
     "text": [
      "\rDownloading celeba:  97%|█████████▋| 1.40G/1.44G [03:13<00:09, 4.89MB/s]"
     ]
    },
    {
     "name": "stderr",
     "output_type": "stream",
     "text": [
      "\rDownloading celeba:  97%|█████████▋| 1.40G/1.44G [03:13<00:09, 4.83MB/s]"
     ]
    },
    {
     "name": "stderr",
     "output_type": "stream",
     "text": [
      "\rDownloading celeba:  97%|█████████▋| 1.40G/1.44G [03:13<00:08, 4.87MB/s]"
     ]
    },
    {
     "name": "stderr",
     "output_type": "stream",
     "text": [
      "\rDownloading celeba:  97%|█████████▋| 1.40G/1.44G [03:13<00:08, 5.07MB/s]"
     ]
    },
    {
     "name": "stderr",
     "output_type": "stream",
     "text": [
      "\rDownloading celeba:  97%|█████████▋| 1.40G/1.44G [03:14<00:08, 5.19MB/s]"
     ]
    },
    {
     "name": "stderr",
     "output_type": "stream",
     "text": [
      "\rDownloading celeba:  97%|█████████▋| 1.40G/1.44G [03:14<00:07, 5.25MB/s]"
     ]
    },
    {
     "name": "stderr",
     "output_type": "stream",
     "text": [
      "\rDownloading celeba:  97%|█████████▋| 1.40G/1.44G [03:14<00:07, 5.42MB/s]"
     ]
    },
    {
     "name": "stderr",
     "output_type": "stream",
     "text": [
      "\rDownloading celeba:  97%|█████████▋| 1.40G/1.44G [03:14<00:07, 5.38MB/s]"
     ]
    },
    {
     "name": "stderr",
     "output_type": "stream",
     "text": [
      "\rDownloading celeba:  97%|█████████▋| 1.40G/1.44G [03:14<00:07, 5.56MB/s]"
     ]
    },
    {
     "name": "stderr",
     "output_type": "stream",
     "text": [
      "\rDownloading celeba:  97%|█████████▋| 1.40G/1.44G [03:14<00:06, 5.72MB/s]"
     ]
    },
    {
     "name": "stderr",
     "output_type": "stream",
     "text": [
      "\rDownloading celeba:  97%|█████████▋| 1.40G/1.44G [03:14<00:06, 5.88MB/s]"
     ]
    },
    {
     "name": "stderr",
     "output_type": "stream",
     "text": [
      "\rDownloading celeba:  97%|█████████▋| 1.41G/1.44G [03:14<00:06, 6.14MB/s]"
     ]
    },
    {
     "name": "stderr",
     "output_type": "stream",
     "text": [
      "\rDownloading celeba:  97%|█████████▋| 1.41G/1.44G [03:14<00:05, 6.21MB/s]"
     ]
    },
    {
     "name": "stderr",
     "output_type": "stream",
     "text": [
      "\rDownloading celeba:  97%|█████████▋| 1.41G/1.44G [03:14<00:05, 6.38MB/s]"
     ]
    },
    {
     "name": "stderr",
     "output_type": "stream",
     "text": [
      "\rDownloading celeba:  98%|█████████▊| 1.41G/1.44G [03:15<00:05, 6.46MB/s]"
     ]
    },
    {
     "name": "stderr",
     "output_type": "stream",
     "text": [
      "\rDownloading celeba:  98%|█████████▊| 1.41G/1.44G [03:15<00:05, 6.51MB/s]"
     ]
    },
    {
     "name": "stderr",
     "output_type": "stream",
     "text": [
      "\rDownloading celeba:  98%|█████████▊| 1.41G/1.44G [03:15<00:05, 6.56MB/s]"
     ]
    },
    {
     "name": "stderr",
     "output_type": "stream",
     "text": [
      "\rDownloading celeba:  98%|█████████▊| 1.41G/1.44G [03:15<00:05, 6.71MB/s]"
     ]
    },
    {
     "name": "stderr",
     "output_type": "stream",
     "text": [
      "\rDownloading celeba:  98%|█████████▊| 1.41G/1.44G [03:15<00:04, 6.69MB/s]"
     ]
    },
    {
     "name": "stderr",
     "output_type": "stream",
     "text": [
      "\rDownloading celeba:  98%|█████████▊| 1.41G/1.44G [03:15<00:04, 6.77MB/s]"
     ]
    },
    {
     "name": "stderr",
     "output_type": "stream",
     "text": [
      "\rDownloading celeba:  98%|█████████▊| 1.41G/1.44G [03:15<00:04, 7.00MB/s]"
     ]
    },
    {
     "name": "stderr",
     "output_type": "stream",
     "text": [
      "\rDownloading celeba:  98%|█████████▊| 1.41G/1.44G [03:15<00:04, 7.31MB/s]"
     ]
    },
    {
     "name": "stderr",
     "output_type": "stream",
     "text": [
      "\rDownloading celeba:  98%|█████████▊| 1.41G/1.44G [03:15<00:03, 7.88MB/s]"
     ]
    },
    {
     "name": "stderr",
     "output_type": "stream",
     "text": [
      "\rDownloading celeba:  98%|█████████▊| 1.41G/1.44G [03:15<00:03, 8.51MB/s]"
     ]
    },
    {
     "name": "stderr",
     "output_type": "stream",
     "text": [
      "\rDownloading celeba:  98%|█████████▊| 1.42G/1.44G [03:16<00:03, 8.92MB/s]"
     ]
    },
    {
     "name": "stderr",
     "output_type": "stream",
     "text": [
      "\rDownloading celeba:  98%|█████████▊| 1.42G/1.44G [03:16<00:02, 9.24MB/s]"
     ]
    },
    {
     "name": "stderr",
     "output_type": "stream",
     "text": [
      "\rDownloading celeba:  98%|█████████▊| 1.42G/1.44G [03:16<00:02, 9.58MB/s]"
     ]
    },
    {
     "name": "stderr",
     "output_type": "stream",
     "text": [
      "\rDownloading celeba:  98%|█████████▊| 1.42G/1.44G [03:16<00:02, 9.84MB/s]"
     ]
    },
    {
     "name": "stderr",
     "output_type": "stream",
     "text": [
      "\rDownloading celeba:  98%|█████████▊| 1.42G/1.44G [03:16<00:02, 10.0MB/s]"
     ]
    },
    {
     "name": "stderr",
     "output_type": "stream",
     "text": [
      "\rDownloading celeba:  98%|█████████▊| 1.42G/1.44G [03:16<00:02, 10.3MB/s]"
     ]
    },
    {
     "name": "stderr",
     "output_type": "stream",
     "text": [
      "\rDownloading celeba:  99%|█████████▊| 1.42G/1.44G [03:16<00:01, 10.6MB/s]"
     ]
    },
    {
     "name": "stderr",
     "output_type": "stream",
     "text": [
      "\rDownloading celeba:  99%|█████████▊| 1.42G/1.44G [03:16<00:01, 11.0MB/s]"
     ]
    },
    {
     "name": "stderr",
     "output_type": "stream",
     "text": [
      "\rDownloading celeba:  99%|█████████▊| 1.42G/1.44G [03:16<00:01, 10.8MB/s]"
     ]
    },
    {
     "name": "stderr",
     "output_type": "stream",
     "text": [
      "\rDownloading celeba:  99%|█████████▉| 1.43G/1.44G [03:16<00:01, 10.7MB/s]"
     ]
    },
    {
     "name": "stderr",
     "output_type": "stream",
     "text": [
      "\rDownloading celeba:  99%|█████████▉| 1.43G/1.44G [03:17<00:01, 10.6MB/s]"
     ]
    },
    {
     "name": "stderr",
     "output_type": "stream",
     "text": [
      "\rDownloading celeba:  99%|█████████▉| 1.43G/1.44G [03:17<00:01, 10.5MB/s]"
     ]
    },
    {
     "name": "stderr",
     "output_type": "stream",
     "text": [
      "\rDownloading celeba:  99%|█████████▉| 1.43G/1.44G [03:17<00:01, 10.3MB/s]"
     ]
    },
    {
     "name": "stderr",
     "output_type": "stream",
     "text": [
      "\rDownloading celeba:  99%|█████████▉| 1.43G/1.44G [03:17<00:01, 10.1MB/s]"
     ]
    },
    {
     "name": "stderr",
     "output_type": "stream",
     "text": [
      "\rDownloading celeba:  99%|█████████▉| 1.43G/1.44G [03:17<00:01, 10.0MB/s]"
     ]
    },
    {
     "name": "stderr",
     "output_type": "stream",
     "text": [
      "\rDownloading celeba:  99%|█████████▉| 1.43G/1.44G [03:17<00:01, 10.2MB/s]"
     ]
    },
    {
     "name": "stderr",
     "output_type": "stream",
     "text": [
      "\rDownloading celeba:  99%|█████████▉| 1.43G/1.44G [03:17<00:01, 10.5MB/s]"
     ]
    },
    {
     "name": "stderr",
     "output_type": "stream",
     "text": [
      "\rDownloading celeba:  99%|█████████▉| 1.43G/1.44G [03:17<00:00, 10.7MB/s]"
     ]
    },
    {
     "name": "stderr",
     "output_type": "stream",
     "text": [
      "\rDownloading celeba:  99%|█████████▉| 1.44G/1.44G [03:17<00:00, 10.9MB/s]"
     ]
    },
    {
     "name": "stderr",
     "output_type": "stream",
     "text": [
      "\rDownloading celeba:  99%|█████████▉| 1.44G/1.44G [03:18<00:00, 11.1MB/s]"
     ]
    },
    {
     "name": "stderr",
     "output_type": "stream",
     "text": [
      "\rDownloading celeba: 100%|█████████▉| 1.44G/1.44G [03:18<00:00, 11.2MB/s]"
     ]
    },
    {
     "name": "stderr",
     "output_type": "stream",
     "text": [
      "\rDownloading celeba: 100%|█████████▉| 1.44G/1.44G [03:18<00:00, 11.2MB/s]"
     ]
    },
    {
     "name": "stderr",
     "output_type": "stream",
     "text": [
      "\rDownloading celeba: 100%|█████████▉| 1.44G/1.44G [03:18<00:00, 10.8MB/s]"
     ]
    },
    {
     "name": "stderr",
     "output_type": "stream",
     "text": [
      "\rDownloading celeba: 100%|█████████▉| 1.44G/1.44G [03:18<00:00, 10.5MB/s]"
     ]
    },
    {
     "name": "stderr",
     "output_type": "stream",
     "text": [
      "\rDownloading celeba: 100%|█████████▉| 1.44G/1.44G [03:18<00:00, 10.2MB/s]"
     ]
    },
    {
     "name": "stderr",
     "output_type": "stream",
     "text": [
      "\rDownloading celeba: 100%|█████████▉| 1.44G/1.44G [03:18<00:00, 10.3MB/s]"
     ]
    },
    {
     "name": "stderr",
     "output_type": "stream",
     "text": [
      "\rDownloading celeba: 1.44GB [03:18, 7.26MB/s]                            "
     ]
    },
    {
     "name": "stderr",
     "output_type": "stream",
     "text": [
      "\n"
     ]
    },
    {
     "name": "stdout",
     "output_type": "stream",
     "text": [
      "Extracting celeba...\n"
     ]
    }
   ],
   "source": [
    "data_dir = './data'\n",
    "\n",
    "# FloydHub - Use with data ID \"R5KrjnANiKVhLWAkpXhNBe\"\n",
    "#data_dir = '/input'\n",
    "\n",
    "\n",
    "\"\"\"\n",
    "DON'T MODIFY ANYTHING IN THIS CELL\n",
    "\"\"\"\n",
    "import helper\n",
    "\n",
    "helper.download_extract('mnist', data_dir)\n",
    "helper.download_extract('celeba', data_dir)"
   ]
  },
  {
   "cell_type": "markdown",
   "metadata": {
    "deletable": true,
    "editable": true
   },
   "source": [
    "## Explore the Data\n",
    "### MNIST\n",
    "As you're aware, the [MNIST](http://yann.lecun.com/exdb/mnist/) dataset contains images of handwritten digits. You can view the first number of examples by changing `show_n_images`. "
   ]
  },
  {
   "cell_type": "code",
   "execution_count": 3,
   "metadata": {
    "collapsed": false,
    "deletable": true,
    "editable": true
   },
   "outputs": [
    {
     "data": {
      "text/plain": [
       "<matplotlib.image.AxesImage at 0x116accb00>"
      ]
     },
     "execution_count": 3,
     "metadata": {},
     "output_type": "execute_result"
    },
    {
     "data": {
      "image/png": "[encoded data removed]",
      "text/plain": [
       "<matplotlib.figure.Figure at 0x1167b09e8>"
      ]
     },
     "metadata": {},
     "output_type": "display_data"
    }
   ],
   "source": [
    "show_n_images = 25\n",
    "\n",
    "\"\"\"\n",
    "DON'T MODIFY ANYTHING IN THIS CELL\n",
    "\"\"\"\n",
    "%matplotlib inline\n",
    "import os\n",
    "from glob import glob\n",
    "from matplotlib import pyplot\n",
    "\n",
    "mnist_images = helper.get_batch(glob(os.path.join(data_dir, 'mnist/*.jpg'))[:show_n_images], 28, 28, 'L')\n",
    "pyplot.imshow(helper.images_square_grid(mnist_images, 'L'), cmap='gray')"
   ]
  },
  {
   "cell_type": "markdown",
   "metadata": {
    "deletable": true,
    "editable": true
   },
   "source": [
    "### CelebA\n",
    "The [CelebFaces Attributes Dataset (CelebA)](http://mmlab.ie.cuhk.edu.hk/projects/CelebA.html) dataset contains over 200,000 celebrity images with annotations.  Since you're going to be generating faces, you won't need the annotations.  You can view the first number of examples by changing `show_n_images`."
   ]
  },
  {
   "cell_type": "code",
   "execution_count": 4,
   "metadata": {
    "collapsed": false,
    "deletable": true,
    "editable": true
   },
   "outputs": [
    {
     "data": {
      "text/plain": [
       "<matplotlib.image.AxesImage at 0x119e3ee10>"
      ]
     },
     "execution_count": 4,
     "metadata": {},
     "output_type": "execute_result"
    },
    {
     "data": {
      "image/png": "[encoded data removed]",
      "text/plain": [
       "<matplotlib.figure.Figure at 0x111eeb5c0>"
      ]
     },
     "metadata": {},
     "output_type": "display_data"
    }
   ],
   "source": [
    "show_n_images = 25\n",
    "\n",
    "\"\"\"\n",
    "DON'T MODIFY ANYTHING IN THIS CELL\n",
    "\"\"\"\n",
    "mnist_images = helper.get_batch(glob(os.path.join(data_dir, 'img_align_celeba/*.jpg'))[:show_n_images], 28, 28, 'RGB')\n",
    "pyplot.imshow(helper.images_square_grid(mnist_images, 'RGB'))"
   ]
  },
  {
   "cell_type": "markdown",
   "metadata": {
    "deletable": true,
    "editable": true
   },
   "source": [
    "## Preprocess the Data\n",
    "Since the project's main focus is on building the GANs, we'll preprocess the data for you.  The values of the MNIST and CelebA dataset will be in the range of -0.5 to 0.5 of 28x28 dimensional images.  The CelebA images will be cropped to remove parts of the image that don't include a face, then resized down to 28x28.\n",
    "\n",
    "The MNIST images are black and white images with a single [color channel](https://en.wikipedia.org/wiki/Channel_(digital_image%29) while the CelebA images have [3 color channels (RGB color channel)](https://en.wikipedia.org/wiki/Channel_(digital_image%29#RGB_Images).\n",
    "## Build the Neural Network\n",
    "You'll build the components necessary to build a GANs by implementing the following functions below:\n",
    "- `model_inputs`\n",
    "- `discriminator`\n",
    "- `generator`\n",
    "- `model_loss`\n",
    "- `model_opt`\n",
    "- `train`\n",
    "\n",
    "### Check the Version of TensorFlow and Access to GPU\n",
    "This will check to make sure you have the correct version of TensorFlow and access to a GPU"
   ]
  },
  {
   "cell_type": "code",
   "execution_count": 5,
   "metadata": {
    "collapsed": false,
    "deletable": true,
    "editable": true
   },
   "outputs": [
    {
     "name": "stdout",
     "output_type": "stream",
     "text": [
      "TensorFlow Version: 1.3.0\n"
     ]
    },
    {
     "name": "stderr",
     "output_type": "stream",
     "text": [
      "/Users/bam/anaconda/envs/dlnd-tf-lab/lib/python3.5/site-packages/ipykernel/__main__.py:14: UserWarning: No GPU found. Please use a GPU to train your neural network.\n"
     ]
    }
   ],
   "source": [
    "\"\"\"\n",
    "DON'T MODIFY ANYTHING IN THIS CELL\n",
    "\"\"\"\n",
    "from distutils.version import LooseVersion\n",
    "import warnings\n",
    "import tensorflow as tf\n",
    "\n",
    "# Check TensorFlow Version\n",
    "assert LooseVersion(tf.__version__) >= LooseVersion('1.0'), 'Please use TensorFlow version 1.0 or newer.  You are using {}'.format(tf.__version__)\n",
    "print('TensorFlow Version: {}'.format(tf.__version__))\n",
    "\n",
    "# Check for a GPU\n",
    "if not tf.test.gpu_device_name():\n",
    "    warnings.warn('No GPU found. Please use a GPU to train your neural network.')\n",
    "else:\n",
    "    print('Default GPU Device: {}'.format(tf.test.gpu_device_name()))"
   ]
  },
  {
   "cell_type": "markdown",
   "metadata": {
    "deletable": true,
    "editable": true
   },
   "source": [
    "### Input\n",
    "Implement the `model_inputs` function to create TF Placeholders for the Neural Network. It should create the following placeholders:\n",
    "- Real input images placeholder with rank 4 using `image_width`, `image_height`, and `image_channels`.\n",
    "- Z input placeholder with rank 2 using `z_dim`.\n",
    "- Learning rate placeholder with rank 0.\n",
    "\n",
    "Return the placeholders in the following the tuple (tensor of real input images, tensor of z data)"
   ]
  },
  {
   "cell_type": "code",
   "execution_count": 7,
   "metadata": {
    "collapsed": false,
    "deletable": true,
    "editable": true
   },
   "outputs": [
    {
     "name": "stdout",
     "output_type": "stream",
     "text": [
      "ERROR:tensorflow:==================================\nObject was never used (type <class 'tensorflow.python.framework.ops.Operation'>):\n<tf.Operation 'assert_rank_2/Assert/Assert' type=Assert>\nIf you want to mark it as used call its \"mark_used()\" method.\nIt was originally created here:\n['File \"/Users/bam/anaconda/envs/dlnd-tf-lab/lib/python3.5/runpy.py\", line 193, in _run_module_as_main\\n    \"__main__\", mod_spec)', 'File \"/Users/bam/anaconda/envs/dlnd-tf-lab/lib/python3.5/runpy.py\", line 85, in _run_code\\n    exec(code, run_globals)', 'File \"/Users/bam/anaconda/envs/dlnd-tf-lab/lib/python3.5/site-packages/ipykernel/__main__.py\", line 3, in <module>\\n    app.launch_new_instance()', 'File \"/Users/bam/anaconda/envs/dlnd-tf-lab/lib/python3.5/site-packages/traitlets/config/application.py\", line 658, in launch_instance\\n    app.start()', 'File \"/Users/bam/anaconda/envs/dlnd-tf-lab/lib/python3.5/site-packages/ipykernel/kernelapp.py\", line 474, in start\\n    ioloop.IOLoop.instance().start()', 'File \"/Users/bam/anaconda/envs/dlnd-tf-lab/lib/python3.5/site-packages/zmq/eventloop/ioloop.py\", line 177, in start\\n    super(ZMQIOLoop, self).start()', 'File \"/Users/bam/anaconda/envs/dlnd-tf-lab/lib/python3.5/site-packages/tornado/ioloop.py\", line 888, in start\\n    handler_func(fd_obj, events)', 'File \"/Users/bam/anaconda/envs/dlnd-tf-lab/lib/python3.5/site-packages/tornado/stack_context.py\", line 277, in null_wrapper\\n    return fn(*args, **kwargs)', 'File \"/Users/bam/anaconda/envs/dlnd-tf-lab/lib/python3.5/site-packages/zmq/eventloop/zmqstream.py\", line 440, in _handle_events\\n    self._handle_recv()', 'File \"/Users/bam/anaconda/envs/dlnd-tf-lab/lib/python3.5/site-packages/zmq/eventloop/zmqstream.py\", line 472, in _handle_recv\\n    self._run_callback(callback, msg)', 'File \"/Users/bam/anaconda/envs/dlnd-tf-lab/lib/python3.5/site-packages/zmq/eventloop/zmqstream.py\", line 414, in _run_callback\\n    callback(*args, **kwargs)', 'File \"/Users/bam/anaconda/envs/dlnd-tf-lab/lib/python3.5/site-packages/tornado/stack_context.py\", line 277, in null_wrapper\\n    return fn(*args, **kwargs)', 'File \"/Users/bam/anaconda/envs/dlnd-tf-lab/lib/python3.5/site-packages/ipykernel/kernelbase.py\", line 276, in dispatcher\\n    return self.dispatch_shell(stream, msg)', 'File \"/Users/bam/anaconda/envs/dlnd-tf-lab/lib/python3.5/site-packages/ipykernel/kernelbase.py\", line 228, in dispatch_shell\\n    handler(stream, idents, msg)', 'File \"/Users/bam/anaconda/envs/dlnd-tf-lab/lib/python3.5/site-packages/ipykernel/kernelbase.py\", line 390, in execute_request\\n    user_expressions, allow_stdin)', 'File \"/Users/bam/anaconda/envs/dlnd-tf-lab/lib/python3.5/site-packages/ipykernel/ipkernel.py\", line 196, in do_execute\\n    res = shell.run_cell(code, store_history=store_history, silent=silent)', 'File \"/Users/bam/anaconda/envs/dlnd-tf-lab/lib/python3.5/site-packages/ipykernel/zmqshell.py\", line 501, in run_cell\\n    return super(ZMQInteractiveShell, self).run_cell(*args, **kwargs)', 'File \"/Users/bam/anaconda/envs/dlnd-tf-lab/lib/python3.5/site-packages/IPython/core/interactiveshell.py\", line 2717, in run_cell\\n    interactivity=interactivity, compiler=compiler, result=result)', 'File \"/Users/bam/anaconda/envs/dlnd-tf-lab/lib/python3.5/site-packages/IPython/core/interactiveshell.py\", line 2827, in run_ast_nodes\\n    if self.run_code(code, result):', 'File \"/Users/bam/anaconda/envs/dlnd-tf-lab/lib/python3.5/site-packages/IPython/core/interactiveshell.py\", line 2881, in run_code\\n    exec(code_obj, self.user_global_ns, self.user_ns)', 'File \"<ipython-input-7-53f829bc1be1>\", line 22, in <module>\\n    tests.test_model_inputs(model_inputs)', 'File \"/Users/bam/Udacity/deep-learning/face_generation/problem_unittests.py\", line 12, in func_wrapper\\n    result = func(*args)', 'File \"/Users/bam/Udacity/deep-learning/face_generation/problem_unittests.py\", line 68, in test_model_inputs\\n    _check_input(learn_rate, [], \\'Learning Rate\\')', 'File \"/Users/bam/Udacity/deep-learning/face_generation/problem_unittests.py\", line 34, in _check_input\\n    _assert_tensor_shape(tensor, shape, \\'Real Input\\')', 'File \"/Users/bam/Udacity/deep-learning/face_generation/problem_unittests.py\", line 20, in _assert_tensor_shape\\n    assert tf.assert_rank(tensor, len(shape), message=\\'{} has wrong rank\\'.format(display_name))', 'File \"/Users/bam/anaconda/envs/dlnd-tf-lab/lib/python3.5/site-packages/tensorflow/python/ops/check_ops.py\", line 617, in assert_rank\\n    dynamic_condition, data, summarize)', 'File \"/Users/bam/anaconda/envs/dlnd-tf-lab/lib/python3.5/site-packages/tensorflow/python/ops/check_ops.py\", line 571, in _assert_rank_condition\\n    return control_flow_ops.Assert(condition, data, summarize=summarize)', 'File \"/Users/bam/anaconda/envs/dlnd-tf-lab/lib/python3.5/site-packages/tensorflow/python/util/tf_should_use.py\", line 175, in wrapped\\n    return _add_should_use_warning(fn(*args, **kwargs))', 'File \"/Users/bam/anaconda/envs/dlnd-tf-lab/lib/python3.5/site-packages/tensorflow/python/util/tf_should_use.py\", line 144, in _add_should_use_warning\\n    wrapped = TFShouldUseWarningWrapper(x)', 'File \"/Users/bam/anaconda/envs/dlnd-tf-lab/lib/python3.5/site-packages/tensorflow/python/util/tf_should_use.py\", line 101, in __init__\\n    stack = [s.strip() for s in traceback.format_stack()]']\n==================================\n"
     ]
    },
    {
     "name": "stdout",
     "output_type": "stream",
     "text": [
      "Tests Passed\n"
     ]
    }
   ],
   "source": [
    "import problem_unittests as tests\n",
    "\n",
    "def model_inputs(image_width, image_height, image_channels, z_dim):\n",
    "    \"\"\"\n",
    "    Create the model inputs\n",
    "    :param image_width: The input image width\n",
    "    :param image_height: The input image height\n",
    "    :param image_channels: The number of image channels\n",
    "    :param z_dim: The dimension of Z\n",
    "    :return: Tuple of (tensor of real input images, tensor of z data, learning rate)\n",
    "    \"\"\"\n",
    "    real_input_images = tf.placeholder(tf.float32, (None, image_width, image_height, image_channels), name='real_images')\n",
    "    z_inputs = tf.placeholder(tf.float32, (None, z_dim), name='z_input')\n",
    "    learning_rate = tf.placeholder(tf.float32, name='learning_rate')\n",
    "\n",
    "    return real_input_images, z_inputs, learning_rate\n",
    "\n",
    "\n",
    "\"\"\"\n",
    "DON'T MODIFY ANYTHING IN THIS CELL THAT IS BELOW THIS LINE\n",
    "\"\"\"\n",
    "tests.test_model_inputs(model_inputs)"
   ]
  },
  {
   "cell_type": "markdown",
   "metadata": {
    "deletable": true,
    "editable": true
   },
   "source": [
    "### Discriminator\n",
    "Implement `discriminator` to create a discriminator neural network that discriminates on `images`.  This function should be able to reuse the variables in the neural network.  Use [`tf.variable_scope`](https://www.tensorflow.org/api_docs/python/tf/variable_scope) with a scope name of \"discriminator\" to allow the variables to be reused.  The function should return a tuple of (tensor output of the discriminator, tensor logits of the discriminator)."
   ]
  },
  {
   "cell_type": "code",
   "execution_count": 9,
   "metadata": {
    "collapsed": false,
    "deletable": true,
    "editable": true
   },
   "outputs": [
    {
     "name": "stdout",
     "output_type": "stream",
     "text": [
      "Tests Passed\n"
     ]
    }
   ],
   "source": [
    "def discriminator(images, reuse=False, alpha=0.2):\n",
    "    \"\"\"\n",
    "    Create the discriminator network\n",
    "    :param images: Tensor of input image(s)\n",
    "    :param reuse: Boolean if the weights should be reused\n",
    "    :return: Tuple of (tensor output of the discriminator, tensor logits of the discriminator)\n",
    "    \"\"\"\n",
    "    \n",
    "    with tf.variable_scope('discriminator', reuse=reuse):\n",
    "        # Input layer is 28x28x3\n",
    "        x = tf.layers.conv2d(images, 64, 4, strides=2, padding='same')\n",
    "        x = tf.maximum(x, alpha * x)\n",
    "        # 14*14*64\n",
    "        \n",
    "        x = tf.layers.conv2d(x, 128, 4, strides=2, padding='same')\n",
    "        x = tf.layers.batch_normalization(x, training=True)\n",
    "        x = tf.maximum(x, alpha * x)\n",
    "        # 7*7*128\n",
    "        \n",
    "        x = tf.reshape(x, (-1, 7*7*128))\n",
    "        \n",
    "        logits = tf.layers.dense(x, 1)\n",
    "        out = tf.sigmoid(logits)\n",
    "        \n",
    "        return out, logits\n",
    "\n",
    "\n",
    "\"\"\"\n",
    "DON'T MODIFY ANYTHING IN THIS CELL THAT IS BELOW THIS LINE\n",
    "\"\"\"\n",
    "tests.test_discriminator(discriminator, tf)"
   ]
  },
  {
   "cell_type": "markdown",
   "metadata": {
    "deletable": true,
    "editable": true
   },
   "source": [
    "### Generator\n",
    "Implement `generator` to generate an image using `z`. This function should be able to reuse the variables in the neural network.  Use [`tf.variable_scope`](https://www.tensorflow.org/api_docs/python/tf/variable_scope) with a scope name of \"generator\" to allow the variables to be reused. The function should return the generated 28 x 28 x `out_channel_dim` images."
   ]
  },
  {
   "cell_type": "code",
   "execution_count": 14,
   "metadata": {
    "collapsed": false,
    "deletable": true,
    "editable": true
   },
   "outputs": [
    {
     "name": "stdout",
     "output_type": "stream",
     "text": [
      "Tests Passed\n"
     ]
    }
   ],
   "source": [
    "def generator(z, out_channel_dim, is_train=True, alpha=0.2):\n",
    "    \"\"\"\n",
    "    Create the generator network\n",
    "    :param z: Input z\n",
    "    :param out_channel_dim: The number of channels in the output image\n",
    "    :param is_train: Boolean if generator is being used for training\n",
    "    :return: The tensor output of the generator\n",
    "    \"\"\"\n",
    "    with tf.variable_scope('generator', reuse=not is_train):\n",
    "        # First fully connected layer\n",
    "        x = tf.layers.dense(z, 7 * 7 * 256)\n",
    "\n",
    "        x = tf.reshape(x, (-1, 7, 7, 256))\n",
    "        x = tf.layers.batch_normalization(x, training=is_train)\n",
    "        x = tf.maximum(x, alpha * x)\n",
    "        # 7x7x256\n",
    "\n",
    "        x = tf.layers.conv2d_transpose(x, 128, 4, strides=2, padding='same')\n",
    "        x = tf.layers.batch_normalization(x, training=is_train)\n",
    "        x = tf.maximum(x, alpha * x)\n",
    "        # 14x14x128\n",
    "\n",
    "        # Output layer, 28x28x3\n",
    "        logits = tf.layers.conv2d_transpose(x, out_channel_dim, 4, strides=2, padding='same')\n",
    "\n",
    "        out = tf.tanh(logits)\n",
    "\n",
    "        return out\n",
    "\n",
    "\"\"\"\n",
    "DON'T MODIFY ANYTHING IN THIS CELL THAT IS BELOW THIS LINE\n",
    "\"\"\"\n",
    "tests.test_generator(generator, tf)"
   ]
  },
  {
   "cell_type": "markdown",
   "metadata": {
    "deletable": true,
    "editable": true
   },
   "source": [
    "### Loss\n",
    "Implement `model_loss` to build the GANs for training and calculate the loss.  The function should return a tuple of (discriminator loss, generator loss).  Use the following functions you implemented:\n",
    "- `discriminator(images, reuse=False)`\n",
    "- `generator(z, out_channel_dim, is_train=True)`"
   ]
  },
  {
   "cell_type": "code",
   "execution_count": 15,
   "metadata": {
    "collapsed": false,
    "deletable": true,
    "editable": true
   },
   "outputs": [
    {
     "name": "stdout",
     "output_type": "stream",
     "text": [
      "Tests Passed\n"
     ]
    }
   ],
   "source": [
    "def model_loss(input_real, input_z, out_channel_dim, alpha=0.2):\n",
    "    \"\"\"\n",
    "    Get the loss for the discriminator and generator\n",
    "    :param input_real: Images from the real dataset\n",
    "    :param input_z: Z input\n",
    "    :param out_channel_dim: The number of channels in the output image\n",
    "    :return: A tuple of (discriminator loss, generator loss)\n",
    "    \"\"\"\n",
    "    g_model = generator(input_z, out_channel_dim, alpha=alpha)\n",
    "    d_model_real, d_logits_real = discriminator(input_real, alpha=alpha)\n",
    "    d_model_fake, d_logits_fake = discriminator(g_model, reuse=True, alpha=alpha)\n",
    "\n",
    "    d_loss_real = tf.reduce_mean(\n",
    "        tf.nn.sigmoid_cross_entropy_with_logits(logits=d_logits_real, labels=tf.ones_like(d_model_real)))\n",
    "    d_loss_fake = tf.reduce_mean(\n",
    "        tf.nn.sigmoid_cross_entropy_with_logits(logits=d_logits_fake, labels=tf.zeros_like(d_model_fake)))\n",
    "    g_loss = tf.reduce_mean(\n",
    "        tf.nn.sigmoid_cross_entropy_with_logits(logits=d_logits_fake, labels=tf.ones_like(d_model_fake)))\n",
    "\n",
    "    d_loss = d_loss_real + d_loss_fake\n",
    "\n",
    "    return d_loss, g_loss\n",
    "\n",
    "\"\"\"\n",
    "DON'T MODIFY ANYTHING IN THIS CELL THAT IS BELOW THIS LINE\n",
    "\"\"\"\n",
    "tests.test_model_loss(model_loss)"
   ]
  },
  {
   "cell_type": "markdown",
   "metadata": {
    "deletable": true,
    "editable": true
   },
   "source": [
    "### Optimization\n",
    "Implement `model_opt` to create the optimization operations for the GANs. Use [`tf.trainable_variables`](https://www.tensorflow.org/api_docs/python/tf/trainable_variables) to get all the trainable variables.  Filter the variables with names that are in the discriminator and generator scope names.  The function should return a tuple of (discriminator training operation, generator training operation)."
   ]
  },
  {
   "cell_type": "code",
   "execution_count": 16,
   "metadata": {
    "collapsed": false,
    "deletable": true,
    "editable": true
   },
   "outputs": [
    {
     "name": "stdout",
     "output_type": "stream",
     "text": [
      "Tests Passed\n"
     ]
    }
   ],
   "source": [
    "def model_opt(d_loss, g_loss, learning_rate, beta1):\n",
    "    \"\"\"\n",
    "    Get optimization operations\n",
    "    :param d_loss: Discriminator loss Tensor\n",
    "    :param g_loss: Generator loss Tensor\n",
    "    :param learning_rate: Learning Rate Placeholder\n",
    "    :param beta1: The exponential decay rate for the 1st moment in the optimizer\n",
    "    :return: A tuple of (discriminator training operation, generator training operation)\n",
    "    \"\"\"\n",
    "    t_vars = tf.trainable_variables()\n",
    "    d_vars = [var for var in t_vars if var.name.startswith('discriminator')]\n",
    "    g_vars = [var for var in t_vars if var.name.startswith('generator')]\n",
    "\n",
    "    with tf.control_dependencies(tf.get_collection(tf.GraphKeys.UPDATE_OPS)):\n",
    "        d_train_opt = tf.train.AdamOptimizer(learning_rate, beta1=beta1).minimize(d_loss, var_list=d_vars)\n",
    "        g_train_opt = tf.train.AdamOptimizer(learning_rate, beta1=beta1).minimize(g_loss, var_list=g_vars)\n",
    "\n",
    "    return d_train_opt, g_train_opt\n",
    "\n",
    "\"\"\"\n",
    "DON'T MODIFY ANYTHING IN THIS CELL THAT IS BELOW THIS LINE\n",
    "\"\"\"\n",
    "tests.test_model_opt(model_opt, tf)"
   ]
  },
  {
   "cell_type": "markdown",
   "metadata": {
    "deletable": true,
    "editable": true
   },
   "source": [
    "## Neural Network Training\n",
    "### Show Output\n",
    "Use this function to show the current output of the generator during training. It will help you determine how well the GANs is training."
   ]
  },
  {
   "cell_type": "code",
   "execution_count": 17,
   "metadata": {
    "collapsed": true,
    "deletable": true,
    "editable": true
   },
   "outputs": [],
   "source": [
    "\"\"\"\n",
    "DON'T MODIFY ANYTHING IN THIS CELL\n",
    "\"\"\"\n",
    "import numpy as np\n",
    "\n",
    "def show_generator_output(sess, n_images, input_z, out_channel_dim, image_mode):\n",
    "    \"\"\"\n",
    "    Show example output for the generator\n",
    "    :param sess: TensorFlow session\n",
    "    :param n_images: Number of Images to display\n",
    "    :param input_z: Input Z Tensor\n",
    "    :param out_channel_dim: The number of channels in the output image\n",
    "    :param image_mode: The mode to use for images (\"RGB\" or \"L\")\n",
    "    \"\"\"\n",
    "    cmap = None if image_mode == 'RGB' else 'gray'\n",
    "    z_dim = input_z.get_shape().as_list()[-1]\n",
    "    example_z = np.random.uniform(-1, 1, size=[n_images, z_dim])\n",
    "\n",
    "    samples = sess.run(\n",
    "        generator(input_z, out_channel_dim, False),\n",
    "        feed_dict={input_z: example_z})\n",
    "\n",
    "    images_grid = helper.images_square_grid(samples, image_mode)\n",
    "    pyplot.imshow(images_grid, cmap=cmap)\n",
    "    pyplot.show()"
   ]
  },
  {
   "cell_type": "markdown",
   "metadata": {
    "deletable": true,
    "editable": true
   },
   "source": [
    "### Train\n",
    "Implement `train` to build and train the GANs.  Use the following functions you implemented:\n",
    "- `model_inputs(image_width, image_height, image_channels, z_dim)`\n",
    "- `model_loss(input_real, input_z, out_channel_dim)`\n",
    "- `model_opt(d_loss, g_loss, learning_rate, beta1)`\n",
    "\n",
    "Use the `show_generator_output` to show `generator` output while you train. Running `show_generator_output` for every batch will drastically increase training time and increase the size of the notebook.  It's recommended to print the `generator` output every 100 batches."
   ]
  },
  {
   "cell_type": "code",
   "execution_count": 41,
   "metadata": {
    "collapsed": true,
    "deletable": true,
    "editable": true
   },
   "outputs": [],
   "source": [
    "def train(epoch_count, batch_size, z_dim, learning_rate, beta1, get_batches, data_shape, data_image_mode, alpha=0.2,\n",
    "          print_every=10, show_every=100):\n",
    "    \"\"\"\n",
    "    Train the GAN\n",
    "    :param epoch_count: Number of epochs\n",
    "    :param batch_size: Batch Size\n",
    "    :param z_dim: Z dimension\n",
    "    :param learning_rate: Learning Rate\n",
    "    :param beta1: The exponential decay rate for the 1st moment in the optimizer\n",
    "    :param get_batches: Function to get batches\n",
    "    :param data_shape: Shape of the data (n_images, width, height, image_channels)\n",
    "    :param data_image_mode: The image mode to use for images (\"RGB\" or \"L\")\n",
    "    \"\"\"\n",
    "    \n",
    "    total_images, image_width, image_height, image_channels = data_shape\n",
    "\n",
    "    # Build network\n",
    "    real_inputs, z_inputs, lr = model_inputs(image_width, image_height, image_channels, z_dim)\n",
    "    d_loss, g_loss = model_loss(real_inputs, z_inputs, image_channels, alpha=alpha)\n",
    "\n",
    "    d_opt, g_opt = model_opt(d_loss, g_loss, learning_rate, beta1)\n",
    "\n",
    "    n_batches = 0\n",
    "    with tf.Session() as sess:\n",
    "        sess.run(tf.global_variables_initializer())\n",
    "        for epoch_i in range(epoch_count):\n",
    "            for batch_images in get_batches(batch_size):\n",
    "                n_batches += 1\n",
    "                batch_z = np.random.uniform(-1, 1, size=(batch_size, z_dim))\n",
    "\n",
    "                # Run optimizers\n",
    "                _ = sess.run(d_opt,\n",
    "                             feed_dict={real_inputs: batch_images, z_inputs: batch_z, lr: learning_rate})\n",
    "                _ = sess.run(g_opt,\n",
    "                             feed_dict={z_inputs: batch_z, real_inputs: batch_images, lr: learning_rate})\n",
    "\n",
    "                if n_batches % print_every == 0:\n",
    "                    train_loss_d = d_loss.eval({z_inputs: batch_z, real_inputs: batch_images})\n",
    "                    train_loss_g = g_loss.eval({z_inputs: batch_z})\n",
    "\n",
    "                    print(\"Epoch {}/{}...\".format(epoch_i + 1, epochs),\n",
    "                          \"Discriminator Loss: {:.4f}...\".format(train_loss_d),\n",
    "                          \"Generator Loss: {:.4f}\".format(train_loss_g))\n",
    "                if n_batches % show_every == 0:\n",
    "                    show_generator_output(sess, 25, z_inputs, image_channels, data_image_mode)\n"
   ]
  },
  {
   "cell_type": "markdown",
   "metadata": {
    "deletable": true,
    "editable": true
   },
   "source": [
    "### MNIST\n",
    "Test your GANs architecture on MNIST.  After 2 epochs, the GANs should be able to generate images that look like handwritten digits.  Make sure the loss of the generator is lower than the loss of the discriminator or close to 0."
   ]
  },
  {
   "cell_type": "code",
   "execution_count": 43,
   "metadata": {
    "collapsed": false,
    "deletable": true,
    "editable": true,
    "scrolled": true
   },
   "outputs": [
    {
     "name": "stdout",
     "output_type": "stream",
     "text": [
      "Epoch 1/2... Discriminator Loss: 1.3479... Generator Loss: 5.7757\n"
     ]
    },
    {
     "name": "stdout",
     "output_type": "stream",
     "text": [
      "Epoch 1/2... Discriminator Loss: 2.1656... Generator Loss: 0.9886\n"
     ]
    },
    {
     "name": "stdout",
     "output_type": "stream",
     "text": [
      "Epoch 1/2... Discriminator Loss: 1.1540... Generator Loss: 2.2938\n"
     ]
    },
    {
     "name": "stdout",
     "output_type": "stream",
     "text": [
      "Epoch 1/2... Discriminator Loss: 3.2473... Generator Loss: 4.6993\n"
     ]
    },
    {
     "name": "stdout",
     "output_type": "stream",
     "text": [
      "Epoch 1/2... Discriminator Loss: 3.6917... Generator Loss: 9.2901\n"
     ]
    },
    {
     "name": "stdout",
     "output_type": "stream",
     "text": [
      "Epoch 1/2... Discriminator Loss: 0.6017... Generator Loss: 2.3255\n"
     ]
    },
    {
     "name": "stdout",
     "output_type": "stream",
     "text": [
      "Epoch 1/2... Discriminator Loss: 6.8640... Generator Loss: 12.8094\n"
     ]
    },
    {
     "name": "stdout",
     "output_type": "stream",
     "text": [
      "Epoch 1/2... Discriminator Loss: 0.1466... Generator Loss: 3.7843\n"
     ]
    },
    {
     "name": "stdout",
     "output_type": "stream",
     "text": [
      "Epoch 1/2... Discriminator Loss: 0.0793... Generator Loss: 4.0623\n"
     ]
    },
    {
     "name": "stdout",
     "output_type": "stream",
     "text": [
      "Epoch 1/2... Discriminator Loss: 0.6913... Generator Loss: 1.7277\n"
     ]
    },
    {
     "data": {
      "image/png": "[encoded data removed]",
      "text/plain": [
       "<matplotlib.figure.Figure at 0x125fc1ef0>"
      ]
     },
     "metadata": {},
     "output_type": "display_data"
    },
    {
     "name": "stdout",
     "output_type": "stream",
     "text": [
      "Epoch 1/2... Discriminator Loss: 0.0016... Generator Loss: 10.0309\n"
     ]
    },
    {
     "name": "stdout",
     "output_type": "stream",
     "text": [
      "Epoch 2/2... Discriminator Loss: 0.0520... Generator Loss: 7.7532\n"
     ]
    },
    {
     "name": "stdout",
     "output_type": "stream",
     "text": [
      "Epoch 2/2... Discriminator Loss: 0.0238... Generator Loss: 14.2394\n"
     ]
    },
    {
     "name": "stdout",
     "output_type": "stream",
     "text": [
      "Epoch 2/2... Discriminator Loss: 1.7673... Generator Loss: 0.6978\n"
     ]
    },
    {
     "name": "stdout",
     "output_type": "stream",
     "text": [
      "Epoch 2/2... Discriminator Loss: 2.3745... Generator Loss: 1.0086\n"
     ]
    }
   ],
   "source": [
    "batch_size = 512\n",
    "z_dim = 128\n",
    "learning_rate = 0.01\n",
    "beta1 = 0.5\n",
    "\n",
    "\n",
    "\"\"\"\n",
    "DON'T MODIFY ANYTHING IN THIS CELL THAT IS BELOW THIS LINE\n",
    "\"\"\"\n",
    "epochs = 2\n",
    "\n",
    "mnist_dataset = helper.Dataset('mnist', glob(os.path.join(data_dir, 'mnist/*.jpg')))\n",
    "with tf.Graph().as_default():\n",
    "    train(epochs, batch_size, z_dim, learning_rate, beta1, mnist_dataset.get_batches,\n",
    "          mnist_dataset.shape, mnist_dataset.image_mode)"
   ]
  },
  {
   "cell_type": "markdown",
   "metadata": {
    "deletable": true,
    "editable": true
   },
   "source": [
    "### CelebA\n",
    "Run your GANs on CelebA.  It will take around 20 minutes on the average GPU to run one epoch.  You can run the whole epoch or stop when it starts to generate realistic faces."
   ]
  },
  {
   "cell_type": "code",
   "execution_count": null,
   "metadata": {
    "collapsed": false,
    "deletable": true,
    "editable": true,
    "scrolled": true
   },
   "outputs": [],
   "source": [
    "batch_size = None\n",
    "z_dim = None\n",
    "learning_rate = None\n",
    "beta1 = None\n",
    "\n",
    "\n",
    "\"\"\"\n",
    "DON'T MODIFY ANYTHING IN THIS CELL THAT IS BELOW THIS LINE\n",
    "\"\"\"\n",
    "epochs = 1\n",
    "\n",
    "celeba_dataset = helper.Dataset('celeba', glob(os.path.join(data_dir, 'img_align_celeba/*.jpg')))\n",
    "with tf.Graph().as_default():\n",
    "    train(epochs, batch_size, z_dim, learning_rate, beta1, celeba_dataset.get_batches,\n",
    "          celeba_dataset.shape, celeba_dataset.image_mode)"
   ]
  },
  {
   "cell_type": "markdown",
   "metadata": {
    "deletable": true,
    "editable": true
   },
   "source": [
    "### Submitting This Project\n",
    "When submitting this project, make sure to run all the cells before saving the notebook. Save the notebook file as \"dlnd_face_generation.ipynb\" and save it as a HTML file under \"File\" -> \"Download as\". Include the \"helper.py\" and \"problem_unittests.py\" files in your submission."
   ]
  }
 ],
 "metadata": {
  "kernelspec": {
   "display_name": "Python 3",
   "language": "python",
   "name": "python3"
  },
  "language_info": {
   "codemirror_mode": {
    "name": "ipython",
    "version": 3
   },
   "file_extension": ".py",
   "mimetype": "text/x-python",
   "name": "python",
   "nbconvert_exporter": "python",
   "pygments_lexer": "ipython3",
   "version": "3.5.2"
  }
 },
 "nbformat": 4,
 "nbformat_minor": 0
}
